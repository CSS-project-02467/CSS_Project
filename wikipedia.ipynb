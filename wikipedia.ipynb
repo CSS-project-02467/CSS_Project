{
 "cells": [
  {
   "cell_type": "markdown",
   "source": [
    "Ide: tag dansk-sproget wikipedia, find alle brugere og lav netværk over brugere, der har redigeret de samme artikler. Derefter, få lix-tal eller lignende fra alle artikler, og se om der er sammenhæng... Eller groupér efter konnektivitet, og se på sammenhængen i grupperne baseret på keywords i artiklerne, eller fordelingen af kategorier.\n",
    "\n",
    "- eksempel brugere\n",
    "- beskrivelser på explaineren\n",
    "\n",
    "Summary of findings: right skew degree distribution, left skew edit distribution, caused by highly connecting pages. zipf distribution of only editor count, high centrality. Difficult to find relationships based on text and partitions, however TF provided hints to activities, and we could see some examples of different bots. Ideas could be categorizing contributions in other ways and comparing the distributions among the communities. "
   ],
   "metadata": {
    "collapsed": false
   },
   "id": "4e93c78f45b5dd7a"
  },
  {
   "cell_type": "markdown",
   "source": [
    "# Analyzing the Network of Bots on the Danish Wikipedia\n",
    "\n",
    "## 1. Motivation\n",
    "\n",
    "For many years now Wikipedia has been one of the most important sources of information on the internet, with millions of articles in all the world's major languages. Relying solely on the collaboration of strangers, Wikipedia has gone from being a radical experiment in free information to a trustworthy source of knowledge. As the project has grown over the years, automation has been vital in keeping articles up to date, making otherwise tedious edits, and empowering contributors to make the most use of what they have to contribute. In this project we take a look at the bots that maintain and expand the Danish Wikipedia, how they work together, and see how network- and textual analysis can shed light on their contributions to the wiki.\n",
    "\n",
    "First, we load the packages, and datasets we've collected."
   ],
   "metadata": {
    "collapsed": false
   },
   "id": "e2f635715bfbf180"
  },
  {
   "cell_type": "code",
   "outputs": [
    {
     "name": "stderr",
     "output_type": "stream",
     "text": [
      "[nltk_data] Downloading package stopwords to\n",
      "[nltk_data]     C:\\Users\\nikol\\AppData\\Roaming\\nltk_data...\n",
      "[nltk_data]   Package stopwords is already up-to-date!\n"
     ]
    }
   ],
   "source": [
    "import copy\n",
    "import pandas as pd\n",
    "from itertools import chain\n",
    "from nltk import word_tokenize\n",
    "from itertools import combinations\n",
    "from collections import defaultdict\n",
    "import matplotlib.pyplot as plt\n",
    "import numpy as np\n",
    "import pywikibot\n",
    "import networkx as nx\n",
    "from tqdm import tqdm\n",
    "import nltk\n",
    "from nltk.corpus import stopwords\n",
    "from nltk import word_tokenize\n",
    "from netwulf import visualize\n",
    "import community as community_louvain\n",
    "import os\n",
    "import warnings\n",
    "\n",
    "# Ignore warnings for presentation sake (still bad practice...)\n",
    "warnings.filterwarnings(\"ignore\")\n",
    "\n",
    "# Stop words\n",
    "nltk.download('stopwords')\n",
    "stop_words = set(stopwords.words('danish')) | set(stopwords.words('english'))\n",
    "\n",
    "# Load data\n",
    "pages_dataframe = pd.read_pickle('data/final/pages_dataframe_final.pkl')\n",
    "bots_dataframe = pd.read_pickle('data/final/bots_dataframe_final')"
   ],
   "metadata": {
    "collapsed": false,
    "ExecuteTime": {
     "end_time": "2024-05-02T14:21:05.737736400Z",
     "start_time": "2024-05-02T14:20:59.000519400Z"
    }
   },
   "id": "6b63d2710d72adb8",
   "execution_count": 1
  },
  {
   "cell_type": "markdown",
   "source": [
    "## 2. Basic stats\n",
    "\n",
    "All the data in this project has been collected by ourselves, using the library 'pywikibot' which provides an easy way to connect to the Wikimedia API. By iterating through all the pages in the Danish Wikipedia, we were able to collect a dataset of roughly 260,000 pages (estimated 85% of all Danish pages), along with all the bots having contributed to those pages, and the categories the pages belong to. All bots on Wikipedia are registered, and by cross-checking the list of bots on the Danish Wikipedia with the contributors to a given page, we could be certain not to get any human users in our dataset.\n",
    "\n",
    "In addition to the page data, we have also gathered information on all the bots, how many pages they have edited, and the total amount of edits they have performed. In all, we collected data on 197 bots (83% of all the bots). Most of the bots not included in this dataset had no contributions to any pages as of yet, and were therefore deemed not to be of much interest. Iterating through all pages is quite time-consuming, since API calls can't be grouped, and various server-side errors meant we had to collect the data in stints. This is the reason why we didn't get a 'complete' dataset, but to the best of our knowledge the collected data is more than representative for the Danish Wikipedia as a whole."
   ],
   "metadata": {
    "collapsed": false
   },
   "id": "546fd5f1a8115016"
  },
  {
   "cell_type": "markdown",
   "source": [
    "### Graph construction\n",
    "\n",
    "From the page data we can construct a graph with the contributing bots constituting the nodes, with links between them if they have contributed to the same page. Each edge will also contain the amount of pages the two bots both have contributed to together."
   ],
   "metadata": {
    "collapsed": false
   },
   "id": "12717bdf42b55456"
  },
  {
   "cell_type": "code",
   "outputs": [
    {
     "name": "stderr",
     "output_type": "stream",
     "text": [
      "100%|█████████▉| 261755/262278 [00:36<00:00, 8087.43it/s] "
     ]
    }
   ],
   "source": [
    "# Getting edges generated for all pages\n",
    "edge_dict = defaultdict(lambda: {'pages':[],'n_pages':0})\n",
    "only_contributor = defaultdict(lambda: 0)\n",
    "pbar = tqdm(total=pages_dataframe.shape[0])\n",
    "def page_edges(page):\n",
    "    pbar.update(1)\n",
    "    contributors = page['bots']\n",
    "    if len(contributors) < 2:\n",
    "        if len(contributors) == 1:\n",
    "            only_contributor[contributors[0]] += 1\n",
    "        return []\n",
    "    contributors.sort()\n",
    "    contributor_pairs = list(combinations(contributors, r=2))\n",
    "    for contributor_pair in contributor_pairs:\n",
    "        edge_dict[contributor_pair]['pages'].append(page['name'])\n",
    "        edge_dict[contributor_pair]['n_pages'] += 1\n",
    "\n",
    "# Constructing the graph from the edge dictionary\n",
    "pages_dataframe.apply(page_edges, axis=1)\n",
    "G = nx.Graph()\n",
    "G.add_edges_from(edge_dict.keys())\n",
    "# Remembering to set the attributes, so that we can use the number of pages in an edge later\n",
    "nx.set_edge_attributes(G, edge_dict)"
   ],
   "metadata": {
    "collapsed": false,
    "ExecuteTime": {
     "end_time": "2024-05-02T14:21:42.835657300Z",
     "start_time": "2024-05-02T14:21:05.744826500Z"
    }
   },
   "id": "f5cc5da1c44a5c08",
   "execution_count": 2
  },
  {
   "cell_type": "markdown",
   "source": [
    "In the construction of the graph, we took note of those pages where only one bot have contributed to, and now we can add the number of pages contributed to solely by a certain bot to our bot data:"
   ],
   "metadata": {
    "collapsed": false
   },
   "id": "f4363195012028e2"
  },
  {
   "cell_type": "code",
   "outputs": [],
   "source": [
    "# Add new data to the bots dataframe\n",
    "only_contributor = pd.DataFrame(list(only_contributor.items()), columns=['name', 'only contributor count'])\n",
    "bots_dataframe = pd.merge(bots_dataframe, only_contributor, on='name', how='outer').fillna({'only contributor count':0})\n",
    "bots_dataframe['degree'] = bots_dataframe['name'].apply(lambda name: dict(G.degree)[name])\n",
    "\n",
    "# Set node attributes\n",
    "attribute_dict = bots_dataframe.set_index('name').T.to_dict('dict')\n",
    "nx.set_node_attributes(G, attribute_dict)"
   ],
   "metadata": {
    "collapsed": false,
    "ExecuteTime": {
     "end_time": "2024-05-02T14:21:42.882348400Z",
     "start_time": "2024-05-02T14:21:42.840519600Z"
    }
   },
   "id": "5f166e0e7c3fd57c",
   "execution_count": 3
  },
  {
   "cell_type": "markdown",
   "source": [
    "## 3. Tools, theory and analysis.\n",
    "_Talk about how you’ve worked with text, including regular expressions, unicode, etc.\n",
    "Describe which network science tools and data analysis strategies you’ve used, how those network science measures work, and why the tools you’ve chosen are right for the problem you’re solving.\n",
    "How did you use the tools to understand your dataset?_\n",
    "\n",
    "Now we get to the actual analysis of the data. To summarize: we first analyze the graph, and take a look at some summary stats, the degree distribution, assortativity, and the closeness centralities of the nodes. We then use the Louvain algorithm to detect communities in the graph, which leads us into the textual analysis. Having extracted a good partition from the graph, we try to make sense of the communities using both the categories of pages in them, and the contributions made by the bots. Lastly, guided by the top 10 tokens from the contributions of each bot, we look at a few interesting individuals, to get a sense of the breadth of functions served by the bots.  \n"
   ],
   "metadata": {
    "collapsed": false
   },
   "id": "4e4f2c1b047711fd"
  },
  {
   "cell_type": "markdown",
   "source": [
    "### Graph analysis\n",
    "\n",
    "We first take a look at the summary statistics of the graph:"
   ],
   "metadata": {
    "collapsed": false
   },
   "id": "56de47dd5b66359e"
  },
  {
   "cell_type": "code",
   "outputs": [
    {
     "name": "stdout",
     "output_type": "stream",
     "text": [
      "Number of nodes in graph: 197\n",
      "Number of edges in graph: 15024 out of 19306.0 possible\n",
      "Mean degree <k> in graph: 152.5279187817259\n",
      "Number of connected components in graph: 1\n"
     ]
    }
   ],
   "source": [
    "# Summary statistics of graph\n",
    "n_nodes = len(G.nodes)\n",
    "n_edges = len(G.edges)\n",
    "mean_degree = np.mean(list(dict(G.degree).values()))\n",
    "n_components = nx.number_connected_components(G)\n",
    "print(f'Number of nodes in graph: {n_nodes}')\n",
    "print(f'Number of edges in graph: {n_edges} out of {n_nodes*(n_nodes-1)/2} possible')\n",
    "print(f'Mean degree <k> in graph: {mean_degree}')\n",
    "print(f'Number of connected components in graph: {n_components}')"
   ],
   "metadata": {
    "collapsed": false,
    "ExecuteTime": {
     "end_time": "2024-05-02T14:21:42.897904Z",
     "start_time": "2024-05-02T14:21:42.887760300Z"
    }
   },
   "id": "2ec9bbba14cb4c32",
   "execution_count": 4
  },
  {
   "cell_type": "markdown",
   "source": [
    "From the basic stats, we see that the network is extremely connected, since approximately 75% of the possible existing links actually are there. We see that the average degree, 152, is not that far off from the number of nodes, suggesting that many of the bots have contributed to a page with almost all other bots at some point in time. The mean degree is way past log(N), and the graph is therefore in the 'connected' regime, as according to Barabasi [1]."
   ],
   "metadata": {
    "collapsed": false
   },
   "id": "68c55472a9f3ac75"
  },
  {
   "cell_type": "markdown",
   "source": [
    "We now take a look at the degree distribution, as contrasted with a random graph"
   ],
   "metadata": {
    "collapsed": false
   },
   "id": "b770b7f973180fe0"
  },
  {
   "cell_type": "code",
   "outputs": [
    {
     "data": {
      "text/plain": "<Figure size 640x480 with 1 Axes>",
      "image/png": "[encoded data removed]"
     },
     "metadata": {},
     "output_type": "display_data"
    }
   ],
   "source": [
    "# Generating a random graph to compare with\n",
    "p = 2*n_edges/(n_nodes*(n_nodes-1))\n",
    "G_random = nx.gnp_random_graph(n_nodes, p)\n",
    "g_deg_random = dict(G_random.degree).values()\n",
    "\n",
    "# Plotting\n",
    "g_deg = dict(G.degree).values()\n",
    "plt.hist(g_deg, alpha=0.8,bins=30, label='Real graph')\n",
    "plt.hist(g_deg_random, alpha=0.8, label='Random graph')\n",
    "plt.title('Degree distribution')\n",
    "plt.xlabel('Degree')\n",
    "plt.ylabel('Count')\n",
    "plt.legend()\n",
    "plt.savefig('degree_distribution', dpi=300)\n",
    "plt.show()"
   ],
   "metadata": {
    "collapsed": false,
    "ExecuteTime": {
     "end_time": "2024-05-08T08:58:27.130071100Z",
     "start_time": "2024-05-08T08:58:25.570150100Z"
    }
   },
   "id": "85d3d8042550c0fa",
   "execution_count": 85
  },
  {
   "cell_type": "markdown",
   "source": [
    "We see that, like many other graphs in the real world the degree distribution is far more heavy-tailed than for the random graph. Interestingly, there are many more heavily connected nodes than sparsely connected ones, that is, the distribution shows a heavy right-skew. This is in contrast with many real-world networks where most nodes have quite low degree, and only a few nodes have very high degree."
   ],
   "metadata": {
    "collapsed": false
   },
   "id": "3cd4db565264ad4b"
  },
  {
   "cell_type": "markdown",
   "source": [
    "We now take a look at the distribution of edit counts for each bot, shown on a log scale, since the edit counts have a large span from 1 to ~70,000. "
   ],
   "metadata": {
    "collapsed": false
   },
   "id": "9aa916afd0189ddb"
  },
  {
   "cell_type": "code",
   "outputs": [
    {
     "data": {
      "text/plain": "<Figure size 640x480 with 1 Axes>",
      "image/png": "[encoded data removed]"
     },
     "metadata": {},
     "output_type": "display_data"
    }
   ],
   "source": [
    "counts = bots_dataframe['edit_count']\n",
    "plt.hist(bots_dataframe['edit_count'], bins=np.logspace(np.log10(min(counts)), np.log10(max(counts)), 20))\n",
    "plt.xscale('log')\n",
    "plt.title('Histogram of edit counts (log scale)')\n",
    "plt.xlabel('Edit count')\n",
    "plt.savefig('edit_distribution', dpi=300)"
   ],
   "metadata": {
    "collapsed": false,
    "ExecuteTime": {
     "end_time": "2024-05-08T08:58:49.560520400Z",
     "start_time": "2024-05-08T08:58:48.044399500Z"
    }
   },
   "id": "389faffcdaf817c5",
   "execution_count": 86
  },
  {
   "cell_type": "markdown",
   "source": [
    "Remembering that the x-axis is on a log scale we see a very left-skewed distribution - in contrast to the right-skewed degree distribution - meaning that most bots have made a low to moderate amount of edits. This is quite interesting, now we take a closer look at the relationship between the degree of a node and the different contribution metrics."
   ],
   "metadata": {
    "collapsed": false
   },
   "id": "5539b1a8dfd75e90"
  },
  {
   "cell_type": "code",
   "outputs": [
    {
     "data": {
      "text/plain": "<matplotlib.legend.Legend at 0x1a63121fe50>"
     },
     "execution_count": 87,
     "metadata": {},
     "output_type": "execute_result"
    },
    {
     "data": {
      "text/plain": "<Figure size 640x480 with 1 Axes>",
      "image/png": "[encoded data removed]"
     },
     "metadata": {},
     "output_type": "display_data"
    }
   ],
   "source": [
    "plt.scatter(bots_dataframe['degree'], bots_dataframe['edit_count'], label='edit count')\n",
    "plt.scatter(bots_dataframe['degree'], bots_dataframe['count'], label='page contributions')\n",
    "plt.scatter(bots_dataframe['degree'], bots_dataframe['only contributor count'], label='only contributor')\n",
    "plt.yscale('log')\n",
    "plt.title('Relationship between node degree and contribution metrics')\n",
    "plt.xlabel('Degree')\n",
    "plt.savefig('edit_over_degree', dpi=300)\n",
    "plt.legend()"
   ],
   "metadata": {
    "collapsed": false,
    "ExecuteTime": {
     "end_time": "2024-05-08T08:59:06.301580100Z",
     "start_time": "2024-05-08T08:59:03.693211200Z"
    }
   },
   "id": "c9d9cc1a81eeb841",
   "execution_count": 87
  },
  {
   "cell_type": "markdown",
   "source": [
    "We see that there is a clear power-law relationship between the degree and the amount of contributions of all types. We thus see that the more bots a given bot has collaborated with, the higher that bots edit count is likely to be, and the effect is more pronounced the higher the degree.\n",
    " \n",
    "The fact that many bots have high degree, but most bots only have a low to moderate amount of edits logically means that there must be a few pages that a significant fraction of all bots have contributed to. Otherwise the striking combination of a right-skew degree distribution and a left-skew edit contribution would not be possible. We take a look to find out if this is indeed the case:"
   ],
   "metadata": {
    "collapsed": false
   },
   "id": "a6b3b38979c4e30f"
  },
  {
   "cell_type": "code",
   "outputs": [
    {
     "name": "stdout",
     "output_type": "stream",
     "text": [
      "Bots having contributed to top 5 pages: 102 out of 197\n"
     ]
    },
    {
     "data": {
      "text/plain": "                     name  n_contributors\n36251        Hviderusland              66\n157722            Schweiz              66\n71376            Kroatien              66\n179622        Afghanistan              65\n43565              Israel              65\n61788          Kasakhstan              64\n70954          Kristendom              64\n4306             Frankrig              63\n2408    Forenede Nationer              63\n106515           Muhammed              63",
      "text/html": "<div>\n<style scoped>\n    .dataframe tbody tr th:only-of-type {\n        vertical-align: middle;\n    }\n\n    .dataframe tbody tr th {\n        vertical-align: top;\n    }\n\n    .dataframe thead th {\n        text-align: right;\n    }\n</style>\n<table border=\"1\" class=\"dataframe\">\n  <thead>\n    <tr style=\"text-align: right;\">\n      <th></th>\n      <th>name</th>\n      <th>n_contributors</th>\n    </tr>\n  </thead>\n  <tbody>\n    <tr>\n      <th>36251</th>\n      <td>Hviderusland</td>\n      <td>66</td>\n    </tr>\n    <tr>\n      <th>157722</th>\n      <td>Schweiz</td>\n      <td>66</td>\n    </tr>\n    <tr>\n      <th>71376</th>\n      <td>Kroatien</td>\n      <td>66</td>\n    </tr>\n    <tr>\n      <th>179622</th>\n      <td>Afghanistan</td>\n      <td>65</td>\n    </tr>\n    <tr>\n      <th>43565</th>\n      <td>Israel</td>\n      <td>65</td>\n    </tr>\n    <tr>\n      <th>61788</th>\n      <td>Kasakhstan</td>\n      <td>64</td>\n    </tr>\n    <tr>\n      <th>70954</th>\n      <td>Kristendom</td>\n      <td>64</td>\n    </tr>\n    <tr>\n      <th>4306</th>\n      <td>Frankrig</td>\n      <td>63</td>\n    </tr>\n    <tr>\n      <th>2408</th>\n      <td>Forenede Nationer</td>\n      <td>63</td>\n    </tr>\n    <tr>\n      <th>106515</th>\n      <td>Muhammed</td>\n      <td>63</td>\n    </tr>\n  </tbody>\n</table>\n</div>"
     },
     "execution_count": 8,
     "metadata": {},
     "output_type": "execute_result"
    }
   ],
   "source": [
    "# Getting the top pages by number of contributors, and seeing how many unique bots are \n",
    "# among their contributors\n",
    "unique_bots = set()\n",
    "top_10_by_n_contribs = pages_dataframe.sort_values(by='n_contributors', ascending=False).head(10)\n",
    "top_10_by_n_contribs['bots'].head(5).apply(lambda bots: [unique_bots.add(bot) for bot in bots])\n",
    "print(f'Bots having contributed to top 5 pages: {len(unique_bots)} out of {len(bots_dataframe)}')\n",
    "top_10_by_n_contribs[['name', 'n_contributors']]"
   ],
   "metadata": {
    "collapsed": false,
    "ExecuteTime": {
     "end_time": "2024-05-02T14:21:45.648637500Z",
     "start_time": "2024-05-02T14:21:45.524864900Z"
    }
   },
   "id": "f1f9a50676adf01c",
   "execution_count": 8
  },
  {
   "cell_type": "markdown",
   "source": [
    "We see that there indeed some pages that a third of all bots have contributed to. In addition, we see that the set of contributors to the top 5 pages includes over half of all the bots. This explains how most bots have collaborated with most other bots even though most bots only have contributed to a few pages; a few important pages have made collaborators of the majority of the bots, regardless of edit counts. It comes as no surprise that these pages are on topics of global significance."
   ],
   "metadata": {
    "collapsed": false
   },
   "id": "5972d1b199aad7cd"
  },
  {
   "cell_type": "markdown",
   "source": [
    "Now we look at the assortativities of the graph. The assortativity is a way to measure to what degree nodes with similar attributes tend to be linked. A negative score for a given attribute shows a tendency for nodes to be linked with other nodes different from themselves, and vice versa with a positive score."
   ],
   "metadata": {
    "collapsed": false
   },
   "id": "45cf1c13590e9a8c"
  },
  {
   "cell_type": "code",
   "outputs": [
    {
     "name": "stdout",
     "output_type": "stream",
     "text": [
      "Assortativity by degree: -0.23707266331244956\n",
      "Assortativity by page count: -0.005738042216992627\n",
      "Assortativity by edit count: -0.0055661349891391\n",
      "Assortativity by only contributor pages: -0.023442735883572745\n"
     ]
    }
   ],
   "source": [
    "g_deg_assort = nx.degree_assortativity_coefficient(G)\n",
    "g_count_assort = nx.attribute_assortativity_coefficient(G, 'count')\n",
    "g_edit_count_assort = nx.attribute_assortativity_coefficient(G, 'edit_count')\n",
    "g_only_contrib_assort = nx.attribute_assortativity_coefficient(G, 'only contributor count')\n",
    "\n",
    "print(f'Assortativity by degree: {g_deg_assort}')\n",
    "print(f'Assortativity by page count: {g_count_assort}')\n",
    "print(f'Assortativity by edit count: {g_edit_count_assort}')\n",
    "print(f'Assortativity by only contributor pages: {g_only_contrib_assort}')"
   ],
   "metadata": {
    "collapsed": false,
    "ExecuteTime": {
     "end_time": "2024-05-02T14:21:45.913132600Z",
     "start_time": "2024-05-02T14:21:45.634637100Z"
    }
   },
   "id": "ef1e062ea58288bc",
   "execution_count": 9
  },
  {
   "cell_type": "markdown",
   "source": [
    "Since the network has too many edges to allow us to feasible compare it to random graphs using the configuration model (with 150,000 edges, each time takes upwards of 6 hours), it is a bit difficult to conclude anything definitively, however, the assortativity by degree and only contributor pages looks like they could be significantly different from random. This would suggest that bots do not tend to collaborate mostly with bots of similar degree, which makes sense in a highly connected network, where most nodes are connected to most other nodes. It would also seem to make sense, unsurprisingly, that bots contributing to many pages as the only bot don't tend to collaborate with other bots that do the same."
   ],
   "metadata": {
    "collapsed": false
   },
   "id": "e72e9eb67f3ffb09"
  },
  {
   "cell_type": "markdown",
   "source": [
    "Now we look at the closeness centrality. The closeness centrality is a way to express the distance from one node to the other nodes in the network. The scores run from 0 to 1, the higher the score the shorter the average path from the node to the other nodes."
   ],
   "metadata": {
    "collapsed": false
   },
   "id": "8b2e5d8db4dc20f9"
  },
  {
   "cell_type": "code",
   "outputs": [
    {
     "name": "stdout",
     "output_type": "stream",
     "text": [
      "Mean centrality: 0.8412248604265667\n",
      "\n",
      "Name: Steenthbot, centrality: 1.0\n",
      "Name: Thijs!bot, centrality: 0.9849246231155779\n",
      "Name: EmausBot, centrality: 0.9849246231155779\n",
      "Name: Xqbot, centrality: 0.98\n",
      "Name: MGA73bot, centrality: 0.98\n"
     ]
    }
   ],
   "source": [
    "# Get closeness centrality using nx built-in function.\n",
    "c_centrality = nx.closeness_centrality(G)\n",
    "c_centrality_sorted = dict(sorted(c_centrality.items(), key=lambda item: item[1]))\n",
    "top5_c = list(c_centrality_sorted.items())[:-6:-1]\n",
    "\n",
    "# Print mean and top 5 closeness centralities\n",
    "print(f'Mean centrality: {np.mean(list(c_centrality.values()))}\\n')\n",
    "for name, centrality in top5_c:\n",
    "    print(f'Name: {name}, centrality: {centrality}')"
   ],
   "metadata": {
    "collapsed": false,
    "ExecuteTime": {
     "end_time": "2024-05-02T14:21:46.019069100Z",
     "start_time": "2024-05-02T14:21:46.013057900Z"
    }
   },
   "id": "96d4b9c1168a1575",
   "execution_count": 10
  },
  {
   "cell_type": "markdown",
   "source": [
    "Unsurprisingly - given the highly connected network - we see that the closeness centrality for the top 5 nodes are very high, with the highest actually being 1.0. This is because it is actually connected to all other nodes, which means all bots have collaborated on a page with this bot. We found that this bot, 'Steenthbot', is actually being used to supervise the status of other bots, and edits their pages when their bot status is changed. This explains why it has interacted with all the other bots.\n",
    "\n",
    "We now try to partition the graph and use some textual analysis to get further insights on the network. We now use the Louvain algorithm to attempt to separate the graph into communities for analysis. The Louvain algorithm works by a heuristic, greedy optimization of the modality of different partitions (the modality is a score expressing the density of links within as opposed to outside of the communities defined by a given partition, the higher the 'better'). It should thus give us a sensible partition to work with."
   ],
   "metadata": {
    "collapsed": false
   },
   "id": "ca68337ff93725a"
  },
  {
   "cell_type": "code",
   "outputs": [
    {
     "name": "stdout",
     "output_type": "stream",
     "text": [
      "Number of communities: 2\n"
     ]
    }
   ],
   "source": [
    "# get most likely partition\n",
    "partition = community_louvain.best_partition(G, weight='n_pages')\n",
    "def communities_of_page(bots):\n",
    "    communities = []\n",
    "    for bot in bots:\n",
    "        try:\n",
    "            communities.append(partition[bot])\n",
    "        except KeyError:\n",
    "            pass\n",
    "    return list(set(communities))\n",
    "\n",
    "n_communities = max(partition.values()) + 1\n",
    "bots_dataframe['community'] = bots_dataframe['name'].apply(lambda name: partition[name])\n",
    "pages_dataframe['communities'] = pages_dataframe['bots'].apply(communities_of_page)\n",
    "print(f'Number of communities: {n_communities}')"
   ],
   "metadata": {
    "collapsed": false,
    "ExecuteTime": {
     "end_time": "2024-05-02T14:21:47.192583300Z",
     "start_time": "2024-05-02T14:21:46.022072300Z"
    }
   },
   "id": "1090aeb95a5a81ab",
   "execution_count": 11
  },
  {
   "cell_type": "markdown",
   "source": [
    "We see that the algorithm detects only two communities. This hardly surprising, given the highly connected nature of the network. However, this also means that there is little hope that we can gain much information by analyzing these two communities, but we will try it out.\n",
    "\n",
    "We start by tokenizing the lists of categories each page belongs to, after which we create the corpus for pages belonging to each community. In order to keep the tokens informative we filter out stop words, and a few words found in prliminary analysis to be too common to be informative (in this case 'wikipedia' and 'wikidata'). We also exclude special characters (though not, importantly, non-latin characters)."
   ],
   "metadata": {
    "collapsed": false
   },
   "id": "84cd08ccf61a1cf5"
  },
  {
   "cell_type": "code",
   "outputs": [
    {
     "name": "stderr",
     "output_type": "stream",
     "text": [
      "100%|██████████| 262278/262278 [00:50<00:00, 8087.43it/s]"
     ]
    }
   ],
   "source": [
    "# Function to tokenize category lists.\n",
    "def tokenize_category_list(category_list, exclude_stop=True):\n",
    "    # Adding stop words based on observations of superflous terms\n",
    "    stop_words_category = stop_words | {'wikipedia','wikidata'}\n",
    "    text = ' '.join(category_list)\n",
    "    text = text.lower()\n",
    "    # Filtering out numbers and other characters\n",
    "    text = ''.join([char for char in text if (char.isalpha() or char in ' -')])\n",
    "    tokens = word_tokenize(text)\n",
    "    # Exclude stop words\n",
    "    if exclude_stop:\n",
    "        return [token for token in tokens if not token in stop_words_category]\n",
    "    return tokens\n",
    "\n",
    "pages_dataframe['tokens'] = pages_dataframe['categories'].apply(tokenize_category_list)\n",
    "# Generating the corpus based on communities\n",
    "corpus = pages_dataframe[['communities','tokens']].explode('communities').groupby('communities')['tokens'].apply(lambda x: list(chain(*x)))"
   ],
   "metadata": {
    "collapsed": false,
    "ExecuteTime": {
     "end_time": "2024-05-02T14:22:46.202079200Z",
     "start_time": "2024-05-02T14:21:47.198497900Z"
    }
   },
   "id": "b3f79e3fcc8afb34",
   "execution_count": 12
  },
  {
   "cell_type": "markdown",
   "source": [
    "We now define the functions needed to perform TF-IDF analysis on the tokens. TF-IDF allows us to find informative tokens by finding frequent terms and weighing them by the information content of the term across the corpus."
   ],
   "metadata": {
    "collapsed": false
   },
   "id": "7ae4999055c33d41"
  },
  {
   "cell_type": "code",
   "outputs": [],
   "source": [
    "# Returns top k terms as defined by TF-IDF\n",
    "def top_k_terms_TF_IDF(tokens, k, IDF_dict):\n",
    "    tokens, counts = np.unique(tokens, return_counts=True)\n",
    "    tfidf = np.zeros(len(counts))\n",
    "    for i, (token, count) in enumerate(list(zip(tokens, counts))):\n",
    "        tfidf[i] = count * IDF_dict[token]\n",
    "    top_k_idxs = np.argsort(tfidf)[:-(k+1):-1]\n",
    "    return tokens[top_k_idxs]\n",
    "\n",
    "# Returns top k most frequent terms.\n",
    "def top_k_terms_TF(tokens, k):\n",
    "    unique_tokens, counts = np.unique(tokens, return_counts=True)\n",
    "    top_k_idxs = np.argsort(counts)[:-(k+1):-1]\n",
    "    return np.array(unique_tokens)[top_k_idxs]\n",
    "\n",
    "# For the whole corpus define the IDF value for each term and return\n",
    "# the results as a dictionary: {term:IDF}\n",
    "def IDF(corpus):\n",
    "    IDF_dict = defaultdict(lambda: 0)\n",
    "    N = len(corpus)\n",
    "    for doc in corpus:\n",
    "        for term in list(set(doc)):\n",
    "            IDF_dict[term] += 1\n",
    "    return {term: np.log(N / count) for term, count in IDF_dict.items()}"
   ],
   "metadata": {
    "collapsed": false,
    "ExecuteTime": {
     "end_time": "2024-05-02T14:22:46.379166300Z",
     "start_time": "2024-05-02T14:22:46.368284200Z"
    }
   },
   "id": "96a9d6e50de8b1c2",
   "execution_count": 13
  },
  {
   "cell_type": "code",
   "outputs": [
    {
     "data": {
      "text/plain": "                 0                  1\n0          chipset   handlingsreferat\n1  garagerockalbum  eksperimentalfilm\n2  nonfoodbutikker      filmskolefilm\n3         danielle        portrætfilm\n4        dna-virus            længde-\n5   kalmus-ordenen       breddegrader\n6           manier     oplysningsfilm\n7  dobbeltstrenget    virksomhedsfilm\n8    steel-romaner     rundata-signum\n9  ambient-grupper                wfc",
      "text/html": "<div>\n<style scoped>\n    .dataframe tbody tr th:only-of-type {\n        vertical-align: middle;\n    }\n\n    .dataframe tbody tr th {\n        vertical-align: top;\n    }\n\n    .dataframe thead th {\n        text-align: right;\n    }\n</style>\n<table border=\"1\" class=\"dataframe\">\n  <thead>\n    <tr style=\"text-align: right;\">\n      <th></th>\n      <th>0</th>\n      <th>1</th>\n    </tr>\n  </thead>\n  <tbody>\n    <tr>\n      <th>0</th>\n      <td>chipset</td>\n      <td>handlingsreferat</td>\n    </tr>\n    <tr>\n      <th>1</th>\n      <td>garagerockalbum</td>\n      <td>eksperimentalfilm</td>\n    </tr>\n    <tr>\n      <th>2</th>\n      <td>nonfoodbutikker</td>\n      <td>filmskolefilm</td>\n    </tr>\n    <tr>\n      <th>3</th>\n      <td>danielle</td>\n      <td>portrætfilm</td>\n    </tr>\n    <tr>\n      <th>4</th>\n      <td>dna-virus</td>\n      <td>længde-</td>\n    </tr>\n    <tr>\n      <th>5</th>\n      <td>kalmus-ordenen</td>\n      <td>breddegrader</td>\n    </tr>\n    <tr>\n      <th>6</th>\n      <td>manier</td>\n      <td>oplysningsfilm</td>\n    </tr>\n    <tr>\n      <th>7</th>\n      <td>dobbeltstrenget</td>\n      <td>virksomhedsfilm</td>\n    </tr>\n    <tr>\n      <th>8</th>\n      <td>steel-romaner</td>\n      <td>rundata-signum</td>\n    </tr>\n    <tr>\n      <th>9</th>\n      <td>ambient-grupper</td>\n      <td>wfc</td>\n    </tr>\n  </tbody>\n</table>\n</div>"
     },
     "execution_count": 14,
     "metadata": {},
     "output_type": "execute_result"
    }
   ],
   "source": [
    "IDF_dict = IDF(corpus)\n",
    "TFIDF_df = pd.DataFrame(data={c: top_k_terms_TF_IDF(corpus[c], 10, IDF_dict) for c in range(2)})\n",
    "TFIDF_df"
   ],
   "metadata": {
    "collapsed": false,
    "ExecuteTime": {
     "end_time": "2024-05-02T14:22:53.567326100Z",
     "start_time": "2024-05-02T14:22:46.377164200Z"
    }
   },
   "id": "bb1260163a53dbe7",
   "execution_count": 14
  },
  {
   "cell_type": "markdown",
   "source": [
    "We see that this data is a bit difficult to get any meaningful information out of. It would seem like the second community has made a lot of edits on films, although this can also be due to a few very active bots. The top 10 tokens of the second community shows no real pattern. Instead of looking at the pages for the different communities, we can try taking a look at the bots themselves, and the text in their contributions.\n",
    "\n",
    "We first tokenize the contributions:"
   ],
   "metadata": {
    "collapsed": false
   },
   "id": "30df7750eee5526f"
  },
  {
   "cell_type": "code",
   "outputs": [],
   "source": [
    "def tokenize_contributions(contributions, exclude_stop=True):\n",
    "    # Adding superflous/uninformatively common words to stop words set.\n",
    "    stop_words_contributions = stop_words | {'robot','r','tilføjer','ændrer','fjerner'}\n",
    "    text = ' '.join(contributions)\n",
    "    text = text.lower()\n",
    "    # Filter out numbers and symbols\n",
    "    text = ''.join([char for char in text if (char.isalpha() or char in ' -')])\n",
    "    tokens = word_tokenize(text)\n",
    "    # Exclude stop words.\n",
    "    if exclude_stop:\n",
    "        return [token for token in tokens if not token in stop_words_contributions]\n",
    "    return tokens"
   ],
   "metadata": {
    "collapsed": false,
    "ExecuteTime": {
     "end_time": "2024-05-02T14:22:53.582752Z",
     "start_time": "2024-05-02T14:22:53.567326100Z"
    }
   },
   "id": "b1dfa45d4f66eb9",
   "execution_count": 15
  },
  {
   "cell_type": "markdown",
   "source": [
    "We calculate the 10 most frequent tokens for each bot, and collect the corpus for each community."
   ],
   "metadata": {
    "collapsed": false
   },
   "id": "64773579ae1cefc1"
  },
  {
   "cell_type": "code",
   "outputs": [
    {
     "name": "stderr",
     "output_type": "stream",
     "text": [
      "\n",
      "100%|██████████| 262278/262278 [01:47<00:00, 2432.13it/s]\n",
      "\n",
      "  1%|          | 2/197 [00:01<02:44,  1.19it/s]\u001B[A\n",
      "  2%|▏         | 3/197 [00:02<02:20,  1.38it/s]\u001B[A\n",
      "  2%|▏         | 4/197 [00:02<02:05,  1.54it/s]\u001B[A\n",
      "  3%|▎         | 5/197 [00:03<01:57,  1.64it/s]\u001B[A\n",
      "  3%|▎         | 6/197 [00:03<01:49,  1.74it/s]\u001B[A\n",
      "  4%|▎         | 7/197 [00:04<01:46,  1.79it/s]\u001B[A\n",
      "  4%|▍         | 8/197 [00:04<01:47,  1.77it/s]\u001B[A\n",
      "  5%|▍         | 9/197 [00:05<01:44,  1.81it/s]\u001B[A\n",
      "  5%|▌         | 10/197 [00:06<01:44,  1.79it/s]\u001B[A\n",
      "  6%|▌         | 11/197 [00:06<01:42,  1.82it/s]\u001B[A\n",
      "  6%|▌         | 12/197 [00:07<01:43,  1.79it/s]\u001B[A\n",
      "  7%|▋         | 13/197 [00:07<01:40,  1.83it/s]\u001B[A\n",
      "  7%|▋         | 14/197 [00:08<01:41,  1.81it/s]\u001B[A\n",
      "  8%|▊         | 15/197 [00:08<01:42,  1.77it/s]\u001B[A\n",
      "  8%|▊         | 16/197 [00:09<01:44,  1.74it/s]\u001B[A\n",
      "  9%|▊         | 17/197 [00:10<01:51,  1.61it/s]\u001B[A\n",
      "  9%|▉         | 18/197 [00:10<01:54,  1.56it/s]\u001B[A\n",
      " 10%|▉         | 19/197 [00:11<01:49,  1.63it/s]\u001B[A\n",
      " 10%|█         | 20/197 [00:11<01:46,  1.66it/s]\u001B[A\n",
      " 11%|█         | 21/197 [00:12<01:44,  1.69it/s]\u001B[A\n",
      " 11%|█         | 22/197 [00:13<01:46,  1.64it/s]\u001B[A\n",
      " 12%|█▏        | 23/197 [00:13<01:46,  1.64it/s]\u001B[A\n",
      " 12%|█▏        | 24/197 [00:14<01:48,  1.59it/s]\u001B[A\n",
      " 13%|█▎        | 25/197 [00:15<01:48,  1.59it/s]\u001B[A\n",
      " 13%|█▎        | 26/197 [00:15<01:44,  1.64it/s]\u001B[A\n",
      " 14%|█▎        | 27/197 [00:16<01:58,  1.43it/s]\u001B[A\n",
      " 14%|█▍        | 28/197 [00:17<02:03,  1.36it/s]\u001B[A\n",
      " 15%|█▍        | 29/197 [00:17<01:55,  1.46it/s]\u001B[A\n",
      " 15%|█▌        | 30/197 [00:18<01:54,  1.46it/s]\u001B[A\n",
      " 16%|█▌        | 31/197 [00:19<02:03,  1.35it/s]\u001B[A\n",
      " 16%|█▌        | 32/197 [00:20<01:56,  1.42it/s]\u001B[A\n",
      " 17%|█▋        | 33/197 [00:20<01:48,  1.51it/s]\u001B[A\n",
      " 17%|█▋        | 34/197 [00:21<01:43,  1.58it/s]\u001B[A\n",
      " 18%|█▊        | 35/197 [00:21<01:47,  1.50it/s]\u001B[A\n",
      " 18%|█▊        | 36/197 [00:22<01:44,  1.54it/s]\u001B[A\n",
      " 19%|█▉        | 37/197 [00:23<01:41,  1.58it/s]\u001B[A\n",
      " 19%|█▉        | 38/197 [00:23<01:36,  1.65it/s]\u001B[A\n",
      " 20%|█▉        | 39/197 [00:24<01:40,  1.57it/s]\u001B[A\n",
      " 20%|██        | 40/197 [00:24<01:34,  1.66it/s]\u001B[A\n",
      " 21%|██        | 41/197 [00:25<01:31,  1.70it/s]\u001B[A\n",
      " 21%|██▏       | 42/197 [00:26<01:31,  1.69it/s]\u001B[A\n",
      " 22%|██▏       | 43/197 [00:26<01:30,  1.71it/s]\u001B[A\n",
      " 22%|██▏       | 44/197 [00:27<01:22,  1.86it/s]\u001B[A\n",
      " 23%|██▎       | 45/197 [00:27<01:22,  1.85it/s]\u001B[A\n",
      " 23%|██▎       | 46/197 [00:28<01:26,  1.75it/s]\u001B[A\n",
      " 24%|██▍       | 47/197 [00:28<01:23,  1.79it/s]\u001B[A\n",
      " 24%|██▍       | 48/197 [00:29<01:22,  1.80it/s]\u001B[A\n",
      " 25%|██▍       | 49/197 [00:29<01:17,  1.92it/s]\u001B[A\n",
      " 25%|██▌       | 50/197 [00:30<01:17,  1.90it/s]\u001B[A\n",
      " 26%|██▌       | 51/197 [00:30<01:18,  1.87it/s]\u001B[A\n",
      " 26%|██▋       | 52/197 [00:31<01:17,  1.86it/s]\u001B[A\n",
      " 27%|██▋       | 53/197 [00:32<01:19,  1.82it/s]\u001B[A\n",
      " 27%|██▋       | 54/197 [00:32<01:19,  1.80it/s]\u001B[A\n",
      " 28%|██▊       | 55/197 [00:33<01:18,  1.80it/s]\u001B[A\n",
      " 28%|██▊       | 56/197 [00:33<01:21,  1.73it/s]\u001B[A\n",
      " 29%|██▉       | 57/197 [00:34<01:20,  1.74it/s]\u001B[A\n",
      " 29%|██▉       | 58/197 [00:35<01:25,  1.64it/s]\u001B[A\n",
      " 30%|██▉       | 59/197 [00:35<01:22,  1.68it/s]\u001B[A\n",
      " 30%|███       | 60/197 [00:36<01:19,  1.72it/s]\u001B[A\n",
      " 31%|███       | 61/197 [00:36<01:19,  1.71it/s]\u001B[A\n",
      " 31%|███▏      | 62/197 [00:37<01:17,  1.74it/s]\u001B[A\n",
      " 32%|███▏      | 63/197 [00:37<01:19,  1.68it/s]\u001B[A\n",
      " 32%|███▏      | 64/197 [00:38<01:19,  1.67it/s]\u001B[A\n",
      " 33%|███▎      | 65/197 [00:39<01:19,  1.66it/s]\u001B[A\n",
      " 34%|███▎      | 66/197 [00:39<01:19,  1.65it/s]\u001B[A\n",
      " 34%|███▍      | 67/197 [00:40<01:16,  1.71it/s]\u001B[A\n",
      " 35%|███▍      | 68/197 [00:40<01:09,  1.85it/s]\u001B[A\n",
      " 35%|███▌      | 69/197 [00:41<01:08,  1.88it/s]\u001B[A\n",
      " 36%|███▌      | 70/197 [00:41<01:09,  1.83it/s]\u001B[A\n",
      " 36%|███▌      | 71/197 [00:42<01:10,  1.78it/s]\u001B[A\n",
      " 37%|███▋      | 72/197 [00:43<01:13,  1.70it/s]\u001B[A\n",
      " 37%|███▋      | 73/197 [00:43<01:13,  1.68it/s]\u001B[A\n",
      " 38%|███▊      | 74/197 [00:44<01:11,  1.73it/s]\u001B[A\n",
      " 38%|███▊      | 75/197 [00:44<01:14,  1.65it/s]\u001B[A\n",
      " 39%|███▊      | 76/197 [00:45<01:11,  1.69it/s]\u001B[A\n",
      " 39%|███▉      | 77/197 [00:45<01:08,  1.75it/s]\u001B[A\n",
      " 40%|███▉      | 78/197 [00:46<01:06,  1.80it/s]\u001B[A\n",
      " 40%|████      | 79/197 [00:47<01:06,  1.77it/s]\u001B[A\n",
      " 41%|████      | 80/197 [00:47<01:06,  1.77it/s]\u001B[A\n",
      " 41%|████      | 81/197 [00:48<01:08,  1.69it/s]\u001B[A\n",
      " 42%|████▏     | 82/197 [00:48<01:05,  1.77it/s]\u001B[A\n",
      " 42%|████▏     | 83/197 [00:49<01:02,  1.81it/s]\u001B[A\n",
      " 43%|████▎     | 84/197 [00:49<01:00,  1.85it/s]\u001B[A\n",
      " 43%|████▎     | 85/197 [00:50<01:02,  1.80it/s]\u001B[A\n",
      " 44%|████▎     | 86/197 [00:50<01:00,  1.83it/s]\u001B[A\n",
      " 44%|████▍     | 87/197 [00:51<01:02,  1.77it/s]\u001B[A\n",
      " 45%|████▍     | 88/197 [00:52<01:01,  1.78it/s]\u001B[A\n",
      " 45%|████▌     | 89/197 [00:52<00:59,  1.82it/s]\u001B[A\n",
      " 46%|████▌     | 90/197 [00:53<00:58,  1.84it/s]\u001B[A\n",
      " 46%|████▌     | 91/197 [00:53<00:58,  1.82it/s]\u001B[A\n",
      " 47%|████▋     | 92/197 [00:54<00:59,  1.77it/s]\u001B[A\n",
      " 47%|████▋     | 93/197 [00:54<00:57,  1.80it/s]\u001B[A\n",
      " 48%|████▊     | 94/197 [00:55<00:58,  1.77it/s]\u001B[A\n",
      " 48%|████▊     | 95/197 [00:56<00:57,  1.79it/s]\u001B[A\n",
      " 49%|████▊     | 96/197 [00:56<00:57,  1.75it/s]\u001B[A\n",
      " 49%|████▉     | 97/197 [00:57<00:58,  1.72it/s]\u001B[A\n",
      " 50%|████▉     | 98/197 [00:57<00:56,  1.76it/s]\u001B[A\n",
      " 50%|█████     | 99/197 [00:58<00:54,  1.80it/s]\u001B[A\n",
      " 51%|█████     | 100/197 [00:58<00:53,  1.83it/s]\u001B[A\n",
      " 51%|█████▏    | 101/197 [00:59<01:00,  1.58it/s]\u001B[A\n",
      " 52%|█████▏    | 102/197 [01:00<01:02,  1.52it/s]\u001B[A\n",
      " 52%|█████▏    | 103/197 [01:00<00:58,  1.61it/s]\u001B[A\n",
      " 53%|█████▎    | 104/197 [01:01<01:00,  1.54it/s]\u001B[A\n",
      " 53%|█████▎    | 105/197 [01:02<00:57,  1.61it/s]\u001B[A\n",
      " 54%|█████▍    | 106/197 [01:02<00:57,  1.59it/s]\u001B[A\n",
      " 54%|█████▍    | 107/197 [01:03<00:53,  1.68it/s]\u001B[A\n",
      " 55%|█████▍    | 108/197 [01:03<00:53,  1.67it/s]\u001B[A\n",
      " 55%|█████▌    | 109/197 [01:04<00:53,  1.64it/s]\u001B[A\n",
      " 56%|█████▌    | 110/197 [01:05<00:53,  1.64it/s]\u001B[A\n",
      " 56%|█████▋    | 111/197 [01:05<00:52,  1.62it/s]\u001B[A\n",
      " 57%|█████▋    | 112/197 [01:06<00:51,  1.65it/s]\u001B[A\n",
      " 57%|█████▋    | 113/197 [01:06<00:48,  1.73it/s]\u001B[A\n",
      " 58%|█████▊    | 114/197 [01:07<00:47,  1.76it/s]\u001B[A\n",
      " 58%|█████▊    | 115/197 [01:08<00:47,  1.71it/s]\u001B[A\n",
      " 59%|█████▉    | 116/197 [01:08<00:46,  1.75it/s]\u001B[A\n",
      " 59%|█████▉    | 117/197 [01:09<00:47,  1.70it/s]\u001B[A\n",
      " 60%|█████▉    | 118/197 [01:09<00:49,  1.59it/s]\u001B[A\n",
      " 60%|██████    | 119/197 [01:10<00:51,  1.51it/s]\u001B[A\n",
      " 61%|██████    | 120/197 [01:11<00:53,  1.44it/s]\u001B[A\n",
      " 61%|██████▏   | 121/197 [01:12<00:52,  1.44it/s]\u001B[A\n",
      " 62%|██████▏   | 122/197 [01:13<00:58,  1.27it/s]\u001B[A\n",
      " 62%|██████▏   | 123/197 [01:13<00:54,  1.35it/s]\u001B[A\n",
      " 63%|██████▎   | 124/197 [01:14<00:50,  1.44it/s]\u001B[A\n",
      " 63%|██████▎   | 125/197 [01:14<00:47,  1.51it/s]\u001B[A\n",
      " 64%|██████▍   | 126/197 [01:15<00:45,  1.56it/s]\u001B[A\n",
      " 64%|██████▍   | 127/197 [01:16<00:51,  1.35it/s]\u001B[A\n",
      " 65%|██████▍   | 128/197 [01:17<00:50,  1.36it/s]\u001B[A\n",
      " 65%|██████▌   | 129/197 [01:17<00:46,  1.45it/s]\u001B[A\n",
      " 66%|██████▌   | 130/197 [01:18<00:46,  1.43it/s]\u001B[A\n",
      " 66%|██████▋   | 131/197 [01:19<00:44,  1.47it/s]\u001B[A\n",
      " 67%|██████▋   | 132/197 [01:19<00:42,  1.51it/s]\u001B[A\n",
      " 68%|██████▊   | 133/197 [01:20<00:41,  1.55it/s]\u001B[A\n",
      " 68%|██████▊   | 134/197 [01:20<00:37,  1.69it/s]\u001B[A\n",
      " 69%|██████▊   | 135/197 [01:21<00:36,  1.69it/s]\u001B[A\n",
      " 69%|██████▉   | 136/197 [01:22<00:37,  1.64it/s]\u001B[A\n",
      " 70%|██████▉   | 137/197 [01:22<00:36,  1.64it/s]\u001B[A\n",
      " 70%|███████   | 138/197 [01:23<00:35,  1.66it/s]\u001B[A\n",
      " 71%|███████   | 139/197 [01:23<00:33,  1.73it/s]\u001B[A\n",
      " 71%|███████   | 140/197 [01:24<00:31,  1.83it/s]\u001B[A\n",
      " 72%|███████▏  | 141/197 [01:24<00:29,  1.93it/s]\u001B[A\n",
      " 72%|███████▏  | 142/197 [01:25<00:29,  1.85it/s]\u001B[A\n",
      " 73%|███████▎  | 143/197 [01:25<00:27,  1.93it/s]\u001B[A\n",
      " 73%|███████▎  | 144/197 [01:26<00:26,  1.99it/s]\u001B[A\n",
      " 74%|███████▎  | 145/197 [01:26<00:28,  1.82it/s]\u001B[A\n",
      " 74%|███████▍  | 146/197 [01:27<00:27,  1.89it/s]\u001B[A\n",
      " 75%|███████▍  | 147/197 [01:27<00:25,  1.98it/s]\u001B[A\n",
      " 75%|███████▌  | 148/197 [01:28<00:23,  2.05it/s]\u001B[A\n",
      " 76%|███████▌  | 149/197 [01:28<00:22,  2.11it/s]\u001B[A\n",
      " 76%|███████▌  | 150/197 [01:29<00:21,  2.20it/s]\u001B[A\n",
      " 77%|███████▋  | 151/197 [01:29<00:19,  2.39it/s]\u001B[A\n",
      " 77%|███████▋  | 152/197 [01:30<00:21,  2.10it/s]\u001B[A\n",
      " 78%|███████▊  | 153/197 [01:30<00:20,  2.16it/s]\u001B[A\n",
      " 78%|███████▊  | 154/197 [01:31<00:21,  2.03it/s]\u001B[A\n",
      " 79%|███████▊  | 155/197 [01:31<00:19,  2.13it/s]\u001B[A\n",
      " 79%|███████▉  | 156/197 [01:32<00:20,  1.95it/s]\u001B[A\n",
      " 80%|███████▉  | 157/197 [01:32<00:19,  2.09it/s]\u001B[A\n",
      " 80%|████████  | 158/197 [01:32<00:16,  2.33it/s]\u001B[A\n",
      " 81%|████████  | 159/197 [01:33<00:15,  2.48it/s]\u001B[A\n",
      " 81%|████████  | 160/197 [01:33<00:16,  2.28it/s]\u001B[A\n",
      " 82%|████████▏ | 161/197 [01:34<00:14,  2.43it/s]\u001B[A\n",
      " 82%|████████▏ | 162/197 [01:34<00:13,  2.54it/s]\u001B[A\n",
      " 83%|████████▎ | 163/197 [01:34<00:13,  2.50it/s]\u001B[A\n",
      " 83%|████████▎ | 164/197 [01:35<00:13,  2.53it/s]\u001B[A\n",
      " 84%|████████▍ | 165/197 [01:35<00:14,  2.23it/s]\u001B[A\n",
      " 84%|████████▍ | 166/197 [01:36<00:16,  1.93it/s]\u001B[A\n",
      " 85%|████████▍ | 167/197 [01:36<00:12,  2.31it/s]\u001B[A\n",
      " 85%|████████▌ | 168/197 [01:37<00:12,  2.36it/s]\u001B[A\n",
      " 86%|████████▌ | 169/197 [01:37<00:11,  2.42it/s]\u001B[A\n",
      " 86%|████████▋ | 170/197 [01:37<00:10,  2.61it/s]\u001B[A\n",
      " 87%|████████▋ | 171/197 [01:38<00:09,  2.61it/s]\u001B[A\n",
      " 87%|████████▋ | 172/197 [01:38<00:09,  2.76it/s]\u001B[A\n",
      " 88%|████████▊ | 173/197 [01:38<00:08,  2.88it/s]\u001B[A\n",
      " 88%|████████▊ | 174/197 [01:39<00:07,  2.91it/s]\u001B[A\n",
      " 89%|████████▉ | 175/197 [01:39<00:07,  3.10it/s]\u001B[A\n",
      " 89%|████████▉ | 176/197 [01:39<00:06,  3.40it/s]\u001B[A\n",
      " 90%|████████▉ | 177/197 [01:39<00:05,  3.48it/s]\u001B[A\n",
      " 90%|█████████ | 178/197 [01:40<00:05,  3.78it/s]\u001B[A\n",
      " 91%|█████████ | 179/197 [01:40<00:04,  3.61it/s]\u001B[A\n",
      " 91%|█████████▏| 180/197 [01:40<00:04,  3.93it/s]\u001B[A\n",
      " 92%|█████████▏| 181/197 [01:40<00:03,  4.24it/s]\u001B[A\n",
      " 92%|█████████▏| 182/197 [01:41<00:03,  4.35it/s]\u001B[A\n",
      " 93%|█████████▎| 183/197 [01:41<00:02,  4.69it/s]\u001B[A\n",
      " 93%|█████████▎| 184/197 [01:41<00:02,  4.79it/s]\u001B[A\n",
      " 94%|█████████▍| 185/197 [01:41<00:02,  4.61it/s]\u001B[A\n",
      " 94%|█████████▍| 186/197 [01:41<00:02,  4.84it/s]\u001B[A\n",
      " 95%|█████████▍| 187/197 [01:42<00:02,  4.71it/s]\u001B[A\n",
      " 95%|█████████▌| 188/197 [01:42<00:01,  4.78it/s]\u001B[A\n",
      " 96%|█████████▌| 189/197 [01:42<00:01,  4.30it/s]\u001B[A\n",
      " 96%|█████████▋| 190/197 [01:42<00:01,  4.74it/s]\u001B[A\n",
      " 97%|█████████▋| 191/197 [01:42<00:01,  4.94it/s]\u001B[A\n",
      " 97%|█████████▋| 192/197 [01:43<00:00,  5.31it/s]\u001B[A\n",
      " 98%|█████████▊| 193/197 [01:43<00:00,  5.58it/s]\u001B[A\n",
      " 98%|█████████▊| 194/197 [01:43<00:00,  5.57it/s]\u001B[A\n",
      " 99%|█████████▉| 195/197 [01:43<00:00,  5.46it/s]\u001B[A\n",
      " 99%|█████████▉| 196/197 [01:43<00:00,  5.32it/s]\u001B[A\n",
      "100%|██████████| 197/197 [01:43<00:00,  5.53it/s]\u001B[A"
     ]
    }
   ],
   "source": [
    "pbar = tqdm(total=bots_dataframe.shape[0])\n",
    "def top_k_tokens(bot_name, k=10):\n",
    "    pbar.update(1)\n",
    "    site = pywikibot.Site('da', 'wikipedia')\n",
    "    bot = pywikibot.User(site, bot_name)\n",
    "    contributions = list(bot.contributions())\n",
    "    contributions_text = [c[-1] for c in contributions]\n",
    "    tokens = tokenize_contributions(contributions_text)\n",
    "    return top_k_terms_TF(tokens, k)\n",
    "\n",
    "bots_dataframe['top 10 tokens'] = bots_dataframe['name'].apply(top_k_tokens)\n",
    "corpus = bots_dataframe.groupby('community')['top 10 tokens'].apply(lambda x: list(chain(*x)))"
   ],
   "metadata": {
    "collapsed": false,
    "ExecuteTime": {
     "end_time": "2024-05-02T14:24:37.859321400Z",
     "start_time": "2024-05-02T14:22:53.582752Z"
    }
   },
   "id": "7fceea8ebd0ebd37",
   "execution_count": 16
  },
  {
   "cell_type": "markdown",
   "source": [
    "We now look at the TF terms:"
   ],
   "metadata": {
    "collapsed": false
   },
   "id": "c3c5ba8d97b7e6fb"
  },
  {
   "cell_type": "code",
   "outputs": [
    {
     "data": {
      "text/plain": "    0    1\n0  es   fr\n1  fr  bot\n2  ru   ru\n3  pl   در\n4  pt   es\n5  ja   ja\n6  sv   pt\n7  fi   sv\n8  nl   pl\n9  ko    -",
      "text/html": "<div>\n<style scoped>\n    .dataframe tbody tr th:only-of-type {\n        vertical-align: middle;\n    }\n\n    .dataframe tbody tr th {\n        vertical-align: top;\n    }\n\n    .dataframe thead th {\n        text-align: right;\n    }\n</style>\n<table border=\"1\" class=\"dataframe\">\n  <thead>\n    <tr style=\"text-align: right;\">\n      <th></th>\n      <th>0</th>\n      <th>1</th>\n    </tr>\n  </thead>\n  <tbody>\n    <tr>\n      <th>0</th>\n      <td>es</td>\n      <td>fr</td>\n    </tr>\n    <tr>\n      <th>1</th>\n      <td>fr</td>\n      <td>bot</td>\n    </tr>\n    <tr>\n      <th>2</th>\n      <td>ru</td>\n      <td>ru</td>\n    </tr>\n    <tr>\n      <th>3</th>\n      <td>pl</td>\n      <td>در</td>\n    </tr>\n    <tr>\n      <th>4</th>\n      <td>pt</td>\n      <td>es</td>\n    </tr>\n    <tr>\n      <th>5</th>\n      <td>ja</td>\n      <td>ja</td>\n    </tr>\n    <tr>\n      <th>6</th>\n      <td>sv</td>\n      <td>pt</td>\n    </tr>\n    <tr>\n      <th>7</th>\n      <td>fi</td>\n      <td>sv</td>\n    </tr>\n    <tr>\n      <th>8</th>\n      <td>nl</td>\n      <td>pl</td>\n    </tr>\n    <tr>\n      <th>9</th>\n      <td>ko</td>\n      <td>-</td>\n    </tr>\n  </tbody>\n</table>\n</div>"
     },
     "execution_count": 17,
     "metadata": {},
     "output_type": "execute_result"
    }
   ],
   "source": [
    "TF_df = pd.DataFrame(data={c: top_k_terms_TF(corpus[c], 10) for c in range(2)})\n",
    "TF_df"
   ],
   "metadata": {
    "collapsed": false,
    "ExecuteTime": {
     "end_time": "2024-05-02T14:24:37.919231700Z",
     "start_time": "2024-05-02T14:24:37.863317900Z"
    }
   },
   "id": "bd135b2773a6254d",
   "execution_count": 17
  },
  {
   "cell_type": "markdown",
   "source": [
    "And the TF-IDF terms"
   ],
   "metadata": {
    "collapsed": false
   },
   "id": "e2e11bbc6fc9db95"
  },
  {
   "cell_type": "code",
   "outputs": [
    {
     "data": {
      "text/plain": "         0           1\n0       ar        brug\n1       fc         ved\n2       ga  enwpawbawb\n3       lt          dq\n4      rue         top\n5  kkсанат         nyt\n6       br        data\n7      жыл         اهل\n8       bg  ابهامزدایی\n9       yi    migrerer",
      "text/html": "<div>\n<style scoped>\n    .dataframe tbody tr th:only-of-type {\n        vertical-align: middle;\n    }\n\n    .dataframe tbody tr th {\n        vertical-align: top;\n    }\n\n    .dataframe thead th {\n        text-align: right;\n    }\n</style>\n<table border=\"1\" class=\"dataframe\">\n  <thead>\n    <tr style=\"text-align: right;\">\n      <th></th>\n      <th>0</th>\n      <th>1</th>\n    </tr>\n  </thead>\n  <tbody>\n    <tr>\n      <th>0</th>\n      <td>ar</td>\n      <td>brug</td>\n    </tr>\n    <tr>\n      <th>1</th>\n      <td>fc</td>\n      <td>ved</td>\n    </tr>\n    <tr>\n      <th>2</th>\n      <td>ga</td>\n      <td>enwpawbawb</td>\n    </tr>\n    <tr>\n      <th>3</th>\n      <td>lt</td>\n      <td>dq</td>\n    </tr>\n    <tr>\n      <th>4</th>\n      <td>rue</td>\n      <td>top</td>\n    </tr>\n    <tr>\n      <th>5</th>\n      <td>kkсанат</td>\n      <td>nyt</td>\n    </tr>\n    <tr>\n      <th>6</th>\n      <td>br</td>\n      <td>data</td>\n    </tr>\n    <tr>\n      <th>7</th>\n      <td>жыл</td>\n      <td>اهل</td>\n    </tr>\n    <tr>\n      <th>8</th>\n      <td>bg</td>\n      <td>ابهامزدایی</td>\n    </tr>\n    <tr>\n      <th>9</th>\n      <td>yi</td>\n      <td>migrerer</td>\n    </tr>\n  </tbody>\n</table>\n</div>"
     },
     "execution_count": 18,
     "metadata": {},
     "output_type": "execute_result"
    }
   ],
   "source": [
    "IDF_dict = IDF(corpus)\n",
    "TFIDF_df = pd.DataFrame(data={c: top_k_terms_TF_IDF(corpus[c], 10, IDF_dict) for c in range(2)})\n",
    "TFIDF_df"
   ],
   "metadata": {
    "collapsed": false,
    "ExecuteTime": {
     "end_time": "2024-05-02T14:24:37.991231800Z",
     "start_time": "2024-05-02T14:24:37.897715500Z"
    }
   },
   "id": "7be164d45ab27f38",
   "execution_count": 18
  },
  {
   "cell_type": "markdown",
   "source": [
    "Here we see a clearer pattern. It looks like the first community has many bots maintaining the interlinking structure of the Danish wikipedia to wikis in other languages (ar, ga, lt, ml and br are language codes for Arabic, Irish, Lithuanian, Malaysian, and Breton), whereas the second community shows more activity related to updating other types of data for the pages. Otherwise there is not that much to go on, and further down we discuss what - if given more time - could have been tried to get more information out of the partition.\n",
    "\n",
    "Looking at the top 10 tokens for the bots, we identified a few of them, that exhibit the breadth of functions served by the bots."
   ],
   "metadata": {
    "collapsed": false
   },
   "id": "7acfe1038f5eeee3"
  },
  {
   "cell_type": "code",
   "outputs": [
    {
     "name": "stdout",
     "output_type": "stream",
     "text": [
      "Name of bot: Kasirbot\n",
      " --------------------\n",
      "Contributions count: 1227, edit count: 2085, community: 1, degree: 170\n",
      "\n",
      "Top 10 tokens: ['در' 'ابهامزدایی' 'میلادی' 'icon' 'فوتبال' 'faباشگاه' 'ng'\n",
      " 'faردهبازیکنان' 'data' 'faردهسیاست'] \n",
      "\n",
      "Last five edits: r2.7.1) (Robot tilføjer en, fa, fr, ja\n",
      "r2.7.1) (Robot tilføjer [[fa:الگو:Mk icon]]\n",
      "r2.7.1) (Robot tilføjer: [[fa:الگو:MedalTop]] og ændrer: [[ja:Template:MedalTop]], [[ka:თარგი:მედალი ქვეყანა]]\n",
      "r2.7.1) (Robot tilføjer [[fa:الگو:Lv icon]]\n",
      "r2.7.1) (Robot tilføjer [[fa:الگو:Lo icon]] \n",
      "\n",
      "Name of bot: Steenthbot\n",
      " --------------------\n",
      "Contributions count: 209306, edit count: 751959, community: 1, degree: 196\n",
      "\n",
      "Top 10 tokens: ['bot' 'ændre' 'eksisterende' 'opdatering' 'nyeste' 'erstatter' 'tekst'\n",
      " 'data' 'ændringer' 'kosmetiske'] \n"
     ]
    },
    {
     "name": "stderr",
     "output_type": "stream",
     "text": [
      "WARNING: C:\\Users\\nikol\\AppData\\Local\\Temp\\ipykernel_16936\\2672025777.py:14: FutureWarning: Calling int on a single element Series is deprecated and will raise a TypeError in the future. Use int(ser.iloc[0]) instead\n",
      "  print(f'Contributions count: {int(count)}, edit count: {int(edit_count)}, community: {int(community)}, degree: {int(degree)}\\n')\n",
      "\n"
     ]
    },
    {
     "name": "stdout",
     "output_type": "stream",
     "text": [
      "Last five edits: opdatering med nyeste data *** erstatter eksisterende tekst ***\n",
      "opdatering med nyeste data *** erstatter eksisterende tekst ***\n",
      "opdatering med nyeste data *** erstatter eksisterende tekst ***; kosmetiske ændringer\n",
      "opdatering med nyeste data *** erstatter eksisterende tekst ***\n",
      "opdatering med nyeste data *** erstatter eksisterende tekst *** \n",
      "\n",
      "Name of bot: NivlekDaBot\n",
      " --------------------\n",
      "Contributions count: 3490, edit count: 4053, community: 1, degree: 151\n",
      "\n",
      "Top 10 tokens: ['infoboks' 'håndboldspiller' 'parametre' 'nyt' 'konverterer' 'format'\n",
      " 'flagikon' 'fodboldbiografi' 'fodboldspiller'] \n",
      "Last five edits: Konverterer parametre i {{Infoboks håndboldspiller}} til nyt format. Fjerner {{flagikon}} fra {{Infoboks håndboldspiller}}.\n",
      "Konverterer parametre i {{Infoboks håndboldspiller}} til nyt format. Fjerner {{flagikon}} fra {{Infoboks håndboldspiller}}.\n",
      "Konverterer parametre i {{Infoboks håndboldspiller}} til nyt format. Fjerner {{flagikon}} fra {{Infoboks håndboldspiller}}.\n",
      "Konverterer parametre i {{Infoboks håndboldspiller}} til nyt format. Fjerner {{flagikon}} fra {{Infoboks håndboldspiller}}.\n",
      "Konverterer parametre i {{Infoboks håndboldspiller}} til nyt format. Fjerner {{flagikon}} fra {{Infoboks håndboldspiller}}. \n",
      "\n",
      "Name of bot: DanKoehlBot\n",
      " --------------------\n",
      "Contributions count: 5, edit count: 11, community: 1, degree: 25\n",
      "\n",
      "Top 10 tokens: ['ved' 'typos' 'idag' 'fixed' 'enwpawbawb' 'dag' 'clean' 'brug' 'fx'\n",
      " 'side'] \n",
      "\n",
      "Last five edits: \n",
      "Ny side: {{bot|DanKoehlBot|site =}}\n",
      "clean up, typos fixed: idag → i dag ved brug af [[en:WP:AWB|AWB]]\n",
      "clean up, typos fixed: idag → i dag ved brug af [[en:WP:AWB|AWB]]\n",
      "clean up, typos fixed: idag → i dag ved brug af [[en:WP:AWB|AWB]] \n"
     ]
    }
   ],
   "source": [
    "# Define function to get contributions from API based on username\n",
    "def get_user_contributions(username):\n",
    "    site = pywikibot.Site('da', 'wikipedia')\n",
    "    user = pywikibot.User(site, username)\n",
    "    contributions = user.contributions(total=5)\n",
    "    return [contrib[3] for contrib in list(contributions)]\n",
    "\n",
    "# Get and display data from the chosen example bots\n",
    "example_bots = ['Kasirbot', 'Steenthbot', 'NivlekDaBot', 'DanKoehlBot']\n",
    "for bot_name in example_bots:\n",
    "    print(f'Name of bot: {bot_name}\\n', '-'*20)\n",
    "    bot_data = bots_dataframe[bots_dataframe['name'] == bot_name]\n",
    "    count, edit_count, community, top_10, degree = bot_data['count'], bot_data['edit_count'], bot_data['community'], bot_data['top 10 tokens'], bot_data['degree']\n",
    "    print(f'Contributions count: {int(count)}, edit count: {int(edit_count)}, community: {int(community)}, degree: {int(degree)}\\n')\n",
    "    print(f'Top 10 tokens: {list(top_10)[0]} \\n')\n",
    "    last_five = get_user_contributions(bot_name)[:5]\n",
    "    print('Last five edits:','\\n'.join(last_five), '\\n')\n",
    "    "
   ],
   "metadata": {
    "collapsed": false,
    "ExecuteTime": {
     "end_time": "2024-05-02T14:24:38.761761600Z",
     "start_time": "2024-05-02T14:24:37.927232300Z"
    }
   },
   "id": "f98fa55e0571e4ea",
   "execution_count": 19
  },
  {
   "cell_type": "markdown",
   "source": [
    "Here we see some of the different functions that bots serve on the Danish wikipedia:\n",
    "\n",
    "'KasirBot' is clearly mostly occupied with maintaining the links between the Danish and Persian (fa for farsi) wikipedias, by linking similar/identical pages in the two languages.\n",
    " \n",
    "'Steenthbot' is the most active bot on the whole Danish wikipedia with contributions to over 200,000 pages, and from the top 10 tokens we see that most of its work has to do with updating backend data, and 'cosmetic' changes.\n",
    "\n",
    " 'NivlekDaBot' seems to be engaged in editing data on sports pages, notably on handball and football.\n",
    " \n",
    " Lastly, 'DanKoehlBot' only has five edits in total, all of them about correcting a common Danish spelling mistake of 'idag' instead of 'i dag', meaning 'yesterday'.\n",
    " \n",
    "We see that the first three bots are all quite highly connected with degrees over 100, despite two of them having fairly moderate edit counts. The last bot 'DanKoehlBot' only has 5 edits, but still a degree of 25. From these examples we get a sense of the variety of contributions by bots on the Danish wikipedia, and see clearly that it would be unrealistic to expect humans to make these fairly tedious edits, especially if relying on volunteers, as is the case for Wikipedia. \n",
    " "
   ],
   "metadata": {
    "collapsed": false
   },
   "id": "e40565270399c737"
  },
  {
   "cell_type": "markdown",
   "source": [
    "### Summarization of findings\n",
    "\n",
    " We see that the network of bots is highly connected, meaning that most bots have collaborated with most other bots at some point in time, which is also reflected by the very high mean closeness centrality of 0.84. The degree distribution is skewed to the right, with many highly connected bots, whereas the edit count distribution is skewed to the right, with most bots having a low to moderate amount of edits. We saw that this caused by a few pages, that many, many bots contribute to - pages of high importance like those on countries, religions, and global organizations. This leads to a community that is challenging to partition neatly, even though some tendencies can be seen where some bots are more focused on providing cross-references to wikis of other languages.\n",
    "  \n",
    "From our textual analysis we were able to gain insights into the various functions served by the bots ranging from fixing typos, to updating the way information is presented on sports pages, linking the Danish wikipedia to the Persian wiki, to meta-data on bot activity. In making these tedious but important edits, the bots are clearly essential in ensuring that Wikipedia remain one of the top go-to places for information on the internet."
   ],
   "metadata": {
    "collapsed": false
   },
   "id": "793aec5bfea9fabe"
  },
  {
   "cell_type": "markdown",
   "source": [
    "## 4. Discussion\n",
    "\n",
    "In collecting the dataset we succesfully created a quite large dataset, which enabled us to get a comprehensive picture of the way bots contribute to the wiki. Through our network analysis we saw how the network of collaborating bots was very highly connected. The fact that the degree distribution is so heavily right-skewed is quite interesting, and in contrast to many human networks, were most people are not especially connected, with only a few highly connected individuals - like the network of collaborating scientists analyzed earlier in the course. It would be interesting to further investigate under which circumstances networks tend to have right- or left-skewed degree distributions.\n",
    "\n",
    "In this project we had expected the analysis of the communities and their most frequent terms to be more informative than they were. The reason that wasn't the case was firstly the highly connected nature of the network, which led to Louvain algorithm having difficulties in neatly separating the network into communities. Secondly, due to the sparse and specialized nature of the contributions text, making the tokens a bit difficult to parse in a consistent way, although we were still able to gain some insights into the contributions of different bots.\n",
    "\n",
    "If we were to improve on the analysis we would probably try to find some more ways to use textual analysis to shed light on the activities of the different bots. One way could be to somehow define some categorizations for the different edits, and compare the frequencies with which the different categories appear across communities. We could also try to draw text from the pages themselves. The reason we did not do this is that most of the edits performed by the bots seemed not so much to relate to the content of the pages themselves, but rather the meta-data and structure of the pages, which arguably our analysis confirmed. Still, there might be insights to draw in choosing to focus more on the content of the pages."
   ],
   "metadata": {
    "collapsed": false
   },
   "id": "e81d3f1e08e4bc63"
  }
 ],
 "metadata": {
  "kernelspec": {
   "display_name": "Python 3",
   "language": "python",
   "name": "python3"
  },
  "language_info": {
   "codemirror_mode": {
    "name": "ipython",
    "version": 2
   },
   "file_extension": ".py",
   "mimetype": "text/x-python",
   "name": "python",
   "nbconvert_exporter": "python",
   "pygments_lexer": "ipython2",
   "version": "2.7.6"
  }
 },
 "nbformat": 4,
 "nbformat_minor": 5
}
