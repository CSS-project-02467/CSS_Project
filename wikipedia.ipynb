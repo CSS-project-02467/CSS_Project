{
 "cells": [
  {
   "cell_type": "markdown",
   "source": [
    "Ide: tag dansk-sproget wikipedia, find alle brugere og lav netværk over brugere, der har redigeret de samme artikler. Derefter, få lix-tal eller lignende fra alle artikler, og se om der er sammenhæng... Eller groupér efter konnektivitet, og se på sammenhængen i grupperne baseret på keywords i artiklerne, eller fordelingen af kategorier.\n",
    "\n",
    "X Filter navne med bot eller ip-adresser.\n",
    "X Få data\n",
    "X Konstruer graf\n",
    "X Cluster\n",
    "O Test clusters for modularity mod random graphs\n",
    "O Test text similarity mellem og indenfor clusters\n",
    "O Find kategorier for clusters"
   ],
   "metadata": {
    "collapsed": false
   },
   "id": "4e93c78f45b5dd7a"
  },
  {
   "cell_type": "code",
   "outputs": [],
   "source": [
    "import pandas as pd\n",
    "from bs4 import BeautifulSoup\n",
    "import requests\n",
    "from itertools import combinations\n",
    "from functools import reduce\n",
    "from collections import defaultdict\n",
    "import re\n",
    "import numpy as np\n",
    "from sklearn.cluster import SpectralClustering\n",
    "from sklearn import metrics\n",
    "import pywikibot\n",
    "import networkx as nx\n",
    "from tqdm import tqdm\n",
    "from joblib import Parallel, delayed\n",
    "from pywikibot import pagegenerators\n",
    "import nltk\n",
    "from datetime import datetime, timedelta\n",
    "from nltk.tokenize import MWETokenizer\n",
    "from nltk.corpus import stopwords\n",
    "from nltk import word_tokenize\n",
    "from sklearn.metrics.pairwise import cosine_similarity\n",
    "from sklearn.feature_extraction.text import CountVectorizer"
   ],
   "metadata": {
    "collapsed": false,
    "ExecuteTime": {
     "end_time": "2024-04-10T10:49:29.232462100Z",
     "start_time": "2024-04-10T10:49:23.811398300Z"
    }
   },
   "id": "6b63d2710d72adb8",
   "execution_count": 1
  },
  {
   "cell_type": "code",
   "outputs": [
    {
     "name": "stderr",
     "output_type": "stream",
     "text": [
      "[nltk_data] Downloading package punkt to\n",
      "[nltk_data]     C:\\Users\\nikol\\AppData\\Roaming\\nltk_data...\n",
      "[nltk_data]   Package punkt is already up-to-date!\n",
      "[nltk_data] Downloading package stopwords to\n",
      "[nltk_data]     C:\\Users\\nikol\\AppData\\Roaming\\nltk_data...\n",
      "[nltk_data]   Package stopwords is already up-to-date!\n"
     ]
    },
    {
     "data": {
      "text/plain": "True"
     },
     "execution_count": 145,
     "metadata": {},
     "output_type": "execute_result"
    }
   ],
   "source": [
    "nltk.download('punkt')\n",
    "nltk.download('stopwords')"
   ],
   "metadata": {
    "collapsed": false,
    "ExecuteTime": {
     "end_time": "2024-03-15T13:31:36.626329100Z",
     "start_time": "2024-03-15T13:31:36.428099800Z"
    }
   },
   "id": "50c4ca14d563c945",
   "execution_count": 145
  },
  {
   "cell_type": "markdown",
   "source": [
    "### Getting data"
   ],
   "metadata": {
    "collapsed": false
   },
   "id": "546fd5f1a8115016"
  },
  {
   "cell_type": "code",
   "outputs": [],
   "source": [
    "active_users_url = 'https://da.wikipedia.org/w/index.php?title=Speciel:Aktive_Brugere&\\\n",
    "                    username=&wpFormIdentifier=specialactiveusers&limit=1000'\n",
    "r = requests.get(active_users_url)\n",
    "soup = BeautifulSoup(r.content)"
   ],
   "metadata": {
    "collapsed": false,
    "ExecuteTime": {
     "end_time": "2024-03-14T12:49:06.650652900Z",
     "start_time": "2024-03-14T12:49:01.457190700Z"
    }
   },
   "id": "43e28502488c0aed",
   "execution_count": 44
  },
  {
   "cell_type": "code",
   "outputs": [
    {
     "data": {
      "text/plain": "20"
     },
     "execution_count": 45,
     "metadata": {},
     "output_type": "execute_result"
    }
   ],
   "source": [
    "user_elements = soup.find_all('a', {'class':['mw-userlink', 'new mw-userlink']})\n",
    "users = [element.text for element in user_elements]\n",
    "users = users[:20]\n",
    "len(users)"
   ],
   "metadata": {
    "collapsed": false,
    "ExecuteTime": {
     "end_time": "2024-03-14T12:49:08.176358500Z",
     "start_time": "2024-03-14T12:49:08.125117800Z"
    }
   },
   "id": "3676a73571c785c1",
   "execution_count": 45
  },
  {
   "cell_type": "code",
   "outputs": [],
   "source": [
    "def isipadress(string):\n",
    "    ip_regex = r\"\\b((25[0-5]|2[0-4][0-9]|[01]?[0-9][0-9]?)(\\.|$)){4}\\b\"\n",
    "    if len(string) < 5:\n",
    "        return False\n",
    "    if re.findall(ip_regex, string) or string[4] == ':':\n",
    "        return True\n",
    "    return False\n",
    "    \n",
    "def isbot(string):\n",
    "    return 'bot' in string.lower()\n",
    "\n",
    "def get_user_contributions(username):\n",
    "    site = pywikibot.Site('da', 'wikipedia')\n",
    "    user = pywikibot.User(site, username)\n",
    "    contributions = user.contributions(total=500)\n",
    "    articles = [contrib[0].title() for contrib in contributions \n",
    "                if ':' not in contrib[0].title()]\n",
    "    return articles\n",
    "\n",
    "def get_page_contributors(pagename):\n",
    "    site = pywikibot.Site('da', 'wikipedia')\n",
    "    page = pywikibot.Page(site, pagename)\n",
    "    contributors = page.contributors()\n",
    "    # Implement botfilter\n",
    "    usernames = [user for user in contributors if isbot(user)]\n",
    "    return {pagename: usernames}"
   ],
   "metadata": {
    "collapsed": false,
    "ExecuteTime": {
     "end_time": "2024-04-10T10:50:00.166915300Z",
     "start_time": "2024-04-10T10:50:00.155289500Z"
    }
   },
   "id": "6edca597f5ab0a6",
   "execution_count": 3
  },
  {
   "cell_type": "code",
   "outputs": [
    {
     "name": "stderr",
     "output_type": "stream",
     "text": [
      "100%|██████████| 100/100 [00:20<00:00,  4.84it/s]\n"
     ]
    },
    {
     "data": {
      "text/plain": "366"
     },
     "execution_count": 15,
     "metadata": {},
     "output_type": "execute_result"
    }
   ],
   "source": [
    "site = pywikibot.Site('da', 'wikipedia')\n",
    "allpagesgen = site.allpages()\n",
    "all_bots = []\n",
    "for i in tqdm(range(100)):\n",
    "    page = next(iter(allpagesgen))\n",
    "    contributors = list(page.contributors())\n",
    "    bots = [c for c in contributors if isbot(c)]\n",
    "    all_bots += bots\n",
    "len(all_bots)"
   ],
   "metadata": {
    "collapsed": false,
    "ExecuteTime": {
     "end_time": "2024-04-10T08:29:57.258592400Z",
     "start_time": "2024-04-10T08:29:36.587322800Z"
    }
   },
   "id": "83d773b8c84d0c4",
   "execution_count": 15
  },
  {
   "cell_type": "code",
   "outputs": [
    {
     "name": "stdout",
     "output_type": "stream",
     "text": [
      "1000\n",
      "2000\n",
      "3000\n",
      "4000\n",
      "5000\n",
      "All bots found:  74922\n",
      "Unique bots:  189\n"
     ]
    }
   ],
   "source": [
    "site = pywikibot.Site('da', 'wikipedia')\n",
    "allpagesgen = site.allpages()\n",
    "def get_bots(page):\n",
    "    contributors = list(page.contributors())\n",
    "    bots = [c for c in contributors if isbot(c)]\n",
    "    return bots\n",
    "\n",
    "parallel = Parallel(n_jobs=-2, return_as = \"generator\")\n",
    "all_bots = parallel(delayed(get_bots)(page)\n",
    "                               for i, page in enumerate(allpagesgen))\n",
    "all_bots_list = []\n",
    "counter = 0\n",
    "print_every = 1000\n",
    "break_when = 5000\n",
    "while True:\n",
    "    try:\n",
    "        all_bots_list += next(all_bots)\n",
    "        counter += 1\n",
    "        if counter % print_every == 0:\n",
    "            print(counter)\n",
    "        if counter == break_when:\n",
    "            break\n",
    "    except StopIteration:\n",
    "        print('Done')\n",
    "        break\n",
    "        \n",
    "print('All bots found: ', len(all_bots_list))\n",
    "print('Unique bots: ', len(set(all_bots_list)))"
   ],
   "metadata": {
    "collapsed": false,
    "ExecuteTime": {
     "end_time": "2024-04-10T10:54:18.274299300Z",
     "start_time": "2024-04-10T10:50:03.450274100Z"
    }
   },
   "id": "fe1f046112fa4f9a",
   "execution_count": 4
  },
  {
   "cell_type": "markdown",
   "source": [
    "### Dataframes"
   ],
   "metadata": {
    "collapsed": false
   },
   "id": "294fff88258617af"
  },
  {
   "cell_type": "code",
   "outputs": [],
   "source": [
    "unique_bots = list(set(all_bots_list))\n",
    "bot_data = pd.DataFrame(unique_bots[:10], columns = ['name'])\n",
    "def get_bot_data(bot_name):\n",
    "    site = pywikibot.Site('da', 'wikipedia')\n",
    "    bot = pywikibot.User(site, bot_name)\n",
    "    edit_count = bot.editCount()\n",
    "    return {'edit_count': edit_count}\n",
    "\n",
    "bot_list = []\n",
    "for bot_name in unique_bots[:10]:\n",
    "    bot_list.append(get_bot_data(bot_name))\n",
    "\n",
    "bot_data = pd.concat([bot_data, bot_data['name'].apply(lambda x: pd.Series(get_bot_data(x)))], axis=1)"
   ],
   "metadata": {
    "collapsed": false,
    "ExecuteTime": {
     "end_time": "2024-04-10T10:55:00.894546500Z",
     "start_time": "2024-04-10T10:54:57.205207800Z"
    }
   },
   "id": "4b83548ecfea573",
   "execution_count": 5
  },
  {
   "cell_type": "code",
   "outputs": [
    {
     "data": {
      "text/plain": "        name  edit_count\n0     H92Bot         384\n1   PalnaBot      188448\n2      JYBot        2610\n3  JackieBot        8643\n4   TuvicBot        2951\n5   GnawnBot         189\n6      MSBOT        1716\n7     UghBot         245\n8  A3ng3lBot        1763\n9    Minsbot        1116",
      "text/html": "<div>\n<style scoped>\n    .dataframe tbody tr th:only-of-type {\n        vertical-align: middle;\n    }\n\n    .dataframe tbody tr th {\n        vertical-align: top;\n    }\n\n    .dataframe thead th {\n        text-align: right;\n    }\n</style>\n<table border=\"1\" class=\"dataframe\">\n  <thead>\n    <tr style=\"text-align: right;\">\n      <th></th>\n      <th>name</th>\n      <th>edit_count</th>\n    </tr>\n  </thead>\n  <tbody>\n    <tr>\n      <th>0</th>\n      <td>H92Bot</td>\n      <td>384</td>\n    </tr>\n    <tr>\n      <th>1</th>\n      <td>PalnaBot</td>\n      <td>188448</td>\n    </tr>\n    <tr>\n      <th>2</th>\n      <td>JYBot</td>\n      <td>2610</td>\n    </tr>\n    <tr>\n      <th>3</th>\n      <td>JackieBot</td>\n      <td>8643</td>\n    </tr>\n    <tr>\n      <th>4</th>\n      <td>TuvicBot</td>\n      <td>2951</td>\n    </tr>\n    <tr>\n      <th>5</th>\n      <td>GnawnBot</td>\n      <td>189</td>\n    </tr>\n    <tr>\n      <th>6</th>\n      <td>MSBOT</td>\n      <td>1716</td>\n    </tr>\n    <tr>\n      <th>7</th>\n      <td>UghBot</td>\n      <td>245</td>\n    </tr>\n    <tr>\n      <th>8</th>\n      <td>A3ng3lBot</td>\n      <td>1763</td>\n    </tr>\n    <tr>\n      <th>9</th>\n      <td>Minsbot</td>\n      <td>1116</td>\n    </tr>\n  </tbody>\n</table>\n</div>"
     },
     "execution_count": 6,
     "metadata": {},
     "output_type": "execute_result"
    }
   ],
   "source": [
    "bot_data"
   ],
   "metadata": {
    "collapsed": false,
    "ExecuteTime": {
     "end_time": "2024-04-10T10:55:02.010656300Z",
     "start_time": "2024-04-10T10:55:01.896138100Z"
    }
   },
   "id": "71fadd0e5193d06d",
   "execution_count": 6
  },
  {
   "cell_type": "code",
   "outputs": [
    {
     "name": "stderr",
     "output_type": "stream",
     "text": [
      "\n",
      "\n",
      "  0%|          | 0/40 [00:00<?, ?it/s]\u001B[A\u001B[A\n",
      "\n",
      " 35%|███▌      | 14/40 [00:04<00:07,  3.38it/s]\u001B[A\u001B[A\n",
      "\n",
      " 52%|█████▎    | 21/40 [00:06<00:06,  3.06it/s]\u001B[A\u001B[A\n",
      "\n",
      " 70%|███████   | 28/40 [00:21<00:11,  1.02it/s]\u001B[A\u001B[A\n",
      "\n",
      "100%|██████████| 40/40 [00:27<00:00,  1.43it/s]\u001B[A\u001B[A\n"
     ]
    },
    {
     "ename": "KeyboardInterrupt",
     "evalue": "",
     "output_type": "error",
     "traceback": [
      "\u001B[1;31m---------------------------------------------------------------------------\u001B[0m",
      "\u001B[1;31mKeyboardInterrupt\u001B[0m                         Traceback (most recent call last)",
      "Cell \u001B[1;32mIn[17], line 5\u001B[0m\n\u001B[0;32m      2\u001B[0m     bot \u001B[38;5;241m=\u001B[39m pywikibot\u001B[38;5;241m.\u001B[39mUser(site, bot_name)\n\u001B[0;32m      3\u001B[0m     \u001B[38;5;28;01mreturn\u001B[39;00m [page[\u001B[38;5;241m0\u001B[39m]\u001B[38;5;241m.\u001B[39mtitle() \u001B[38;5;28;01mfor\u001B[39;00m page \u001B[38;5;129;01min\u001B[39;00m \u001B[38;5;28mlist\u001B[39m(bot\u001B[38;5;241m.\u001B[39mcontributions(total\u001B[38;5;241m=\u001B[39m\u001B[38;5;241m1000000\u001B[39m))]\n\u001B[1;32m----> 5\u001B[0m all_pages \u001B[38;5;241m=\u001B[39m Parallel(n_jobs\u001B[38;5;241m=\u001B[39m\u001B[38;5;241m-\u001B[39m\u001B[38;5;241m2\u001B[39m)(delayed(get_pages_edited_by_bot)(bot_name) \u001B[38;5;28;01mfor\u001B[39;00m bot_name \u001B[38;5;129;01min\u001B[39;00m tqdm(unique_bots[:\u001B[38;5;241m40\u001B[39m]))\n\u001B[0;32m      6\u001B[0m \u001B[38;5;66;03m# all_pages = []\u001B[39;00m\n\u001B[0;32m      7\u001B[0m \u001B[38;5;66;03m# for bot_name in tqdm(unique_bots[-20:]):\u001B[39;00m\n\u001B[0;32m      8\u001B[0m \u001B[38;5;66;03m#     all_pages += get_pages_edited_by_bot(bot_name)\u001B[39;00m\n\u001B[0;32m      9\u001B[0m all_pages \u001B[38;5;241m=\u001B[39m \u001B[38;5;28mlist\u001B[39m(\u001B[38;5;28mset\u001B[39m(all_pages))\n",
      "File \u001B[1;32m~\\AppData\\Roaming\\Python\\Python311\\site-packages\\joblib\\parallel.py:2007\u001B[0m, in \u001B[0;36mParallel.__call__\u001B[1;34m(self, iterable)\u001B[0m\n\u001B[0;32m   2001\u001B[0m \u001B[38;5;66;03m# The first item from the output is blank, but it makes the interpreter\u001B[39;00m\n\u001B[0;32m   2002\u001B[0m \u001B[38;5;66;03m# progress until it enters the Try/Except block of the generator and\u001B[39;00m\n\u001B[0;32m   2003\u001B[0m \u001B[38;5;66;03m# reach the first `yield` statement. This starts the aynchronous\u001B[39;00m\n\u001B[0;32m   2004\u001B[0m \u001B[38;5;66;03m# dispatch of the tasks to the workers.\u001B[39;00m\n\u001B[0;32m   2005\u001B[0m \u001B[38;5;28mnext\u001B[39m(output)\n\u001B[1;32m-> 2007\u001B[0m \u001B[38;5;28;01mreturn\u001B[39;00m output \u001B[38;5;28;01mif\u001B[39;00m \u001B[38;5;28mself\u001B[39m\u001B[38;5;241m.\u001B[39mreturn_generator \u001B[38;5;28;01melse\u001B[39;00m \u001B[38;5;28mlist\u001B[39m(output)\n",
      "File \u001B[1;32m~\\AppData\\Roaming\\Python\\Python311\\site-packages\\joblib\\parallel.py:1650\u001B[0m, in \u001B[0;36mParallel._get_outputs\u001B[1;34m(self, iterator, pre_dispatch)\u001B[0m\n\u001B[0;32m   1647\u001B[0m     \u001B[38;5;28;01myield\u001B[39;00m\n\u001B[0;32m   1649\u001B[0m     \u001B[38;5;28;01mwith\u001B[39;00m \u001B[38;5;28mself\u001B[39m\u001B[38;5;241m.\u001B[39m_backend\u001B[38;5;241m.\u001B[39mretrieval_context():\n\u001B[1;32m-> 1650\u001B[0m         \u001B[38;5;28;01myield from\u001B[39;00m \u001B[38;5;28mself\u001B[39m\u001B[38;5;241m.\u001B[39m_retrieve()\n\u001B[0;32m   1652\u001B[0m \u001B[38;5;28;01mexcept\u001B[39;00m \u001B[38;5;167;01mGeneratorExit\u001B[39;00m:\n\u001B[0;32m   1653\u001B[0m     \u001B[38;5;66;03m# The generator has been garbage collected before being fully\u001B[39;00m\n\u001B[0;32m   1654\u001B[0m     \u001B[38;5;66;03m# consumed. This aborts the remaining tasks if possible and warn\u001B[39;00m\n\u001B[0;32m   1655\u001B[0m     \u001B[38;5;66;03m# the user if necessary.\u001B[39;00m\n\u001B[0;32m   1656\u001B[0m     \u001B[38;5;28mself\u001B[39m\u001B[38;5;241m.\u001B[39m_exception \u001B[38;5;241m=\u001B[39m \u001B[38;5;28;01mTrue\u001B[39;00m\n",
      "File \u001B[1;32m~\\AppData\\Roaming\\Python\\Python311\\site-packages\\joblib\\parallel.py:1762\u001B[0m, in \u001B[0;36mParallel._retrieve\u001B[1;34m(self)\u001B[0m\n\u001B[0;32m   1757\u001B[0m \u001B[38;5;66;03m# If the next job is not ready for retrieval yet, we just wait for\u001B[39;00m\n\u001B[0;32m   1758\u001B[0m \u001B[38;5;66;03m# async callbacks to progress.\u001B[39;00m\n\u001B[0;32m   1759\u001B[0m \u001B[38;5;28;01mif\u001B[39;00m ((\u001B[38;5;28mlen\u001B[39m(\u001B[38;5;28mself\u001B[39m\u001B[38;5;241m.\u001B[39m_jobs) \u001B[38;5;241m==\u001B[39m \u001B[38;5;241m0\u001B[39m) \u001B[38;5;129;01mor\u001B[39;00m\n\u001B[0;32m   1760\u001B[0m     (\u001B[38;5;28mself\u001B[39m\u001B[38;5;241m.\u001B[39m_jobs[\u001B[38;5;241m0\u001B[39m]\u001B[38;5;241m.\u001B[39mget_status(\n\u001B[0;32m   1761\u001B[0m         timeout\u001B[38;5;241m=\u001B[39m\u001B[38;5;28mself\u001B[39m\u001B[38;5;241m.\u001B[39mtimeout) \u001B[38;5;241m==\u001B[39m TASK_PENDING)):\n\u001B[1;32m-> 1762\u001B[0m     time\u001B[38;5;241m.\u001B[39msleep(\u001B[38;5;241m0.01\u001B[39m)\n\u001B[0;32m   1763\u001B[0m     \u001B[38;5;28;01mcontinue\u001B[39;00m\n\u001B[0;32m   1765\u001B[0m \u001B[38;5;66;03m# We need to be careful: the job list can be filling up as\u001B[39;00m\n\u001B[0;32m   1766\u001B[0m \u001B[38;5;66;03m# we empty it and Python list are not thread-safe by\u001B[39;00m\n\u001B[0;32m   1767\u001B[0m \u001B[38;5;66;03m# default hence the use of the lock\u001B[39;00m\n",
      "\u001B[1;31mKeyboardInterrupt\u001B[0m: "
     ]
    }
   ],
   "source": [
    "def get_pages_edited_by_bot(bot_name):\n",
    "    bot = pywikibot.User(site, bot_name)\n",
    "    return [page[0].title() for page in list(bot.contributions(total=1000000))]\n",
    "\n",
    "all_pages = Parallel(n_jobs=-2)(delayed(get_pages_edited_by_bot)(bot_name) for bot_name in tqdm(unique_bots[:40]))\n",
    "# all_pages = []\n",
    "# for bot_name in tqdm(unique_bots[-20:]):\n",
    "#     all_pages += get_pages_edited_by_bot(bot_name)\n",
    "all_pages = list(set(all_pages))\n",
    "len(all_pages)"
   ],
   "metadata": {
    "collapsed": false,
    "ExecuteTime": {
     "end_time": "2024-04-10T11:21:33.061956300Z",
     "start_time": "2024-04-10T11:20:42.951934200Z"
    }
   },
   "id": "6dd9ea1d39a23491",
   "execution_count": 17
  },
  {
   "cell_type": "code",
   "outputs": [],
   "source": [
    "all_pages = list(set(all_pages))\n",
    "len(all_pages)"
   ],
   "metadata": {
    "collapsed": false
   },
   "id": "889f540a997615da"
  },
  {
   "cell_type": "code",
   "outputs": [
    {
     "name": "stderr",
     "output_type": "stream",
     "text": [
      "\n",
      "  0%|          | 0/109358 [00:00<?, ?it/s]\u001B[A\n",
      "  0%|          | 14/109358 [00:03<8:30:53,  3.57it/s]\u001B[A\n",
      "  0%|          | 21/109358 [00:04<5:39:54,  5.36it/s]\u001B[A\n",
      "  0%|          | 28/109358 [00:04<4:04:18,  7.46it/s]\u001B[A\n",
      "  0%|          | 35/109358 [00:04<2:56:37, 10.32it/s]\u001B[A\n",
      "  0%|          | 42/109358 [00:05<2:16:10, 13.38it/s]\u001B[A\n",
      "  0%|          | 49/109358 [00:05<1:51:50, 16.29it/s]\u001B[A\n",
      "  0%|          | 56/109358 [00:05<1:34:05, 19.36it/s]\u001B[A\n",
      "  0%|          | 63/109358 [00:05<1:31:41, 19.87it/s]\u001B[A\n",
      "  0%|          | 70/109358 [00:06<1:24:55, 21.45it/s]\u001B[A\n",
      "  0%|          | 77/109358 [00:06<1:21:08, 22.45it/s]\u001B[A\n",
      "  0%|          | 84/109358 [00:06<1:14:38, 24.40it/s]\u001B[A\n",
      "  0%|          | 91/109358 [00:06<1:09:12, 26.31it/s]\u001B[A\n",
      "  0%|          | 98/109358 [00:07<1:11:21, 25.52it/s]\u001B[A\n",
      "  0%|          | 105/109358 [00:07<1:13:16, 24.85it/s]\u001B[A\n",
      "  0%|          | 112/109358 [00:07<1:10:52, 25.69it/s]\u001B[A\n",
      "  0%|          | 119/109358 [00:07<1:07:47, 26.86it/s]\u001B[A\n",
      "  0%|          | 126/109358 [00:08<1:08:21, 26.63it/s]\u001B[A\n",
      "  0%|          | 133/109358 [00:08<1:13:04, 24.91it/s]\u001B[A\n",
      "  0%|          | 140/109358 [00:08<1:21:44, 22.27it/s]\u001B[A\n",
      "  0%|          | 147/109358 [00:09<1:25:57, 21.17it/s]\u001B[A\n",
      "  0%|          | 154/109358 [00:09<1:20:15, 22.68it/s]\u001B[A\n",
      "  0%|          | 161/109358 [00:09<1:26:57, 20.93it/s]\u001B[A\n",
      "  0%|          | 168/109358 [00:10<1:26:05, 21.14it/s]\u001B[A\n",
      "  0%|          | 175/109358 [00:10<1:17:57, 23.34it/s]\u001B[A\n",
      "  0%|          | 182/109358 [00:10<1:18:23, 23.21it/s]\u001B[A\n",
      "  0%|          | 189/109358 [00:11<1:19:55, 22.76it/s]\u001B[A\n",
      "  0%|          | 196/109358 [00:11<1:10:34, 25.78it/s]\u001B[A\n",
      "  0%|          | 203/109358 [00:11<1:10:41, 25.74it/s]\u001B[A\n",
      "  0%|          | 210/109358 [00:11<1:05:46, 27.65it/s]\u001B[A\n",
      "  0%|          | 217/109358 [00:12<1:17:06, 23.59it/s]\u001B[A\n",
      "  0%|          | 224/109358 [00:12<1:08:32, 26.54it/s]\u001B[A\n",
      "  0%|          | 231/109358 [00:12<1:16:32, 23.76it/s]\u001B[A\n",
      "  0%|          | 238/109358 [00:13<1:24:27, 21.53it/s]\u001B[A\n",
      "  0%|          | 245/109358 [00:13<1:31:06, 19.96it/s]\u001B[A\n",
      "  0%|          | 252/109358 [00:13<1:29:19, 20.36it/s]\u001B[A\n",
      "  0%|          | 259/109358 [00:14<1:21:58, 22.18it/s]\u001B[A\n",
      "  0%|          | 266/109358 [00:14<1:26:43, 20.96it/s]\u001B[A\n",
      "  0%|          | 273/109358 [00:14<1:20:32, 22.57it/s]\u001B[A\n",
      "  0%|          | 280/109358 [00:14<1:15:17, 24.15it/s]\u001B[A\n",
      "  0%|          | 287/109358 [00:15<1:22:47, 21.96it/s]\u001B[A\n",
      "  0%|          | 294/109358 [00:15<1:17:52, 23.34it/s]\u001B[A\n",
      "  0%|          | 301/109358 [00:16<1:36:46, 18.78it/s]\u001B[A\n",
      "  0%|          | 308/109358 [00:16<1:25:01, 21.38it/s]\u001B[A\n",
      "  0%|          | 315/109358 [00:16<1:30:20, 20.12it/s]\u001B[A\n",
      "  0%|          | 322/109358 [00:17<1:30:53, 19.99it/s]\u001B[A\n",
      "  0%|          | 329/109358 [00:17<1:35:50, 18.96it/s]\u001B[A\n",
      "  0%|          | 336/109358 [00:17<1:25:54, 21.15it/s]\u001B[A\n",
      "  0%|          | 343/109358 [00:18<1:23:41, 21.71it/s]\u001B[A\n",
      "  0%|          | 350/109358 [00:18<1:28:36, 20.50it/s]\u001B[A\n",
      "  0%|          | 357/109358 [00:18<1:26:33, 20.99it/s]\u001B[A\n",
      "  0%|          | 364/109358 [00:18<1:17:09, 23.54it/s]\u001B[A\n",
      "  0%|          | 371/109358 [00:19<1:12:33, 25.03it/s]\u001B[A\n",
      "  0%|          | 378/109358 [00:19<1:19:25, 22.87it/s]\u001B[A\n",
      "  0%|          | 385/109358 [00:19<1:13:51, 24.59it/s]\u001B[A\n",
      "  0%|          | 392/109358 [00:20<1:23:46, 21.68it/s]\u001B[A\n",
      "  0%|          | 399/109358 [00:20<1:17:55, 23.31it/s]\u001B[A\n",
      "  0%|          | 406/109358 [00:20<1:10:56, 25.60it/s]\u001B[A\n",
      "  0%|          | 413/109358 [00:21<1:15:10, 24.15it/s]\u001B[A\n",
      "  0%|          | 420/109358 [00:21<1:31:32, 19.83it/s]\u001B[A\n",
      "  0%|          | 427/109358 [00:21<1:18:33, 23.11it/s]\u001B[A\n",
      "  0%|          | 434/109358 [00:21<1:10:37, 25.70it/s]\u001B[A\n",
      "  0%|          | 441/109358 [00:22<1:15:19, 24.10it/s]\u001B[A\n",
      "  0%|          | 448/109358 [00:22<1:09:03, 26.28it/s]\u001B[A\n",
      "  0%|          | 455/109358 [00:22<1:15:38, 23.99it/s]\u001B[A\n",
      "  0%|          | 462/109358 [00:23<1:14:41, 24.30it/s]\u001B[A\n",
      "  0%|          | 469/109358 [00:23<1:23:46, 21.66it/s]\u001B[A\n",
      "  0%|          | 476/109358 [00:23<1:22:54, 21.89it/s]\u001B[A\n",
      "  0%|          | 483/109358 [00:24<1:16:56, 23.59it/s]\u001B[A\n",
      "  0%|          | 490/109358 [00:24<1:33:17, 19.45it/s]\u001B[A\n",
      "  0%|          | 497/109358 [00:24<1:34:32, 19.19it/s]\u001B[A\n",
      "  0%|          | 504/109358 [00:25<1:34:11, 19.26it/s]\u001B[A\n",
      "  0%|          | 511/109358 [00:25<1:35:17, 19.04it/s]\u001B[A\n",
      "  0%|          | 518/109358 [00:25<1:26:13, 21.04it/s]\u001B[A\n",
      "  0%|          | 525/109358 [00:26<1:21:12, 22.34it/s]\u001B[A\n",
      "  0%|          | 532/109358 [00:26<1:14:50, 24.23it/s]\u001B[A\n",
      "  0%|          | 539/109358 [00:26<1:12:47, 24.91it/s]\u001B[A\n",
      "  0%|          | 546/109358 [00:26<1:15:41, 23.96it/s]\u001B[A\n",
      "  1%|          | 553/109358 [00:27<1:13:33, 24.65it/s]\u001B[A\n",
      "  1%|          | 560/109358 [00:27<1:16:29, 23.71it/s]\u001B[A\n",
      "  1%|          | 567/109358 [00:27<1:15:17, 24.08it/s]\u001B[A\n",
      "  1%|          | 574/109358 [00:28<1:10:16, 25.80it/s]\u001B[A\n",
      "  1%|          | 581/109358 [00:28<1:07:47, 26.74it/s]\u001B[A\n",
      "  1%|          | 588/109358 [00:28<1:14:48, 24.23it/s]\u001B[A\n",
      "  1%|          | 595/109358 [00:28<1:08:17, 26.54it/s]\u001B[A\n",
      "  1%|          | 602/109358 [00:29<1:15:02, 24.16it/s]\u001B[A\n",
      "  1%|          | 609/109358 [00:29<1:09:49, 25.96it/s]\u001B[A\n",
      "  1%|          | 616/109358 [00:29<1:15:12, 24.10it/s]\u001B[A\n",
      "  1%|          | 623/109358 [00:30<1:15:08, 24.12it/s]\u001B[A\n",
      "  1%|          | 630/109358 [00:30<1:15:36, 23.97it/s]\u001B[A\n",
      "  1%|          | 637/109358 [00:30<1:22:22, 22.00it/s]\u001B[A\n",
      "  1%|          | 644/109358 [00:30<1:12:52, 24.86it/s]\u001B[A\n",
      "  1%|          | 651/109358 [00:31<1:12:47, 24.89it/s]\u001B[A\n",
      "  1%|          | 658/109358 [00:31<1:22:03, 22.08it/s]\u001B[A\n",
      "  1%|          | 665/109358 [00:31<1:12:33, 24.97it/s]\u001B[A\n",
      "  1%|          | 672/109358 [00:32<1:08:32, 26.43it/s]\u001B[A\n",
      "  1%|          | 679/109358 [00:32<1:05:53, 27.49it/s]\u001B[A\n",
      "  1%|          | 686/109358 [00:32<1:10:38, 25.64it/s]\u001B[A\n",
      "  1%|          | 693/109358 [00:32<1:14:35, 24.28it/s]\u001B[A\n",
      "  1%|          | 700/109358 [00:33<1:18:23, 23.10it/s]\u001B[A\n",
      "  1%|          | 707/109358 [00:33<1:16:21, 23.71it/s]\u001B[A\n",
      "  1%|          | 714/109358 [00:33<1:18:33, 23.05it/s]\u001B[A\n",
      "  1%|          | 721/109358 [00:34<1:32:31, 19.57it/s]\u001B[A\n",
      "  1%|          | 728/109358 [00:34<1:33:04, 19.45it/s]\u001B[A\n",
      "  1%|          | 735/109358 [00:35<1:30:33, 19.99it/s]\u001B[A\n",
      "  1%|          | 742/109358 [00:35<1:24:13, 21.49it/s]\u001B[A\n",
      "  1%|          | 749/109358 [00:35<1:19:50, 22.67it/s]\u001B[A\n",
      "  1%|          | 756/109358 [00:35<1:23:57, 21.56it/s]\u001B[A\n",
      "  1%|          | 763/109358 [00:36<1:15:38, 23.93it/s]\u001B[A\n",
      "  1%|          | 770/109358 [00:36<1:08:42, 26.34it/s]\u001B[A\n",
      "  1%|          | 777/109358 [00:36<1:23:33, 21.66it/s]\u001B[A\n",
      "  1%|          | 784/109358 [00:37<1:31:19, 19.81it/s]\u001B[A\n",
      "  1%|          | 791/109358 [00:37<1:17:45, 23.27it/s]\u001B[A\n",
      "  1%|          | 798/109358 [00:37<1:21:18, 22.25it/s]\u001B[A\n",
      "  1%|          | 805/109358 [00:38<1:22:25, 21.95it/s]\u001B[A\n",
      "  1%|          | 812/109358 [00:38<1:16:01, 23.80it/s]\u001B[A\n",
      "  1%|          | 819/109358 [00:38<1:14:09, 24.39it/s]\u001B[A\n",
      "  1%|          | 826/109358 [00:38<1:14:28, 24.29it/s]\u001B[A\n",
      "  1%|          | 833/109358 [00:39<1:22:35, 21.90it/s]\u001B[A\n",
      "  1%|          | 840/109358 [00:39<1:17:21, 23.38it/s]\u001B[A\n",
      "  1%|          | 847/109358 [00:39<1:15:21, 24.00it/s]\u001B[A\n",
      "  1%|          | 854/109358 [00:40<1:21:16, 22.25it/s]\u001B[A\n",
      "  1%|          | 861/109358 [00:40<1:21:08, 22.29it/s]\u001B[A\n",
      "  1%|          | 868/109358 [00:40<1:23:52, 21.56it/s]\u001B[A\n",
      "  1%|          | 875/109358 [00:41<1:31:04, 19.85it/s]\u001B[A\n",
      "  1%|          | 882/109358 [00:41<1:55:25, 15.66it/s]\u001B[A\n",
      "  1%|          | 889/109358 [00:42<1:46:27, 16.98it/s]\u001B[A\n",
      "  1%|          | 896/109358 [00:42<1:40:46, 17.94it/s]\u001B[A\n",
      "  1%|          | 903/109358 [00:42<1:39:45, 18.12it/s]\u001B[A\n",
      "  1%|          | 910/109358 [00:43<1:38:13, 18.40it/s]\u001B[A\n",
      "  1%|          | 917/109358 [00:43<1:40:29, 17.99it/s]\u001B[A\n",
      "  1%|          | 924/109358 [00:44<1:40:39, 17.95it/s]\u001B[A\n",
      "  1%|          | 931/109358 [00:44<1:45:35, 17.11it/s]\u001B[A\n",
      "  1%|          | 938/109358 [00:45<1:50:38, 16.33it/s]\u001B[A\n",
      "  1%|          | 945/109358 [00:45<1:45:34, 17.12it/s]\u001B[A\n",
      "  1%|          | 952/109358 [00:45<1:38:39, 18.31it/s]\u001B[A\n",
      "  1%|          | 959/109358 [00:46<1:34:23, 19.14it/s]\u001B[A\n",
      "  1%|          | 966/109358 [00:46<1:32:02, 19.63it/s]\u001B[A\n",
      "  1%|          | 973/109358 [00:46<1:27:42, 20.59it/s]\u001B[A\n",
      "  1%|          | 980/109358 [00:47<1:28:38, 20.38it/s]\u001B[A\n",
      "  1%|          | 987/109358 [00:47<1:28:03, 20.51it/s]\u001B[A\n",
      "  1%|          | 994/109358 [00:47<1:25:00, 21.24it/s]\u001B[A\n",
      "  1%|          | 1001/109358 [00:48<1:31:52, 19.66it/s]\u001B[A\n",
      "  1%|          | 1008/109358 [00:48<1:20:45, 22.36it/s]\u001B[A\n",
      "  1%|          | 1015/109358 [00:48<1:24:01, 21.49it/s]\u001B[A\n",
      "  1%|          | 1022/109358 [00:48<1:18:47, 22.92it/s]\u001B[A\n",
      "  1%|          | 1029/109358 [00:49<1:20:12, 22.51it/s]\u001B[A\n",
      "  1%|          | 1036/109358 [00:49<1:19:11, 22.80it/s]\u001B[A\n",
      "  1%|          | 1043/109358 [00:49<1:21:59, 22.02it/s]\u001B[A\n",
      "  1%|          | 1050/109358 [00:50<1:41:12, 17.84it/s]\u001B[A\n",
      "  1%|          | 1057/109358 [00:50<1:29:10, 20.24it/s]\u001B[A\n",
      "  1%|          | 1064/109358 [00:50<1:22:32, 21.87it/s]\u001B[A\n",
      "  1%|          | 1071/109358 [00:51<1:16:15, 23.67it/s]\u001B[A\n",
      "  1%|          | 1078/109358 [00:51<1:28:59, 20.28it/s]\u001B[A\n",
      "  1%|          | 1085/109358 [00:52<1:34:21, 19.12it/s]\u001B[A\n",
      "  1%|          | 1092/109358 [00:52<1:43:56, 17.36it/s]\u001B[A\n",
      "  1%|          | 1099/109358 [00:52<1:30:42, 19.89it/s]\u001B[A\n",
      "  1%|          | 1106/109358 [00:53<1:24:26, 21.37it/s]\u001B[A\n",
      "  1%|          | 1113/109358 [00:53<1:28:35, 20.36it/s]\u001B[A\n",
      "  1%|          | 1120/109358 [00:53<1:30:24, 19.95it/s]\u001B[A\n",
      "  1%|          | 1127/109358 [00:54<1:32:12, 19.56it/s]\u001B[A\n",
      "  1%|          | 1134/109358 [00:54<1:26:51, 20.77it/s]\u001B[A\n",
      "  1%|          | 1141/109358 [00:54<1:30:13, 19.99it/s]\u001B[A\n",
      "  1%|          | 1148/109358 [00:55<1:33:54, 19.21it/s]\u001B[A\n",
      "  1%|          | 1155/109358 [00:55<1:25:07, 21.19it/s]\u001B[A\n",
      "  1%|          | 1162/109358 [00:55<1:24:09, 21.43it/s]\u001B[A\n",
      "  1%|          | 1169/109358 [00:56<1:17:42, 23.21it/s]\u001B[A\n",
      "  1%|          | 1176/109358 [00:56<1:25:12, 21.16it/s]\u001B[A\n",
      "  1%|          | 1183/109358 [00:56<1:23:21, 21.63it/s]\u001B[A\n",
      "  1%|          | 1190/109358 [00:57<1:30:18, 19.96it/s]\u001B[A\n",
      "  1%|          | 1197/109358 [00:57<1:27:17, 20.65it/s]\u001B[A\n",
      "  1%|          | 1204/109358 [00:57<1:22:10, 21.94it/s]\u001B[A\n",
      "  1%|          | 1211/109358 [00:58<1:14:42, 24.12it/s]\u001B[A\n",
      "  1%|          | 1218/109358 [00:58<1:30:16, 19.96it/s]\u001B[A\n",
      "  1%|          | 1225/109358 [00:59<1:42:56, 17.51it/s]\u001B[A\n",
      "  1%|          | 1232/109358 [00:59<1:29:24, 20.16it/s]\u001B[A\n",
      "  1%|          | 1239/109358 [00:59<1:25:30, 21.07it/s]\u001B[A\n",
      "  1%|          | 1246/109358 [00:59<1:24:22, 21.35it/s]\u001B[A\n",
      "  1%|          | 1253/109358 [01:00<1:22:07, 21.94it/s]\u001B[A\n",
      "  1%|          | 1260/109358 [01:00<1:17:09, 23.35it/s]\u001B[A\n",
      "  1%|          | 1267/109358 [01:00<1:22:09, 21.93it/s]\u001B[A\n",
      "  1%|          | 1274/109358 [01:01<1:24:44, 21.26it/s]\u001B[A\n",
      "  1%|          | 1281/109358 [01:01<1:26:18, 20.87it/s]\u001B[A\n",
      "  1%|          | 1288/109358 [01:01<1:28:35, 20.33it/s]\u001B[A\n",
      "  1%|          | 1295/109358 [01:02<1:25:59, 20.95it/s]\u001B[A\n",
      "  1%|          | 1302/109358 [01:02<1:20:19, 22.42it/s]\u001B[A\n",
      "  1%|          | 1309/109358 [01:02<1:23:44, 21.51it/s]\u001B[A\n",
      "  1%|          | 1316/109358 [01:03<1:25:27, 21.07it/s]\u001B[A\n",
      "  1%|          | 1323/109358 [01:03<1:27:27, 20.59it/s]\u001B[A\n",
      "  1%|          | 1330/109358 [01:03<1:19:59, 22.51it/s]\u001B[A\n",
      "  1%|          | 1337/109358 [01:04<1:19:11, 22.73it/s]\u001B[A\n",
      "  1%|          | 1344/109358 [01:04<1:18:23, 22.96it/s]\u001B[A\n",
      "  1%|          | 1351/109358 [01:04<1:22:43, 21.76it/s]\u001B[A\n",
      "  1%|          | 1358/109358 [01:04<1:15:27, 23.85it/s]\u001B[A\n",
      "  1%|          | 1365/109358 [01:05<1:13:06, 24.62it/s]\u001B[A\n",
      "  1%|▏         | 1372/109358 [01:05<1:07:07, 26.81it/s]\u001B[A\n",
      "  1%|▏         | 1379/109358 [01:05<1:10:08, 25.65it/s]\u001B[A\n",
      "  1%|▏         | 1386/109358 [01:06<1:16:29, 23.52it/s]\u001B[A\n",
      "  1%|▏         | 1393/109358 [01:06<1:08:25, 26.30it/s]\u001B[A\n",
      "  1%|▏         | 1400/109358 [01:06<1:23:20, 21.59it/s]\u001B[A\n",
      "  1%|▏         | 1407/109358 [01:07<1:31:06, 19.75it/s]\u001B[A\n",
      "  1%|▏         | 1414/109358 [01:07<1:31:04, 19.75it/s]\u001B[A\n",
      "  1%|▏         | 1421/109358 [01:07<1:23:00, 21.67it/s]\u001B[A\n",
      "  1%|▏         | 1428/109358 [01:08<1:25:37, 21.01it/s]\u001B[A\n",
      "  1%|▏         | 1435/109358 [01:08<1:21:13, 22.15it/s]\u001B[A\n",
      "  1%|▏         | 1442/109358 [01:08<1:20:43, 22.28it/s]\u001B[A\n",
      "  1%|▏         | 1449/109358 [01:09<1:25:22, 21.07it/s]\u001B[A\n",
      "  1%|▏         | 1456/109358 [01:09<1:28:01, 20.43it/s]\u001B[A\n",
      "  1%|▏         | 1463/109358 [01:09<1:45:58, 16.97it/s]\u001B[A\n",
      "  1%|▏         | 1470/109358 [01:10<1:42:08, 17.60it/s]\u001B[A\n",
      "  1%|▏         | 1477/109358 [01:10<1:34:32, 19.02it/s]\u001B[A\n",
      "  1%|▏         | 1484/109358 [01:10<1:32:50, 19.37it/s]\u001B[A\n",
      "  1%|▏         | 1491/109358 [01:11<1:20:18, 22.38it/s]\u001B[A\n",
      "  1%|▏         | 1498/109358 [01:11<1:14:42, 24.06it/s]\u001B[A\n",
      "  1%|▏         | 1505/109358 [01:11<1:19:22, 22.64it/s]\u001B[A\n",
      "  1%|▏         | 1512/109358 [01:12<1:35:29, 18.82it/s]\u001B[A\n",
      "  1%|▏         | 1519/109358 [01:12<1:26:25, 20.80it/s]\u001B[A\n",
      "  1%|▏         | 1526/109358 [01:12<1:21:49, 21.96it/s]\u001B[A\n",
      "  1%|▏         | 1533/109358 [01:13<1:18:38, 22.85it/s]\u001B[A\n",
      "  1%|▏         | 1540/109358 [01:13<1:09:45, 25.76it/s]\u001B[A\n",
      "  1%|▏         | 1547/109358 [01:13<1:13:35, 24.41it/s]\u001B[A\n",
      "  1%|▏         | 1554/109358 [01:13<1:18:06, 23.00it/s]\u001B[A\n",
      "  1%|▏         | 1561/109358 [01:14<1:21:19, 22.09it/s]\u001B[A\n",
      "  1%|▏         | 1568/109358 [01:14<1:15:07, 23.91it/s]\u001B[A\n",
      "  1%|▏         | 1575/109358 [01:14<1:17:52, 23.07it/s]\u001B[A\n",
      "  1%|▏         | 1582/109358 [01:15<1:11:59, 24.95it/s]\u001B[A\n",
      "  1%|▏         | 1589/109358 [01:15<1:14:28, 24.12it/s]\u001B[A\n",
      "  1%|▏         | 1596/109358 [01:15<1:13:57, 24.28it/s]\u001B[A\n",
      "  1%|▏         | 1603/109358 [01:16<1:25:39, 20.97it/s]\u001B[A\n",
      "  1%|▏         | 1610/109358 [01:16<1:15:52, 23.67it/s]\u001B[A\n",
      "  1%|▏         | 1617/109358 [01:16<1:09:30, 25.84it/s]\u001B[A\n",
      "  1%|▏         | 1624/109358 [01:16<1:18:37, 22.84it/s]\u001B[A\n",
      "  1%|▏         | 1631/109358 [01:17<1:13:05, 24.57it/s]\u001B[A\n",
      "  1%|▏         | 1638/109358 [01:17<1:16:29, 23.47it/s]\u001B[A\n",
      "  2%|▏         | 1645/109358 [01:17<1:18:23, 22.90it/s]\u001B[A\n",
      "  2%|▏         | 1652/109358 [01:18<1:17:26, 23.18it/s]\u001B[A\n",
      "  2%|▏         | 1659/109358 [01:18<1:12:27, 24.77it/s]\u001B[A\n",
      "  2%|▏         | 1666/109358 [01:18<1:13:15, 24.50it/s]\u001B[A\n",
      "  2%|▏         | 1673/109358 [01:18<1:09:35, 25.79it/s]\u001B[A\n",
      "  2%|▏         | 1680/109358 [01:19<1:13:43, 24.34it/s]\u001B[A\n",
      "  2%|▏         | 1687/109358 [01:19<1:15:25, 23.79it/s]\u001B[A\n",
      "  2%|▏         | 1694/109358 [01:19<1:21:58, 21.89it/s]\u001B[A\n",
      "  2%|▏         | 1701/109358 [01:20<1:30:37, 19.80it/s]\u001B[A\n",
      "  2%|▏         | 1708/109358 [01:20<1:35:27, 18.80it/s]\u001B[A\n",
      "  2%|▏         | 1715/109358 [01:21<1:32:05, 19.48it/s]\u001B[A\n",
      "  2%|▏         | 1722/109358 [01:21<1:20:34, 22.26it/s]\u001B[A\n",
      "  2%|▏         | 1729/109358 [01:21<1:18:02, 22.99it/s]\u001B[A\n",
      "  2%|▏         | 1736/109358 [01:21<1:10:37, 25.40it/s]\u001B[A\n",
      "  2%|▏         | 1743/109358 [01:22<1:11:37, 25.04it/s]\u001B[A\n",
      "  2%|▏         | 1750/109358 [01:22<1:12:24, 24.77it/s]\u001B[A\n",
      "  2%|▏         | 1757/109358 [01:22<1:08:02, 26.36it/s]\u001B[A\n",
      "  2%|▏         | 1764/109358 [01:22<1:03:52, 28.07it/s]\u001B[A\n",
      "  2%|▏         | 1771/109358 [01:23<1:05:05, 27.55it/s]\u001B[A\n",
      "  2%|▏         | 1778/109358 [01:23<1:07:17, 26.65it/s]\u001B[A\n",
      "  2%|▏         | 1785/109358 [01:23<1:10:28, 25.44it/s]\u001B[A\n",
      "  2%|▏         | 1792/109358 [01:23<1:08:02, 26.35it/s]\u001B[A\n",
      "  2%|▏         | 1799/109358 [01:24<1:17:48, 23.04it/s]\u001B[A\n",
      "  2%|▏         | 1806/109358 [01:24<1:20:50, 22.17it/s]\u001B[A\n",
      "  2%|▏         | 1813/109358 [01:24<1:15:33, 23.72it/s]\u001B[A\n",
      "  2%|▏         | 1820/109358 [01:25<1:08:52, 26.02it/s]\u001B[A\n",
      "  2%|▏         | 1827/109358 [01:25<1:15:44, 23.66it/s]\u001B[A\n",
      "  2%|▏         | 1834/109358 [01:25<1:10:15, 25.50it/s]\u001B[A\n",
      "  2%|▏         | 1841/109358 [01:25<1:08:41, 26.09it/s]\u001B[A\n",
      "  2%|▏         | 1848/109358 [01:26<1:09:46, 25.68it/s]\u001B[A\n",
      "  2%|▏         | 1855/109358 [01:26<1:06:41, 26.87it/s]\u001B[A\n",
      "  2%|▏         | 1862/109358 [01:26<1:13:26, 24.39it/s]\u001B[A\n",
      "  2%|▏         | 1869/109358 [01:27<1:13:06, 24.50it/s]\u001B[A\n",
      "  2%|▏         | 1876/109358 [01:27<1:07:24, 26.57it/s]\u001B[A\n",
      "  2%|▏         | 1883/109358 [01:27<1:11:34, 25.03it/s]\u001B[A\n",
      "  2%|▏         | 1890/109358 [01:27<1:13:23, 24.40it/s]\u001B[A\n",
      "  2%|▏         | 1897/109358 [01:28<1:12:26, 24.72it/s]\u001B[A\n",
      "  2%|▏         | 1904/109358 [01:28<1:21:04, 22.09it/s]\u001B[A\n",
      "  2%|▏         | 1911/109358 [01:28<1:21:50, 21.88it/s]\u001B[A\n",
      "  2%|▏         | 1918/109358 [01:29<1:23:59, 21.32it/s]\u001B[A\n",
      "  2%|▏         | 1925/109358 [01:29<1:20:18, 22.30it/s]\u001B[A\n",
      "  2%|▏         | 1932/109358 [01:29<1:13:32, 24.35it/s]\u001B[A\n",
      "  2%|▏         | 1939/109358 [01:29<1:09:55, 25.60it/s]\u001B[A\n",
      "  2%|▏         | 1946/109358 [01:30<1:11:05, 25.18it/s]\u001B[A\n",
      "  2%|▏         | 1953/109358 [01:30<1:08:07, 26.28it/s]\u001B[A\n",
      "  2%|▏         | 1960/109358 [01:30<1:11:05, 25.18it/s]\u001B[A\n",
      "  2%|▏         | 1967/109358 [01:31<1:15:20, 23.76it/s]\u001B[A\n",
      "  2%|▏         | 1974/109358 [01:31<1:26:03, 20.80it/s]\u001B[A\n",
      "  2%|▏         | 1981/109358 [01:31<1:25:07, 21.02it/s]\u001B[A\n",
      "  2%|▏         | 1988/109358 [01:32<1:27:17, 20.50it/s]\u001B[A\n",
      "  2%|▏         | 1995/109358 [01:32<1:28:35, 20.20it/s]\u001B[A\n",
      "  2%|▏         | 2002/109358 [01:32<1:27:09, 20.53it/s]\u001B[A\n",
      "  2%|▏         | 2009/109358 [01:33<1:24:24, 21.20it/s]\u001B[A\n",
      "  2%|▏         | 2016/109358 [01:33<1:19:11, 22.59it/s]\u001B[A\n",
      "  2%|▏         | 2023/109358 [01:33<1:20:06, 22.33it/s]\u001B[A\n",
      "  2%|▏         | 2030/109358 [01:34<1:23:43, 21.37it/s]\u001B[A\n",
      "  2%|▏         | 2037/109358 [01:34<1:25:54, 20.82it/s]\u001B[A\n",
      "  2%|▏         | 2044/109358 [01:34<1:23:12, 21.49it/s]\u001B[A\n",
      "  2%|▏         | 2051/109358 [01:35<1:18:48, 22.69it/s]\u001B[A\n",
      "  2%|▏         | 2058/109358 [01:35<1:23:58, 21.29it/s]\u001B[A\n",
      "  2%|▏         | 2065/109358 [01:35<1:22:38, 21.64it/s]\u001B[A\n",
      "  2%|▏         | 2072/109358 [01:36<1:16:31, 23.37it/s]\u001B[A\n",
      "  2%|▏         | 2079/109358 [01:36<1:33:47, 19.06it/s]\u001B[A\n",
      "  2%|▏         | 2086/109358 [01:36<1:22:00, 21.80it/s]\u001B[A\n",
      "  2%|▏         | 2093/109358 [01:37<1:16:09, 23.47it/s]\u001B[A\n",
      "  2%|▏         | 2100/109358 [01:37<1:22:11, 21.75it/s]\u001B[A\n",
      "  2%|▏         | 2107/109358 [01:37<1:30:46, 19.69it/s]\u001B[A\n",
      "  2%|▏         | 2114/109358 [01:38<1:31:53, 19.45it/s]\u001B[A\n",
      "  2%|▏         | 2121/109358 [01:38<1:32:37, 19.30it/s]\u001B[A\n",
      "  2%|▏         | 2128/109358 [01:38<1:28:18, 20.24it/s]\u001B[A\n",
      "  2%|▏         | 2135/109358 [01:39<1:28:14, 20.25it/s]\u001B[A\n",
      "  2%|▏         | 2142/109358 [01:39<1:20:39, 22.15it/s]\u001B[A\n",
      "  2%|▏         | 2149/109358 [01:39<1:24:12, 21.22it/s]\u001B[A\n",
      "  2%|▏         | 2156/109358 [01:40<1:35:49, 18.64it/s]\u001B[A\n",
      "  2%|▏         | 2163/109358 [01:40<1:21:31, 21.92it/s]\u001B[A\n",
      "  2%|▏         | 2170/109358 [01:40<1:28:22, 20.21it/s]\u001B[A\n",
      "  2%|▏         | 2177/109358 [01:41<1:20:57, 22.07it/s]\u001B[A\n",
      "  2%|▏         | 2184/109358 [01:41<1:27:38, 20.38it/s]\u001B[A\n",
      "  2%|▏         | 2191/109358 [01:41<1:25:31, 20.88it/s]\u001B[A\n",
      "  2%|▏         | 2198/109358 [01:42<1:19:34, 22.44it/s]\u001B[A\n",
      "  2%|▏         | 2205/109358 [01:42<1:22:20, 21.69it/s]\u001B[A\n",
      "  2%|▏         | 2212/109358 [01:42<1:18:03, 22.88it/s]\u001B[A\n",
      "  2%|▏         | 2219/109358 [01:43<1:19:03, 22.59it/s]\u001B[A\n",
      "  2%|▏         | 2226/109358 [01:43<1:15:58, 23.50it/s]\u001B[A\n",
      "  2%|▏         | 2233/109358 [01:43<1:21:53, 21.80it/s]\u001B[A\n",
      "  2%|▏         | 2240/109358 [01:44<1:16:31, 23.33it/s]\u001B[A\n",
      "  2%|▏         | 2247/109358 [01:44<1:25:52, 20.79it/s]\u001B[A\n",
      "  2%|▏         | 2254/109358 [01:44<1:24:24, 21.15it/s]\u001B[A\n",
      "  2%|▏         | 2261/109358 [01:45<1:30:05, 19.81it/s]\u001B[A\n",
      "  2%|▏         | 2268/109358 [01:45<1:16:43, 23.26it/s]\u001B[A\n",
      "  2%|▏         | 2275/109358 [01:45<1:32:08, 19.37it/s]\u001B[A\n",
      "  2%|▏         | 2282/109358 [01:46<1:31:23, 19.53it/s]\u001B[A\n",
      "  2%|▏         | 2289/109358 [01:46<1:34:17, 18.92it/s]\u001B[A\n",
      "  2%|▏         | 2296/109358 [01:47<1:42:56, 17.33it/s]\u001B[A\n",
      "  2%|▏         | 2303/109358 [01:47<1:37:53, 18.23it/s]\u001B[A\n",
      "  2%|▏         | 2310/109358 [01:47<1:29:06, 20.02it/s]\u001B[A\n",
      "  2%|▏         | 2317/109358 [01:48<1:29:44, 19.88it/s]\u001B[A\n",
      "  2%|▏         | 2324/109358 [01:48<1:34:12, 18.94it/s]\u001B[A\n",
      "  2%|▏         | 2331/109358 [01:48<1:30:05, 19.80it/s]\u001B[A\n",
      "  2%|▏         | 2338/109358 [01:49<1:21:52, 21.79it/s]\u001B[A\n",
      "  2%|▏         | 2345/109358 [01:49<1:28:57, 20.05it/s]\u001B[A\n",
      "  2%|▏         | 2352/109358 [01:50<1:52:41, 15.83it/s]\u001B[A\n",
      "  2%|▏         | 2359/109358 [01:50<1:37:16, 18.33it/s]\u001B[A\n",
      "  2%|▏         | 2366/109358 [01:50<1:35:11, 18.73it/s]\u001B[A\n",
      "  2%|▏         | 2373/109358 [01:51<1:41:33, 17.56it/s]\u001B[A\n",
      "  2%|▏         | 2380/109358 [01:51<1:39:31, 17.91it/s]\u001B[A\n",
      "  2%|▏         | 2387/109358 [01:52<1:56:40, 15.28it/s]\u001B[A\n",
      "  2%|▏         | 2394/109358 [01:52<1:42:00, 17.48it/s]\u001B[A\n",
      "  2%|▏         | 2401/109358 [01:52<1:34:39, 18.83it/s]\u001B[A\n",
      "  2%|▏         | 2408/109358 [01:53<1:36:09, 18.54it/s]\u001B[A\n",
      "  2%|▏         | 2415/109358 [01:53<1:31:58, 19.38it/s]\u001B[A\n",
      "  2%|▏         | 2422/109358 [01:53<1:23:50, 21.26it/s]\u001B[A\n",
      "  2%|▏         | 2429/109358 [01:53<1:18:49, 22.61it/s]\u001B[A\n",
      "  2%|▏         | 2436/109358 [01:54<1:12:39, 24.53it/s]\u001B[A\n",
      "  2%|▏         | 2443/109358 [01:54<1:10:57, 25.11it/s]\u001B[A\n",
      "  2%|▏         | 2450/109358 [01:54<1:09:17, 25.71it/s]\u001B[A\n",
      "  2%|▏         | 2457/109358 [01:55<1:15:35, 23.57it/s]\u001B[A\n",
      "  2%|▏         | 2464/109358 [01:55<1:07:31, 26.38it/s]\u001B[A\n",
      "  2%|▏         | 2471/109358 [01:55<1:09:20, 25.69it/s]\u001B[A\n",
      "  2%|▏         | 2478/109358 [01:55<1:14:52, 23.79it/s]\u001B[A\n",
      "  2%|▏         | 2485/109358 [01:56<1:07:15, 26.48it/s]\u001B[A\n",
      "  2%|▏         | 2492/109358 [01:56<1:05:59, 26.99it/s]\u001B[A\n",
      "  2%|▏         | 2499/109358 [01:56<1:13:03, 24.38it/s]\u001B[A\n",
      "  2%|▏         | 2506/109358 [01:57<1:26:13, 20.65it/s]\u001B[A\n",
      "  2%|▏         | 2513/109358 [01:57<1:13:27, 24.24it/s]\u001B[A\n",
      "  2%|▏         | 2520/109358 [01:57<1:08:56, 25.83it/s]\u001B[A\n",
      "  2%|▏         | 2527/109358 [01:57<1:10:06, 25.40it/s]\u001B[A\n",
      "  2%|▏         | 2534/109358 [01:58<1:18:27, 22.69it/s]\u001B[A\n",
      "  2%|▏         | 2541/109358 [01:58<1:20:49, 22.03it/s]\u001B[A\n",
      "  2%|▏         | 2548/109358 [01:59<1:34:50, 18.77it/s]\u001B[A\n",
      "  2%|▏         | 2555/109358 [01:59<1:38:04, 18.15it/s]\u001B[A\n",
      "  2%|▏         | 2562/109358 [01:59<1:36:07, 18.52it/s]\u001B[A\n",
      "  2%|▏         | 2569/109358 [02:00<1:28:34, 20.09it/s]\u001B[A\n",
      "  2%|▏         | 2576/109358 [02:00<1:21:11, 21.92it/s]\u001B[A\n",
      "  2%|▏         | 2583/109358 [02:00<1:16:14, 23.34it/s]\u001B[A\n",
      "  2%|▏         | 2590/109358 [02:00<1:18:23, 22.70it/s]\u001B[A\n",
      "  2%|▏         | 2597/109358 [02:01<1:15:50, 23.46it/s]\u001B[A\n",
      "  2%|▏         | 2604/109358 [02:01<1:12:03, 24.69it/s]\u001B[A\n",
      "  2%|▏         | 2611/109358 [02:01<1:06:14, 26.86it/s]\u001B[A\n",
      "  2%|▏         | 2618/109358 [02:01<1:12:10, 24.65it/s]\u001B[A\n",
      "  2%|▏         | 2625/109358 [02:02<1:06:43, 26.66it/s]\u001B[A\n",
      "  2%|▏         | 2632/109358 [02:02<1:22:40, 21.51it/s]\u001B[A\n",
      "  2%|▏         | 2639/109358 [02:02<1:17:33, 22.93it/s]\u001B[A\n",
      "  2%|▏         | 2646/109358 [02:03<1:30:27, 19.66it/s]\u001B[A\n",
      "  2%|▏         | 2653/109358 [02:03<1:19:13, 22.45it/s]\u001B[A\n",
      "  2%|▏         | 2660/109358 [02:04<1:26:24, 20.58it/s]\u001B[A\n",
      "  2%|▏         | 2667/109358 [02:04<1:19:07, 22.47it/s]\u001B[A\n",
      "  2%|▏         | 2674/109358 [02:04<1:18:45, 22.58it/s]\u001B[A\n",
      "  2%|▏         | 2681/109358 [02:04<1:17:44, 22.87it/s]\u001B[A\n",
      "  2%|▏         | 2688/109358 [02:05<1:19:26, 22.38it/s]\u001B[A\n",
      "  2%|▏         | 2695/109358 [02:05<1:26:33, 20.54it/s]\u001B[A\n",
      "  2%|▏         | 2702/109358 [02:05<1:26:53, 20.46it/s]\u001B[A\n",
      "  2%|▏         | 2709/109358 [02:06<1:26:22, 20.58it/s]\u001B[A\n",
      "  2%|▏         | 2716/109358 [02:06<1:25:18, 20.84it/s]\u001B[A\n",
      "  2%|▏         | 2723/109358 [02:06<1:28:19, 20.12it/s]\u001B[A\n",
      "  2%|▏         | 2730/109358 [02:07<1:41:50, 17.45it/s]\u001B[A\n",
      "  3%|▎         | 2737/109358 [02:07<1:46:46, 16.64it/s]\u001B[A\n",
      "  3%|▎         | 2744/109358 [02:08<1:42:20, 17.36it/s]\u001B[A\n",
      "  3%|▎         | 2751/109358 [02:08<1:49:10, 16.28it/s]\u001B[A\n",
      "  3%|▎         | 2758/109358 [02:09<1:40:26, 17.69it/s]\u001B[A\n",
      "  3%|▎         | 2765/109358 [02:09<1:45:01, 16.91it/s]\u001B[A\n",
      "  3%|▎         | 2772/109358 [02:10<1:50:57, 16.01it/s]\u001B[A\n",
      "  3%|▎         | 2779/109358 [02:10<1:46:23, 16.70it/s]\u001B[A\n",
      "  3%|▎         | 2786/109358 [02:10<1:48:32, 16.36it/s]\u001B[A\n",
      "  3%|▎         | 2793/109358 [02:11<1:51:11, 15.97it/s]\u001B[A\n",
      "  3%|▎         | 2800/109358 [02:11<1:32:40, 19.16it/s]\u001B[A\n",
      "  3%|▎         | 2807/109358 [02:11<1:33:33, 18.98it/s]\u001B[A\n",
      "  3%|▎         | 2814/109358 [02:12<1:21:33, 21.77it/s]\u001B[A\n",
      "  3%|▎         | 2821/109358 [02:12<1:12:43, 24.42it/s]\u001B[A\n",
      "  3%|▎         | 2828/109358 [02:12<1:16:07, 23.33it/s]\u001B[A\n",
      "  3%|▎         | 2835/109358 [02:13<1:20:24, 22.08it/s]\u001B[A\n",
      "  3%|▎         | 2842/109358 [02:13<1:19:00, 22.47it/s]\u001B[A\n",
      "  3%|▎         | 2849/109358 [02:13<1:13:36, 24.12it/s]\u001B[A\n",
      "  3%|▎         | 2856/109358 [02:13<1:15:39, 23.46it/s]\u001B[A\n",
      "  3%|▎         | 2863/109358 [02:14<1:13:45, 24.06it/s]\u001B[A\n",
      "  3%|▎         | 2870/109358 [02:14<1:18:37, 22.57it/s]\u001B[A\n",
      "  3%|▎         | 2877/109358 [02:14<1:11:24, 24.86it/s]\u001B[A\n",
      "  3%|▎         | 2884/109358 [02:15<1:12:02, 24.63it/s]\u001B[A\n",
      "  3%|▎         | 2891/109358 [02:15<1:26:15, 20.57it/s]\u001B[A\n",
      "  3%|▎         | 2898/109358 [02:15<1:30:42, 19.56it/s]\u001B[A\n",
      "  3%|▎         | 2905/109358 [02:16<1:21:26, 21.79it/s]\u001B[A\n",
      "  3%|▎         | 2912/109358 [02:16<1:11:02, 24.97it/s]\u001B[A\n",
      "  3%|▎         | 2919/109358 [02:16<1:21:24, 21.79it/s]\u001B[A\n",
      "  3%|▎         | 2926/109358 [02:16<1:12:35, 24.44it/s]\u001B[A\n",
      "  3%|▎         | 2933/109358 [02:17<1:22:51, 21.41it/s]\u001B[A\n",
      "  3%|▎         | 2940/109358 [02:17<1:17:50, 22.78it/s]\u001B[A\n",
      "  3%|▎         | 2947/109358 [02:17<1:11:29, 24.81it/s]\u001B[A\n",
      "  3%|▎         | 2954/109358 [02:18<1:08:17, 25.97it/s]\u001B[A\n",
      "  3%|▎         | 2961/109358 [02:18<1:20:25, 22.05it/s]\u001B[A\n",
      "  3%|▎         | 2968/109358 [02:18<1:21:56, 21.64it/s]\u001B[A\n",
      "  3%|▎         | 2975/109358 [02:19<1:13:48, 24.02it/s]\u001B[A\n",
      "  3%|▎         | 2982/109358 [02:19<1:13:18, 24.18it/s]\u001B[A\n",
      "  3%|▎         | 2989/109358 [02:19<1:12:33, 24.43it/s]\u001B[A\n",
      "  3%|▎         | 2996/109358 [02:19<1:10:00, 25.32it/s]\u001B[A\n",
      "  3%|▎         | 3003/109358 [02:20<1:10:27, 25.16it/s]\u001B[A\n",
      "  3%|▎         | 3010/109358 [02:20<1:10:11, 25.25it/s]\u001B[A\n",
      "  3%|▎         | 3017/109358 [02:20<1:08:01, 26.05it/s]\u001B[A\n",
      "  3%|▎         | 3024/109358 [02:20<1:04:33, 27.45it/s]\u001B[A\n",
      "  3%|▎         | 3031/109358 [02:21<1:12:09, 24.56it/s]\u001B[A\n",
      "  3%|▎         | 3038/109358 [02:21<1:19:27, 22.30it/s]\u001B[A\n",
      "  3%|▎         | 3045/109358 [02:21<1:16:41, 23.10it/s]\u001B[A\n",
      "  3%|▎         | 3052/109358 [02:22<1:09:27, 25.51it/s]\u001B[A\n",
      "  3%|▎         | 3059/109358 [02:22<1:04:01, 27.67it/s]\u001B[A\n",
      "  3%|▎         | 3066/109358 [02:22<1:08:17, 25.94it/s]\u001B[A\n",
      "  3%|▎         | 3073/109358 [02:23<1:21:22, 21.77it/s]\u001B[A\n",
      "  3%|▎         | 3080/109358 [02:23<1:15:28, 23.47it/s]\u001B[A\n",
      "  3%|▎         | 3087/109358 [02:23<1:12:13, 24.52it/s]\u001B[A\n",
      "  3%|▎         | 3094/109358 [02:23<1:11:42, 24.70it/s]\u001B[A\n",
      "  3%|▎         | 3101/109358 [02:24<1:13:56, 23.95it/s]\u001B[A\n",
      "  3%|▎         | 3108/109358 [02:24<1:12:34, 24.40it/s]\u001B[A\n",
      "  3%|▎         | 3115/109358 [02:24<1:08:33, 25.83it/s]\u001B[A\n",
      "  3%|▎         | 3122/109358 [02:24<1:10:20, 25.17it/s]\u001B[A\n",
      "  3%|▎         | 3129/109358 [02:25<1:08:58, 25.67it/s]\u001B[A\n",
      "  3%|▎         | 3136/109358 [02:25<1:12:31, 24.41it/s]\u001B[A\n",
      "  3%|▎         | 3143/109358 [02:25<1:08:42, 25.76it/s]\u001B[A\n",
      "  3%|▎         | 3150/109358 [02:26<1:10:35, 25.08it/s]\u001B[A\n",
      "  3%|▎         | 3157/109358 [02:26<1:22:55, 21.35it/s]\u001B[A\n",
      "  3%|▎         | 3164/109358 [02:27<1:31:52, 19.27it/s]\u001B[A\n",
      "  3%|▎         | 3171/109358 [02:27<1:32:03, 19.22it/s]\u001B[A\n",
      "  3%|▎         | 3178/109358 [02:27<1:32:15, 19.18it/s]\u001B[A\n",
      "  3%|▎         | 3185/109358 [02:28<1:31:06, 19.42it/s]\u001B[A\n",
      "  3%|▎         | 3192/109358 [02:28<1:27:41, 20.18it/s]\u001B[A\n",
      "  3%|▎         | 3199/109358 [02:28<1:20:14, 22.05it/s]\u001B[A\n",
      "  3%|▎         | 3206/109358 [02:28<1:11:25, 24.77it/s]\u001B[A\n",
      "  3%|▎         | 3213/109358 [02:29<1:19:54, 22.14it/s]\u001B[A\n",
      "  3%|▎         | 3220/109358 [02:29<1:18:36, 22.50it/s]\u001B[A\n",
      "  3%|▎         | 3227/109358 [02:29<1:16:41, 23.06it/s]\u001B[A\n",
      "  3%|▎         | 3234/109358 [02:30<1:22:20, 21.48it/s]\u001B[A"
     ]
    },
    {
     "ename": "KeyboardInterrupt",
     "evalue": "",
     "output_type": "error",
     "traceback": [
      "\u001B[1;31m---------------------------------------------------------------------------\u001B[0m",
      "\u001B[1;31mKeyboardInterrupt\u001B[0m                         Traceback (most recent call last)",
      "Cell \u001B[1;32mIn[15], line 9\u001B[0m\n\u001B[0;32m      6\u001B[0m     usernames \u001B[38;5;241m=\u001B[39m [user \u001B[38;5;28;01mfor\u001B[39;00m user \u001B[38;5;129;01min\u001B[39;00m contributors \u001B[38;5;28;01mif\u001B[39;00m user \u001B[38;5;129;01min\u001B[39;00m unique_bots]\n\u001B[0;32m      7\u001B[0m     \u001B[38;5;28;01mreturn\u001B[39;00m {\u001B[38;5;124m'\u001B[39m\u001B[38;5;124mcontributors\u001B[39m\u001B[38;5;124m'\u001B[39m: usernames}\n\u001B[1;32m----> 9\u001B[0m page_contributors \u001B[38;5;241m=\u001B[39m Parallel(n_jobs\u001B[38;5;241m=\u001B[39m\u001B[38;5;241m-\u001B[39m\u001B[38;5;241m2\u001B[39m)(delayed(get_page_data)(page) \u001B[38;5;28;01mfor\u001B[39;00m page \u001B[38;5;129;01min\u001B[39;00m tqdm(unique_pages))\n\u001B[0;32m     10\u001B[0m page_data \u001B[38;5;241m=\u001B[39m pd\u001B[38;5;241m.\u001B[39mDataFrame(data\u001B[38;5;241m=\u001B[39m{\u001B[38;5;124m'\u001B[39m\u001B[38;5;124mpage_name\u001B[39m\u001B[38;5;124m'\u001B[39m:unique_pages, \u001B[38;5;124m'\u001B[39m\u001B[38;5;124mcontributors\u001B[39m\u001B[38;5;124m'\u001B[39m: page_contributors})\n\u001B[0;32m     11\u001B[0m \u001B[38;5;66;03m#page_data = pd.concat([page_data, page_data['name'].apply(lambda x: pd.Series(get_page_data(x)))], axis=1)\u001B[39;00m\n",
      "File \u001B[1;32m~\\AppData\\Roaming\\Python\\Python311\\site-packages\\joblib\\parallel.py:2007\u001B[0m, in \u001B[0;36mParallel.__call__\u001B[1;34m(self, iterable)\u001B[0m\n\u001B[0;32m   2001\u001B[0m \u001B[38;5;66;03m# The first item from the output is blank, but it makes the interpreter\u001B[39;00m\n\u001B[0;32m   2002\u001B[0m \u001B[38;5;66;03m# progress until it enters the Try/Except block of the generator and\u001B[39;00m\n\u001B[0;32m   2003\u001B[0m \u001B[38;5;66;03m# reach the first `yield` statement. This starts the aynchronous\u001B[39;00m\n\u001B[0;32m   2004\u001B[0m \u001B[38;5;66;03m# dispatch of the tasks to the workers.\u001B[39;00m\n\u001B[0;32m   2005\u001B[0m \u001B[38;5;28mnext\u001B[39m(output)\n\u001B[1;32m-> 2007\u001B[0m \u001B[38;5;28;01mreturn\u001B[39;00m output \u001B[38;5;28;01mif\u001B[39;00m \u001B[38;5;28mself\u001B[39m\u001B[38;5;241m.\u001B[39mreturn_generator \u001B[38;5;28;01melse\u001B[39;00m \u001B[38;5;28mlist\u001B[39m(output)\n",
      "File \u001B[1;32m~\\AppData\\Roaming\\Python\\Python311\\site-packages\\joblib\\parallel.py:1650\u001B[0m, in \u001B[0;36mParallel._get_outputs\u001B[1;34m(self, iterator, pre_dispatch)\u001B[0m\n\u001B[0;32m   1647\u001B[0m     \u001B[38;5;28;01myield\u001B[39;00m\n\u001B[0;32m   1649\u001B[0m     \u001B[38;5;28;01mwith\u001B[39;00m \u001B[38;5;28mself\u001B[39m\u001B[38;5;241m.\u001B[39m_backend\u001B[38;5;241m.\u001B[39mretrieval_context():\n\u001B[1;32m-> 1650\u001B[0m         \u001B[38;5;28;01myield from\u001B[39;00m \u001B[38;5;28mself\u001B[39m\u001B[38;5;241m.\u001B[39m_retrieve()\n\u001B[0;32m   1652\u001B[0m \u001B[38;5;28;01mexcept\u001B[39;00m \u001B[38;5;167;01mGeneratorExit\u001B[39;00m:\n\u001B[0;32m   1653\u001B[0m     \u001B[38;5;66;03m# The generator has been garbage collected before being fully\u001B[39;00m\n\u001B[0;32m   1654\u001B[0m     \u001B[38;5;66;03m# consumed. This aborts the remaining tasks if possible and warn\u001B[39;00m\n\u001B[0;32m   1655\u001B[0m     \u001B[38;5;66;03m# the user if necessary.\u001B[39;00m\n\u001B[0;32m   1656\u001B[0m     \u001B[38;5;28mself\u001B[39m\u001B[38;5;241m.\u001B[39m_exception \u001B[38;5;241m=\u001B[39m \u001B[38;5;28;01mTrue\u001B[39;00m\n",
      "File \u001B[1;32m~\\AppData\\Roaming\\Python\\Python311\\site-packages\\joblib\\parallel.py:1762\u001B[0m, in \u001B[0;36mParallel._retrieve\u001B[1;34m(self)\u001B[0m\n\u001B[0;32m   1757\u001B[0m \u001B[38;5;66;03m# If the next job is not ready for retrieval yet, we just wait for\u001B[39;00m\n\u001B[0;32m   1758\u001B[0m \u001B[38;5;66;03m# async callbacks to progress.\u001B[39;00m\n\u001B[0;32m   1759\u001B[0m \u001B[38;5;28;01mif\u001B[39;00m ((\u001B[38;5;28mlen\u001B[39m(\u001B[38;5;28mself\u001B[39m\u001B[38;5;241m.\u001B[39m_jobs) \u001B[38;5;241m==\u001B[39m \u001B[38;5;241m0\u001B[39m) \u001B[38;5;129;01mor\u001B[39;00m\n\u001B[0;32m   1760\u001B[0m     (\u001B[38;5;28mself\u001B[39m\u001B[38;5;241m.\u001B[39m_jobs[\u001B[38;5;241m0\u001B[39m]\u001B[38;5;241m.\u001B[39mget_status(\n\u001B[0;32m   1761\u001B[0m         timeout\u001B[38;5;241m=\u001B[39m\u001B[38;5;28mself\u001B[39m\u001B[38;5;241m.\u001B[39mtimeout) \u001B[38;5;241m==\u001B[39m TASK_PENDING)):\n\u001B[1;32m-> 1762\u001B[0m     time\u001B[38;5;241m.\u001B[39msleep(\u001B[38;5;241m0.01\u001B[39m)\n\u001B[0;32m   1763\u001B[0m     \u001B[38;5;28;01mcontinue\u001B[39;00m\n\u001B[0;32m   1765\u001B[0m \u001B[38;5;66;03m# We need to be careful: the job list can be filling up as\u001B[39;00m\n\u001B[0;32m   1766\u001B[0m \u001B[38;5;66;03m# we empty it and Python list are not thread-safe by\u001B[39;00m\n\u001B[0;32m   1767\u001B[0m \u001B[38;5;66;03m# default hence the use of the lock\u001B[39;00m\n",
      "\u001B[1;31mKeyboardInterrupt\u001B[0m: "
     ]
    }
   ],
   "source": [
    "unique_pages = all_pages\n",
    "def get_page_data(page_name):\n",
    "    site = pywikibot.Site('da', 'wikipedia')\n",
    "    page = pywikibot.Page(site, page_name)\n",
    "    contributors = page.contributors()\n",
    "    usernames = [user for user in contributors if user in unique_bots]\n",
    "    return {'contributors': usernames}\n",
    "\n",
    "page_contributors = Parallel(n_jobs=-2)(delayed(get_page_data)(page) for page in tqdm(unique_pages))\n",
    "page_data = pd.DataFrame(data={'page_name':unique_pages, 'contributors': page_contributors})\n",
    "#page_data = pd.concat([page_data, page_data['name'].apply(lambda x: pd.Series(get_page_data(x)))], axis=1)\n",
    "page_data"
   ],
   "metadata": {
    "collapsed": false,
    "ExecuteTime": {
     "end_time": "2024-04-10T11:16:03.834600900Z",
     "start_time": "2024-04-10T11:13:33.125931500Z"
    }
   },
   "id": "5d59e0a2fba9eaa5",
   "execution_count": 15
  },
  {
   "cell_type": "code",
   "outputs": [],
   "source": [
    "print('Getting user articles')\n",
    "user_articles = Parallel(n_jobs=-2)(delayed(get_user_contributions)(user)\n",
    "                                    for user in tqdm(users))\n",
    "\n",
    "all_articles = set()\n",
    "for articles in user_articles:\n",
    "    all_articles = all_articles | set(articles)\n",
    "all_articles = list(all_articles)\n",
    "\n",
    "print('Getting all contributors')\n",
    "page_contribs = Parallel(n_jobs=-2)(delayed(get_page_contributors)(article)\n",
    "                                    for article in tqdm(all_articles))"
   ],
   "metadata": {
    "collapsed": false
   },
   "id": "dd3314c283e58823"
  },
  {
   "cell_type": "code",
   "outputs": [
    {
     "data": {
      "text/plain": "426"
     },
     "execution_count": 243,
     "metadata": {},
     "output_type": "execute_result"
    }
   ],
   "source": [
    "len(all_articles)"
   ],
   "metadata": {
    "collapsed": false,
    "ExecuteTime": {
     "end_time": "2024-03-15T15:05:28.239742Z",
     "start_time": "2024-03-15T15:05:28.208724800Z"
    }
   },
   "id": "1b5f330a14862973",
   "execution_count": 243
  },
  {
   "cell_type": "code",
   "outputs": [
    {
     "name": "stdout",
     "output_type": "stream",
     "text": [
      "{'Olaf Eller': ['Olaf Eller', 'Pixi Uno', 'Sarrus', 'AEJ'], 'Potentiel energi': ['Glenn', 'Inc', 'AEJ', 'Hjart', 'Biscuit-in-Chief', 'MacApps', 'Rodejong', 'KnudW', 'Crudiant', 'Savfisk', 'Pugilist', 'Strawa', 'Fodbold kongen', 'Christian Giersing', 'Palnatoke', 'Nielssonnich', 'Pred', 'HenrikMidtiby', 'GunnerPoulsen', 'Hashar', 'Ilario', 'Sten', 'Peo'], 'Josephine Park': ['Hjart', 'Dipsacus fullonum', 'AndersViborg', 'Amjaabc', 'Laanders', 'Siksebuffen', 'Anne-Sophie Ofrim', 'Tjernobyl', 'TherasTaneel', 'AEJ', 'Toxophilus', 'Tjalland', 'CeciTGreg', 'Pugilist'], 'Superisligaen': ['Henrik Hansen', 'Hjart', 'PHE77', 'AEJ', 'Mikkelh96', 'Tøndemageren', 'SorenRK', 'CarlKlogeOve', 'Rodejong', 'Izm0', 'Patchfinder', 'Royal Export', 'Pandikas', 'STUDENT57', 'Veolia', 'Kaare', 'Palnatoke', 'EPO', 'Sarrus', 'Altaïr', 'Trade', 'Steenth', 'Amjaabc', 'Christian75', 'Pugilist', 'Hockeyindustrien', 'Ejwin', 'Ultraman', 'Viby27', 'Ohkami', 'C.Thure', 'Barklund'], 'VM i ishockey 1962': ['AEJ', 'Henrik Hansen', 'Sarrus', 'Gorbi'], 'Triangelns Station': ['Trip Tucker', 'Plantsarewonderful', 'PerV', 'Morten Haagensen', 'Dannebrog Spy', 'Heb', 'Kalaha', 'Philaweb', 'Patchfinder', 'Steenth', 'Kaare', 'AEJ'], 'Svenstrup (Aalborg Kommune)': ['Steenth', 'Christian Giersing', 'Staunited', 'Trip Tucker', 'Pugilist', 'AEJ', 'Madglad', 'Eureka360', 'Savfisk', 'Rmir2', 'Asger', 'Pelle S.H.', 'Patchfinder', 'Sorenhk', 'Cgt', 'BKP', 'Hubertus', 'Sarrus', 'Postbuddet', 'Christian75', 'LasseVestergaard', 'Moeng'], 'Brie Larson': ['FelixFilm2006', 'Nico', 'Tjalland', 'AEJ', 'Zoizit', 'Steenth'], 'Jean Hersholt': ['Varlaam', 'Dipsacus fullonum', 'Tomcatjo', 'Pugilist', 'Nico', 'Bornsommer', 'Steenth', 'TherasTaneel', 'Urbandweller', 'M', 'AEJ', 'BKP', 'Amjaabc', 'Rune X2', 'John Peters', 'E-Turner', 'Kaare', 'Palnatoke', 'Henrik Hansen', 'Glenn'], 'Daniel Meade': ['Aeonauthenticliving', 'Sabbe', 'Charrity'], 'Straight Outta Compton (album)': ['Aeonauthenticliving', 'Simbavibes', 'PilleFischer', 'Steenth', 'Biscuit-in-Chief', 'Amjaabc', 'PerV'], 'Oskarshamn': ['AEJ', 'Christian Giersing', 'Weblars', 'SorenRK', 'BKP', 'Anchor2009', 'Trade', 'Artikler', 'Amidships', 'Mo Cuishle', 'Kaare', 'Kemp'], 'Kasper Lorentzen': ['Jeswood', 'Kongen af fodbold', 'Tøndemageren', 'BabylonDK', 'SorenRK', 'Pandikas', 'Nico', 'Fodbold-fan', 'Kwey09', 'EPO', 'AEJ', 'JKW~dawiki', 'Math981n', 'SimmeD', 'Trade', 'Pelsdyret', 'Pixi Uno', 'Sarrus', 'Mr1Nico', 'Brandsen', 'Mathiaskh', 'EnurDK', 'AllanCapone', 'Krog99', 'Steenth', 'Moeng', 'Præsidentindustrien', 'K-CF85', 'Hockeyindustrien', 'RasmusAalbæk', 'Froztbyte', 'Barklundo', 'Mons1957', 'Santac'], 'Roy Keane': ['OriginalDBL', 'AEJ', 'JesperCarlsen', 'Pugilist', 'Pandikas', 'Man-U', 'Emil12plov', 'Sarrus', 'Celtics', 'Loveless', 'Simonole1', 'Thomas81', 'EPO', 'Barklund', 'Altmuligmanden'], 'Sys Bjerre': ['Steenth', 'KnudW', 'Hjart', 'Abemandddk', 'Sarrus', 'Josefine23', 'Toxophilus', 'Joshuadenmark', 'Piralski', 'Flygger', 'Z33k', 'Marc139a', 'PHE77', 'Trade', 'Glenn', 'System Of A Bjerre', 'Savfisk', 'Cgt', 'Annetta Elmo Koncertbooking & Management', 'Urbandweller', 'TherasTaneel', 'Werldwayd', 'EPO', 'Brokke', 'Pixi Uno', 'DanNav', 'CarinaT', 'Tsca', 'Brandsen', 'Nico', 'Amjaabc', 'Pugilist', 'Masz', 'Hejsa', 'Lisbeth Sandø-pedersen', 'Christian Giersing', 'Schnatzel', 'Kirjapan', 'Hede2000', 'Kaare', 'Pred', 'Don-dk', 'Mubito', 'Sabbe'], 'Henrik Dalsgaard': ['PHE77', 'Tropapa', 'ApocalypticMessenger', 'Hjart', 'Costa72', 'Tøndemageren', 'AEJ', 'Amjaabc', 'Pandikas', 'Ndsm', 'AaB-ern', 'Trenskow', 'Fodbold-fan', 'Patchfinder', 'Kwey09', 'Boldspiller', 'Math981n', 'Pugilist'], 'Polina Gagarina': ['AEJ', 'Siksebuffen', 'PerV', 'Erenhillerød', 'KnudW', 'TherasTaneel', 'Dostojewskij', 'Aejsing'], 'Izzy Christiansen': ['Brol', 'AEJ', 'EileenSanda', 'Tylander', 'Granada'], 'Saudi-Arabien': ['Hjart', 'Amjaabc', 'AEJ', 'Akkuratesse', 'PHE77', 'Weblars', 'KnudW', 'Zheng Hoi', 'Khawabkitabeer', 'Pelle S.H.', 'Dipsacus fullonum', 'Gereon K.', 'Biscuit-in-Chief', 'Illegitimate Barrister', 'CommonsDelinker', 'Zelrin', 'Rmir2', 'Patchfinder', 'TherasTaneel', 'SorenRK', 'Cgt', 'Trip Tucker', 'PerV', 'Villy Fink Isaksen', 'Steenth', 'EPO', 'Morten Haagensen', 'Pandikas', 'Lindberg', 'Sangild', 'Moeng', 'Medic', 'SimmeD', 'Artikler', 'Trade', 'Brotta8', 'Wagner Texas Ranger', 'Sabbe', 'Mathiaskh', 'Mbini~dawiki', 'Allano', 'Harne', 'Necessary Evil', 'Hejsa', 'Larsbrp', 'Kaare', 'Palnatoke', 'Nikolaj', 'Loveless', 'HansJensen', 'Nico', 'Apw', 'Haabet', 'Jakob mark', 'Hede2000', 'BBC', 'Rune', 'Hashar', 'VseA', 'Peregrine981', 'Kasper Holl', 'Byrial', 'BjornGraabek', 'Glenn', 'BrianHansen'], 'Forsmark atomkraftværk': ['AEJ', 'Anhn', 'Glenn', 'Rotlink', 'Tostarpadius', 'Patchfinder', 'Christian Giersing', 'Poker-DM', 'Palnatoke', 'John Peters'], 'Bush Lady': ['Aeonauthenticliving', 'BKP', 'Annika64', 'KnudW', 'Victuallers', 'Amjaabc', 'Grey-Fox', 'Palnatoke'], 'VM i ishockey 2011': ['Sangjinhwa', 'Glenn', 'Steenth', 'Henrik Hansen', 'Thomas81', 'Rasmusgj', 'EPO', 'Ajvd', 'Sabbe', 'Fredelige', 'Amjaabc', 'AEJ', 'Hejsa', 'Sebastjan'], 'Carey Mulligan': ['AEJ', 'Tjalland', 'Zoizit', 'Andreas4261', 'TherasTaneel', 'Toxophilus', 'Steenth', 'BKP', 'Sorenolin', 'M', 'Lindberg'], 'Sunleif Rasmussen': ['Aeonauthenticliving', 'JGC', 'Thomas Vedelsbøl', 'Royal Export', 'Christian Giersing', 'EileenSanda'], 'Virus': ['Steenth', 'Drlectin', 'KnudW', 'Go1le', 'Dipsacus fullonum', 'Pugilist', 'Christian Giersing', 'Hjart', 'Sarrus', 'TherasTaneel', 'Kjeldjoh', 'Penguin', 'Metalindustrien', 'AEJ', 'Asger', 'SorenRK', 'Biscuit-in-Chief', 'Pelle S.H.', 'Ditlev Petersen', 'Cgt', 'Villy Fink Isaksen', 'Medic', 'Pete607b', 'Glenn', 'ShiftFn', 'Necessary Evil', 'LostPast', 'Kaare', 'Unposiple', 'Sjerpe', 'Breogan2008', 'Trade', 'Senithil', 'CarinaT', 'Amphioxys', 'Thomas81', 'Moeng', 'Byrial', 'Sakkura', 'Leolaursen', 'Grey-Fox', 'Maitch', 'Barklund', 'Anton Rasmussen', 'Rune', 'GunnerPoulsen', 'Sten', 'Hashar', 'Manscher', 'Palnatoke', 'Agerskov', 'Jone'], 'Wedel (Kreis Pinneberg)': ['AEJ', 'Arvid-S', 'Rmir2', 'Steenth', 'SorenRK', 'IvarT', 'Patchfinder', 'Highfield89', 'Urbandweller', 'Hgav', 'Hejsa', 'Nico'], 'Northrop F-5 Freedom Fighter': ['A09', 'Uli Elch', 'Necessary Evil', 'Pugilist', 'TherasTaneel', 'Toxophilus', 'CommonsDelinker', 'Kaare'], 'Sistema': ['A09', 'Pugilist', 'Toxophilus'], 'Hans Christian Nielsen (fodboldspiller)': ['Villy Fink Isaksen', 'Amjaabc', 'Steenth', 'AEJ', 'Pugilist', 'Christian Giersing', 'M', 'Urbandweller', 'Orwell123', 'Clovis'], 'Speculum': ['A09', 'Giuseppe valenti (il ginecologo)', 'Lj phys', 'Batmacumba', 'KnudW', 'Catharina81', 'IvarT', 'Medic', 'Heelgrasper', 'Jørgen', 'Peter Schou'], 'Lenore': ['Aeonauthenticliving', 'NuclearBoyScout', 'SorenRK', 'Rodejong', 'Asger3400', 'Sarrus', 'Villy Fink Isaksen'], 'Odense Bulldogs': ['Martinsecher', 'PHE77', 'Mikkelh96', 'Baddachamp', 'Bolddreng', 'Nico', 'EileenSanda', 'Patchfinder', 'Henrik Hansen', 'Veolia', 'EPO', 'Trade', 'Pixi Uno', 'Sarrus', 'Pugilist', 'Danand', 'Odense1990', 'KnudW', 'AEJ', 'Steenth', 'Christian75', 'Greerzy36', 'Viby27', 'Froztbyte', 'Barklund', 'Barklundo', 'C.Thure', 'Steffen91', 'Wassini', 'Amjaabc', 'Harthacnut', 'Malene'], 'Sam Mitchell': ['PHE77', 'TherasTaneel', 'AEJ', 'Rekf', 'Pugilist', 'KnudW', 'BillyDK', 'Drmerkwurd'], 'TD Garden': ['Hede2000', 'AEJ', 'Christian75', 'Paralympic', 'Mr Accountable', 'Mads Ren`ai', 'Hejsa', 'Celtics'], 'Simon Nielsen': ['Siksebuffen', 'Pugilist', 'Otrfan', 'AEJ', 'Hockeyindustrien'], 'Ringo Starr': ['Abemandddk', 'Hjart', 'Biscuit-in-Chief', 'Tjalland', 'Asger', 'JayPeque', 'Pugilist', 'Villy Fink Isaksen', 'Zelrin', 'Trade', 'TherasTaneel', 'Kimsey0', 'Cgt', 'Toxophilus', 'Pixi Uno', 'Udufruduhu', 'Sorenolin', 'BrianOlesen1983', 'Anigif', 'Chaser', 'LarsJHJ', 'Thomas81', 'CarinaT', 'CommonsDelinker', 'Hejsa', 'Metalindustrien', 'Amjaabc', 'Mons1957', 'Erik Bachmann', 'Jørgen', 'Ukuleleole', 'LeonardoRob0t', 'Heelgrasper', 'Byrial', 'Isfisk', 'Kaare', 'Brian Olesen'], 'Sportspaladset (Kyiv)': ['Glenn', 'Pugilist', 'CommonsDelinker', 'Christian Giersing', 'AEJ', 'PerV', 'Hede2000', 'HistorieRené'], 'Bæredygtighed': ['A09', 'Jensga', 'Sean Weston', 'Pugilist', 'Eva Antonsen', 'Hjart', 'Troels Arvin', 'Toxophilus', 'Økonom', 'KnudW', 'Dannishroff', 'Kevincb22', 'Zelrin', 'Asger', 'Sejnok1234', 'Dipsacus fullonum', 'Henrikerhøj', 'Pelle S.H.', 'Rodejong', 'Nico', 'SorenRK', 'Glenn', 'SimmeD', 'Royal Export', 'Rmir2', 'Madglad', 'Santac', 'Handzken', 'Cgt', 'Jørgen', 'Amjaabc', 'DanNav', 'NERDI', 'Mathiaskh', 'Sasha', 'M. Nielsen', 'Pixi Uno', 'MGA73', 'Foto', 'Sakkura', 'Palnatoke', 'Danielle', 'Sten', 'Per Abrahamsen', 'Fred Bradstadt'], 'Solrød Fodbold Club': ['Sigvaldason', 'AEJ', 'Tennisbold', 'Moeng', 'Trade', 'Osten2671', 'EPO', 'Steenth', 'Vistor', 'C.Thure', 'Froztbyte', 'Barklundo', 'Ernst Poulsen', 'Kaare'], 'Joachim Andersen (fodboldspiller)': ['Siksebuffen', 'Amjaabc', 'Hjart', 'Gkmcs', 'Pugilist', 'ApocalypticMessenger', 'Christian Giersing', 'Fulhamzimmer', 'Crainrugze', 'AEJ', 'Vandcykel', 'Steenth', 'Pandikas', 'Nico', 'Yupppidu', 'Crudiant', 'TherasTaneel', 'Sarrus', 'Ja240570'], 'Storfyrstendømmet Moskva': ['A09', 'Pugilist', 'Εὐθυμένης', 'Лобачев Владимир', 'PHE77', 'Gorbi', 'CommonsDelinker', 'Dipsacus fullonum', 'Villy Fink Isaksen', 'Patchfinder', 'Trip Tucker', 'Moeng', 'PerV', 'Zoizit', 'Rmir2', 'Orakologen', 'Courcelles', 'Trade', 'Thomas81', 'Geanixx', 'Kemp', 'Palnatoke', 'Santac'], 'Maggie Gyllenhaal': ['Weblars', 'AEJ', 'Tjalland', 'TherasTaneel', 'E-Turner', 'Urbandweller', 'Steenth', 'Christian75', 'Thomas81', 'Sarmundo', 'Ejner Willy'], 'Rogers Arena': ['PHE77', 'Mariosmb', 'AEJ', 'Patchfinder', '東急電鉄', 'Loveless', 'Kaare'], 'Sjællands Universitetshospital, Køge': ['Ysangkok', 'AEJ', 'Steenth', 'Vrenak', 'Loutv'], 'Hyllie Station': ['Trip Tucker', 'PHE77', 'Plantsarewonderful', 'Tøndemageren', 'Dannebrog Spy', 'BIL', 'Kopavap', 'Heb', 'Kalaha', 'Philaweb', 'Pixi Uno', 'AEJ', 'Patchfinder', 'Ultraman', 'Hrafnin'], 'Alessio Tacchinardi': ['AEJ', 'Fodbold-fan', 'Taketa', 'Pandikas'], 'Bolton Wanderers F.C.': ['PHE77', 'EileenSanda', 'Moeng', 'Celtics', 'Seide 04', 'Fodbold-fan', 'Infobesity', 'Kwey09', 'AEJ', 'Patchfinder', 'Sarrus', 'Fulhamzimmer', 'Loveless', 'Simonole1', 'Vistor', 'Lindberg', 'Jonesy702', 'Hejsa', 'Barklundo'], 'Christian 2.': ['Tveol1091', 'Oleryhlolsson', 'Zzalpha', 'Sarah Layton', 'Chris1130', 'Thomasbak1979', 'Furious Allegations', 'AEJ', 'TraxPlayer', 'Økonom', 'Torsteinn Olafsson', 'Pugilist', 'Fnielsen', 'EPO', 'Savfisk', 'Hjart', 'CommonsDelinker', 'Hchristophersen', 'SorenRK', 'Soren omg den bedste', \"U'et\", 'Rmir2', 'Sjalvklara', 'Pinkpanter82', 'Asger', 'Toxophilus', 'Zelrin', 'Johan2005', 'Bornsommer', 'KnudW', 'Medic', 'Nikomog', 'PerV', 'BillyDK', 'Patchfinder', 'Villy Fink Isaksen', 'Palnatoke', 'Trip Tucker', 'Ribewiki', 'Cgt', 'Moeng', 'TherasTaneel', 'Aciram', 'Metalindustrien', 'Johan U', 'Jørgen', 'Kaare', 'Urbandweller', 'Sleiborg', 'Masz', 'Trade', 'Anne-Sophie Ofrim', 'Brandsen', 'Celtics', 'Christian Giersing', 'Lena Dyrdal Andersen', 'Loupeter', 'Rune X2', 'Saddhiyama', 'Sommer', 'Thomas81', 'MGA73', 'Sajgoous', 'Fredi-boy', 'Koiiy', 'Pgroen', 'Pfalzgreven', 'Fod', 'Apw', 'Emilsj', 'Inge-h', 'Hockeyindustrien', 'Urbanus~dawiki', 'Mons1957', 'Olejasz', 'Thomas Thorsen', 'Pred', 'Gunnernett', 'Sir48', 'Ktp72', 'Nico', 'Barklund', 'Malene', 'Wegge', 'Heelgrasper', 'Edelvang', 'Manscher', 'Den fjättrade ankan~dawiki', 'Hansjorn', 'Byrial', 'Glenn', 'Agerskov', 'Hrafnin', 'Rhododendron', 'BrianHansen', 'Christian List'], 'Centrumlinjen': ['A. Jensen', 'Per Meistrup', 'DenBlaaElg', 'SorenRK', 'Pugilist'], 'Selskabet for Naturlærens Udbredelse': ['Adagia', 'Dannebrog Spy', 'Sejeost123333333', 'Urbandweller', 'Hede2000', 'Softron', 'Heelgrasper'], 'Gudbrandsdalen': ['AEJ', 'Nico', 'Solange', 'Patchfinder', 'Toxophilus', 'Kaare', 'Tjernobyl'], 'Uummannaq': ['Toxophilus', 'Mortenped76', 'Jollyy', 'AEJ', 'Steenth', 'Jolu', 'Vrenak', 'Kemp', 'Salik.hard', 'Tuestor', 'Pixi Uno', 'Postbuddet', 'Trade', 'BKP', 'Lena Dyrdal Andersen', 'CommonsDelinker', 'Morten67', 'Villy Fink Isaksen', 'Penguin', 'Palnatoke', 'Danielle', 'Swirl da'], 'Zjytomyr oblast': ['A09', 'Oleryhlolsson', 'Бучач-Львів', 'Trip Tucker', 'Pugilist', 'Nico', 'Glenn', 'PerV', 'Erikthau', 'Steenth'], 'Eldar Qasımov': ['Siksebuffen', 'AEJ', 'Philaweb', 'ウルトラ大不況'], 'Jokeren (Batman)': ['Aeonauthenticliving', 'Sandywood315', 'Raven0764', 'Peter Mathisen', 'Skovns', 'Jannick Aakjær', 'Hjart', 'FelixFilm2006', 'Zoizit', 'Toxophilus', 'Pugilist', 'SorenRK', 'Amjaabc', 'Metalindustrien', 'Nico', 'TherasTaneel', 'Pelle S.H.', 'Cgt', 'خلدون شنتوت', 'KnudW', 'Sarrus', 'Abekat123', 'Thomas81', 'CarinaT', 'Matildehk', 'Monotar~dawiki', 'Dannebrog Spy'], 'Boldklubben FIX': ['AEJ', 'Madglad', 'Pelle5', 'Nico', 'Pixi Uno', 'Jørgen', 'Henrik Hansen', 'Noer87', 'Froztbyte', 'Kaare', 'Christian75', 'Palnatoke', 'Chateque'], 'Mohammad Reza Pahlavi': ['Trip Tucker', 'KnudW', 'BrianRasmussen', 'AEJ', 'Toxophilus', 'Sarah Layton', 'Jdx', 'Rmir2', 'مانفی', 'PerV', 'CommonsDelinker', 'Moeng', 'Amkaa', 'Pugilist', 'Celtics', 'EPO', 'Johan U', 'Rekf', 'Papa Doc', 'Nico', 'Urbandweller', 'Palnatoke', 'Brandsen', 'John Peters', 'LundenJensen'], 'Kirill Starkov': ['EileenSanda', 'Nico', 'J 1982', 'Sarrus', 'Rekf', 'AEJ', 'Steenth', 'Hockeyindustrien', 'Penguin'], 'Mads Bech Christensen': ['CommonsDelinker', 'Trade', 'AEJ', 'Thomas81', 'Brandsen', 'Christian Giersing', 'Amjaabc', 'FIKWH'], 'Storstrøm Fængsel': ['Nico', 'Pelle S.H.', 'AEJ', 'Hjart', 'Toxophilus', 'Bilde', 'Batmacumba', 'Pugilist', 'Morten Haagensen', 'Emilstahl', 'Royal Export', 'Christian Giersing', 'Steenth'], 'Ravel Morrison': ['AEJ', 'Pugilist', 'Tøndemageren', 'Sasu985', 'Pandikas', 'Steenth'], 'Alessandro Algardi': ['Aeonauthenticliving', 'Tjalland', 'Kjeldjoh', 'Urbandweller', 'Villy Fink Isaksen'], 'Minnesota Wild': ['PHE77', 'Jesper Bøtker Mortensen', 'TherasTaneel', 'Svensson1', 'Patchfinder', 'Nikolaj', 'Nomoma', 'AEJ', 'Loveless', 'CommonsDelinker', 'Hockeyindustrien'], 'Leslie Nielsen': ['Amjaabc', 'TherasTaneel', 'Siksebuffen', 'Steenth', 'Hede2000', 'M', 'Pixi Uno', 'Kaare', 'Cineclopedia', 'AEJ', 'Maskiner', 'Jared Preston', 'BKP', 'Nikolaj', 'KnudW', 'TraxPlayer', 'Hejsa', 'E-Turner', 'Loveless', 'Rosbirk', 'Henrik Hansen', 'Santac', 'Morten'], 'Peter Hirsch': ['Villy Fink Isaksen', 'Rekf', 'Nico', 'Chaser', 'AEJ', 'Hockeyindustrien'], 'Victoria (Canada)': ['Tjalland', 'SorenRK', 'ILoveKorea', 'Patchfinder', 'Kaare', 'Louis82', 'Loveless', 'AEJ', 'Sarrus', 'Bobak', 'Masz', 'LeonardoRob0t', 'Scm', 'Palica', 'Peregrine981'], 'Luther Singh': ['Pugilist', 'PHE77', 'Steenth', 'AEJ'], 'The Disastrous Life of Saiki K.': ['Aeonauthenticliving', 'Biitesmalou', 'Lasseska', 'Kristian.HP', 'Toxophilus'], 'Jesper Duus': ['CommonsDelinker', 'Royal Export', 'KnudW', 'Pixi Uno', 'Steenth', 'HenrikRomby', 'DanNav', 'Kaare', 'Amjaabc', 'AEJ', 'Mathiaskh', 'Hockeyindustrien', 'Villy Fink Isaksen'], 'Simon Emil Ammitzbøll-Bille': ['Økonom', 'Biscuit-in-Chief', 'Dipsacus fullonum', 'Knowdom 2.0', 'PHE77', 'Amargaard', 'Nico', 'Batmacumba', 'Mysteriumen', 'HelleSchmidt', 'Agerskov', 'Pardy', 'ArveprinsKnud', 'Siksebuffen', 'Ysangkok', 'Kjeldjoh', 'Steenth', 'Oleryhlolsson', 'DianaBoy', 'SorenRK', 'T-Stone', 'Schlätzmeister', 'Karmel80', 'Tastaturkrigeren', 'Sorenkusk', 'ChicaDanesa', 'Philaweb', 'Hchristophersen', 'Weblars', 'Jesper Bøtker Mortensen', 'Cgt', 'Morten Svensson', 'Tostarpadius', 'Valentin', 'LiberalAlliance', 'Kaare', 'Kazpr', 'PerV', 'TherasTaneel', 'CommonsDelinker', 'BillyDK', 'Ft11', 'Villy Fink Isaksen', 'EPO', 'Kgranov', 'Fnielsen', 'Toxophilus', 'Urbandweller', 'Pixi Uno', 'Kimsey0', 'Brandsen', 'Christian Giersing', 'KnudW', 'Sarrus', 'Bananaphone', 'Trade', 'EosKøge', 'Æblemain', 'Heb', 'Palnatoke', 'Megamonne', 'Osteklokke', 'Christian75', 'Andreas Müller', 'Monne', 'Mathiaskh', 'Pelle Dam', 'AEJ', 'Thomas81', 'Kirjapan', 'Pugilist', 'Gobo18', 'Rasmusbyg', 'Masz', 'Kinamand', 'Marisen~dawiki', 'Lasen', 'Wikibruger', 'Amjaabc', 'NyrupRasmussen', 'Poker-DM', 'Kosjka', 'Jesper71', 'JGC', 'Malver', 'Romolus', 'Myrdk', 'Law Lord', 'Reporter Nielsen', 'Heelgrasper', 'Niels Buus', 'So9q', 'Maitch', 'Byrial', 'Isfisk'], 'Per Bäckman': ['Siksebuffen', 'Sarah Layton', 'Pixi Uno', 'AEJ', 'Steenth', 'Sarrus', 'Kaspernymand'], 'Danske kroner': ['Økonom', 'Jeppe21', 'Santac', 'Bornsommer', 'KnudW', 'King Ali Aljanabi Offridom', 'TherasTaneel', 'Concorde215', 'Rmir2', 'Godihrdt', 'Biscuit-in-Chief', 'SorenRK', 'BALMAINM', 'Pugilist', 'Benadikt', 'Madglad', 'Oleryhlolsson', 'EPO', 'Peterbak', 'Villy Fink Isaksen', 'Ericjul', 'Toxophilus', 'Christian Giersing', 'Semiparaesite', 'EosKøge', 'Patchfinder', 'Johan U', 'Philaweb', 'Jj@fiolgade.dk', 'Pelle S.H.', 'Steenth', 'Lena Dyrdal Andersen', 'Sarrus', 'Vicki Reitta', 'JayPeque', 'Penguin', 'Oz1cz', 'Loveless', 'CommonsDelinker', 'Hetoft', 'Necessary Evil', 'AEJ', 'Masz', 'Lastorset', 'Asyntactic', 'Gorbi', 'Mads Ren`ai', 'Mexk', 'Lindberg', 'Thomas81', 'Åge', 'Magnus95', 'Allano', 'JGC', 'Malene', 'Kaare', 'Mikael V', 'Palnatoke', 'Poul G', 'Pred', 'Anjoe', 'Byrial', 'Twid', 'Alkarex', 'Haabet', 'Agerskov', 'Peregrine981', 'Christian List', 'Nico', 'Sten'], 'Los Angeles Kings': ['PHE77', 'Pugilist', 'Gatekeeper1971', 'TherasTaneel', 'Gatekeeper', 'Patchfinder', 'Nikolaj', 'Nomoma', 'AEJ', 'Nis Hoff', 'Sabbe', 'PhoenixV', 'Hockeyindustrien', 'Malene'], 'Wismar': ['Daniela Kloth', 'Arvid-S', 'Erik Christensen', 'AEJ', 'SorenRK', 'Azizogames', 'Amjaabc', 'WikUzytkownik', 'Kemp', 'Steffen Löwe Gera', 'Pixi Uno', 'Lena Dyrdal Andersen', 'Rekf', 'Hejsa', 'Mads Ren`ai', 'Sten', 'Ultraman', 'Loveless', 'Kaare', 'Nico', 'Ukuleleole', 'Hede2000', 'Byrial', 'Palnatoke'], 'Roger Federer': ['Staunited', 'AEJ', 'Xstoe', 'Siksebuffen', 'Asger', 'Zelrin', 'Rome0055', 'Marianneholst', 'TorbenHL', 'Saim2019', 'Pugilist', 'Toxophilus', 'Nico', 'Предатор1990', 'AJ5960', 'Gap9551', 'Morten Svensson', 'UsernameHere', 'Amjaabc', 'Zoizit', 'Aasth5048', 'Emil Olsen', 'Manoftrivia', 'Iojhug', 'Dipsacus fullonum', 'Jeblin25', 'A3ng3l', 'Esbenjensen', 'Twbn1946', 'Rekf', 'Christian75', 'Moseby22', 'KnudW', 'TennisRamo', 'Pixi Uno', 'Jandit', 'Jan Friberg', 'Nis Hoff', 'AllanCapone', 'Jens Peter Kaj Jensen', 'Christian Giersing', 'Celtics', 'Steenth', 'Jørgen', 'Ezzzle', 'Kaare', 'Hejsa', 'CommonsDelinker', 'Jesper Wormstrup', 'Anigif', 'Froztbyte', 'Pardy', 'Martin Hansen Andersen', 'Barklund', 'Morten', 'Brandsen', 'Barklundo', 'Penguin', 'Maitch', 'Mons1957', 'Manscher', 'Pred', 'Ernst Poulsen', 'Hhst', 'Harthacnut', 'Philo', 'Glass'], 'Jason McAteer': ['AEJ', 'Celtics'], 'NATO': ['Brandsen', 'Økonom', 'Fispaul', 'MacApps', 'Hjart', 'Bornsommer', 'Mrloop', 'Fa-super', 'Hchristophersen', 'Sarrus', 'Kwamikagami', 'Madglad', 'PHE77', 'Necessary Evil', 'Nico', 'Pugilist', 'Santac', 'Siksebuffen', 'LeonardoKH', 'Tropapa', 'Carsonolajuda', 'Biscuit-in-Chief', 'User Z5020', 'Amherst99', 'AEJ', 'Glenn', 'Zelrin', 'Zachomissen69', 'Soren12345', 'SorenRK', 'EPO', 'V4qCL', 'Mtlarsen', 'KnudW', 'Kjeldjoh', 'Jensperchnielsen', 'InsaneHacker', 'Villy Fink Isaksen', 'Gorbi', 'SimmeD', 'Carsten R D', 'Jørgen', 'Rasmus911', 'Vrenak', 'Crudiant', 'Cgt', 'Erik Tweedy', 'Nothack', 'Rotlink', 'Pixi Uno', 'Masz', 'Ribewiki', 'Asger', 'Trade', 'Kaare', 'Hofkas', 'Joy Richard Preuss Country', 'Larssvensen', 'Medic', 'DanNav', 'MGA73', 'Celtics', 'Christian75', 'Rabunski456', 'Christian Giersing', 'Z99aal', 'Heb', 'Steenth', 'Metalindustrien', 'Jackoe', 'DomingoBoy1', 'Fanoftheworld', 'Nonames', 'Grey-Fox', 'Svendsvend', 'Klmeze', 'Amjaabc', 'Loveless', 'Zilotte', 'Thomas81', 'Lindberg', 'CarinaT', 'Fredelige', 'Grønland', 'John Peters', 'CommonsDelinker', 'Hejsa', 'Vistor', 'Moeng', 'Jeglugteraflort', 'Sabbe', 'Henrik Hansen', 'Kemp', 'Nikolaj', 'Rasmus81', 'Sir48', 'PhoenixV', 'Ukuleleole', 'LundenJensen', 'Ktp72', 'Danielle', 'JGC', 'Lasse Guldsborg', 'Billelar', 'Barklund', 'Poul G', 'So9q', 'Andreas A', 'Snailwalker', 'Palnatoke', 'Hansjorn', 'Peregrine981', 'Chepry', 'Webkid~dawiki', 'Suisui', 'Romanm', 'BjornGraabek', 'Wolfram', 'BlueEel', 'BrianHansen'], 'UEFA Champions League finalen 2001': ['AEJ', 'Alfred345', 'Pandikas', 'Pixi Uno', 'Patchfinder'], 'Poul Popiel': ['Kaare', 'AEJ', 'Hockeyindustrien'], 'Den Europæiske Union': ['Santac', 'Fispaul', 'Pugilist', 'DMGSGTEDRddr', 'Madglad', 'Toxophilus', 'Heirserra', 'Tylander', 'Kjeldjoh', 'Jakob fyn', 'Bornsommer', 'AEJ', 'EPO', 'BALMAINM', 'Sarrus', 'SorenRK', 'Carl6087', 'Inc', 'Oleryhlolsson', 'Honymand', 'Valentin', 'Brunneis Burner', 'Weblars', 'Ndsm', 'Eureka360', 'Zoizit', 'Tøndemageren', 'Jørgen', 'Jacob Valdemar', 'Cgt', 'Djallese', 'Olaf Kosinsky', 'Zelrin', 'Mich356s', 'Gorbi', 'KnudW', 'PerV', 'Palledkdinmor', 'Patchfinder', 'Hejsa', 'Thpadk', 'TherasTaneel', 'Davor xx', 'Pyrros', 'Trip Tucker', 'Ramloser', 'Crudiant', 'Villy Fink Isaksen', 'Henry450', 'BillyDK', 'Lear 21', 'Asger', 'Wagner Texas Ranger', 'Funkhauser', 'Åge', 'Kontrollstellekundl', 'Kris981e', 'Eestlane', 'Palnatoke', 'Wholle', 'Nicoshansen', 'Ditte Maria', 'Glenn', 'Johan U', 'Steenth', 'Tjalland', 'Trade', 'Amkaa', 'Joiner', 'Jafeluv', 'Pelle S.H.', 'Sabbe', 'Kuddel', 'Kwey09', 'Kaare', 'Nstenberg', 'Christian List', 'Manscher', 'Graphicos', 'Nico', 'Pixi Uno', 'Medic', 'Celtics', 'Christian Giersing', 'Necessary Evil', 'Rolff', 'Rekf', 'Christian75', 'Knudzan', 'Rasmus002', 'Pechke', 'Poker-DM', 'Twid', 'Mathiaskh', 'BKP', 'TownDown', 'Brandsen', 'Jasmin07', 'Amjaabc', 'Purbo T', 'Lindberg', 'Paaske36', 'MGA73', 'Allano', 'Jimmi Agerskov', 'Thomas81', 'Froztbyte', 'Nikolaj', 'Vagnis', 'Rete', 'LarsNæsbye', 'Diggle', 'Moeng', 'Hgav', 'David Sand Knak', 'Rasmus81', 'Cepper', 'Jan Friberg', 'Sir48', 'Magnus95', 'Casper~dawiki', 'Oelting', 'CommonsDelinker', 'LundenJensen', 'Christian~dawiki', 'Peter3060', 'Pred', '(Nazi) Adolf Hitler', 'Danielle', 'Wegge', 'Thomas Thorsen', 'Roamata', 'G®iffen', 'Apoltix', 'Morten', 'Harthacnut', 'Poul G', 'Barklund', 'So9q', 'IBA', 'Fred Bradstadt', 'Krun', 'LeonardoRob0t', 'Heelgrasper', 'Troels Arvin', 'Zkltr', 'Thorfinn', 'Template namespace initialisation script', 'Peregrine981', 'BrianHansen', 'Jan Pedersen'], 'Chapel Club': ['AEJ', 'DrDose'], 'Horcrux': ['Aeonauthenticliving', 'Zotur', 'Druschba 4', 'Speravir', 'Steenth', 'Toxophilus', 'Zoizit', 'Manscher', 'Kaare', 'Krestenklit', 'Sir48', 'Anne Louise1', 'Dannebrog Spy', 'Harthacnut', 'Algiz', 'Yankee~dawiki', 'Loveless', 'Barklund', 'Anjoe', 'Ultraman'], 'Tisvilde Hegn': ['Pugilist', 'AEJ', 'Nico', 'Steenth', 'Amjaabc', 'Martinsejer', 'Solovergudhjem', 'Rmir2', 'Trurl', 'Villy Fink Isaksen', 'Morten67', 'Patchfinder', 'Nikolaj', 'Toxophilus', 'JayPeque', 'C960657', 'Ulflarsen', 'Ktp72', 'Bernhard'], 'Rødovre Mighty Bulls': ['KnudW', 'Anonym Aktivist Abe', 'PHE77', 'Dipsacus fullonum', 'Henrik Hansen', 'Patchfinder', 'RødovreMightyBulls', 'AEJ', 'Pixi Uno', 'RMB2610', 'CommonsDelinker', 'DanNav', 'Steenth', 'Hockeyindustrien', 'Brandsen', 'EPO', 'Barklund', 'Barklundo', 'C.Thure', 'Wassini'], 'Jens F. Jensen': ['Abonnementskongen', 'Jensfjensf', 'Randeris4', 'SorenRK', 'Vrenak', 'Nannafinne', 'Ertyuioælkjhgfvb', 'Petervistisen', 'Byrial', 'Sabbe', 'Sarrus', 'Tobiasth'], 'Niels Hemmingsen': ['Glenn', 'Toxophilus', 'SorenRK', 'AdamSmithFan', 'Jan Friberg', 'Royal Export', 'Amjaabc', 'Zoizit', 'Saddhiyama', 'Pelle S.H.', 'Moeng', 'Nikolaj', 'Erik Damskier', 'EPO', 'Annika', 'Mons1957', 'PHansen', 'Ktp72', 'Nico'], 'Hasselø': ['Steenth', 'PHE77', 'AEJ', 'Hjart', 'Toxophilus', 'Pixi Uno', 'Nico', 'Henrik Hansen', 'Apw'], 'Hviderusland': ['Pelle S.H.', 'Pugilist', 'Hjart', 'Bornsommer', 'Emilie dannef', 'Dipsacus fullonum', 'Zuiseart', 'KnudW', 'Cph1993', 'Santac', 'Steenth', 'Vistor', 'SSgt.Vensky', 'Ingmar~dawiki', 'Mrloop', 'CommonsDelinker', 'Madklub', 'Henrik Hansen', 'Økonom', 'Hejsa', 'Nico', 'Palnatoke', 'Kaare', 'Rmir2', 'Madzmz', 'FelixFilm2006', 'Marc139a', 'EPO', 'AEJ', 'Glenn', 'Jarash', 'DobryBrat', 'Inc', 'PerV', 'Patchfinder', 'Sarrus', 'Kemp', 'Sarah Layton', 'Trip Tucker', 'Ясамойла', 'Erikthau', 'Kunuk XD', 'Rotlink', 'A3ng3l', 'EileenSanda', 'Moeng', 'Necessary Evil', 'Wagner Texas Ranger', 'Pixi Uno', 'Nillerdk', 'Sabbe', 'Trade', 'Gleb Borisov', 'Kosjka', 'Loveless', 'Penguin', 'Sir48', 'Ozi64', 'Thathánka Íyotake', 'Allano', 'John Peters', 'Aaker', 'LeonardoRob0t', 'Apw', 'Hede2000', 'Barklund', 'Hashar', 'Jørgen', 'Suisui', 'Webkid~dawiki', 'Romanm', 'Peregrine981', 'Christian List'], 'AC/DC': ['PHE77', 'Steenth', 'Niegodzisie', 'Hjart', 'Weblars', 'Kaare', 'Toxophilus', 'SorenRK', 'Martin Friso (Youtuber)', 'Trade', 'Savfisk', 'Nico', 'Glenn', 'Christian Giersing', 'TherasTaneel', 'Dannebrog Spy', 'Zoizit', 'Karlboibannemette', 'KnudW', 'SimmeD', 'Emil w and', 'Villy Fink Isaksen', 'Tøndemageren', 'M0nster20010', 'Pelle S.H.', 'CommonsDelinker', 'Celtics', 'Neustradamus', 'RBC', 'Sarrus', 'Ollebolle3', 'Christian75', 'Pugilist', 'Lindberg', 'Amjaabc', 'Jacobfk', 'Goldstrome n Harnis', 'Hanne123', 'AEJ', 'Nis Hoff', 'Krog99', 'Banff13', 'Froztbyte', 'İnfobgv', 'Metalindustrien', 'NaaZ94', 'Hejsa', 'Harne', 'Moeng', 'Pred', 'Santac', 'Palnatoke', 'N00b123', 'Hede2000', 'Maltesen', 'Christian89', 'LarsNæsbye', 'Thomas81', 'C.Thure', 'Wegge', 'Hchristophersen', 'Brother Dysk', 'Mark Jensen', 'ZCMI', 'Apw', 'Juddas', 'Fenrisulven', 'Juddas the ghost', 'Abekattensvend', 'Chrown', 'Wassini', 'Jakob mark', 'Barklund', 'Harthacnut', 'Onkel Tuca'], 'Jesper Jensen': ['Tøndemageren', 'Steenth', 'Coffins', 'Amjaabc', 'AEJ', 'Christian75', 'Palnatoke', 'Fod'], 'Per Weihrauch': ['QnudM', 'Trade', 'EPO', 'Steenth', 'Pugilist', 'AEJ', 'Nico', 'Seekers'], 'Larsen, Philip': ['AEJ'], 'Determinisme': ['AdamSmithFan', 'Glenn', 'Alexandramander', 'Kefr4000', 'Ramloser', 'Villy Fink Isaksen', 'Ente lente', 'Madglad', 'Savfisk', 'Asger', 'Jakob~dawiki', 'Saddhiyama', 'Giremino', 'VictorEremita', 'Megatron007', 'Kemp', 'Yurik', 'Anjoe', 'Wildt'], 'Philip Larsen': ['Tjalland', 'Pugilist', 'Nico', 'KasperGp', 'AEJ', 'Brandsen', 'Kaare'], 'Daniel Wass': ['Zelrin', 'Pelle S.H.', 'Hjart', 'Aksel Hansen', 'Siksebuffen', 'Franknavarro', 'Amjaabc', 'Nico', 'ApocalypticMessenger', 'Pandikas', 'Tøndemageren', 'Kolban', 'KnudW', 'Taketa', 'AEJ', 'Pugilist', 'Kwey09', 'Pixi Uno', 'Jakf', 'Andreas-lodahl', 'LN1989', 'Mathiaskh', 'Celtics', 'Hockeyindustrien', 'Moeng'], 'Jannik Hansen': ['PHE77', 'Nico', 'Amjaabc', 'Cal1', 'Royal Export', 'Optimus Pred', 'Orwell123', 'Medic', 'AEJ', 'Hockeyindustrien', 'Villy Fink Isaksen', 'Leolaursen', 'Barklundo', 'Mikael V', 'Frank R', 'Palnatoke'], 'Danmarks ishockeylandshold (herrer)': ['Kung Hibbe', 'Nico', 'Tylander', 'Jacob1976x', 'Mrloop', 'Ramloser', 'Henrik Hansen', 'ChicaDanesa', 'Toxophilus', 'Patchfinder', 'Amjaabc', 'Royal Export', 'Boivie', 'Veolia', 'Steenth', 'Sarrus', 'AEJ', 'Celtics', 'Vistor', 'Nis Hoff', 'Thehappymonster'], 'Monaco': ['Biscuit-in-Chief', 'Toxophilus', 'Oleryhlolsson', 'Martin Macha 2111', 'Steenth', 'Hjart', 'PHE77', 'AEJ', 'Meldola', 'Weblars', 'Dipsacus fullonum', 'Sarah Layton', 'Christian Giersing', 'Trip Tucker', 'Zelrin', 'PerV', 'Haraldur', 'Crudiant', 'Cgt', 'Ralletheawesomeman', 'Villy Fink Isaksen', 'KnudW', 'Vufff', 'Savfisk', 'Missoeh', 'Nico', 'Laketown', 'Patchfinder', 'BKP', 'Benadikt', 'Philaweb', 'Trade', 'Mart804m', 'HenrikKbh', 'Fry1989', 'SanglierT', 'Amkaa', 'Sarrus', 'Pelle S.H.', 'Orwell123', 'Apopov', 'Palnatoke', 'Sasha', 'Masz', 'Gerdt~dawiki', 'Moeng', 'Sir48', 'CarinaT', 'Allano', 'CommonsDelinker', 'Thomas81', 'John Peters', 'Fredelige', 'Hejsa', 'Purodha', 'Amjaabc', 'Necessary Evil', 'Cisar', 'Loveless', 'Harthacnut', 'Santac', 'Apw', 'Hede2000', 'Maitch', 'Korg', 'Kim H', 'Heelgrasper', 'Kaare', 'Twid', 'Chr', 'Glenn', 'Suisui', 'Peregrine981'], 'Smolensk oblast': ['A09', 'CommonsDelinker', 'Weblars', 'Bornsommer', 'PerV', 'Rmir2', 'Amkaa'], 'Thin Lizzy': ['PHE77', 'Editoritarian', 'AEJ', 'Zoizit', 'Toxophilus', 'Cgt', 'Flemmingvestmark', 'KnudW', 'Roosevelthertz', 'Christian75', 'Steenen', 'MGA73', 'Hede2000', 'Christian89', 'Menix~dawiki', 'Metalindustrien', 'Brams', 'PhoenixV', 'Rune X2', 'Heelgrasper'], 'Sidsel Hindhede': ['AEJ', 'Hjart', 'Søren Lau', 'Christian Giersing', 'Steenth', 'Siksebuffen', 'Amjaabc'], 'Nanortalik': ['AEJ', 'Hjart', 'Toxophilus', 'Nico', 'Rodejong', 'Johnluisocasio', 'Pixi Uno', 'Erikhj', 'KnudW', 'Lena Dyrdal Andersen', 'Piginnaanilissuaq', 'Gerthn', 'Weliopark', 'Nikolaj', 'Kemp', 'Erik Bachmann', 'MGA73', 'Mads Ren`ai', 'B.A.C.'], 'Martin Sjögren': ['AEJ', 'Tylander', 'Sarrus'], 'Sam Smith': ['Siksebuffen', 'Hjart', 'Dipsacus fullonum', 'Nico', 'AEJ', 'Pugilist', 'Frid1682', 'Biscuit-in-Chief', 'SorenRK', 'Villy Fink Isaksen', 'Hi im gosu', 'Toxophilus', 'Christian List', 'Steenth', 'Cgt', 'Z33k'], 'Mariana Costa': ['Siksebuffen', 'Magn9359', 'PHE77', 'Mycomp', 'AEJ', 'Steenth', 'KnudW', 'Nico'], 'Tour de France 2006': ['PHE77', 'AEJ', 'Dipsacus fullonum', 'Hejsa', 'Jesper Bøtker Mortensen', 'Hofkas', 'Celtics', 'Pixi Uno', 'Christian75', 'Nis Hoff', 'Kviste', 'Harthacnut', 'Pred', 'JGC', 'Jeterfan', 'Medic', 'PAC-MAN', 'Malou', 'Danielle', 'Rune-wl', 'Santac', 'Manscher', 'Heelgrasper', 'Bsh', 'Tvarnoe', 'Myrdk', 'JohanJ', 'Moeng', 'Barklund', 'Ernst Poulsen', 'Asbjorn~dawiki', 'Frank R'], 'Hvidovre Kommune': ['Kristo1410', 'Hvidovre321', 'Bornsommer', 'Nico', 'Dipsacus fullonum', 'Oleryhlolsson', 'Mortenf', 'Marginataen', 'KnudW', 'Cilidus', 'AEJ', 'Jørgen', 'Morten Haagensen', 'Amkaa', 'Palnatoke', 'Steenth', 'Tauro31', 'HenrikKbh', 'Hubertus', 'MGA73', 'Kalaha', 'Patchfinder', 'Kasperli', 'MMAAGGNNUUSS', 'Loupeter', 'Pixi Uno', 'Anigif', 'CommonsDelinker', 'Zserghei', 'Conny~dawiki', 'Moeng', 'Jdv~dawiki', 'Froztbyte', 'M', 'Brams', 'Thrane', 'Jeppesn', 'Nord68', 'Janas~dawiki', 'Peregrine981', 'Twid'], 'Kærnemælkskoldskål': ['Savfisk', 'TherasTaneel', 'KnudW', 'Trade', 'Sejsej', 'Palnatoke', 'Medic', 'Christian75', 'Pugilist', 'Chri166j', 'AEJ', 'Masz', 'Adriao', 'Nillerdk', 'EPO', 'Glenn', 'Kaare', 'Thomas81'], 'Skjoldbruskkirtel': ['OrdinaryProtein', 'AEJ', 'Drlectin', 'Captain Pepperoni', 'Kinamand', 'Medic', 'Patchfinder', 'Jhertel', 'Capsaicin', 'Palnatoke', 'Boris M', 'Yawe', 'CordesP'], 'Kroatiske kuna': ['AEJ', 'CommonsDelinker', 'Necessary Evil', 'PerV', 'VilaAmalka', 'Trade', 'Philaweb'], 'Svebølle Boldklub og Idrætsforening': ['PHE77', 'AEJ', 'Godihrdt', 'Amjaabc', 'Sarrus', 'Infobesity', 'Dksport2015', 'Moeng', 'Pixi Uno', 'BoDeGA', 'Michael-hoffmann-hansen', 'Vistor', 'Mathiaskh', 'Steenth', 'Patchfinder', 'Froztbyte', 'EPO', 'Lcl'], 'Peter Regin': ['Siksebuffen', 'PHE77', 'Villy Fink Isaksen', 'Pebart2015', 'AEJ', 'Steenth', 'Urbandweller', 'Postbuddet', 'Vistor', 'Hockeyindustrien'], 'Hvidovre Idrætsforening': ['Ramloser', 'Hjart', 'Nico', 'Pelle S.H.', 'InsaneHacker', 'Santac', 'Sigvaldason', 'AEJ', 'KnudW', 'Tøndemageren', 'PHE77', 'Noopy2394', 'Pugilist', 'J.Riishøj', 'Clovis', 'Vistor', 'Amjaabc', 'Kim Bach', 'Patchfinder', 'Fodbold-fan', 'A3ng3l', 'Pixi Uno', 'Infobesity', 'Brandsen', 'Lasen', 'Urbandweller', 'Steenth', 'Kaare', 'C.Thure', 'Torben Weyhe', 'Froztbyte', 'Barklundo', 'KristianMadsen'], 'Denis Vavro': ['Pugilist', 'PHE77', 'Steenth', 'Tøndemageren', 'Mathiasesmann1999', 'KnudW', 'AEJ'], 'Vaccination': ['Drlectin', 'Pugilist', 'Artikler', 'Hjart', 'Daniel Broder', 'KnudW', 'PHE77', 'Krestenklit', 'TrolleF', 'Diepizza', 'Medic', 'AEJ', 'Zelrin', 'Fnielsen', 'Foden80', 'Patchfinder', 'Dan Koehl', 'Villy Fink Isaksen', 'Wiki-værkstedet (Praktikant)', 'XMedicus', 'Capsaicin', 'Casper Clark', 'Lægevaccinationsorganisation', 'Cgt', 'Mgarde', 'Sarrus', 'Loveless', 'Rune X2', 'Morten', 'Hchristophersen', 'Lilac Soul', 'CarinaT', 'Hede2000', 'Onkel Tuca', 'Ranveig'], 'Hvidovre Ligahockey': ['Henrik Hansen', 'Theilert', 'Sarrus', 'AEJ', 'Steenth', 'Silvertone1000'], 'Jonathan Edwards (teolog)': ['AdamSmithFan', 'Tjalland', 'Rodejong', 'PerV', 'Glenn', 'Tostarpadius'], 'Jyllinge FC': ['Hjart', 'Jyllinge Fc', 'Eldhufvud', 'Steenth', 'AEJ', 'Sorenhk', 'Nico', 'SimonH.T'], 'Gale Sondergaard': ['AEJ', 'PHE77', 'Nico', 'Biscuit-in-Chief', 'Zoizit', 'Tjalland', 'TherasTaneel', 'Ramloser', 'Hejsa'], 'Duus, Jesper': ['AEJ'], 'Marcel de Sade': ['Tandsryd', 'PHE77', 'Toxophilus', 'Oleryhlolsson', 'KnudW', 'Hassesorensen', 'Hjart', 'Gb0470', 'AEJ', 'Henryfunk', 'Tjalland', 'SorenRK', 'Villy Fink Isaksen', 'Karl Madsen', 'Orla Fokdal', 'C960657', 'Kamp', 'Palnatoke', 'Urbandweller', 'Sarrus'], 'Monmouth Castle': ['Aeonauthenticliving', 'Amjaabc', 'Madglad', 'Steenth', 'Toxophilus', 'Àlex', 'Urbandweller'], 'RB Leipzig': ['Andefar', 'Gunnar23', 'PHE77', 'Stepro', 'Sasu987', 'Sigvaldason', 'Makenzis', 'ErikW1998', 'CommonsDelinker', 'AEJ', 'KnudW', 'Kaare', 'Amjaabc', 'Fredhoff1996', 'Royal Export', 'Maus-78', 'Crudiant', 'Nkm99', 'Nikegoddess', 'Claus96', 'Patchfinder', 'Nico', 'Steenth', 'Infobesity', 'T-Stone'], 'HJK Helsinki': ['Gunnar23', 'Makenzis', 'PHE77', 'Amjaabc', 'Sigvaldason', 'Fodbold-fan', 'Patchfinder', 'EPO', 'Diupwijk', 'Nkarumaa', 'AEJ', 'Sarrus', 'Bøgelund', 'Loveless', 'Vistor', 'Barklundo', 'Henrik Hansen'], 'Marija Sjarapova': ['Siksebuffen', 'Hofkas', 'Zoizit', 'BlueJayFan52', 'PerV', 'PjotrMahh1', 'Pixi Uno', 'Mathnor', 'KnudW', 'Altaïr', 'AEJ', 'Allano', 'Henrik Hansen', 'Crazy maniac', 'DSS', 'Mike.lifeguard', 'Loveless', 'Thomas81', 'Pred', 'EPO', 'Kaare', 'Barklund', 'Barklundo', 'Jack Drago~dawiki', 'Santac'], 'Flemming Nielsen (fodboldspiller, født 1934)': ['Amjaabc', 'PHE77', 'Ramloser', 'Tøndemageren', 'Steenth', 'Grasmusb', 'AEJ', 'BillyDK', 'Orwell123', 'MGA73', 'Mathiaskh', 'Brandsen', 'DSS', 'Willierap', 'Tomjoad~dawiki', 'Lindberg', 'Froztbyte', 'Freeman~dawiki'], 'Vicente del Bosque': ['Weblars', 'AEJ', 'Celtics', 'Amjaabc', 'Tøndemageren', 'Trade', 'Wholle', 'Pixi Uno', 'Maasje', 'Steindy'], 'Ammoniumklorid': ['AEJ', 'Pugilist', 'Inc', 'KnudW', 'Bob Collowân', 'Glenn', 'Alexvillaro', 'Sarrus', 'Penguin', 'Christian75', 'Sir48', 'Nis Hoff', 'Thomas81', 'Jeppesn', 'Rasmusbyg', 'Danielle', 'Sten', 'Manscher', 'GunnerPoulsen', 'Peo', 'Maximus Rex~dawiki', 'Christian S~dawiki', 'Jone', 'Turbobernd~dawiki', 'Jørgen', 'Jan Pedersen'], 'Bo Svensson': ['FMSky', 'KnudW', 'RedBull1717', 'CengizHanAltai', 'RedBull317', 'EPO', 'Bjørn Clasen', 'AEJ', 'RSBTOZTjydfvx', 'Fußballfan240395', 'Weblars', 'Pandikas', 'Steenth', 'Pugilist', 'Dan Koehl', 'DK NL D', 'Kimsorensen84', 'RoBri', 'Celtics', 'Amjaabc', 'Vistor', 'Barklundo', 'Byrial'], 'Borussia Dortmund': ['Fodboldbrugeren', 'Gul1909', 'Andefar', 'Pugilist', 'ApocalypticMessenger', 'Hjart', 'Kjeldjoh', 'ZanioloDiego', 'KnudW', 'Anders-sandholm', 'Økonom', 'DiDicho', 'Sasu987', 'Sigvaldason', 'NisJørgensen', 'Tøndemageren', 'Sebastian Stoltz', 'Chri747y', 'Patchfinder', 'Pip Faurby', 'Vrenak', '-wuppertaler', 'Sasu985', 'Royal Export', 'Cgt', 'Amjaabc', 'Maus-78', 'Nico', 'TherasTaneel', 'Pikinummiudengummi', 'Frederiknielsen7', 'Celtics', 'CommonsDelinker', 'Pandikas', 'Fodbold-fan', 'Hornymanatee', 'Eden10Hazard', 'Trade', 'ThueGutten', 'Pelle S.H.', 'Infobesity', 'SimmeD', 'Pixi Uno', 'Lispir', 'Pwjg', 'DirtyxSanchez', 'Villy Fink Isaksen', 'Sarrus', 'MrBonde', 'Vistor', 'Moeng', 'Rja77101', 'Loveless', 'Barklundo', 'KristianMadsen', 'Pred'], 'Manuel Amoros': ['TherasTaneel', 'Celtics', 'Fodbold-fan', 'Trade', 'AEJ'], 'VM i ishockey 2013': ['Henrik Hansen', 'Terkel99', 'Sarrus', 'Tøndemageren', 'Nico', 'Johan U', 'Wholle', 'AEJ', 'Hejsa'], 'Bloody Sunday': ['PHE77', 'Pugilist', 'Økonom', 'EPO', 'BiotiKx', 'Asger', 'Necessary Evil', 'SorenRK', 'SimmeD', 'TherasTaneel', 'PerV', 'Patchfinder', 'Optimus Pred', 'Nico', 'Kwey09', 'CommonsDelinker', 'Cgt', 'Tjernobyl', 'MGA73', 'BillyDK', 'Inc', 'McWiuff', 'AEJ', 'Palnatoke', 'Amjaabc', 'Lindberg', 'Allano', 'Fredelige', 'Mads U N'], 'Rødovre Kommune': ['Bornsommer', 'Kristo1410', 'BenjaminMlynek', 'Vandcykel', 'Hrafnin', 'ArveprinsKnud', 'Dannebrog Spy', 'Christian Giersing', 'Økonom', 'AEJ', 'SorenRK', 'Morten Haagensen', 'Amkaa', 'Glenn', 'TorbenTT', 'Palnatoke', 'HenrikKbh', 'Gilbert.sneed', 'Hubertus', 'KnudW', 'Sarrus', 'Bjorn jensen', 'MGA73', 'Kalaha', 'Patchfinder', 'Thomas81', 'Pernoldi~dawiki', 'Kimgarsdal', 'Pixi Uno', 'Froztbyte', 'NicoPigo', 'Jørgen', 'Villy Fink Isaksen', 'Steenth', 'Geoand', 'Brandsen', 'Kaare', 'Moeng', 'Jdv~dawiki', 'M', 'Nico', 'Thrane', 'Henning Makholm', 'Gunnar Larsson', 'Nikai', 'Janas~dawiki', 'Twid'], 'Werner Grundahl': ['Vandcykel', 'Hejsa', 'Siksebuffen', 'Biscuit-in-Chief', 'AEJ', 'PHE77', 'Amjaabc', 'Urbandweller', 'Ultraman'], 'Kunstgødning': ['A09', 'Glenn', 'Hjart', 'KnudW', 'SimmeD', 'Vrenak', 'Tostarpadius', 'Patchfinder', 'Hofkas', 'CarinaT', 'Sarrus', 'Thomasrasmussen123', 'Nico', 'Kaare', 'DanNav', 'Sten', 'Christian75', 'Harne', 'Jørgen', 'Moeng', 'Apw', 'JGC', 'Damm~dawiki', 'Harthacnut'], 'Dominik Hašek': ['Villy Fink Isaksen', 'Siksebuffen', 'Pandikas', 'AEJ'], 'The Piper at the Gates of Dawn': ['AEJ', 'Dooba', 'Loveless', 'KasperPrip', 'Hede2000', 'Sten'], 'Marty Feldman': ['AEJ', 'Amjaabc', 'Glenn', 'TherasTaneel', 'Steenth', 'Moeng', 'Artikler', 'Tjernobyl', 'Nikolaj', 'Harlekin96'], 'Fredi Bobic': ['TherasTaneel', 'Heiko Gerber', 'AEJ', 'Celtics', 'Pandikas', 'Fodbold-fan'], 'Franck Ribéry': ['Andefar', 'Bornsommer', 'Mrloop', 'AEJ', 'Nico', 'KnudW', 'Cardakli', 'Villy Fink Isaksen', 'Tøndemageren', 'Cgt', 'Vrenak', 'Sarrus', 'Crudiant', 'Savfisk', 'Sorenhk', 'Docko', 'Fkrogh', 'Celtics', 'Pugilist', 'Seide 04', 'Fodbold-fan', 'Pixi Uno', 'Muxyadin', 'Dinfedeklammesæk', 'Amjaabc', 'Kaare', 'EPO', 'Mathiaskh', 'Hejsa', 'Hypuxylun', 'Nis Hoff', 'Froztbyte', 'Krog99', 'The Dennis', 'Steenth', 'Chris Benoit', 'Hchristophersen', 'Man-U', 'Tjernobyl', 'Mark Jensen', 'CarinaT'], 'Calgary': ['MGA73', 'Pugilist', 'Rasmusbyg', 'Weblars', 'Storslem', 'AEJ', 'EPO', 'Patchfinder', 'Sabbe', 'Santac', 'Palnatoke', 'Loveless', 'Barklund', 'Daneosaur', 'Tanuki Z', 'Byrial', 'Kaare'], 'Morten Madsen (ishockeyspiller)': ['Siksebuffen', 'Pugilist', 'Steenth', 'Urbandweller', 'Brandsen', 'Kaare', 'AEJ', 'Loveless', 'Hockeyindustrien', 'Barklundo'], 'Tommerup Stationsby': ['Hjart', 'Beethoven9', 'Kjeldjoh', 'PHE77', 'Rmir2', 'Dipsacus fullonum', 'MicBehrens', 'Nico', 'Jakob60', 'PHansen', 'Royal Export', 'KnudW', 'Sarrus', 'JacobGaxe', 'Christian List', 'Cgt', 'Søs13', 'Hubertus', 'Dampbarn', 'Patchfinder', 'Jimmi Agerskov', 'Kezze', 'Gorbi', 'AEJ', 'Nis Hoff', 'Kort til kirken', 'Moeng', 'Rasmusbyg', 'Michiel1972', 'Kaare', 'Peterjacobhansen', 'Timur~dawiki', 'JGC', 'Knak', 'Steenth', 'Bonulo'], 'Erik Nielsen (borgmester)': ['Hjart', 'Nico', 'Bobby7913', 'Bornsommer', 'Dannebrog Spy', 'SorenRK', 'ArveprinsKnud', 'Toxophilus', 'Erik 1707', 'Thomas Vedelsbøl', 'BillyDK', 'Brandsen', 'Pixi Uno', 'Urbandweller', 'Steenth', 'M', 'Sarrus', 'Palnatoke', 'AEJ'], 'Lafferkurven': ['Jørgen', 'AdamSmithFan', 'Økonom', 'Jhertel', 'Villy Fink Isaksen', 'Leszek Jańczuk', 'Postbuddet', 'Vindfeld', 'Druen', 'Rune X2', 'EPO', 'Palnatoke', 'Kemp'], 'Sydafrika': ['Zelrin', 'Santac', 'CommonsDelinker', 'Hjart', 'Pølse king', 'Eldhufvud', 'Tdn70', 'Akkuratesse', 'Orland', 'AEJ', 'Pugilist', 'BarrakoBarner', 'Nordfra', 'Gorbi', 'Weblars', 'SorenRK', '2+2=4 quick math', 'Brugernavn123456789', 'Trip Tucker', 'HapHaxion', 'Rmir2', 'PerV', 'Hejsa', 'Toxophilus', 'Martinellechero', 'KnudW', 'Camillasindesen', 'Moeng', 'Nico', 'Ah3kal', 'Savfisk', 'InsaneHacker', 'Patchfinder', 'Pixi Uno', 'Necessary Evil', 'Trade', 'Verdy p', 'Sorenhk', 'Palnatoke', 'Amjaabc', 'EPO', 'Purple Duke', 'Fry1989', 'DenisS', 'Masz', 'Lordofd', 'BKP', 'Fisk95', 'Zephyr~dawiki', 'Mathiaskh', 'Ultraman', 'Medic', 'Christian Giersing', 'Kaare', 'Metalindustrien', 'Sir48', 'LA2', 'Purbo T', 'Jhendin', 'Allano', 'Kris91', 'Christian List', 'Kemp', 'JGC', 'Loveless', 'Apw', 'Hestenalex', 'Siener', 'Danielle', 'PhoenixV', 'Pingvinlover', 'Mows', 'Uxejn', 'Hede2000', 'Jørgen', 'Manscher', 'Maitch', 'Suisui', 'Glenn', 'Agerskov', 'Peregrine981'], 'Alexander Sundberg': ['PHE77', 'Hockeyindustrien', 'AEJ', 'Brandsen', 'Nico', 'JGC', 'Rød Nummergøj'], 'Ronnie Schwartz': ['Steenth', 'Hjart', 'ApocalypticMessenger', 'Pandikas', 'KnudW', 'AEJ', 'Chri4d62', 'Amjaabc', 'Nico', 'SorenRK', 'Tøndemageren', 'Vrenak', '8900kbh', 'TherasTaneel', 'Royal Export', 'Asger', 'Dksport2015', 'The88Warrior', 'Ronnie2ksort', 'Santiagocazorla12356789', 'Fodbold-fan', 'Kwey09', 'GoldenlionDK', 'Pugilist', 'AB-me', 'Math981n', 'Pixi Uno', 'AaB-ern', 'Ay304', 'Patchfinder', 'Harne', 'Sarrus'], 'Blackburn Rovers F.C.': ['AEJ', 'Andefar', 'Tøndemageren', 'Sasu985', 'Celtics', 'Fodbold-fan', 'Infobesity', 'AaB-ern', 'Patchfinder', 'Sarrus', 'Bøgelund', 'Pugilist', 'Vistor', 'SimonBP', 'Thomas81', 'Fred Flinstones 666', 'Jonesy702', 'Hejsa', 'Barklundo', 'EPO', 'Pred'], 'Bertil F. Dorch': ['CommonsDelinker', 'Hjart', 'Dipsacus fullonum', 'Akselbo', 'Tjalland', 'Dorch', 'Thomas Vedelsbøl', 'Vrenak', 'THKAA', 'Metalindustrien', 'Rmir2'], 'International Floorball Federation': ['2millennium', 'Sarrus', 'Amjaabc', 'Sabbe'], 'Haji Wright': ['Siksebuffen', 'Andefar', 'AEJ', 'Zafer', 'ApocalypticMessenger', 'Tropapa', 'TherasTaneel'], 'Zack de la Rocha': ['AEJ', 'Pelle S.H.', 'M', 'Trade', 'CarinaT'], 'Taiwan': ['Hjart', 'Niels1979dk', 'Eldhufvud', 'Fispaul', 'Zabhood', 'AEJ', 'Akkuratesse', 'DanishComrade', 'Pugilist', 'KnudW', 'Young168t', 'Mbmoeller', 'Adamdanyx', 'Marc139a', 'Kjeldjoh', 'Dipsacus fullonum', 'EPO', 'PHE77', 'BiuerBoris', 'Rmir2', 'Chongkian', 'Christian Giersing', 'SorenRK', 'Hamzaronaldo77', 'Jørgen', 'Toxophilus', 'Amjaabc', 'Hyggehyggehygge', 'Bornsommer', 'Pelle S.H.', 'EileenSanda', 'Vincenty846', 'Leliva', 'Patchfinder', 'Sarrus', 'Royal Export', 'Palnatoke', 'PerV', 'Gorbi', 'Kaare', 'Rasmusbyg', 'Orakologen', 'Johan U', 'Kinamand', 'Wagner Texas Ranger', 'Viplux', 'Moeng', 'Thomas81', 'Metalindustrien', 'Allano', 'Nikolaj', 'Nico', 'Necessary Evil', 'Andersersej', 'Sten', 'Apw', 'Wegge', 'Hede2000', 'Tvarnoe', 'Manscher', 'Fred Bradstadt', 'Malene', 'Wolfram'], 'Kvasar': ['AEJ', 'CommonsDelinker', 'TherasTaneel', 'Glenn', 'Necessary Evil', 'Pugilist'], 'Inuit Ataqatigiit': ['PHE77', 'CommonsDelinker', 'Editantpv', 'Brittjay', 'Eyesnore', 'Gliwi', 'Amargaard', 'FelixFilm2006', 'Trygve W Nodeland', 'BALMAINM', 'Mads Tiemroth', 'Oleryhlolsson', 'HapHaxion', 'Trade', 'Batmacumba', 'PerV', 'Rmir2', 'Hertig', 'Madglad', 'EileenSanda', 'Patchfinder', 'Hofkas', 'Byrial', 'Glenn', 'Schoener alltag', 'Pixi Uno', 'EPO', 'Mathiaskh', 'Johannes Rohr', 'AEJ', 'Erik Christensen', 'Gravitone', 'Loveless', 'Staunited', 'Brandsen', 'Barklund', 'Amjaabc', 'GunnerPoulsen', 'Thorkild', 'Twid', 'BrianHansen'], 'Lasse Schøne': ['AEJ'], 'Colorado Avalanche': ['PHE77', 'Nico', 'TherasTaneel', 'Patchfinder', 'Nikolaj', 'AEJ', 'Loveless', 'Hockeyindustrien'], 'Nicolai Stokholm': ['PHE77', 'Steenth', 'Grasmusb', 'Pandikas', 'Nico', 'Sarrus', 'Kwey09', 'Tøndemageren', 'Pixi Uno', 'Kempfsigurd', 'Fodbold-fan', 'AEJ', 'Orwell123', 'VThomasAndersen', 'Mathiaskh', 'Jarvin', 'Lindberg', 'RKO~dawiki', 'PhoenixV'], 'Club La Santa': ['PHE77', 'Glenn', 'Per Meistrup', 'AEJ', 'Nico', 'Royal Export', 'KnudW', 'Steenth', 'Pixi Uno', 'Harne', 'Thomas81', 'Sir48'], 'Daniel Nielsen': ['Asger', 'Pandikas', 'Henrik Hansen', 'AEJ', 'EPO', 'D.N og L.L', 'Hockeyindustrien', 'Jeppe96'], 'Nielsen, Frans': ['AEJ'], 'Frederik Sørensen': ['ApocalypticMessenger', 'Nico', 'Steenth', 'Hartmut Haberland', 'Pandikas', 'Tøndemageren', 'Bjørn Clasen', 'Fodbold-fan', 'Taketa', 'Kimsorensen84', 'Pugilist', 'Kwey09', 'KnudW', 'AEJ', 'Sarrus'], 'Sveriges statsministre': ['Oleryhlolsson', 'Dipsacus fullonum', 'Saftgurka', 'Andefar', 'AEJ', 'Siksebuffen', 'Trip Tucker', 'Jhertel', 'Moeng', 'Tostarpadius', 'Steenth', 'Palnatoke', 'NivlekDa', 'Loveless'], 'Djibouti': ['Amtin', 'Thomas Vedelsbøl', 'BjarkeSK', 'Steenth', 'Trip Tucker', 'Weblars', 'AEJ', 'Toxophilus', 'SorenRK', 'Amjaabc', 'CommonsDelinker', 'Storslem', 'Sarrus', 'Rmir2', 'PerV', 'Moeng', 'Pandikas', 'Savfisk', 'Patchfinder', 'Sabbe', 'HenrikKbh', 'Quentinv57', 'Sir48', 'Purbo T', 'Allano', 'Hejsa', 'Necessary Evil', 'Apw', 'Hede2000', 'Palnatoke', 'Santac', 'LeonardoRob0t', 'Yurik', 'VseA', 'Peregrine981', 'Byrial'], 'Leningrad oblast': ['PHE77', 'A09', 'Trip Tucker', 'Orange-kun', 'Baccy', 'PerV', 'Dan Koehl', 'Weblars', 'Rmir2', 'Madglad', 'Kseroc', 'Sarrus'], 'Färs & Frosta Sparbank Arena': ['Pugilist', 'Patchfinder', 'Steenth', 'TherasTaneel', 'Trade', 'Johan U', 'AEJ', 'Sarrus'], 'Lene Hau': ['Dipsacus fullonum', 'AEJ', 'MSkriver', 'Toxophilus', 'Erikthau', 'TGCP', 'Pugilist', 'Nico', 'Tjalland', 'Bibliophilen', 'Thomas Vedelsbøl', 'EileenSanda', 'TherasTaneel', 'MellowMurmur', 'Villy Fink Isaksen', 'EPO', 'Ybidzian', 'Urbandweller', 'Trade', 'Glenn', 'Mons1957', 'Heelgrasper', 'Fnielsen', 'Malene', 'Palnatoke', 'Jeppesn', 'Tsh', 'Christian List', 'Surelars', 'TraxPlayer', 'BlueEel', 'BrianHansen', 'Haabet'], 'Body mass index': ['Tomastvivlaren', 'Drlectin', 'Inc', 'Amherst99', 'Nico', 'KnudW', 'Lsolesen', 'Knielsen81', 'AEJ', 'Tøndemageren', 'Leksikonguy', 'Gamren', 'Villy Fink Isaksen', 'Sorenhk', 'Dorte.jensen', 'Courcelles', 'PHE77', 'Thomas Kjeldsen', 'Kontoreg', 'Pugilist', 'Amjaabc', 'Toomai007', 'Soft~dawiki', 'Ultraman', 'Nanna.jeppesen', 'Christian75', 'Bernhard', 'Loveless', 'Harne', 'Masz', 'Sarrus', 'Pred', 'Rasmusbyg', 'Erwin', 'Kaare', 'Songbird~dawiki', 'Chlor', 'Morten', 'Zabhood', 'Manscher', 'Apw', 'Poul G', 'Palnatoke', 'Malene', 'Rune'], 'Dampskibsselskabet Øresund': ['Toxophilus', 'A. Jensen', 'SorenRK', 'Nico', 'Jesper71', 'Pixi Uno', 'Rodejong', 'Steenth', 'Urbandweller', 'Pugilist', 'Knudbe'], 'Malmö Redhawks': ['Pugilist', 'Nico', 'Patchfinder', 'AEJ', 'Barklund', 'EPO'], 'Frans Nielsen': ['PHE77', 'Nico', 'Tøndemageren', 'Villy Fink Isaksen', 'Optimus Pred', 'INeverCry', 'JonasJepsen', 'Steenth', 'Trade', 'KasperGp', 'KnudW', 'Amjaabc', 'AEJ', 'Sogc.christensen', 'Urbandweller', 'NyrupRasmussen', 'Hockeyindustrien', 'Santac', 'Ultraman', 'Wassini', 'Papedipappaps', 'Barklundo', 'Mikael V', 'Frank R', 'Ktp72', 'Palnatoke'], 'Mordet på Anna Lindh': ['PHE77', 'Risvang', 'Christian Giersing', 'CommonsDelinker', 'AEJ', 'Biscuit-in-Chief', 'Molaco', 'Villy Fink Isaksen', 'Palnatoke', 'Fnielsen', 'Rmir2', 'Drlectin', 'EPO', 'Hejsa', 'Christian75', 'Mathiaskh'], 'Wahhabisme': ['PHE77', 'Økonom', 'Rmir2', 'Gamren', 'AEJ', 'Patchfinder', 'Sbball96', 'Xhmee', 'IvarT', 'EPO', 'Qizilbash', 'Loveless', 'Pugilist', 'Sarrus', 'Nico', 'Jawad', 'LeonardoRob0t', 'Kaare', 'Byrial', 'Sten', 'Jan Pedersen'], 'New York Rangers': ['PHE77', 'TherasTaneel', 'Royal Export', 'Pugilist', 'Patchfinder', 'AEJ', 'Hockeyindustrien'], 'Karsten Aabrink': ['Brandsen', 'AEJ', 'Vistor'], 'Loftus Road': ['AEJ', 'Faroeman92', 'Patchfinder', 'Sarrus', 'Hejsa', 'Celtics'], 'Ehlers, Heinz': ['AEJ'], 'Karl Barth': ['Alexandramander', 'Tjalland', 'Андрей М-1212', 'Rodejong', 'Steenth', 'AdamSmithFan', 'CommonsDelinker', 'DizzinessOfFreedom', 'Pugilist', 'Royal Export', 'PHansen', 'TherasTaneel', 'Orwell123', 'Rekf', 'M', 'Villy Fink Isaksen', 'Nikolaj', 'Froztbyte', 'Loveless', 'Asger19'], 'Paul Elvstrøm': ['AEJ', 'Zoizit', 'Cgt', 'Suwa', 'Vistor', 'Gorbi', 'Pugilist', 'Amjaabc', 'Dinoideal', 'Hofkas', 'Orwell123', 'Sabbe', 'CommonsDelinker', 'Sir48', 'Brandsen', 'Rmelsen', 'Wasabi', 'Sorenrode', 'Hchristophersen', 'EPO', 'Curious Rune', 'Henrik Hansen', 'Tim R', 'Moziedk', 'Villy Fink Isaksen', 'Havregryn', 'Barklundo', 'Palnatoke', 'Jan Friberg', 'Hkja99', 'Ernst Poulsen', 'Byrial', 'Isfisk'], 'Rosenhøj Boldklub': ['Ramloser', 'Tokafest', 'AEJ', 'Pugilist', 'Nico', 'Infobesity', 'Iznogoodenator', 'Pixi Uno', 'Steenth', 'Mieee', 'Vistor', 'Kaare', 'Galatto', 'Froztbyte', 'Nickybutt', 'Barklundo', 'C.Thure', 'Glenn'], 'Bundesliga (håndbold)': ['AEJ', 'Onthehand', 'Kuddel', 'EileenSanda', 'Sarrus', 'Signe Pedersen', 'Natkatten', 'KnudW', 'Moeng', 'Lindberg', 'Nis Hoff'], 'Andreas Cornelius': ['Pugilist', 'Cgt', 'Johan8900', 'Siksebuffen', 'Alexanderolejnikovdanmark', 'Amjaabc', 'Hjart', 'Ceyhunkarakas99', 'Kaggertsen1', 'Busstop', 'Mads517', 'KnudW', 'Dannebrog Spy', 'Lysga lysga', 'Nico', 'MrKobna', 'AEJ', 'Tøndemageren', 'Kolban', 'Pandikas', 'Syvkabale', 'Trade', 'Pelle S.H.', 'Dipsacus fullonum', 'Copenhagenboy23', 'Madglad', 'Møllerensutr', 'Geelsmark', 'Sarrus', 'Vincentsselvmål', 'MartinCE', 'TheDanishViking', 'Medic', 'Robert.rasmussen', 'DanielMuffe2704', 'Andreas Müller', 'Gokkemanden', 'Fodbold-fan', 'Celtics', 'Mathiasbif77', 'Kwey09', 'Albert33', 'Pixi Uno', 'Sørensen.dk', 'Orwell123', 'Bianxo', 'SimmeD', 'Lorten1234', 'Wiki007~dawiki', 'LIU'], 'Matthew Perry': ['Dipsacus fullonum', 'Jhertel', 'FMSky', 'Detlukas', 'OriginalDBL', 'PHE77', 'AEJ', 'Oliv680f', 'HRoued', 'Hjart', 'Siksebuffen', 'Glenn', 'Tjelly2', 'Steenth', 'TherasTaneel', 'TDKR Chicago 101', 'Tøndemageren', 'Nico', 'CarinaT', 'CommonsDelinker', 'YaStiker', 'Boble-bobben', 'Brandsen', 'Loveless', 'Christian75', 'Hejsa', 'Thomas81', 'Moeng', 'Sabbe', 'Daniel laumann', 'Tvebak', 'E-Turner', 'Daniel-lf', 'Kaare', 'Pardy', 'Apw', 'R2k~dawiki', 'Tjernobyl', 'Tella~dawiki'], 'Calgary Flames': ['PHE77', 'Henrik Hansen', 'TherasTaneel', 'Patchfinder', 'AEJ', 'Kaare'], 'Interpol (band)': ['Zoizit', 'Steenth', 'Villy Fink Isaksen', '2eight', 'Kaare', 'Sabbe', 'CommonsDelinker', 'AEJ', 'Harne', 'PatrickM', 'Saddhiyama', 'EPO', 'UlrikOldenburg', 'Jan Friberg', 'Nico'], 'Marc Nygaard': ['AEJ', 'Steenth', 'Pandikas', 'Grasmusb', 'Zelrin', 'KnudW', 'Savfisk', 'Cgt', 'Fodbold-fan', 'Kwey09', 'Kaare', 'Steffer13', 'Tøndemageren', 'Pixi Uno', 'Michael-hoffmann-hansen', 'Amjaabc', 'Pugilist', 'Kimsorensen84', 'Brandsen', 'Mathiaskh', 'Sarrus', 'Hejsa', 'Celtics', 'Jørgen', 'Luke2000', 'Vistor'], 'EM i håndbold 2012 (mænd)': ['PHE77', 'Siksebuffen', 'Sarrus', 'KnudW', 'Trade', 'MathiasMajland1999', 'Heyjohn', 'Kaare', 'Hejsa', 'Steenth', 'Tøndemageren', 'Henrik Hansen', 'Philaweb', 'Pixi Uno', 'Juel123', 'Pigstar', 'Ahhh25', 'Nicklasthatsmexb', 'Sabbe', 'Tjernobyl', 'Wikijens', 'Amjaabc', 'Altaïr', 'Marecare96', 'Nico', 'Wholle', 'Hadberg', 'AEJ', 'Allentoft', 'Nis Hoff', 'Harne'], 'Fonzie': ['MGA73', 'AEJ', 'Hofkas', 'Zoizit', 'Lemser02'], '+/-': ['AEJ'], 'Pittsburgh Penguins': ['PHE77', 'Dale Arnett', 'TherasTaneel', 'TastyPoutine', 'Sorenhk', 'Stausholm89', 'Sarrus', 'Steenth', 'Nikolaj', 'Nomoma', 'AEJ', 'Hockeyindustrien', 'Kaare'], 'Thibaut Courtois': ['Siksebuffen', 'Hjart', 'Pelle S.H.', 'Tøndemageren', 'AEJ', 'Armania1728', 'Celtics', 'PerV', 'Nico', 'KnudW', 'Chri747y', 'Palnatoke', 'Taketa', 'Fodbold-fan', 'Trade', 'Steenth'], 'Svetlana Kusnetsova': ['PHE77', 'Ingmar~dawiki', 'Siksebuffen', 'Nico', 'Zoizit', 'Shegolkov', 'Rekf', 'Amjaabc', 'Loveless', 'AEJ', 'Henrik Hansen', 'Hejsa'], 'Komier': ['PHE77', 'AEJ', 'Rmir2', 'Patchfinder', 'PerV', 'Trade', 'Sarrus', 'Steenth', 'Rune X2'], 'Jan Hus': ['Alexandramander', 'Glenn', 'Pugilist', 'SorenRK', 'Toxophilus', 'PerV', 'TherasTaneel', 'Cgt', 'Madglad', 'SimmeD', 'Crudiant', 'Tostarpadius', 'Nico', 'Glaisher', 'Bob Collowân', 'Jørgen', 'Kemiskforsker', 'KnudW', 'AEJ', 'DanNav', 'Mikebamsen', 'Ellerbams', 'Steenth', 'Mathiaskh', 'Lena Dyrdal Andersen', 'Christian Giersing', 'Masz', 'Jeppe9999', 'Kaare', 'EPO', 'Ev', 'Jakobrahbek', 'Sir48', 'Moeng', 'Gjensen', 'Brams', 'Ktp72', 'Heelgrasper', 'Palnatoke'], 'Teaterflisen': ['Abaftsaver', 'Toxophilus', 'SorenRK', 'Vrenak', 'Zoizit', 'KnudW', 'Teaterflisen'], 'Rederiet Sundfarten': ['A. Jensen', 'Nico', 'LinguineFusilli'], 'Olympiske lege': ['Glenn', 'KnudW', 'Orale140605', 'Huusmik', 'A09', 'Santac', 'Hjart', 'Trinekc', 'Godihrdt', 'Tøndemageren', 'Nordfra', 'Amjaabc', 'Hofkas', 'Solange', 'TherasTaneel', 'Madglad', 'Zoizit', 'Siksebuffen', 'Kaare', 'Royal Export', 'Crudiant', 'Palnatoke', 'Moeng', 'InsaneHacker', 'Rotlink', 'Tjalland', 'Henrik Hansen', 'Kontoreg', 'Thomas Kjeldsen', 'Steenth', 'Pugilist', 'EPO', 'Trade', 'Sara755c', 'Cgt', 'Jørgen', 'Pixi Uno', 'BKP', 'Christian75', 'Sidefor', 'Sasha', 'Stang~dawiki', 'Masz', 'Christophersen', 'Hejsa', 'Wegge', 'Necessary Evil', 'Metalindustrien', 'Danielle', 'Oliver6700', 'Froztbyte', 'Nikolaj', 'Foto', 'Thomas81', 'Nico', 'Sabbe', 'Lindberg', 'Erik Damskier', 'PhoenixV', 'Sunds', 'Ernst Poulsen', 'Pred', 'Mads møller', 'Poul G', 'Heelgrasper', 'BispensGipsGebis', 'BjornGraabek', 'Css~dawiki', 'Fatpanda', 'Jan Pedersen', 'Nielstrup', 'BrianHansen', 'Christian List', 'Agerskov'], 'COVID-19': ['Pugilist', 'Per Meistrup', 'Drlectin', 'KnudW', 'Dipsacus fullonum', 'Steenth', 'Fispaul', 'Santac', 'Hjart', 'Fnielsen', 'Amargaard', 'TGCP', 'Glenn', 'Cp20072007', 'PHansen', 'Johanhilge', 'Nico', 'TheRealsSquid', 'Ramloser', 'CommonsDelinker', 'OrangeBiteyThing', 'Biscuit-in-Chief', 'RhinoMind', 'Nikothegirl', 'Ole Lund Christensen', 'AEJ', 'Mortens9', 'Masz', 'Toxophilus', 'Kaare'], 'Île-de-France': ['PHE77', 'Bornsommer', 'AEJ', 'CommonsDelinker', 'Austrazil', 'Cycn', 'SorenRK', 'Pugilist', 'Asger', 'HenrikKbh', 'Steenth', 'Marek69', 'Loveless', 'Sir48', 'Moeng', 'Amkaa', 'Brandsen', 'Harthacnut', 'Isfisk'], 'Malthe Thomsen': ['Tjalland', 'AEJ', 'Thue', 'SorenRK', 'Jørgen', 'Zoizit', 'Ocean of Storms', 'Gamren', 'Villy Fink Isaksen'], 'Idioterne': ['Pardy', 'Amjaabc', 'Pugilist', 'Danand', 'Steenth', 'Siksebuffen', 'AEJ', 'Trade', 'Hartenhof', 'Hejsa', 'Moeng', 'Cineclopedia', 'Tjernobyl', 'EPO', 'Malou', 'Mons1957', 'Scm', 'Pred', 'Palnatoke', 'B.A.C.'], 'Espelundens Idrætsanlæg': ['Hjart', 'Wdymbydat', 'Trekw', 'Stempelquist', 'Royal Export', 'Infobesity', 'Steenth', 'AEJ', 'Froztbyte', 'Kaare', 'Santac'], 'Reykjavik': ['PHansen', 'Sarah Layton', 'AEJ', 'Dipsacus fullonum', 'Christian Giersing', 'KnudW', 'Sorenhk', 'PerV', 'Toxophilus', 'Bornsommer', 'Solange', 'Villy Fink Isaksen', 'Rmir2', 'Marko Markako', 'Homo lupus', 'PHE77', 'SorenRK', 'Batmacumba', 'Pugilist', 'Kristinkaradottir', 'Pixi Uno', 'Rotlink', 'Ramloser', 'BKP', 'Hartmut Haberland', 'Steenth', 'Mathiaskh', 'CommonsDelinker', 'Holder', 'EPO', '3F', 'Hede2000', 'Sveinbjorg', 'Thomas81', 'CarinaT', 'Gunnarbach', 'Santac', 'Loveless', 'Michael riber jorgensen', 'Musubana', 'Kaare', 'Nico', 'Metalindustrien', 'Pred', 'Sebastjan', 'Malene', 'Sir48', 'Sauðkindin~dawiki', 'LeonardoRob0t', 'Immanuel Giel', 'Jørgen', 'Byrial', 'Glenn', 'Fnielsen', 'Jan Pedersen'], 'Prædestination': ['Pugilist', 'Alexandramander', 'Glenn', 'Tjalland', 'AdamSmithFan', 'Werddemer', 'Silasriis', 'Adamsen', 'Peterhansen'], 'Kasper Pedersen (ishockeyspiller)': ['AaB-ern', 'Trade', 'Pugilist', 'AEJ', 'Sarrus', 'FIKWH', 'Allano', 'Ultraman'], 'Västerås': ['Trip Tucker', 'PHE77', 'AEJ', 'Stalverk80', 'Sarah Layton', 'Kemp', 'BKP', 'Trade', 'Nico', 'Patchfinder', 'Steenth', 'Amjaabc', 'Kaare', 'Hchristophersen', 'Loveless', 'Polarlys'], 'Boldklubben 1903': ['Ulrik marschall', 'Pugilist', 'PHE77', 'Bornsommer', 'AEJ', 'Sigvaldason', 'Santiago Claudio', 'Clovis', 'Sarrus', 'Urbandweller', 'Bolddreng', 'Amjaabc', 'Ysangkok', 'Chri747y', 'Patchfinder', 'Fodbold-fan', 'Mathias2100', 'EPO', 'Pixi Uno', 'Froztbyte', 'Infobesity', 'Steenth', 'Jakes~dawiki', 'Christian75', 'Loveless', 'Nico', 'MGA73', 'Apw', 'C.Thure', 'Barklundo', 'Vagn30', 'Milhoj', 'Kaare', 'Hede2000'], 'Haiti': ['Steenth', 'Fnielsen', 'Glenn', 'Pugilist', 'Martin Macha 2111', 'Giammarco Ferrari', 'Bornsommer', 'Godihrdt', 'Zelrin', 'Savfisk', 'SorenRK', 'Jensga', 'NisJørgensen', 'CommonsDelinker', 'Sarah Layton', 'Cgt', 'Magn9372', 'Trip Tucker', 'KnudW', 'Optimus Pred', 'Moeng', 'Rotlink', 'Staunited', 'Palnatoke', 'HenrikKbh', 'AEJ', 'Pixi Uno', 'Jonjojo', 'Klaus96', 'Oliver96~dawiki', 'Villy Fink Isaksen', 'Denuartige', 'Br drengen', 'Thaudahl', 'Christian75', 'Lingvisten', 'Tomm~dawiki', 'Nico', 'Sarrus', 'Loveless', 'Mathiaskh', 'Christian Giersing', 'Hiltom22', 'Killziky', 'C960657', 'EPO', 'Hejsa', 'Jørgen', 'Allano', 'PHansen', 'Nis Hoff', 'Necessary Evil', 'Sasha', 'Sommer og vinter', 'Christian List', 'Grey-Fox', 'Erik Christensen', 'Thomas81', 'Masz', 'Kaffemaskine', 'Sabbe', 'BBQ - BBQ', 'Mikstef', 'Nono-1966', 'Gorbi', 'Jan Friberg', 'Amjaabc', 'Mikewilken', 'Sir48', 'Inc', 'Lax~dawiki', 'JGC', 'Apw', 'Hede2000', 'Yurik', 'Manscher', 'Byrial', 'BrianHansen', 'Jan Pedersen'], 'IHF-Århus': ['Amjaabc', 'AEJ', 'IvarT', 'Steenth', 'Clovis', 'Trade', 'Sarrus', 'Hubertus', 'Palnatoke', 'Mads Ren`ai', 'Madspoulsen'], 'Amyotrofisk lateral sklerose': ['Medic', 'EPO', 'Tøndemageren', 'Pugilist', 'TherasTaneel', 'Kim Bach', 'Jakobdam', 'Mads Haupt', 'KnudW', 'Crudiant', 'Pelle S.H.', 'Alapyr', 'Jhertel', 'Drlectin', 'Weblars', 'Marloth2000', 'Steenth', 'Christian75', 'AEJ', 'Amjaabc', 'Santac', 'Jesperdahl'], 'Men at Work': ['Pugilist', 'AEJ', 'Steenth', 'Zoizit', 'Hede2000', 'Sir48', 'Jakob mark', 'Wassini'], 'Tjernihiv': ['Trip Tucker', 'A09', 'Nickispeaki', 'Makenzis', 'PerV', 'Sangjinhwa', 'Δ', 'Hejsa'], 'Carmen (opera)': ['Aeonauthenticliving', 'Økonom', 'Jhertel', 'Steenth', 'Toxophilus', 'CommonsDelinker', 'Fregerslev', 'InsaneHacker', 'Magnus Schou', 'KnudW', 'Erik Damskier', 'Tijd-jp', 'Sarrus', 'JGC', 'Leolaursen', 'Sebastjan', 'Malou', 'LeonardoRob0t', 'Sten', 'Penguin', 'Byrial', 'Kaare', 'Glenn', 'Jan Pedersen'], 'Hans Qvist (tegner)': ['SorenRK', 'AEJ', 'Steenth', 'Christian Giersing', 'M', 'Villy Fink Isaksen', 'Mons1957', 'Amjaabc', 'Frank R', 'Hede2000', 'Mantson'], 'Eisenhüttenstadt': ['Tintin jr.', 'AEJ', 'Madglad', 'Hans G. Oberlack', 'Taketa', 'BKP', 'Nico'], 'Edward Duyker': ['A09', 'Minorax', 'Steenth', 'Tjalland', 'Brol', 'Nico', 'Orakologen', 'Rekf', 'Urbandweller'], 'Amarok': ['MichielN', 'Steenth', 'AEJ', 'Moeng', 'Fnielsen', 'Marc-André Aßbrock', 'Cgt', 'Kimse84'], 'Bødker, Mikkel': ['AEJ'], 'Samsølinjen': ['A. Jensen', 'PHE77', 'Zelrin', 'Nico', 'Toxophilus', 'Kallorius', 'Pugilist', 'Ndsm', 'VicVal', 'Krygerlarsen', 'Pixi Uno', 'RhinoMind', 'EosKøge', 'KnudW', 'MC Kasser', 'Rodejong'], 'Skybruddet den 2. juli 2011': ['Jhertel', 'Pelle S.H.', 'Dipsacus fullonum', 'Madglad', 'AEJ', 'Ysangkok', 'Zoizit', 'Villy Fink Isaksen', 'TGCP', 'KnudW', 'Toxophilus', 'Santac', 'Fnielsen', 'Nillerdk', 'Necessary Evil', 'Sarrus', 'Patchfinder', 'Heb', 'Thue', 'Medic', 'Saddhiyama', 'Sorenolin', 'Trade'], 'Pavel Datsjuk': ['Ingmar~dawiki', 'Siksebuffen', 'PHE77', 'Tjalland', 'Trade', 'PerV', 'SecretName101', 'Pandikas', 'Rekf', 'Allano', 'AEJ', 'Rjd0060', 'NBS'], 'Sukhoj Su-27': ['Pelle S.H.', 'Hytytyt', 'Hjart', 'Santac', 'Eldhufvud', 'Pugilist', 'A09', 'Uli Elch', 'Solange', 'Villy Fink Isaksen', 'Optimus Pred'], 'Vakuum isolerede fordamper': ['TGCP', 'Glenn', 'AEJ', 'DenBlaaElg', 'Steenth', 'Medicohih'], 'Arktisk Kommando': ['Albertmoebius', 'Poul G', 'EPO', 'Birchswamp', 'Abu ari', 'Skjoldbro', 'Patchfinder', 'Mtlarsen', 'Necessary Evil'], 'Rødovrehallen': ['Steenth', 'AEJ', 'Mrstendal', 'Dannebrog Spy', 'Erikhj', 'Brandsen'], 'Skat (kortspil)': ['AEJ', 'Pugilist', 'ThomasRiem', 'Hartmut Haberland', 'Nyhave', 'Nickoe', 'Soccerwatcher', 'Christian Giersing', 'Steenth', 'Sarrus', 'Loveless', 'Allan64~dawiki', 'Jj@fiolgade.dk', 'Eberfeld', 'Thomas81', 'Jim~dawiki', 'Palnatoke', 'Tsh', 'Byrial', 'Isfisk', 'Mikue', 'Jan Pedersen'], 'Gefion Gymnasium': ['Hjart', 'Pelle S.H.', 'Vistor', 'Økonom', 'AdamSmithFan', 'Safran M', 'ArveprinsKnud', 'TherasTaneel', 'KnudW', 'Fritzie', 'Necessary Evil', 'Masz', 'Sarrus', 'Hchristophersen', 'Penguin'], 'Otis': ['A09', '1020D', 'Pugilist', 'Patchfinder', 'Adailton', 'MGA73', 'So9q'], 'Inkavejene': ['AEJ', 'DenBlaaElg', 'PHE77', 'Pugilist', 'Nico', 'Toxophilus', 'Trade', 'Kar-nung'], 'Bjørn Lomborg': ['Glenn', 'Tjalland', 'Økonom', 'Henrik Villum', 'Biscuit-in-Chief', 'AEJ', 'Apokrif', 'Toxophilus', 'Trade', 'Morten Svensson', 'Dan Koehl', 'Staunited', 'Villy Fink Isaksen', 'Steenth', 'TherasTaneel', 'Fnielsen', 'Palnatoke', 'Urbandweller', 'KnudW', 'Donauwelle~dawiki', 'Cgt', 'EosKøge', 'Tostarpadius', 'Pixi Uno', 'Entropeter', 'Brandsen', 'EPO', 'Necessary Evil', 'Kontrollen', 'Kirjapan', 'Kaare', 'Mathiaskh', 'Pugilist', 'Nis Hoff', 'Fillen', 'Rosenquist', 'Mads Ren`ai', 'Rune X2', 'Thomas81', 'Danielle', 'Jørgen', 'Harthacnut', 'Loveless', 'Metalindustrien', 'Sangild', 'Nico', 'Nikolaj', 'Amjaabc', 'Morten', 'Ukuleleole', 'Mons1957', 'Olejasz', 'Nsaa', 'Erik Corry~dawiki', 'Pinnerup', 'Christian List', 'Thorkild', 'Henrik Hansen', 'Wildt', 'Jone'], 'Betelgeuse': ['AEJ', 'Dorch', 'MGA73', 'KnudW', 'PHE77', 'Pyrros', 'Glenn', 'SorenRK', 'Sarrus', 'John.St', 'Sir48', 'Drlectin', 'Kaare', 'Sakkura', 'Malene', 'GunnerPoulsen'], 'Ottawa Senators': ['Henrik Hansen', 'PHE77', 'TherasTaneel', 'TastyPoutine', 'Patchfinder', 'Medic', 'Nomoma', 'AEJ', 'Hockeyindustrien'], 'Rufus Wainwright': ['AEJ', 'SorenRK', 'Toxophilus', 'Villy Fink Isaksen', 'Byrial', 'Steenth', 'Trade', 'Pelle S.H.', 'Rumabe', 'DrDose', 'Zerlina', 'Uffep', 'Staunited', 'Hcholdt', 'Pred', 'Harthacnut'], 'Finlands fodboldlandshold': ['AEJ', 'Andefar', 'Jjkankila', 'Flix11', 'SorenRK', 'Tøndemageren', 'Juqipedia', 'Pixi Uno', 'Trade', 'Thomas81', 'DSS', 'Vistor'], 'Preben': ['PHE77', 'AEJ', 'Prebug', 'Nordfra', 'Vrenak', 'Apw', 'Fod', 'Jørgen'], 'Morten Andersen (amerikansk fodboldspiller)': ['AEJ', 'PHE77', 'TranEmpl', 'Siksebuffen', 'Nico', 'Trade', 'TherasTaneel', 'Savfisk', 'Pugilist', 'Johan U', 'Urbandweller', 'JPehrson~dawiki', 'Kwey09', 'JayPeque', 'CommonsDelinker', 'Peterggg', 'Pixi Uno', 'Dannyvilla91', 'Sarrus', 'Brandsen', 'Kaare', 'Palnatoke', 'Hans1995', 'Friis6091', 'AaB-ern', 'Amjaabc', 'Celtics', 'Hockeyindustrien', 'Anne Henriksen', 'AB-me', 'Santac', 'Heelgrasper', 'Sakkura', 'EPO', 'Barklund', 'Oernbo', 'IbRas', 'AK92', 'Ryuujin~dawiki', 'Micken~dawiki', 'Kramer~dawiki', 'Mts2605', 'Ernst Poulsen', 'Malene', 'Leif Thorup', 'Ulvund', 'Frank R', 'Byrial', 'Kiilerich', 'Lensi', 'Hansjorn', 'Maya123'], 'Mr. Lordi': ['Aeonauthenticliving', 'OriginalDBL', 'Hjart', 'Wojciech Pędzich', 'Siksebuffen', 'Sarah Layton', 'Steenth', 'Ultraman', 'Monsterknight', 'Palnatoke', 'CarinaT', 'Nico', 'Trade', 'Thomas Vedelsbøl', 'Neustradamus', 'Kaare', 'Jan Friberg', 'Danielle', 'EPO', 'Pardy', 'Thomas81', 'Pred', 'Heelgrasper', 'Rammstein9932', 'Phpgeek'], 'Starkov, Kirill': ['AEJ'], 'University College Dublin': ['AEJ', 'Toxophilus', 'Dipsacus fullonum', 'Nico', 'Gretemahler', 'KnudW', 'Frysun'], 'Brian Greer': ['Malouilover123', 'Steenth', 'Gorbi', 'Pixi Uno', 'AEJ', 'Bernard4'], 'Emil Brunner': ['Hjart', 'AdamSmithFan'], 'Islands fodboldlandshold': ['Amjaabc', 'Peter Bang Bøglund', 'Palnatoke', 'Steenth', 'PHE77', 'Gunnar23', 'EileenSanda', 'AEJ', 'SorenRK', 'Oliv9751', 'Lotje', 'Tøndemageren', 'Villy Fink Isaksen', 'Hejsa', 'Royal Export', 'Pixi Uno', 'Trade', 'Diupwijk', 'DSS', 'Vistor'], 'To verdener': ['Siksebuffen', 'Madglad', 'SorenRK', 'TherasTaneel', 'Andreas Müller', 'Toxophilus', 'Steenth', 'KnudW', 'Rodejong', 'Pugilist', 'AEJ', 'Trade', 'Nico', 'Lijealso', 'Allano', 'Brandon.macuser', 'Tjernobyl', 'Man-U', 'Mickelh'], 'Brøndby IF': ['Hjart', 'Antonioholsted', 'PHE77', 'Steenth', 'The88Warrior', 'Carl.hendrix', 'Pugilist', 'WiseguyJones', 'Aksel Hansen', 'Nico', 'Vandcykel', 'Gunnar23', 'Bornsommer', 'Sigvaldason', 'Akkuratesse', 'ApocalypticMessenger', 'VHR1313', 'Morten Haagensen', 'Faldereb', 'EileenSanda', 'Jacobvsh', 'Henrik kps', 'Christian Giersing', 'Bocanegra', 'Tøndemageren', 'Tux1230', 'Trekw', 'EriFr', 'Kongen af fodbold', 'Weblars', 'KnudW', 'William1423', 'Petersen1942', 'Pandikas', 'Amjaabc', 'JonasBR', 'Villy Fink Isaksen', 'Umolich', 'Ramloser', 'Bolddreng', 'Lgulbaek', 'Chri747y', 'Ksjohansen', 'BeagleDude', 'Marcus Cyron', 'Erylaos', 'Yoda1893', 'AEJ', 'JutlandHollows', 'Dipsacus fullonum', 'Royal Export', 'TherasTaneel', 'Sasu985', 'Denpinkepanda', 'Sasu987', 'Jakf', 'Thomas Jeppe', 'Fcmemil', 'Mikkel705', 'Prip~dawiki', 'Mathiaslundahlgren', 'Moeng', 'Magn0984', 'EPO', 'Mikkelfriis1', 'Fodbold-fan', 'NielsHindborg', 'A3ng3l', 'Saesonkort', 'Crazy maniac', 'Tostarpadius', 'Toxophilus', 'Eden10Hazard', 'Asger', 'Infobesity', 'Mikk930d', 'Prutten', 'Kwey09', 'Savfisk', 'LasseVp', 'Shabdoo', 'Ssk2600', 'Glenn', 'Postbuddet', 'Andreas-lodahl', 'Pixi Uno', 'Trade', 'Casper006', 'Patchfinder', 'Nickerreal', 'Molich', 'Rmir2', 'Hockeyindustrien', 'Abrixp', 'Sarrus', 'Andreas Müller', 'Geekboy3000', 'Celtics', 'Oliver606', 'Fodbold kongen', 'EgoCentric', 'EmilSecher', 'Klinting', 'Mathiaskh', 'Nicq', 'Christian75', 'Bøgelund', 'Br drengen', 'Palnatoke', 'Anders-k', 'Vistor', 'CentrinoDK', 'Masz', 'Thomas81', 'AllanCapone', 'Mads Ren`ai', 'Centrino~dawiki', 'Gorm42', 'Stefanvase', 'Kaare', 'Mads-92', 'VH4RDSTYLEFRE4K01', 'Gorbi', 'Heltborg53', 'Hejsa', 'Jay-der', 'Holmen8', 'Hader-bif', 'Ronaldo7777777', 'Meiz', 'Nis Hoff', 'Byrial', 'Søren Fink', 'Lillebror94', 'Jørgen', 'Oliverbif1', 'Dinmorsfar', 'Mikekl20', 'Fck4ever', 'Allano', 'Santac', 'MGA73', 'Mark Jensen', 'Froztbyte', 'C.Thure', 'Donskis', 'Superbif', 'CarinaT', 'Jasper~dawiki', 'Kim feder', 'Nikolaj', 'Joohnny peter', 'Firat1', 'Sutterkarl', 'Mypride~dawiki', 'LA2', 'Pylleæg', 'PhoenixV', 'RasmusAalbæk', 'Strong44', 'Mceppe', 'Paaske36', 'Ktp72', 'Christian91~dawiki', 'Uffe-viborg', 'Olejasz', 'Staffan', 'Change~dawiki', 'Henjar', 'Jens Peter Kaj Jensen', 'Jan Kronsell', 'Apw', 'Aria-Ramos', 'Tuuma', 'Metalindustrien', 'Havregryn', 'Malund', 'Barklundo', 'Onkel Tuca', 'Eirik', 'Sir48', 'OO-Karina-Oo', 'DannyJ', 'GreatDane23', 'Manscher', 'Maitch', 'Barklund', 'Tailang', 'Royalblue', 'Vagn30', 'Ernst Poulsen', 'Nickybutt', 'Jan Friberg', 'Morten', 'Paaske', 'Heelgrasper', 'Wegge', 'JohanJ', 'RJDK', 'Lars Helbo', 'Snailwalker', 'Hansjorn', 'Frank R', 'Gunnar Larsson', 'Kim H', 'Emilio~dawiki', 'Isfisk', 'Henrik Hansen'], 'Længstlevende personer': ['A.sav', 'Økonom', 'Hjart', 'Preferencefri', 'Oleryhlolsson', 'Dipsacus fullonum', 'Toxophilus', 'Gorbi', 'Waenceslaus', 'Madglad', 'Brams', 'Augustrohlin', 'Oliv9751', 'Doppelgænger', 'Rodejong', 'Babylone2094', 'Nico', 'Sarah Layton', 'Blanki Ostfalen', 'Sarrus', 'Kinamand', 'Galà', 'EileenSanda', '美区', 'Kaare'], 'Cary Grant': ['JayPeque', 'Økonom', 'Tjalland', 'Weblars', 'AEJ', 'Steenth', 'TherasTaneel', 'Trade', 'KnudW', 'Pixi Uno', 'Amjaabc', 'Pugilist', 'Kaare', 'BKP', 'E-Turner', 'Loveless', 'Saddhiyama', 'Malou', 'Mons1957', 'Malene', 'Heelgrasper'], 'AnsaldoBredas førerløse metrotogsæt': ['AEJ', 'PHE77', 'Christian Giersing', 'Ysangkok', 'Kalaha', 'Madseckert', 'Steenth', 'TGCP', 'VicVal', 'Patchfinder', 'Pixi Uno', 'C960657'], 'F.C. København': ['Økonom', 'Brandsen', 'Pugilist', 'Jonas rinholdt', 'Dozo69', 'Qwerty13556', 'Infobesity', 'Philipwu8511', 'Erobran', 'Brumbassen', 'Call0064', 'Madglad', 'Noah4241', 'Finasiøren', 'Gunnar23', 'AEJ', 'Sigvaldason', 'Fedejohn', 'Uniwiki', 'Tux1230', 'Antondk21', 'Akkuratesse', 'Toxophilus', 'Birqer', 'Hjart', 'Math297c', 'Udholm', 'Mathiasesmann1999', 'Amjaabc', 'Tøndemageren', 'Chri747y', 'Stempelquist', 'Godihrdt', 'Sofieemma', 'Tobias1409', 'Conrad235', 'Medic', 'Swagister20', 'Jørgen', 'HaderFCK123', 'Hanser12', 'CommonsDelinker', 'Villy Fink Isaksen', 'Pandikas', 'Hofkas', 'Bolddreng', 'Fussbolfan', 'Oddur', 'Hafnia2003', 'NielsHindborg', 'SorenRK', 'Biso', 'Fisk95', 'FC William', 'Møllerensutr', 'Tofo23', 'Jaanklaas', 'PerV', 'Olivergulli', 'Mathiaslundahlgren', 'Royal Export', 'Vrenak', 'JesperSorensen', 'Sarrus', 'Sasu985', 'AndreasKofoed', 'Fcmemil', 'Kim Bach', 'Palnatoke', 'Cgt', 'Bech1205', 'Mikkelfriis1', 'FrederikBlicher', 'Krugmeisteren', 'Fodbold-fan', 'Mikkelfriis', 'Carl.hendrix', 'RhinoMind', 'Doris9210', 'Pixi Uno', 'Mathnor', 'Champ3n1', 'Mwonsyld', 'Abramovich', 'Jakf', 'EPO', 'Pelle5', 'KeverHop', 'Wiki007~dawiki', 'Maggerwiki', 'BuchMASTER', 'Fnielsen', 'Vistor', 'Orwell123', 'David-golota', 'RuneSQvist', 'Kwey09', 'Kalaha', 'Undeviginti', 'ThomasEdwards91', 'Kloster2630', 'MikkelAH', 'Chrisbb', 'Steenth', 'JonasJepsen', 'Phpgeek', 'Br drengen', 'Christian Giersing', 'Masterper199', 'Hubertus', 'Bittermand', 'Monder', 'Simonmt', 'EmilSecher', 'Mathiaskh', 'Mrloop', 'Lasen', 'Mr1Nico', 'Nicq', 'Bøgelund', 'KnudW', 'Isbjørnelort', 'Xxkrolle', 'Fuglesang', 'Christian75', 'Tabasco95', 'Patchfinder', 'Milo95~dawiki', 'Chris.stina', 'Crueligan', 'Lindberg', 'Froztbyte', 'Habbo-boy', 'Jrballe', 'Gorbi', 'Frederik22', 'Masz', 'Sir48', 'M', 'Moeng', 'Thomas81', 'Allano', 'Pålog', 'Markusbarrit', 'Cometstyles', 'The French never won a war.', 'Hejsa', 'MGA73', 'DJ-William', 'Pattepadde', 'Mark Jensen', 'Sabbe', 'LALALA123123', 'C.Thure', 'Kaare', 'Madzzoni', 'FQL', 'Jensen2850', 'DSS', 'Dinfarerher', 'Wegge', 'Man-U', 'Kaare Dybvad', 'Lasse1111', 'Rasmusbyg', 'Santac', 'Kim feder', 'Larsgundersen78', 'Orahbek', 'UnaX', 'Nickybutt', 'Seekers', 'KING OF FOOTBALL', 'Kongen af fodbold', 'MuGG3~dawiki', 'Rasmusdahl', 'Stallion', 'Predze', 'JGC', 'Ktp72', 'Christian91~dawiki', 'Vagn30', 'Loveless', 'Nico', 'Hockeyindustrien', 'Champen~dawiki', 'Apw', 'Tennisdk', 'RedRevolution', 'Raakilde', 'Railfan', 'Jan Kronsell', 'Danielle', 'Twinkles19', 'PhoenixV', 'Linderoth', 'Aria-Ramos', 'Mceppe', 'Dunkin', 'Barklundo', 'Andresse', 'Barklund', 'Harthacnut', 'Apoltix', 'Eirik', 'Onkel Tuca', 'Fispaul', 'KristianMadsen', 'Bjorlund', 'Heelgrasper', 'Kril3189', 'To pander', 'The Head~dawiki', 'Pred', 'Ksjohansen', 'Jan Friberg', 'Frank R', 'Malene', 'Paaske', 'Tvarnoe', 'Knowitall', 'Jeppesn', 'Torstein', 'Maitch', 'RJDK', 'Snailwalker', 'Årstallet', 'Lars Helbo', 'Hansjorn', 'Per Abrahamsen', 'Druden', 'Lars VM', 'Froggie~dawiki', 'Byrial', 'Manscher', 'AB-me', 'Milhoj', 'Isfisk', 'Emilio~dawiki'], 'Winnipeg Jets': ['Henrik Hansen', 'PHE77', 'Steenth', 'TherasTaneel', 'Tøndemageren', 'Mariosmb', 'Thejen', 'Loveless', 'Nomoma', 'AEJ', 'Kaare', 'Hockeyindustrien'], 'Kame-Sennin': ['Aeonauthenticliving', 'Steenth', 'Pugilist', 'TheDanishGuy', 'Sarrus', 'Mads Ren`ai', 'Loveless', 'Dannebrog Spy', 'JGC', 'PhoenixV', 'DJ PhilZz', 'LundenJensen'], 'Dillingen an der Donau': ['-wuppertaler', 'SorenRK', 'BKP', 'Nico'], 'Carbon black': ['Sorenhj', 'Glenn', 'AEJ', 'F.bendik', 'Patchfinder', 'Ultraman', 'Jørgen', 'Drlectin'], 'Canada Hockey Place': ['AEJ'], 'Tampa Bay Lightning': ['PHE77', 'TherasTaneel', 'Patchfinder', 'Nomoma', 'AEJ', 'Loveless', 'Hockeyindustrien'], 'Belgorod oblast': ['A09', 'Nico', 'Лобачев Владимир', 'CommonsDelinker', 'PerV', 'Jarould', 'Rmir2', 'Sarrus', 'Steenth', 'Schekinov Alexey Victorovich', 'Santac', 'Rune X2'], 'H.C. Ørsted Medaljen': ['Adagia', 'Toxophilus', 'RG067', 'Jhertel', 'Quadrupleespresso', 'Vistor', 'Bergkvist05', 'Urbandweller', 'Pugilist', 'Marianne Hartling', 'Tostarpadius', 'Davi~dawiki'], 'Museer i København': ['Aeonauthenticliving', 'Hjart', 'Jørgen', 'Drlectin', 'Toxophilus', 'Steenth', 'Santac', 'Rmir2'], 'Fraser River': ['Nico', 'Weblars', 'PHE77', 'Kaare', 'CommonsDelinker', 'EPO', 'Forstbirdo', 'AEJ', 'JGC', 'Sir48', 'Palnatoke', 'Daneosaur'], 'E-handelsprisen': ['KnudW', 'AVilkki12', 'Toxophilus', 'Polæpolæp', 'Sebatman', 'PHE77', 'Dhansen89', 'Patrickloenne', 'Myliit', 'Patchfinder', 'Moeng', 'Trip Tucker', 'Steenth', 'Sarrus'], 'Buffalo Sabres': ['PHE77', 'TastyPoutine', 'TherasTaneel', 'Patchfinder', 'AEJ', 'Kaare'], 'Marstal': ['Bornsommer', 'Toxophilus', 'Agnete', 'Erik Christensen', 'A. Jensen', 'Zotur', 'Kjeldjoh', 'Zelrin', 'Thomascs1002', 'Christian Giersing', 'Sarrus', 'Regicollis', 'Tostarpadius', 'Rmir2', 'Steenth', 'Villy Fink Isaksen', 'CommonsDelinker', 'KnudW', 'Oleryhlolsson', 'Byrial', 'Sorenhk', 'Trade', 'Nielsaage', 'Rasmusbyg', 'Inasoren', 'Hubertus', 'Dampbarn', 'Heied', 'Glenn', 'Kaare', 'Patchfinder', 'Amjaabc', 'Christian75', 'Marstalsson', 'Taamu', 'Hejsa', 'X Marstaller! x', 'Moeng', 'Kuddel', 'DenGamleBy', 'EPO', 'Kemp', 'Nik have', 'Scm', 'C960657', 'Apoltix', 'Thomas Thorsen', 'Christian List', 'HEriksen', 'Jan Pedersen'], 'Mikkel Desler': ['AEJ', 'ApocalypticMessenger', 'Dipsacus fullonum', 'Steenth', 'Bocanegra', 'Pandikas', 'Amjaabc', 'Fodbold-fan'], 'Adam Duvå Hall': ['Siksebuffen', 'Savfisk', 'Villy Fink Isaksen', 'Trade', 'Nico', 'Toxophilus', 'AaB-ern', 'KnudW', 'Z33k', 'AEJ', 'Kaare', 'M', 'Harne', 'Morsing~dawiki', 'Thomas81', 'MGA73', 'Metalindustrien', 'DJ PhilZz', 'Onkel Tuca', 'Fckgo', 'Jakob mark', 'Amjaabc', 'Santac', 'Jeppesn', 'Magnus Pind Bjerre'], 'Lasse Schöne': ['ApocalypticMessenger', 'Amjaabc', 'PHE77', 'CommonsDelinker', 'Pugilist', 'Tøndemageren', 'Kim Bach', 'Savfisk', 'SorenRK', 'HSV4life', 'Staunited', 'DK NL D', 'Alfred h o4000', 'Fodbold-fan', 'Pixi Uno', 'AEJ', 'Rekf', 'Harthacnut', 'Celtics', 'Hejsa', 'Gungner', 'Metalindustrien'], 'Mads B.B. Krog': ['Aeonauthenticliving', 'PHE77', 'Kjeldjoh', 'Toxophilus', 'Moeng', 'TherasTaneel', 'Trip Tucker', 'Helenaandersen23', 'Swedishelectropop', 'Palnatoke', 'Nico', 'Sorenhk'], 'Ana Ivanović': ['Siksebuffen', 'Zoizit', 'Celtics', 'Weblars', 'Courcelles', 'Xraun', 'CommonsDelinker', 'AEJ', 'Allano', 'Hejsa', 'Loveless', 'Amjaabc', 'Nikolaj'], 'Golden goal': ['Steenth', 'AEJ', 'Villy Fink Isaksen', 'Santac', 'Alexnder w', 'Fispaul'], 'Gorky Park': ['Zoizit', 'Pugilist', 'Nico', 'Pixi Uno', 'AEJ', 'DrDose'], 'Citytunneln': ['Trip Tucker', 'Kejo', 'Madglad', 'Potter AB', 'Bigbug21', 'Tgpedersen', 'Lcl', 'Palnatoke', 'AEJ', 'Kaare', 'EPO', 'Urbanus~dawiki'], 'Red Bull Arena (Leipzig)': ['Jesper Haagensen', 'AEJ', 'Steenth', 'KnudW', 'CommonsDelinker', 'Royal Export', 'Pixi Uno', 'T-Stone'], 'Moses Hansen': ['KnudW', 'Siksebuffen', 'MGA73', 'AEJ', 'MadsWN', 'Trade', 'Toxophilus', 'Stempelquist', 'Palnatoke', 'Joen Elmbak', 'Nico', 'Cgt', 'EPO', 'Ramloser', 'Urbandweller', 'C960657', 'Victor4444', 'Thomas Vedelsbøl', 'Amjaabc', 'Christian75', 'Lena Dyrdal Andersen', 'Pugilist', 'Kinamand', 'Kaare', 'Bwiki', 'Ultraman', 'Torben Melchior'], 'Trade (sport)': ['AEJ', 'TBA'], 'SDUB': ['Akselbo'], 'Martin Albrechtsen': ['Hjart', 'Steenth', 'Grasmusb', 'Pandikas', 'Hofkas', 'Nico', 'Tøndemageren', 'Bolddreng', 'NivlekDa', 'Villy Fink Isaksen', 'Noopy2394', 'Weblars', 'TherasTaneel', 'Prip~dawiki', 'Fodbold-fan', 'A3ng3l', 'Saesonkort', 'AEJ', 'Pixi Uno', 'Kwey09', 'Froztbyte', 'Rodejong', 'NaPi', 'Chicky35', 'Brandsen', 'Christian75', 'Mathiaskh', 'Celtics', 'Man-U', 'Ahmani', 'TBA'], 'Färs och Frosta Sparbank Arena': ['AEJ'], 'Krebsen': ['A09', 'Sir48', 'Leolaursen', 'Glenn', 'Jeppesn', 'GunnerPoulsen'], 'Enoch Powell': ['AEJ', 'Andefar'], 'Regeringen Lars Løkke Rasmussen I': ['Oliv9751', 'BALMAINM', 'Gorbi', 'TherasTaneel', 'Tostarpadius', 'Steenth', 'Nikolaj', 'Nico', 'WTM', 'Ramloser', 'Rekf', 'Thomas81', 'Jack Bornholm', 'Amjaabc', 'Dannebrog Spy', 'Tim R', 'Masz', 'Kwey09', 'Johan U', 'EosKøge', 'Lindberg', 'Hekerui', 'AEJ', 'Palnatoke', 'Andreas Müller', 'EPO', 'Tequila~dawiki', 'Allanth', 'Christian75', 'C960657', 'Rasmusbyg', 'Penguin', 'MGA73', 'Staunited', 'Brandsen', 'Heb', 'Kirjapan'], 'Sleep in': ['Landungsbrücken', 'AEJ', 'Fnielsen', 'Kemp', 'Steenth', 'Byrial', 'Jwinther', 'Jan Pedersen'], 'Remco van der Schaaf': ['SorenRK', 'Kwey09', 'CarinaT', 'Math981n', 'Pixi Uno', 'Palnatoke', 'Mathiaskh', 'Froztbyte', 'Celtics', 'AEJ', 'Sarrus', 'Kongen af fodbold'], 'Mark Harmon': ['Siksebuffen', 'Fnielsen', 'Crudiant', 'Steenth', 'Rotlink', 'TherasTaneel', 'Stoney63', 'AEJ', 'Brandsen', 'Algiz'], 'Digital mobile radio': ['NightSift', 'A09', 'Sreviblean', 'Glenn', 'Nico'], 'Esch-sur-Sûre': ['-wuppertaler', 'Hejsa'], 'Michelle Karvinen': ['Siksebuffen', 'PHE77', 'Pandikas', 'Rekf', 'AEJ', 'Brandsen', 'Christian75', 'Masz', 'Apw', 'Anr', 'Amjaabc', 'Mark Jensen'], 'STS-39': ['A09', 'Arctic Kangaroo', 'IvarT', 'Zilotte'], 'Bruxelles': ['PHE77', 'Benadikt', 'Bornsommer', 'Pugilist', 'AEJ', 'PerV', 'NisJørgensen', 'KnudW', 'Hofkas', 'Thomas81', 'Ysangkok', 'Villy Fink Isaksen', 'BillyDK', 'Rmir2', 'Cycn', 'LucVerhelst', 'Toxophilus', 'Rotlink', 'Dipsacus fullonum', 'Palnatoke', 'Sarrus', 'Cgt', '不寐听江', 'Loes Winders', 'BKP', 'Karelj', 'Patchfinder', 'Andreas Müller', 'Rekf', 'Jørgen', 'Eculeus', 'Casper~dawiki', 'Brandsen', 'CommonsDelinker', 'Cl', 'Steenth', 'CarinaT', 'Harne', 'Nis Hoff', 'Hejsa', 'EPO', 'Westermarck', 'Santac', 'Loveless', 'Barklund', 'Kristaga', 'Anjoe', 'Potter AB', 'Nico', 'Pardy', 'Maltesen', 'Harthacnut', 'Kaare', 'Heelgrasper', 'Twid', 'Amphioxys', 'Byrial', 'Isfisk', 'Surelars', 'Suisui', 'Agerskov', 'Christian List', 'Jan Pedersen'], 'Ontario Hockey League': ['Qu0404', 'TherasTaneel', 'Sorenolin', 'AEJ', 'Antonski123', 'Steenth'], 'Philadelphia Flyers': ['PHE77', 'Henrik Hansen', 'TartarTorte', 'TherasTaneel', 'TastyPoutine', 'ウルトラ大不況', 'Nikolaj', 'Nomoma', 'AEJ', 'Loveless', 'Hockeyindustrien'], 'Andreas Christensen': ['Nico', 'AEJ', 'Latinfever', 'Thomas81', 'Jesper Haagensen', 'Siksebuffen', 'Amjaabc', 'Pugilist', 'Biscuit-in-Chief', 'ApocalypticMessenger', 'Pelle S.H.', 'PHE77', 'Hjart', 'TherasTaneel', 'Lysga lysga', 'Steenth', 'Tøndemageren', 'Zoizit', 'HerrNum', 'Pandikas', 'Henrico67', 'Bolddreng', 'Madsbernhart', 'Sasu985', 'Kolban', 'Pyrros', 'KnudW', 'Ndsm', 'Savfisk', 'Kaare', 'Hanni2004', 'EPO', 'Sebastian haun', 'Madsasp', 'Christian Giersing', 'CommonsDelinker', 'Victorhougaard', 'Rmir2', 'Andreas-lodahl', 'Palnatoke', 'Pixi Uno'], 'Ambu': ['Steenth', 'Pugilist', '1020D', 'Asbjoernmo', 'Toxophilus', 'AEJ', 'Biscuit-in-Chief', 'Kjeldjoh'], 'Afrika (sang)': ['Pugilist', 'Tøndemageren', 'Siksebuffen', 'EileenSanda', 'Amjaabc', 'Optimus Pred', 'Z33k', 'Aejsing', 'Steenth', 'BrianOlesen1983', 'KnudW', 'C960657', 'AEJ', 'Sarrus', 'Philaweb'], 'Venus (planet)': ['Hejsa', 'Emilrealmadrid', 'Kwamikagami', 'Simowis', 'Akkuratesse', 'Pugilist', 'Drlectin', 'AEJ', 'Necessary Evil', 'Inc', 'Flugscham', 'Thomas Kirk Larsen', 'MathiasKaae', 'AnetteM', 'Bøgelund', 'Villy Fink Isaksen', 'Savfisk', 'Cgt', 'Pyrros', 'Kasperhj', 'Weblars', 'KnudW', 'Kasp281b', 'Sarrus', 'Trade', 'Yankie bar', 'Kaare', 'Palnatoke', 'SimmeD', 'Altaïr', 'Kwey09', 'Duncanaabybro', 'Duncanaaby', 'Pixi Uno', 'Priess96', 'Sdihdskaskdia', 'PerV', 'Lindberg', 'Masz', 'Sir48', 'Blodfighter', 'Allano', 'Harne', 'Xxx44', 'Baziic', 'Åååååå', 'Fredelige', 'Loveless', 'Apoltix', 'Dolphen1993', 'Hans peter2065', 'EPO', 'Froztbyte', 'Wikibruger', 'Hrafnin', 'Odder1~dawiki', 'Hockeyindustrien', 'Staunited', 'PhoenixV', 'JGC', 'Chrilleman', 'Danielle', 'Thomas81', 'Elentirmo', 'Glenn', 'Jørgen', 'Harthacnut', 'Manscher', 'Scm', 'Barklund', 'Pred', 'Heelgrasper', 'Peo', 'Lars Helbo', 'Fred Bradstadt', 'Mark Jensen', 'Andre Engels', 'Christian List', 'Hansjorn', 'Suisui', 'Template namespace initialisation script'], 'Peter Rosendal': ['Aeonauthenticliving', 'Royal Export', 'TherasTaneel', 'Hreinn Gudlaugsson', 'KnudW', 'Dipsacus fullonum', 'Urbandweller', 'Helenaandersen23'], 'Malmö Arena': ['Nico', 'Patchfinder', 'Royal Export', 'Fnielsen', 'Pixi Uno', 'Tostarpadius', 'Yamatochem', 'Philaweb', 'AEJ', 'Allano'], 'Miyamoto Musashi': ['Johannnes89', 'CommonsDelinker', 'Ямато1', 'A09', 'KnudW', 'Kontoreg', 'Gecko', 'Orakologen', 'Rmir2', 'Amjaabc', 'Trade', 'Steenth', '六田清二', 'Sidefor', 'Prc~dawiki', 'AnnKatrin', 'Masz'], 'Nabiha': ['Hjart', 'Steenth', 'PHE77', 'Toxophilus', 'Pelle S.H.', 'Agerskov', 'Villy Fink Isaksen', 'AEJ', 'Trade', 'JamesP', 'KnudW', 'Mads2001', 'CommonsDelinker', 'Stine discowax', 'TherasTaneel', 'Nicklaselmark12', 'Savfisk', 'Liva112', 'Sorenhk', 'Mette Buhl', 'SimmeD', 'Z33k', 'InsaneHacker', 'LeJC', 'EPO', 'Nico', 'Daniellomholt', 'Tøndemageren', 'Pixi Uno', 'JRogMH', 'Yezdk', 'Tsca', 'Jkhugh', 'Christian75', 'Amjaabc', 'Rune X2', 'DrDose'], 'Elias Sadaq': ['AdrianHealey91', 'Hjart', 'CommonsDelinker', 'Steenth', 'Økonom', 'Hchristophersen', 'Sbyg'], 'Kamala Harris': ['Fispaul', 'Hjart', 'Dipsacus fullonum', 'LinguineFusilli', 'FelixFilm2006', 'Kjeldjoh', 'Hejsa', 'Tastaturkrigeren', 'BenjaminMlynek', 'Murtjin', 'KnudW', 'Lysga lysga', 'AdamSmithFan', 'Erik Christensen', 'Siksebuffen', 'MhonDK'], 'Boston Bruins': ['PHE77', 'TherasTaneel', 'TastyPoutine', 'Hede2000', 'Udufruduhu', 'EPO', 'Jammer97', 'トリノ特許許可局', 'Mr Accountable', 'AEJ', 'Loveless', 'Kaare'], 'Canadian Hockey League': ['Dipsacus fullonum', 'AEJ'], 'Kryptocalvinisme': ['Glenn', 'SorenRK', 'AdamSmithFan', 'PHansen', 'Toxophilus'], 'Florida Panthers': ['PHE77', 'TherasTaneel', 'TastyPoutine', 'EPO', 'Patchfinder', 'AEJ', 'Hockeyindustrien'], 'Samara oblast': ['A09', 'PerV', 'Rmir2'], 'Edel Saunte': ['Dipsacus fullonum', 'C960657', 'AEJ', 'Lklundin', 'Urbandweller', 'Orakologen', 'Pixi Uno', 'Villy Fink Isaksen', 'Brandsen'], 'Dorte Olesen': ['Siksebuffen', 'Toxophilus', 'Urbandweller', 'Villy Fink Isaksen', 'Adagia'], 'Thüringen': ['Madglad', 'Bornsommer', 'KnudW', 'Biscuit-in-Chief', 'Εὐθυμένης', 'Hjart', 'Trip Tucker', 'Drahdiwaberling', 'Rmir2', 'SteveK', 'AEJ', 'CommonsDelinker', 'Gunnar.offel', 'Masz', 'SorenRK', 'Steffen Löwe Gera', 'Ramloser', 'Palnatoke', 'Danmuz', 'Toxophilus', 'BørgeRullepølse1', 'Michael Sander', 'Sabbe', 'Hejsa', 'Purbo T', 'Gevin', 'Hchristophersen', 'Nico', 'Moeng', 'Rasmus81', 'Hede2000', 'Harthacnut', 'Kemp', 'Heelgrasper', 'Sten', 'Kaare', 'Yurik', 'Byrial', 'Jørgen', 'Wolfram', 'BrianHansen'], 'Everlasting Night': ['Aeonauthenticliving', 'Pelle S.H.', 'STINNW', 'Pubaine', 'KnudW', 'Hypuxylun'], 'National Hockey League': ['Henrik Hansen', 'PHE77', 'Nico', 'AEJ', 'Weblars', 'Oknazevad', 'Chumwa', 'SorenRK', 'Erylaos', 'Dale Arnett', 'Vrenak', 'TherasTaneel', 'Pelle S.H.', 'Rotlink', 'Pugilist', 'Crazy maniac', 'Thejen', 'かなコバ', 'Gatekeeper', 'Steenth', 'せいきょういく', 'トリノ特許許可局', 'Loveless', 'Celtics', 'Penguin', 'Kaare', 'Rémih', 'Barklund', 'Ernst Poulsen'], 'Azer Busuladic': ['AEJ'], 'Tina Müller': ['Toxophilus', 'Siksebuffen', 'Jacob Rosendal Kristensen', 'IvanScrooge98', 'Hjart', 'Blomstogbi', 'Rodejong', 'TorbenDK', 'Royal Export', 'AEJ', 'Medic', 'Baldor~dawiki', 'Mathiaskh', 'Brandsen', 'Froztbyte', 'Frihed10', 'Martin H.', 'Hush~dawiki', 'CarinaT', 'Hchristophersen', 'Amjaabc'], 'Aalborg Pirates': ['Kjeldjoh', 'Thogsdk', 'Thomas69699990', 'Hjart', 'Ruhoff', 'Nico', 'ChicaDanesa', 'Tsca', 'Visti nr 3', 'Amjaabc', 'Biscuit-in-Chief', 'Zoizit', 'PerV', 'KnudW', 'Jacob1976x', 'Patchfinder', 'Mathiaslundahlgren', 'Mcwagner~dawiki', 'Steenth', 'AaB-ern', 'Pixi Uno', 'Joshua06', 'Wholle', 'Caspern', 'Sarrus', 'AEJ', 'Gorbi', 'Hockeyindustrien', 'Slinger~dawiki', 'Fabstar~dawiki', 'Rasmusbyg', 'Hchristophersen', 'Saddhiyama', 'Barklund', 'Barklundo', 'C.Thure', 'Henrikmat'], 'Dallas Stars': ['PHE77', 'Pugilist', 'TherasTaneel', 'J 1982', 'Patchfinder', 'Nico', 'Philaweb', 'AEJ', 'CommonsDelinker', 'Loveless', 'Hockeyindustrien'], 'Carolina Hurricanes': ['Nico', 'PHE77', 'TherasTaneel', 'TastyPoutine', 'Henrik Hansen', 'Pixi Uno', 'Patchfinder', 'AEJ', 'Loveless', 'Kaare'], 'HV71': ['KaffeDrickarN', 'Villy Fink Isaksen', 'Maxthedog', 'Steenth', 'Patchfinder', 'AEJ', 'Loveless', 'Barklund'], 'Nikolaj Lie Kaas': ['Pelle S.H.', 'Harry Styles 1998', 'Dipsacus fullonum', 'Nico', 'Zelrin', 'Sarrus', 'E-Turner', 'PHE77', 'Kirkgaard', 'KnudW', 'AEJ', 'Solange', 'Toxophilus', 'Glenn', 'EPO', 'Flakesdk', 'Zoizit', 'Fod', 'Christian Giersing', 'TherasTaneel', 'Druidsaki', 'Tøndemageren', 'Siksebuffen', 'Villy Fink Isaksen', 'Thomas Vedelsbøl', 'Pandikas', 'Pyrros', 'Crudiant', 'Kattesarah', 'Danand', 'EileenSanda', 'BillyDK', 'EosKøge', 'Daniellomholt', 'Bornsommer', 'Morten Haagensen', 'Urbandweller', 'Jens Brix Christiansen', 'Trade', 'Fadesga', 'Mandersenhoegh', 'Frankras', 'Brandsen', 'Faffi~dawiki', 'MartinBerg', 'Nis Hoff', 'Pmod', 'Ainsha', 'Amjaabc', 'Gyldmark', 'M', 'Niggolaj', 'Hchristophersen', 'CarinaT', 'Anigif', 'Surferman', 'Rosbirk', 'Tjernobyl', 'Oelting', 'Pardy', 'Tauro31', 'Barklundo', 'Jakosa', 'Byrial', 'Isfisk'], 'Esch-sur-Alzette': ['CommonsDelinker', '-wuppertaler', 'Madglad', 'BKP', 'Hejsa'], 'Sara (bibelsk person)': ['Abemandddk', 'Pugilist', 'Toxophilus'], 'Aleksandr Ovetjkin': ['Ingmar~dawiki', 'Trip Tucker', 'Sarah Layton', 'Optimus Pred', 'Rekf', 'Udufruduhu', 'AEJ', 'Hejsa', 'Tiyoringo'], 'Viking Baadene': ['Pugilist', 'Madglad', 'Toxophilus', 'A. Jensen', 'SorenRK', 'Palnatoke', 'Amjaabc', 'VicVal'], 'Østerbro Skøjtehal': ['JayPeque', 'Elgaard', 'Steenth', 'AEJ', 'Nico', 'Royal Export', 'Patchfinder', 'Frederik Sunne', 'Sarrus', 'Frankras'], 'Hansen, Jannik': ['AEJ'], 'Lolland-Falster': ['Hjart', 'Solange', 'Toxophilus', 'AEJ', 'Moeng', 'IvarT', 'Patchfinder', 'SimmeD', 'Thathánka Íyotake', 'Rodejong', 'Henrik Hansen', 'Mark Jensen', 'Byrial', 'Agerskov'], 'VM i ishockey (mænd)': ['PHE77', 'Emvi11', 'KnudW', 'Tylander', 'Henrik Hansen', 'Santac', 'ZeiP', 'Victor Trevor', 'Miropiro', 'Glenn', 'Moeng', 'Tøndemageren', 'Weblars', 'Royal Export', 'Sarrus', 'CommonsDelinker', 'Pandikas', 'Steenth', 'Morten Haagensen', 'AEJ', 'Natkatten', 'Mathiaskh', 'Thomas81', 'Loveless', 'C.Thure', 'Ernst Poulsen', 'Barklund'], 'The Room': ['Siksebuffen', 'Poeterouge', 'Pugilist', 'SorenRK', 'AEJ', 'Villy Fink Isaksen', 'TherasTaneel'], 'Edmonton Oilers': ['Henrik Hansen', 'Hjart', 'Cabboss', 'PHE77', 'TastyPoutine', 'TherasTaneel', 'Patchfinder', 'AEJ', 'Hockeyindustrien'], 'Mette Louise Holland': ['Albert Holland', 'Pugilist', 'SorenRK', 'Steenth', 'Brandsen'], 'Rögle BK': ['PHE77', 'Pugilist', 'Undrande', 'AEJ', 'Patchfinder', 'Luntertun~dawiki', 'Hchristophersen'], 'Azer Bušuladžić': ['PHE77', 'Toke elmoe', 'Steenth', 'Trade', 'Nico', 'Amjaabc', 'Lindberg', 'Tøndemageren', 'Fodbold-fan', 'AEJ', 'Pixi Uno', 'LH5801', 'Celtics', 'WikiWikiWuhuu', 'Peternielsen2', 'MGA73'], 'Europæisk Rusland': ['A09', 'Palnatoke'], 'Reformerte kirke': ['Glenn', 'Alexandramander', 'Jensga', 'SorenRK', 'Brams', 'Ditlev Petersen', 'AdamSmithFan', 'Steenth', 'Solange', 'Silasriis', 'Palnatoke', 'Orwell123', 'Peterhansen', 'Nikolaj', 'Kuddel', 'Hejsa', 'Sten', 'Gökhan', 'Casper~dawiki', 'Loveless', 'Metsken', 'PHansen'], 'Hüsker Dü': ['AEJ', 'Pugilist', 'SorenRK', 'Whiteberg', 'Steenth', 'Sarrus', 'Søberg', 'Sir48'], 'Afghanistan': ['PHE77', 'Hjart', 'Pelle S.H.', 'Bozorgjam1s', 'XoLo921', 'TGCP', 'SimmeD', 'Silasdillermand', 'MohammadBeck', 'Trip Tucker', 'Jørgen', 'Nico', 'Bornsommer', 'Pugilist', 'Santac', 'Kathrinaswag', 'Eldhufvud', 'Nordjyden1999', 'Plantsarewonderful', 'Ragoris', 'CommonsDelinker', 'Rasmusbyg', 'Spimch', 'Troels Arvin', 'Niels Orbesen', 'ABCDEAN', 'Emma 520afg', 'Davidbjo', 'Fry1989', 'DenBlaaElg', 'Alex746c', 'AEJ', 'MustafaMahdawi', 'Trade', 'PerV', 'Hasan.2526272829', 'Zoizit', 'SorenRK', 'Rmir2', 'Illegitimate Barrister', 'KnudW', 'Savfisk', 'Gjensen', 'TherasTaneel', 'Hatef1', '1Kwords', 'Villy Fink Isaksen', 'Ysangkok', 'Sir48', 'Amjaabc', 'Humant7', 'Arman90p', 'Vrenak', 'Irani1at', 'Metalindustrien', 'Sarah Layton', 'Nis Hoff', 'Pyrros', 'EileenSanda', 'Crudiant', 'Kaare', 'BillyDK', 'Wagner Texas Ranger', 'Moeng', 'Patchfinder', 'Glenn', 'Laketown', 'SejHing', 'Palnatoke', 'Sarrus', 'Antemister', 'EPO', 'Lægevaccinationsorganisation', 'IvarT', 'Pixi Uno', 'Krestenklit', 'Celtics', 'DanNav', 'Fnielsen', 'Softron', 'Steenth', 'Gorbi', 'Christian75', 'Mathiaskh', 'Hejsa', 'Murtaza', 'Masz', 'Rike300', 'Harne', 'Lindberg', 'Allano', 'Thomas81', 'DorisAntony', 'Sher~dawiki', 'John Peters', 'Hockeyindustrien', 'Saddhiyama', 'Malla~dawiki', 'Apw', 'Wegge', 'Bibliotekaren', 'Pardy', 'JGC', 'LundenJensen', 'Dsca', 'Necessary Evil', 'Wida~dawiki', 'Loveless', 'BigPen15', 'Peo', 'Jan Friberg', 'Danielle', 'Keallu~dawiki', 'Bruunr', 'Hashar', 'So9q', 'Harthacnut', 'Barklund', 'Hede2000', 'Tvarnoe', 'Blanu', 'GunnerPoulsen', 'Yurik', 'Malene', 'Byrial', 'Christian List', 'Playboy of afghanistan', 'Suisui', 'Peregrine981', 'Jan Pedersen'], 'Kærlighed ved første hik (film)': ['Pugilist', 'E-Turner', 'AEJ', 'Oliv9751', 'Pelle S.H.', 'Zoizit', 'Christian Giersing', 'Siksebuffen', 'TherasTaneel', 'Pixi Uno', 'Inc', 'EPO', 'Kaare', 'Amjaabc', 'Tjernobyl', 'Saricha', 'Manscher'], 'Rødovre Centrum Arena': ['Dannebrog Spy', 'AEJ'], 'We Are Domi': ['AEJ', 'Flame1333'], 'Johan Absalonsen': ['Pandikas', 'Bo Vesth', 'Pugilist', 'Amjaabc', 'Bolddreng', 'Fodbold-fan', 'Dannebrog Spy', 'AEJ', 'Pixi Uno', 'Kaare', 'Mathiaskh', 'KnudW', 'Celtics', 'JonasJepsen', 'Brandsen', 'Kon-fut-se', 'Wegge', 'Julie West Dik', 'Mark.odense', 'Poker-DM', 'Moeng', 'Lindberg', 'RasmusAalbæk', 'Froztbyte', 'Barklundo', 'Danielle', 'Hede2000'], 'Avicii Arena': ['Kallenberg1', 'Hjart', 'AEJ', 'Svensson1', 'Jonnmann', 'Christian Giersing', 'KnudW', 'Patchfinder', 'Nico', 'Kaare', 'Sarrus', 'EPO', 'Tostarpadius', 'Sir48', 'Harne', 'PhoenixV', 'C960657'], 'Homøopati': ['Dysp', 'Steenth', 'EPO', 'PHE77', 'Villy Fink Isaksen', 'Pugilist', 'Tøndemageren', 'Cgt', 'Glenn', 'Optimus Pred', 'TraxPlayer', 'Kinamand', 'Rotlink', 'Toxophilus', 'Nordfra', 'Leszek Jańczuk', 'KnudW', 'AEJ', 'Nico', 'Chlor', 'Borg punk', 'Christian75', 'Nyverden', 'Wegge', 'Magamma', 'Allano', 'Wikibruger', 'Kaare', 'Rasmus81', 'Ttk', 'Loveless', 'Leolaursen', 'Joakim~dawiki', 'Sir48', 'Pred', 'Apw'], 'Juventus F.C.': ['Fodboldbrugeren', 'Økonom', 'PHE77', 'Gunnar23', 'Toxophilus', 'Bornsommer', 'Makenzis', 'Flix11', 'Scip.', 'Sasu987', 'Pugilist', 'Tøndemageren', 'Savfisk', 'Kalabio', 'Sigvaldason', 'Erikhj', 'AnetteM', 'Hauge24', 'Frederiklan', 'Zelrin', 'Patchfinder', 'TherasTaneel', 'CommonsDelinker', 'Z4700z', 'Nico', 'Rodejong', 'Sasu985', 'Vrenak', 'Irasokh', 'Royal Export', 'Amjaabc', 'EPO', 'Chri747y', 'KnudW', 'Fnielsen', 'Palnatoke', 'Zepas', 'Villy Fink Isaksen', 'Fodbold-fan', 'Pandikas', 'Kolban', 'Sarrus', 'Eden10Hazard', 'Trade', 'KasJ', 'Pelle S.H.', 'Pixi Uno', 'Jakf', 'Celtics', 'AkselStadelBorum', 'Juve holigan', 'Infobesity', 'Steenth', 'AEJ', 'Davidbk64', 'Ddddddd~dawiki', 'Masz', 'Kaare', 'Harne', 'WTer', 'Moeng', 'DSS', 'Lindberg', 'Man-U'], 'Redereiet sundfarten': ['A. Jensen'], 'Monumentet for Minin og Pozjarskij': ['Pugilist', 'A09', 'Nico', 'Sarah Layton', 'CommonsDelinker', 'PerV', 'XXN', 'AlexTref871', 'TherasTaneel', 'Zerlina', 'Palnatoke', 'Hejsa', 'Santac'], 'Madsen, Morten': ['AEJ'], 'Rødovre Skøjte Arena': ['Henrik Hansen', 'Villy Fink Isaksen', 'AEJ', 'Toxophilus', 'Royal Export', 'Patchfinder', 'Bernhard', 'Rosenquist', 'Pred', 'Steenth', 'Præsidentindustrien', 'Kaare', 'Sarrus'], 'Anna Karina': ['AEJ', 'Hjart', 'Nico', 'Christian Giersing', 'Sarrus', 'Pugilist', 'Zelrin', 'Lilleskou', 'Siksebuffen', 'Villy Fink Isaksen', 'Brams', 'EileenSanda', 'TherasTaneel', 'Marcvjnicolas', 'BKP', 'Trade', 'EPO', 'Nielspeterqm', 'Xhienne', 'Jenesaisquoi', 'Moeng', 'Loveless', 'Kinamand'], 'Leif Mortensen': ['Hejsa', 'Vandcykel', 'Steenth', 'AEJ', 'Jesper Bøtker Mortensen', 'PilleFischer', 'AnetteM', 'Zoizit', 'Amjaabc', 'Pugilist', 'Orwell123', 'Brandsen', 'Ultraman', 'Sebleouf', 'Barklundo', 'Ernst Poulsen', 'Henrik Hansen', 'Frank R'], 'Toronto Maple Leafs': ['Henrik Hansen', 'PHE77', 'CommonsDelinker', 'TherasTaneel', 'TastyPoutine', 'FrankHas', 'Patchfinder', 'EPO', 'Jammer97', 'Nomoma', 'AEJ', 'Hejsa', 'Hockeyindustrien', 'Nico'], 'Royal Arena': ['Morriis', 'Alfred345', 'Ernst Poulsen', 'Henrik Hansen', 'Steenth', 'Hejsa', 'MortyDK', 'Gorbi', 'Mike1034', 'Zelrin', 'Nico', 'Paracel63', 'Palnatoke', 'AEJ', 'NivlekDa', 'Sarrus', '呆け悶拷', 'Morten Haagensen', 'Morten Svensson', 'PerV', 'Pugilist', 'EileenSanda', 'Bornsommer', 'Patchfinder', 'Drlectin', 'KnudW', 'Villy Fink Isaksen', 'Kalaha', 'CommonsDelinker', 'Camilla Buch'], 'Lindsay Davenport': ['AEJ', 'Zoizit', 'Pixi Uno', 'Brandsen', 'Henrik Hansen'], 'Hanne Kjærholm': ['Aeonauthenticliving', 'Hjart', 'Rettepennen', 'Toxophilus'], 'Brøndby Hallen': ['JayPeque', 'Vandcykel', 'CommonsDelinker', 'Royal Export', 'Patchfinder', 'A3ng3l', 'Nordmensch', 'Pelle S.H.', 'Sarrus', 'AEJ', 'Purdmuh', 'Pred', 'C960657', 'Froztbyte', 'Lindberg'], 'Mikkel Bødker': ['Siksebuffen', 'Pugilist', 'Cal1', 'Trade', 'Brandsen', 'Christian75', 'AEJ', 'MGA73', 'Kezze', 'Amjaabc', 'Kaare', 'Moeng'], 'Alcatraz Federal Penitentiary': ['A09', 'PHE77', 'Steenth', 'Økonom', 'Eldhufvud', 'Madglad', 'Weblars', 'Biscuit-in-Chief', 'Villy Fink Isaksen', 'Vrenak', 'Royal Export', 'Optimus Pred', 'Zoizit', 'DragonflySixtyseven', 'Pelle S.H.', 'Ujkiol', 'T-Stone', 'Trade'], 'Eller, Lars': ['AEJ'], 'Morten Green': ['Siksebuffen', 'Villy Fink Isaksen', 'Wagner Texas Ranger', 'EPO', 'Steenth', 'Brandsen', 'Anigif', 'AEJ', 'Hockeyindustrien'], 'Simon Grønvaldt': ['Zoizit', 'EileenSanda', 'Forzaroma', 'Steenth', 'Brandsen', 'AEJ', 'NHG~dawiki'], 'Stanley Cup': ['Henrik Hansen', 'TherasTaneel', 'Greerzy36', 'Steenth', 'Gatekeeper', 'Nico', 'AEJ', 'Celtics', 'Harthacnut'], 'Connie Nielsen': ['Hjart', 'Vebosa6020', 'Hartenhof', 'TherasTaneel', 'Mugibsaihtam', 'AEJ', 'Hanseku', 'Mewa767', 'Villy Fink Isaksen', 'Amjaabc', 'Emilblicher', 'Zoizit', 'Steenth', 'EPO', 'Cgt', 'Bpaarmann', 'Thankyousir~dawiki', 'Altaïr', 'Pikogpatter1', 'Jacob agervig', 'Euty', 'Brandsen', 'Cineclopedia', 'Hejsa', 'Sarmundo', 'Thomas81', 'GilliamJF', 'Moeng', 'Loveless', 'Mons1957', 'Barklundo', 'Apoltix', 'Twid', 'Harthacnut', 'Heelgrasper', 'Ulvund'], 'Jonas Hebo Rasmussen': ['Kaare', 'Vistor', 'TherasTaneel', 'AEJ', 'Pandikas', 'Rodejong', 'Herstad', 'Fodbold-fan', 'LH5801', 'A3ng3l', 'Rotlink', 'Kwey09', 'Sarrus', 'Steenth', 'Wildfluorescent', 'Ultraman', 'Hnansen'], 'Boldklubben Avarta': ['Sigvaldason', 'MGA73', 'Stempelquist', 'AEJ', 'Toxophilus', 'Tøndemageren', 'Royal Export', 'Pelle S.H.', 'Fodbold-fan', 'Pixi Uno', 'Infobesity', 'Mathiaskh', 'KnudW', 'Silfver', 'Patchfinder', 'Froztbyte', 'Vistor', 'Kaare', 'Barklundo'], 'Anaheim Ducks': ['PHE77', 'TherasTaneel', 'Patchfinder', 'SimmeD', 'Loveless', 'Nomoma', 'Nis Hoff', 'Masz', 'AEJ', 'Byrial', 'E-Turner', 'Hockeyindustrien', 'Palnatoke'], 'Lars Bastrup': ['Hjart', 'Olympicbandy', 'Nico', 'Pugilist', 'PHE77', 'Trade', 'Flügel-Flitzer', 'Taketa', 'Kwey09', 'Clovis', 'Steenth', 'Loveless', 'Celtics', 'AEJ', 'Amjaabc', 'Froztbyte', 'Barklundo', 'C.Thure', 'Pardy', 'KristianMadsen'], 'Jean Calvin': ['Glenn', 'PHE77', 'Alexandramander', 'Holderøje', 'AdamSmithFan', 'Jørgen', 'Zelrin', 'Brams', 'Ditlev Petersen', 'Villy Fink Isaksen', 'SorenRK', 'Pugilist', 'KnudW', 'Cgt', 'TherasTaneel', 'Silasriis', 'Altaïr', 'Tostarpadius', 'Rosenquist', 'AnneLine25', 'MGA73', 'Nikolaj', 'Loveless', 'Kemp', 'Sir48', 'Moeng', 'Viasacro', 'Uch~dawiki', 'Mons1957', 'Heelgrasper', 'Sten', 'Palnatoke', 'Nico'], 'Sebastian Svärd': ['AEJ', 'TherasTaneel', 'Pandikas', 'Fodbold-fan', 'Kwey09', 'Necessary Evil', 'Bzorro', 'Tjernobyl', 'EgoCentric', 'Christian75', 'Christian Giersing', 'Pixi Uno', 'Celtics', 'Amjaabc', 'Vistor'], 'Shock': ['AEJ', 'Medic', 'Penguin', 'Altaïr', 'Pelle S.H.', 'Necessary Evil', 'Mathiaskh', 'Epistaxis', 'Mbernes', 'Kinamand', 'Henjar', 'JGC'], 'Sukker': ['Zelrin', 'Alex030n', 'Pelle S.H.', 'Nico', 'Hjart', 'Glenn', 'KnudW', 'Nalle&Lisa', 'Dipsacus fullonum', 'PHE77', 'Kjeldjoh', 'Augu1200', 'Godihrdt', 'Jhertel', 'Nordfra', 'Jesper Bøtker Mortensen', 'Tøndemageren', 'Drlectin', 'Thuecl', 'Knud Henrik Sørensen', 'Palnatoke', 'Crudiant', 'Savfisk', 'Toxophilus', 'TherasTaneel', 'Steenth', 'Villy Fink Isaksen', 'Patchfinder', 'Pkj61', 'Liselotz', 'Medic', 'Sarrus', 'Cgt', 'Altaïr', 'Shaya~dawiki', 'Kaare', 'EPO', 'JoneX', 'Erikhj', 'Christian75', 'Hotnot', 'Trade', 'Pugilist', 'Allmhurach', 'Harne', 'Amjaabc', 'Gamblr', 'Sten', 'Ayams', 'Jørgen', 'Santac', 'Anigif', 'Saddhiyama', 'Neververy60', 'Hejsa', 'Wegge', 'Troels V. Christensen', 'Leolaursen', 'Brandsen', 'Jeppesn', 'Mw~dawiki', 'Kemp', 'Danielle', 'GunnerPoulsen', 'Csv', 'Maitch', 'Rune', 'Henrik Hansen', 'WIKIng', 'Jone', 'Jan Pedersen', 'Christian List', 'Lpoulsen'], 'Haiku': ['Jensga', 'A09', 'Jaincu', 'Medic', 'Pugilist', 'Kjeldjoh', 'EPO', 'Zelrin', 'Toxophilus', 'Kaare', 'Nico', 'SorenRK', 'LHolm', 'Zoizit', 'KnudW', 'Crudiant', 'Thomas Vedelsbøl', 'Villy Fink Isaksen', 'Wkn', 'Nikolaj', 'Kimsey0', 'Krølben', 'Palnatoke', 'Olly1', 'Danielle', 'Pred', 'Blanu', 'Anjoe', 'Esil'], 'Stephen Colbert': ['AEJ', 'Batmacumba', 'Trade', 'Leiferdrengen', 'TherasTaneel', 'Staunited', 'Tøndemageren', 'Makn75', 'Villy Fink Isaksen', 'Christian75', 'Hejsa'], 'New York Islanders': ['PHE77', 'TherasTaneel', 'Savfisk', 'Pebart2015', 'Kridp', 'Patchfinder', 'Steenth', 'AEJ', 'Hockeyindustrien', 'Papedipappaps', 'Barklund'], 'Jelena Janković': ['Siksebuffen', 'Zoizit', 'Celtics', 'Scanwidan', 'AEJ', 'Moeng', 'Avala', 'Loveless', 'Hejsa'], 'Rødovre Floorball Club': ['2millennium', 'Tøndemageren', 'Wodehouse', 'Mstar79', 'Rasmusbyg', 'Steenth', 'Sabbe'], 'Marstal Sogn': ['Beethoven9', 'PHE77', 'Bornsommer', 'A. Jensen', 'Erik Christensen', 'PHansen', 'Kort til kirken', 'Steenth', 'Orwell123', 'EPO', 'Valentin', 'Nico'], 'Koningsdag': ['AEJ', 'PHE77', 'Rodejong', 'Steenth', 'Sarrus', 'Pugilist', 'Pixi Uno', 'Palnatoke', 'EdBever', 'Thomas81', 'Hejsa', 'Sir48'], 'Canadiens de Montréal': ['PHE77', 'Fma12', 'TherasTaneel', 'Patchfinder', 'Kaiser matias', 'Nomoma', 'AEJ', 'Celtics', 'Loveless', 'Hockeyindustrien'], 'Solsystemet': ['Kwamikagami', 'Pugilist', 'Jensga', 'Bent2517', 'Hjart', 'CactiStaccingCrane', 'Tropapa', 'KnudW', 'Nikolajellegaard123', 'Fatma2021k', 'Amalierosa02', 'Kasperbalshaj', 'Jonatan.skytte', 'KatrineBekker-Hansen', 'Inc', 'Zelrin', 'MHS~dawiki', 'PHE77', 'Oleryhlolsson', 'TherasTaneel', 'Weblars', 'NisJørgensen', 'Biscuit-in-Chief', 'Pyrros', 'Sarrus', 'AstroOgier', 'Godihrdt', 'Seewolf', 'Walshwngro Sinto', 'Christian Giersing', 'SorenRK', 'AEJ', 'Medic', 'Savfisk', 'Madglad', 'Hemmit', 'Crudiant', 'Pelle S.H.', 'CommonsDelinker', 'Necessary Evil', 'FrederikPeter', 'Rotlink', 'Dnorhoj', 'FSV', 'Benjamin220401', 'EPO', 'Kaare', 'Drlectin', 'Fredelige', 'Cocu', 'Cineclopedia', 'Mrloop', 'Sir48', 'Zilotte', 'Christian75', 'Mathiaskh', 'Glenn', 'Hanne123', 'Steenth', 'Hejsa', 'Jørgen', 'Patjanka', 'Wikibruger', 'Apw', 'Robin Hood~dawiki', 'Haukur', 'Pred', 'Ktp72', 'JCS~dawiki', 'Erik Corry~dawiki', 'Rune', 'Hashar', 'Malene', 'Suisui', 'Template namespace initialisation script', 'Christian List', 'Agerskov', 'Jan Pedersen', 'BrianHansen'], 'Mads True': ['Nico', 'AEJ', 'Mathiaskh', 'Greerzy36', 'Brandsen'], 'Marstals historie': ['Toxophilus', 'Hchristophersen', 'A. Jensen', 'DenBlaaElg', 'Steenth', 'Erik Christensen', 'Rmir2'], 'Det islandske fallosmuseum': ['Toxophilus', 'AEJ', 'Vrenak', 'Geraldshields11', 'Moeng', '1Veertje', 'Kinamand'], 'None': ['Aeonauthenticliving', 'Fnielsen', 'JGC', 'Malou', 'Jeppesn', 'Sir48'], 'Óscar Pereiro': ['Vandcykel', 'AEJ', 'Hejsa', 'Weblars', 'Sarrus', 'Petro', 'PerV', 'Gevin', 'Hockeyindustrien', 'NuclearWarhead', 'Staunited', 'Barklundo', 'LeonardoRob0t', 'Cyclonebill', 'Harthacnut', 'Ephraim33', 'Pred', 'Frank R'], 'Lars Eller': ['Villy Fink Isaksen', 'J 1982', 'PaulVIF', 'CommonsDelinker', 'Chaser', 'AEJ', 'Sarrus', 'Brandsen', 'Rasmusbyg'], 'Billings': ['AEJ'], 'Helmuts Balderis-Sildedzis': ['Siksebuffen', 'AEJ', 'Trade', 'Sarrus', 'Lettonica', 'Philaweb', 'Jørgen', 'Olfino'], 'Vogeserne': ['Nico', 'Ditlev Petersen', 'T-Stone', 'AEJ', 'Jesper Bøtker Mortensen', 'Vandcykel', 'Cycn', 'Patchfinder', 'Palnatoke', 'Wholle', 'BKP', 'Loveless', 'Hede2000', 'Sten', 'Heelgrasper'], 'Klemmedrengen': ['AEJ', 'Z33k'], 'Coronavirus': ['Madglad', 'KnudW', 'Drlectin', 'Anas1712', 'Hjart', 'Sarrus', 'Pugilist', 'Nico', 'Ditte Schulz', 'Steenth', 'Økonom', 'Leiferdrengen', 'Troels Arvin', 'Neuman88', 'Vandkande', 'SimmeD', 'EPO', 'Vibeke Printzlau', 'Villy Fink Isaksen', 'Daniel Broder', 'Fnielsen', 'Glenn', 'Dipsacus fullonum', 'TherasTaneel', 'Danmuz', 'Jhertel', 'LinguineFusilli', 'Frits063', 'PHansen', 'Zohanogluja', 'Oleryhlolsson', 'RhinoMind', 'Biscuit-in-Chief', 'AEJ', 'Savfisk', 'Druidsaki', 'Zelrin', 'Hrafnin', 'Sesamlukop', 'Nordfra', 'SorenRK', 'Alanovic', 'Fumarana', 'CommonsDelinker', 'Axelon123', 'Medic', 'Ole Lund Christensen', 'DenBlaaElg', 'Patchfinder', 'KattyOn', 'RoboForm', 'Loveless', 'Maitch', 'Leolaursen', 'Mojo~dawiki', 'Jone', 'BrianHansen'], 'Randy Carlyle': ['AEJ', 'Steenth', 'Thomas Vedelsbøl', 'Masz'], 'Berbere': ['1wikiiuser1', 'Zelrin', 'PHE77', 'Cilidus', 'Nico', 'Savfisk', 'Patchfinder', 'Rmir2', 'Andyrays', 'Dbensous', 'Artikler', 'Christian75', 'MGA73', 'Apopov', 'Sabbe', 'Loveless', 'Powerpia', 'Allano', 'Hejsa', 'Glenn', 'Ktp72', 'Heelgrasper'], 'Per Weirauch': ['AEJ'], 'Andreas Dirksen': ['Hjart', 'Abonnementskongen', 'KnudW', 'Kjeldjoh', 'Villy Fink Isaksen', 'LinguineFusilli', 'Mor Forglemmigej', 'Biscuit-in-Chief', 'Sabbe', 'Andreasdirksen'], 'Gala Rizzatto': ['Aeonauthenticliving', 'OriginalDBL', 'KnudW', 'PHE77', 'Metalindustrien', 'TherasTaneel', 'Lavanyavermeir', 'Vrenak', 'Nico', 'Taketa', 'CarinaT', 'M', 'Steenth', 'DrDose'], 'Boldklubben Frem': ['Wdymbydat', 'Infobesity', 'PHE77', 'PHansen', 'FCMads', 'Jimmydlb', 'Hjart', 'Pugilist', 'Sigvaldason', 'Dipsacus fullonum', 'Nico', 'Vistor', 'Trekw', 'PilleFischer', 'Tøndemageren', 'Siggimund', 'Mikkelmarius', 'Kbbajer', 'AEJ', 'Grasmusb', 'Per C Jakobsen', 'SorenRK', 'Clovis', 'EileenSanda', 'Moeng', 'Pixi Uno', 'Patchfinder', 'Fodbold-fan', 'Bornsommer', 'KnudW', 'Politikeren', 'Froztbyte', 'Michael-hoffmann-hansen', 'Noodles~dawiki', 'SimmeD', 'Trade', 'Brandsen', 'Sarrus', 'Sasha', 'TraxPlayer', 'Henrik Hansen', 'Jackie', 'Pikhat', 'Urbandweller', 'Rasmusbyg', 'Qweqwe~dawiki', 'Apopov', 'Dannebrog Spy', 'Vb-michael', 'C.Thure', 'Santac', 'Paul-obiefule', 'Mr-question', 'Barklundo', 'Steenth', 'Glenn', 'Ernst Poulsen', 'Maitch', 'Tuelund~dawiki', 'Mirko~dawiki', 'Gunnar Larsson'], 'Don Cherry': ['PHE77', 'AEJ', 'Villy Fink Isaksen', 'M', 'Trade', 'Rodejong', 'ArthurMcGill', 'Nico'], 'Bengt Åkerblom': ['AEJ', 'Moeng', 'Amjaabc', 'Dannebrog Spy', 'Rasmusbyg'], 'Staal, Kim': ['AEJ'], 'Hajj-ulykken 2015': ['AEJ', 'Jensga', 'Pugilist', 'Weblars', 'Pelle S.H.', 'Thomas Vedelsbøl', 'BillyDK', 'Palnatoke', 'Amjaabc'], 'Lund Domkirke': ['EPO', 'John.St', 'PerV', 'Nordfra', 'Maalbida', 'Trip Tucker', 'Steenth', 'Morten67', 'Wholle', 'Tostarpadius', 'Hrafnin', 'AEJ', 'Nico', 'TraxPlayer', 'Thomas81', 'Undrande', 'Klaas', 'Palnatoke', 'Hockeyindustrien', 'Loveless', 'Gunnarbach', 'Manscher', 'Dannebrog Spy', 'Harthacnut', 'Hansjorn', 'Heelgrasper', 'BjornGraabek', 'Byrial', 'Snio', 'Halsingen'], 'Gini-koefficient': ['Villy Fink Isaksen', 'Glenn', 'MortenZdk', 'Økonom', 'Hounsvad', 'Zelrin', 'HYGGE', 'Poul G', 'LucasSimper', 'Madglad', 'KnudW', 'Matty937', 'SimmeD', 'Mat91qor', 'Jacob Valdemar', 'Jacsel', 'Perlonn', 'Pugilist', 'Patchfinder', 'EPO', 'Kimsey0', 'Følelse', 'Fredelige', 'Lena Dyrdal Andersen', 'Frodep~dawiki', 'AEJ', 'Moeng', 'Amjaabc', 'Lindberg', 'Bornsommer', 'Palnatoke', 'Lcl', 'Loveless', 'Sune2510', 'Kaare', 'Heelgrasper', 'Santac', 'Thorkild'], 'Marat Safin': ['Dostojewskij', 'Ingmar~dawiki', 'Weblars', 'AnetteM', 'Zoizit', 'Sarrus', 'AEJ', 'Allano', 'Lindberg'], 'Syddansk Universitetsbibliotek': ['Akselbo', 'Nico', 'Billelar', 'Villy Fink Isaksen', 'Pixi Uno', 'Dorch', 'Danand', 'Victoria~dawiki', 'Saddhiyama', 'Nikolaj', 'Brandsen', 'Valentin', 'Hockeyindustrien'], 'Marstal-status': ['C960657', 'A. Jensen', 'Thomas81', 'JayPeque', 'Stilk', 'Amkaa'], 'Marko Divković': ['OriginalDBL', 'AEJ', 'ApocalypticMessenger', 'TherasTaneel'], 'Gateway Arch': ['AEJ', 'Necessary Evil', 'Patchfinder', 'Hede2000', 'Mikael V', 'Rklawton', 'Jan Friberg', 'Malou', 'Thierry Caro', 'Fred Bradstadt', 'Peregrine981', 'Jan Kronsell'], 'Syddansk Universitet': ['Steenth', 'Alfred345', 'Papiraffald', 'Mantabi', 'MacApps', 'Hjart', 'Hchristophersen', 'Akkuratesse', 'Kjarbak', 'Dannebrog Spy', 'Dipsacus fullonum', 'EPO', 'PHE77', 'Tøndemageren', 'Inc', 'Nico', 'IsoNick', 'Ertu~dawiki', 'Toxophilus', 'Mimo~dawiki', 'Jørgen', 'BillyDK', 'Patrickkpetersen', 'Medic', 'Brandsen', 'KnudW', 'MartinA12221', 'Danand', 'Eriktina', 'Dnh', 'Palnatoke', 'Pixi Uno', 'Mlarris', 'Sarrus', 'Loveless', 'Madsgormlarsen', 'Tonnes', 'Harne', 'Alhm', 'Wegge', 'Danielle', 'Kresspahl', 'Thomas81', 'Nikolaj', 'Marchen.gjertsen', 'JoneX', 'Hejsa', 'Scm', 'Valentin', 'Akselbo', 'Kaare', 'Morten', 'Jesper Mortensen', 'Tfsoft', 'Ras~dawiki', 'Pred', 'Christian~dawiki', 'Kristjan Wager', 'Heelgrasper', 'Ulvund', 'Anjoe', 'Christian List'], 'Modesty Blaise': ['Tjalland', 'Benadikt', 'Amjaabc', 'Mads Ren`ai', 'Kaare', 'Jac100', 'MGA73', 'AEJ', 'Nikolaj'], 'S.L. Benfica': ['Makenzis', 'PHE77', 'Gunnar23', 'AEJ', 'Tøndemageren', 'Sasu987', 'Sasu985', 'Pandikas', 'Pixi Uno', 'IvarT', 'BenficaNNossaPaixao', 'BiggerThanPortugal', 'Sorenolin', 'Sarrus', 'Rune X2', 'Jakf', 'Patchfinder', 'Bøgelund', 'Serta6100', 'HCa', 'Celtics', 'Man-U', 'Loveless', 'Moeng', 'CarinaT', 'C.Thure', 'Froztbyte', 'Havregryn'], 'Vancouver Canucks': ['Henrik Hansen', 'PHE77', 'TastyPoutine', 'TherasTaneel', 'Theabang', 'Patchfinder', 'AEJ', 'CommonsDelinker', 'Hockeyindustrien', 'Loveless', 'Apw', 'Kaare'], 'Spaniens flag': ['Pohowiki', 'AEJ', 'KnudW', 'CommonsDelinker', 'Toxophilus', 'Kemp', 'SorenRK', 'Pugilist', 'Nico', 'Villy Fink Isaksen', 'Rotlink', 'A3ng3l', 'Milenioscuro', 'Pixi Uno', 'Fry1989', 'Loveless', 'Sir48', 'Harne', 'BBB27044', 'Vejen', 'Thomas81', 'JayPeque', 'Palnatoke'], 'Dinara Safina': ['Ingmar~dawiki', 'Zoizit', 'Weblars', 'PjotrMahh1', 'Rekf', 'Loveless', 'AEJ', 'Hejsa', 'Amjaabc'], 'Rohan Dennis': ['Hejsa', 'Siksebuffen', 'Amjaabc', 'Vandcykel', 'AEJ', 'Jesper Bøtker Mortensen', 'EileenSanda'], 'Norges grundlov': ['AEJ', 'Sarrus', 'Roede', 'Pugilist', 'Rmir2', 'Pinnerup', 'Sasper', 'Tostarpadius', 'Villy Fink Isaksen', 'Amkaa', 'Saddhiyama', 'BillyDK', 'Urbandweller', 'Amjaabc', 'Nordfra', 'Lena Dyrdal Andersen', 'Casper~dawiki', 'Nødden~dawiki', 'Nico', 'Hede2000', 'Palnatoke'], 'Tunesien': ['Martin Macha 2111', 'Hjart', 'KnudW', 'Poul G', 'Pelle S.H.', 'Fnielsen', 'PHE77', 'Reinhard Kraasch', 'Ikir60', 'Weblars', 'Popenda', 'RuderKnægt', 'AEJ', 'Nico', 'Zelrin', 'Rmir2', 'Sarah Layton', 'DanielZain', 'Sarrus', 'PerV', 'Atcovi', 'BillyDK', 'Tounsimentounes', 'TherasTaneel', 'Moeng', 'Inc', 'Trade', 'HenrikKbh', 'Pugilist', 'Sabbe', 'Ziryab~dawiki', 'Jakf', 'Masz', 'Kaare', 'Pixi Uno', 'Steenth', 'EPO', 'Wikialf10', 'Necessary Evil', 'Zilvador', 'Sir48', 'Loveless', 'Pred', 'Allano', 'Bob Collowân', 'Hejsa', 'Morten', 'UZI', 'Hitz18', 'Villy Fink Isaksen', 'Martin-tirup', 'Apw', 'Hede2000', 'Barklund', 'Santac', 'Yurik', 'Jørgen', 'Manscher', 'Peregrine981', 'Glenn', 'Hashar'], 'Sunday Bloody Sunday': ['AEJ'], 'Christian Offenberg': ['Nico', 'Tøndemageren', 'Laketown', 'AEJ', 'S.A. Julio'], 'Junior-VM i ishockey': ['PHE77', 'Sangjinhwa', 'Steenth', 'Pugilist', 'Moeng', 'Henrik Hansen', 'PerV', 'TherasTaneel', 'AEJ', 'Christian75'], 'Reformert Kirke': ['AdamSmithFan', 'Steenth', 'Hjart', 'Madglad', 'Jan Janssen', 'Brams', 'Vrenak', 'Royal Export', 'Moeng', 'Danmuz', 'Urbandweller', 'Ramblersen', 'Villy Fink Isaksen', 'Kuddel', 'Amjaabc', 'Thomas81', 'IbRas', 'Palnatoke'], 'Thomas Robb': ['Alex Cohn', 'AQ-R33kz', 'Hjart', 'Pugilist', 'Biscuit-in-Chief', 'Toxophilus', 'SorenRK', 'Pelle S.H.', 'Victor skalvig', 'BillyDK', 'TherasTaneel', 'KnudW', 'Amjaabc', 'Frits063', 'Trade', 'Nico', 'Necessary Evil'], 'Victor Pálsson': ['ApocalypticMessenger', 'Nico', 'Bolddreng', 'AEJ', 'Pandikas', 'KnudW', 'Amjaabc', 'DanskPåDansk', 'Fodbold-fan', 'InsaneHacker', 'Trade', 'Jmorrison230582', 'Tøndemageren', 'MGA73', 'Carpe diem82', 'Hchristophersen', 'M', 'Tjernobyl', 'Kaare'], 'Justin Bieber': ['Entropeter', 'Pugilist', 'Nokia621', 'Akkuratesse', 'PHE77', 'Niegodzisie', 'EPO', 'Mathildejegvedalt', 'Emil436w', 'Pajooo', 'Weblars', 'Siksebuffen', 'Amjaabc', 'TypicalDane050505', 'Jørgen', 'Theaguld', 'Nico', 'Hej jeg hedder fann0289', 'KnudW', 'YouTube kanalen', 'Oliv9751', 'SorenRK', 'Celiajbt', 'Zelrin', 'Nata7371', 'InsaneHacker', 'Villadsqawsed', 'User2352352', 'Bruno Meireles', 'Trade', 'Iojhug', 'Savfisk', 'Dictedegnkristiansen', 'Cgt', 'Hejsa', 'Saha0214', 'Rodejong', 'Davidvalbakjensen', 'Glenn', 'Knægt', 'SimmeD', 'Morten Haagensen', 'Mikkel249n', 'Crudiant', 'Optimus Pred', 'Tux1230', 'Villy Fink Isaksen', 'Kasp127a', 'Pixi Uno', 'Nikolaj1099', 'TherasTaneel', 'Grey-Fox', 'Danmuz', 'Kraesenpind', 'Frederik97', 'Rasmusweidinger', 'Sarrus', 'Alix1367', 'Sorenhk', 'Steenth', 'Looplulu2', 'Wholle', 'Eron1234', 'Nicolaidr', 'Palnatoke', 'FrizzG', 'Sofiebieberw', 'Rotlink', 'Thea1997', 'NivlekDa', 'Uebeltank', 'Korrektricen', 'Kaare', 'Medic', 'Esbendyr', 'Treddy', 'MUFCTTDID', 'Altaïr', 'TIMSKAP', 'Pelle S.H.', 'Akinnaw', 'Mikkel705', 'Martin.Lind', 'Flyingphilip123', 'DJ PhilZz', 'DanNav', 'Vdanielnc', 'Dinfar54', 'Placesnake~dawiki', 'John blue', 'AEJ', 'Amaterasu725', 'Wolfertwo', 'Hejsa justin biber', 'Brandsen', 'Mr1Nico', 'Zombiefish500', 'Duccen', 'Mathiaskh', 'Dega-l', 'Camillatraberg', 'Christian Giersing', 'Necessary Evil', 'WTM', 'Sasha', 'Steffen Löwe Gera', 'Sarah&Justin', 'Ultraman'], 'Regin, Peter': ['AEJ'], 'Mats Rosseli Olsen': ['Sandro Halank', 'AEJ', 'Polter88'], 'Rødovre Kirke': ['Dannebrog Spy', 'Morten Haagensen', 'Kort til kirken', 'Morten67', 'AEJ', 'Nico', 'Urbandweller', 'Thomas81', 'Hockeyindustrien'], 'Alex Band': ['Aeonauthenticliving', 'Sarah Layton', 'Trijnstel', 'Trade', 'KnudW', 'MetteKarlsen', 'Hejsa', 'CarinaT', 'OnlyRock', 'Pardy', 'Thomas81'], 'Orange Linjen': ['Toxophilus', 'A. Jensen', 'Villy Fink Isaksen'], 'Svenska hockeyligan': ['Pugilist', 'Dipsacus fullonum', 'J 1982', 'MulleMilos', 'AEJ', 'Barklund', 'Ernst Poulsen']}\n"
     ]
    }
   ],
   "source": [
    "page_contribs = reduce(lambda a, b: {**a, **b}, page_contribs)\n",
    "print(page_contribs)"
   ],
   "metadata": {
    "collapsed": false,
    "ExecuteTime": {
     "end_time": "2024-03-15T14:59:36.719163300Z",
     "start_time": "2024-03-15T14:59:36.697811800Z"
    }
   },
   "id": "ae69bf27c7fb4dde",
   "execution_count": 219
  },
  {
   "cell_type": "markdown",
   "source": [
    "### Graph construction"
   ],
   "metadata": {
    "collapsed": false
   },
   "id": "12717bdf42b55456"
  },
  {
   "cell_type": "code",
   "outputs": [],
   "source": [
    "edge_dict = defaultdict(lambda: {'pages':[],'n_pages':0})\n",
    "\n",
    "\n",
    "for page, contribs in page_contribs.items():\n",
    "    if len(contribs) < 2:\n",
    "        continue\n",
    "    contribs.sort()\n",
    "    contrib_pairs = list(combinations(contribs, r=2))\n",
    "    for contrib_pair in contrib_pairs:\n",
    "        edge_dict[contrib_pair]['pages'].append(page)\n",
    "        edge_dict[contrib_pair]['n_pages'] += 1\n",
    "\n",
    "G = nx.Graph()\n",
    "G.add_edges_from(edge_dict.keys())\n",
    "nx.set_edge_attributes(G, edge_dict)"
   ],
   "metadata": {
    "collapsed": false,
    "ExecuteTime": {
     "end_time": "2024-03-15T14:59:47.671351900Z",
     "start_time": "2024-03-15T14:59:46.478072200Z"
    }
   },
   "id": "21d489a570ec3238",
   "execution_count": 220
  },
  {
   "cell_type": "code",
   "outputs": [],
   "source": [],
   "metadata": {
    "collapsed": false
   },
   "id": "aa45a9aa8b63236f"
  },
  {
   "cell_type": "code",
   "outputs": [
    {
     "data": {
      "text/plain": "{('AEJ', 'Olaf Eller'): ['Olaf Eller'],\n ('AEJ', 'Pixi Uno'): ['Olaf Eller', 'Kasper Lorentzen'],\n ('AEJ', 'Sarrus'): ['Olaf Eller',\n  'Superisligaen',\n  'VM i ishockey 1962',\n  'Svenstrup (Aalborg Kommune)',\n  'Kasper Lorentzen',\n  'Roy Keane'],\n ('AEJ', 'Biscuit-in-Chief'): ['Potentiel energi', 'Saudi-Arabien'],\n ('AEJ', 'Christian Giersing'): ['Potentiel energi',\n  'Svenstrup (Aalborg Kommune)',\n  'Oskarshamn',\n  'Forsmark atomkraftværk'],\n ('AEJ', 'Crudiant'): ['Potentiel energi'],\n ('AEJ', 'Fodbold kongen'): ['Potentiel energi'],\n ('AEJ', 'Glenn'): ['Potentiel energi',\n  'Jean Hersholt',\n  'Saudi-Arabien',\n  'Forsmark atomkraftværk'],\n ('AEJ', 'GunnerPoulsen'): ['Potentiel energi'],\n ('AEJ', 'Hashar'): ['Potentiel energi', 'Saudi-Arabien'],\n ('AEJ', 'HenrikMidtiby'): ['Potentiel energi'],\n ('AEJ', 'Hjart'): ['Potentiel energi',\n  'Josephine Park',\n  'Superisligaen',\n  'Henrik Dalsgaard',\n  'Saudi-Arabien'],\n ('AEJ', 'Ilario'): ['Potentiel energi'],\n ('AEJ', 'Inc'): ['Potentiel energi'],\n ('AEJ', 'KnudW'): ['Potentiel energi', 'Polina Gagarina', 'Saudi-Arabien'],\n ('AEJ', 'MacApps'): ['Potentiel energi'],\n ('AEJ', 'Nielssonnich'): ['Potentiel energi'],\n ('AEJ', 'Palnatoke'): ['Potentiel energi',\n  'Superisligaen',\n  'Jean Hersholt',\n  'Saudi-Arabien',\n  'Forsmark atomkraftværk'],\n ('AEJ', 'Peo'): ['Potentiel energi'],\n ('AEJ', 'Pred'): ['Potentiel energi'],\n ('AEJ', 'Pugilist'): ['Potentiel energi',\n  'Josephine Park',\n  'Superisligaen',\n  'Svenstrup (Aalborg Kommune)',\n  'Jean Hersholt',\n  'Roy Keane',\n  'Henrik Dalsgaard'],\n ('AEJ', 'Rodejong'): ['Potentiel energi', 'Superisligaen'],\n ('AEJ', 'Savfisk'): ['Potentiel energi', 'Svenstrup (Aalborg Kommune)'],\n ('AEJ', 'Sten'): ['Potentiel energi'],\n ('AEJ', 'Strawa'): ['Potentiel energi'],\n ('AEJ', 'Amjaabc'): ['Josephine Park',\n  'Superisligaen',\n  'Jean Hersholt',\n  'Henrik Dalsgaard',\n  'Saudi-Arabien'],\n ('AEJ', 'AndersViborg'): ['Josephine Park'],\n ('AEJ', 'Anne-Sophie Ofrim'): ['Josephine Park'],\n ('AEJ', 'CeciTGreg'): ['Josephine Park'],\n ('AEJ', 'Dipsacus fullonum'): ['Josephine Park',\n  'Jean Hersholt',\n  'Saudi-Arabien'],\n ('AEJ', 'Laanders'): ['Josephine Park'],\n ('AEJ', 'Siksebuffen'): ['Josephine Park', 'Polina Gagarina'],\n ('AEJ', 'TherasTaneel'): ['Josephine Park',\n  'Jean Hersholt',\n  'Polina Gagarina',\n  'Saudi-Arabien'],\n ('AEJ', 'Tjalland'): ['Josephine Park', 'Brie Larson'],\n ('AEJ', 'Tjernobyl'): ['Josephine Park'],\n ('AEJ', 'Toxophilus'): ['Josephine Park'],\n ('AEJ', 'Altaïr'): ['Superisligaen'],\n ('AEJ', 'Barklund'): ['Superisligaen', 'Roy Keane'],\n ('AEJ', 'C.Thure'): ['Superisligaen'],\n ('AEJ', 'CarlKlogeOve'): ['Superisligaen'],\n ('AEJ', 'Christian75'): ['Superisligaen', 'Svenstrup (Aalborg Kommune)'],\n ('AEJ', 'EPO'): ['Superisligaen',\n  'Kasper Lorentzen',\n  'Roy Keane',\n  'Saudi-Arabien'],\n ('AEJ', 'Ejwin'): ['Superisligaen'],\n ('AEJ', 'Henrik Hansen'): ['Superisligaen',\n  'VM i ishockey 1962',\n  'Jean Hersholt'],\n ('AEJ', 'Hockeyindustrien'): ['Superisligaen', 'Kasper Lorentzen'],\n ('AEJ', 'Izm0'): ['Superisligaen'],\n ('AEJ', 'Kaare'): ['Superisligaen',\n  'Triangelns Station',\n  'Jean Hersholt',\n  'Oskarshamn',\n  'Saudi-Arabien'],\n ('AEJ', 'Mikkelh96'): ['Superisligaen'],\n ('AEJ', 'Ohkami'): ['Superisligaen'],\n ('AEJ', 'PHE77'): ['Superisligaen', 'Henrik Dalsgaard', 'Saudi-Arabien'],\n ('AEJ', 'Pandikas'): ['Superisligaen',\n  'Kasper Lorentzen',\n  'Roy Keane',\n  'Henrik Dalsgaard',\n  'Saudi-Arabien'],\n ('AEJ', 'Patchfinder'): ['Superisligaen',\n  'Triangelns Station',\n  'Svenstrup (Aalborg Kommune)',\n  'Henrik Dalsgaard',\n  'Saudi-Arabien',\n  'Forsmark atomkraftværk'],\n ('AEJ', 'Royal Export'): ['Superisligaen'],\n ('AEJ', 'STUDENT57'): ['Superisligaen'],\n ('AEJ', 'SorenRK'): ['Superisligaen',\n  'Oskarshamn',\n  'Kasper Lorentzen',\n  'Saudi-Arabien'],\n ('AEJ', 'Steenth'): ['Superisligaen',\n  'Triangelns Station',\n  'Svenstrup (Aalborg Kommune)',\n  'Brie Larson',\n  'Jean Hersholt',\n  'Kasper Lorentzen',\n  'Saudi-Arabien'],\n ('AEJ', 'Trade'): ['Superisligaen',\n  'Oskarshamn',\n  'Kasper Lorentzen',\n  'Saudi-Arabien'],\n ('AEJ', 'Tøndemageren'): ['Superisligaen',\n  'Kasper Lorentzen',\n  'Henrik Dalsgaard'],\n ('AEJ', 'Ultraman'): ['Superisligaen'],\n ('AEJ', 'Veolia'): ['Superisligaen'],\n ('AEJ', 'Viby27'): ['Superisligaen'],\n ('AEJ', 'Gorbi'): ['VM i ishockey 1962'],\n ('AEJ', 'Dannebrog Spy'): ['Triangelns Station'],\n ('AEJ', 'Heb'): ['Triangelns Station'],\n ('AEJ', 'Kalaha'): ['Triangelns Station'],\n ('AEJ', 'Morten Haagensen'): ['Triangelns Station', 'Saudi-Arabien'],\n ('AEJ', 'PerV'): ['Triangelns Station', 'Polina Gagarina', 'Saudi-Arabien'],\n ('AEJ', 'Philaweb'): ['Triangelns Station'],\n ('AEJ', 'Plantsarewonderful'): ['Triangelns Station'],\n ('AEJ', 'Trip Tucker'): ['Triangelns Station',\n  'Svenstrup (Aalborg Kommune)',\n  'Saudi-Arabien'],\n ('AEJ', 'Asger'): ['Svenstrup (Aalborg Kommune)'],\n ('AEJ', 'BKP'): ['Svenstrup (Aalborg Kommune)',\n  'Jean Hersholt',\n  'Oskarshamn'],\n ('AEJ', 'Cgt'): ['Svenstrup (Aalborg Kommune)', 'Saudi-Arabien'],\n ('AEJ', 'Eureka360'): ['Svenstrup (Aalborg Kommune)'],\n ('AEJ', 'Hubertus'): ['Svenstrup (Aalborg Kommune)'],\n ('AEJ', 'LasseVestergaard'): ['Svenstrup (Aalborg Kommune)'],\n ('AEJ', 'Madglad'): ['Svenstrup (Aalborg Kommune)'],\n ('AEJ', 'Moeng'): ['Svenstrup (Aalborg Kommune)',\n  'Kasper Lorentzen',\n  'Saudi-Arabien'],\n ('AEJ', 'Pelle S.H.'): ['Svenstrup (Aalborg Kommune)', 'Saudi-Arabien'],\n ('AEJ', 'Postbuddet'): ['Svenstrup (Aalborg Kommune)'],\n ('AEJ', 'Rmir2'): ['Svenstrup (Aalborg Kommune)', 'Saudi-Arabien'],\n ('AEJ', 'Sorenhk'): ['Svenstrup (Aalborg Kommune)'],\n ('AEJ', 'Staunited'): ['Svenstrup (Aalborg Kommune)'],\n ('AEJ', 'FelixFilm2006'): ['Brie Larson'],\n ('AEJ', 'Nico'): ['Brie Larson',\n  'Jean Hersholt',\n  'Kasper Lorentzen',\n  'Saudi-Arabien'],\n ('AEJ', 'Zoizit'): ['Brie Larson'],\n ('AEJ', 'Bornsommer'): ['Jean Hersholt'],\n ('AEJ', 'E-Turner'): ['Jean Hersholt'],\n ('AEJ', 'John Peters'): ['Jean Hersholt', 'Forsmark atomkraftværk'],\n ('AEJ', 'M'): ['Jean Hersholt'],\n ('AEJ', 'Rune X2'): ['Jean Hersholt'],\n ('AEJ', 'Tomcatjo'): ['Jean Hersholt'],\n ('AEJ', 'Urbandweller'): ['Jean Hersholt'],\n ('AEJ', 'Varlaam'): ['Jean Hersholt'],\n ('AEJ', 'Amidships'): ['Oskarshamn'],\n ('AEJ', 'Anchor2009'): ['Oskarshamn'],\n ('AEJ', 'Artikler'): ['Oskarshamn', 'Saudi-Arabien'],\n ('AEJ', 'Kemp'): ['Oskarshamn'],\n ('AEJ', 'Mo Cuishle'): ['Oskarshamn'],\n ('AEJ', 'Weblars'): ['Oskarshamn', 'Saudi-Arabien'],\n ('AEJ', 'AllanCapone'): ['Kasper Lorentzen'],\n ('AEJ', 'BabylonDK'): ['Kasper Lorentzen'],\n ('AEJ', 'Barklundo'): ['Kasper Lorentzen'],\n ('AEJ', 'Brandsen'): ['Kasper Lorentzen'],\n ('AEJ', 'EnurDK'): ['Kasper Lorentzen'],\n ('AEJ', 'Fodbold-fan'): ['Kasper Lorentzen', 'Henrik Dalsgaard'],\n ('AEJ', 'Froztbyte'): ['Kasper Lorentzen'],\n ('AEJ', 'JKW~dawiki'): ['Kasper Lorentzen'],\n ('AEJ', 'Jeswood'): ['Kasper Lorentzen'],\n ('AEJ', 'K-CF85'): ['Kasper Lorentzen'],\n ('AEJ', 'Kongen af fodbold'): ['Kasper Lorentzen'],\n ('AEJ', 'Krog99'): ['Kasper Lorentzen'],\n ('AEJ', 'Kwey09'): ['Kasper Lorentzen', 'Henrik Dalsgaard'],\n ('AEJ', 'Math981n'): ['Kasper Lorentzen', 'Henrik Dalsgaard'],\n ('AEJ', 'Mathiaskh'): ['Kasper Lorentzen', 'Saudi-Arabien'],\n ('AEJ', 'Mons1957'): ['Kasper Lorentzen'],\n ('AEJ', 'Mr1Nico'): ['Kasper Lorentzen'],\n ('AEJ', 'Pelsdyret'): ['Kasper Lorentzen'],\n ('AEJ', 'Præsidentindustrien'): ['Kasper Lorentzen'],\n ('AEJ', 'RasmusAalbæk'): ['Kasper Lorentzen'],\n ('AEJ', 'Santac'): ['Kasper Lorentzen'],\n ('AEJ', 'SimmeD'): ['Kasper Lorentzen', 'Saudi-Arabien'],\n ('AEJ', 'Altmuligmanden'): ['Roy Keane'],\n ('AEJ', 'Celtics'): ['Roy Keane'],\n ('AEJ', 'Emil12plov'): ['Roy Keane'],\n ('AEJ', 'JesperCarlsen'): ['Roy Keane'],\n ('AEJ', 'Loveless'): ['Roy Keane', 'Saudi-Arabien'],\n ('AEJ', 'Man-U'): ['Roy Keane'],\n ('AEJ', 'OriginalDBL'): ['Roy Keane'],\n ('AEJ', 'Simonole1'): ['Roy Keane'],\n ('AEJ', 'Thomas81'): ['Roy Keane'],\n ('AEJ', 'AaB-ern'): ['Henrik Dalsgaard'],\n ('AEJ', 'ApocalypticMessenger'): ['Henrik Dalsgaard'],\n ('AEJ', 'Boldspiller'): ['Henrik Dalsgaard'],\n ('AEJ', 'Costa72'): ['Henrik Dalsgaard'],\n ('AEJ', 'Ndsm'): ['Henrik Dalsgaard'],\n ('AEJ', 'Trenskow'): ['Henrik Dalsgaard'],\n ('AEJ', 'Tropapa'): ['Henrik Dalsgaard'],\n ('AEJ', 'Aejsing'): ['Polina Gagarina'],\n ('AEJ', 'Dostojewskij'): ['Polina Gagarina'],\n ('AEJ', 'Erenhillerød'): ['Polina Gagarina'],\n ('AEJ', 'Brol'): ['Izzy Christiansen'],\n ('AEJ', 'EileenSanda'): ['Izzy Christiansen'],\n ('AEJ', 'Granada'): ['Izzy Christiansen'],\n ('AEJ', 'Tylander'): ['Izzy Christiansen'],\n ('AEJ', 'Akkuratesse'): ['Saudi-Arabien'],\n ('AEJ', 'Allano'): ['Saudi-Arabien'],\n ('AEJ', 'Apw'): ['Saudi-Arabien'],\n ('AEJ', 'BBC'): ['Saudi-Arabien'],\n ('AEJ', 'BjornGraabek'): ['Saudi-Arabien'],\n ('AEJ', 'BrianHansen'): ['Saudi-Arabien'],\n ('AEJ', 'Brotta8'): ['Saudi-Arabien'],\n ('AEJ', 'Byrial'): ['Saudi-Arabien'],\n ('AEJ', 'CommonsDelinker'): ['Saudi-Arabien'],\n ('AEJ', 'Gereon K.'): ['Saudi-Arabien'],\n ('AEJ', 'Haabet'): ['Saudi-Arabien'],\n ('AEJ', 'HansJensen'): ['Saudi-Arabien'],\n ('AEJ', 'Harne'): ['Saudi-Arabien'],\n ('AEJ', 'Hede2000'): ['Saudi-Arabien'],\n ('AEJ', 'Hejsa'): ['Saudi-Arabien'],\n ('AEJ', 'Illegitimate Barrister'): ['Saudi-Arabien'],\n ('AEJ', 'Jakob mark'): ['Saudi-Arabien'],\n ('AEJ', 'Kasper Holl'): ['Saudi-Arabien'],\n ('AEJ', 'Khawabkitabeer'): ['Saudi-Arabien'],\n ('AEJ', 'Larsbrp'): ['Saudi-Arabien'],\n ('AEJ', 'Lindberg'): ['Saudi-Arabien'],\n ('AEJ', 'Mbini~dawiki'): ['Saudi-Arabien'],\n ('AEJ', 'Medic'): ['Saudi-Arabien'],\n ('AEJ', 'Necessary Evil'): ['Saudi-Arabien'],\n ('AEJ', 'Nikolaj'): ['Saudi-Arabien'],\n ('AEJ', 'Peregrine981'): ['Saudi-Arabien'],\n ('AEJ', 'Rune'): ['Saudi-Arabien'],\n ('AEJ', 'Sabbe'): ['Saudi-Arabien'],\n ('AEJ', 'Sangild'): ['Saudi-Arabien'],\n ('AEJ', 'Villy Fink Isaksen'): ['Saudi-Arabien'],\n ('AEJ', 'VseA'): ['Saudi-Arabien'],\n ('AEJ', 'Wagner Texas Ranger'): ['Saudi-Arabien'],\n ('AEJ', 'Zelrin'): ['Saudi-Arabien'],\n ('AEJ', 'Zheng Hoi'): ['Saudi-Arabien'],\n ('AEJ', 'Anhn'): ['Forsmark atomkraftværk'],\n ('AEJ', 'Poker-DM'): ['Forsmark atomkraftværk'],\n ('AEJ', 'Rotlink'): ['Forsmark atomkraftværk'],\n ('AEJ', 'Tostarpadius'): ['Forsmark atomkraftværk'],\n ('Olaf Eller', 'Pixi Uno'): ['Olaf Eller'],\n ('Olaf Eller', 'Sarrus'): ['Olaf Eller'],\n ('Pixi Uno', 'Sarrus'): ['Olaf Eller', 'Kasper Lorentzen', 'Sys Bjerre'],\n ('Pixi Uno', 'AllanCapone'): ['Kasper Lorentzen'],\n ('Pixi Uno', 'BabylonDK'): ['Kasper Lorentzen'],\n ('Pixi Uno', 'Barklundo'): ['Kasper Lorentzen'],\n ('Pixi Uno', 'Brandsen'): ['Kasper Lorentzen', 'Sys Bjerre'],\n ('Pixi Uno', 'EPO'): ['Kasper Lorentzen', 'Sys Bjerre'],\n ('Pixi Uno', 'EnurDK'): ['Kasper Lorentzen'],\n ('Pixi Uno', 'Fodbold-fan'): ['Kasper Lorentzen'],\n ('Pixi Uno', 'Froztbyte'): ['Kasper Lorentzen'],\n ('Pixi Uno', 'Hockeyindustrien'): ['Kasper Lorentzen'],\n ('Pixi Uno', 'JKW~dawiki'): ['Kasper Lorentzen'],\n ('Pixi Uno', 'Jeswood'): ['Kasper Lorentzen'],\n ('Pixi Uno', 'K-CF85'): ['Kasper Lorentzen'],\n ('Pixi Uno', 'Kongen af fodbold'): ['Kasper Lorentzen'],\n ('Pixi Uno', 'Krog99'): ['Kasper Lorentzen'],\n ('Pixi Uno', 'Kwey09'): ['Kasper Lorentzen'],\n ('Pixi Uno', 'Math981n'): ['Kasper Lorentzen'],\n ('Pixi Uno', 'Mathiaskh'): ['Kasper Lorentzen'],\n ('Pixi Uno', 'Moeng'): ['Kasper Lorentzen'],\n ('Pixi Uno', 'Mons1957'): ['Kasper Lorentzen'],\n ('Pixi Uno', 'Mr1Nico'): ['Kasper Lorentzen'],\n ('Pixi Uno', 'Nico'): ['Kasper Lorentzen', 'Sys Bjerre'],\n ('Pixi Uno', 'Pandikas'): ['Kasper Lorentzen'],\n ('Pixi Uno', 'Pelsdyret'): ['Kasper Lorentzen'],\n ('Pixi Uno', 'Præsidentindustrien'): ['Kasper Lorentzen'],\n ('Pixi Uno', 'RasmusAalbæk'): ['Kasper Lorentzen'],\n ('Pixi Uno', 'Santac'): ['Kasper Lorentzen'],\n ('Pixi Uno', 'SimmeD'): ['Kasper Lorentzen'],\n ('Pixi Uno', 'SorenRK'): ['Kasper Lorentzen'],\n ('Pixi Uno', 'Steenth'): ['Kasper Lorentzen', 'Sys Bjerre'],\n ('Pixi Uno', 'Trade'): ['Kasper Lorentzen', 'Sys Bjerre'],\n ('Pixi Uno', 'Tøndemageren'): ['Kasper Lorentzen'],\n ('Pixi Uno', 'Abemandddk'): ['Sys Bjerre'],\n ('Pixi Uno', 'Amjaabc'): ['Sys Bjerre'],\n ('Pixi Uno', 'Annetta Elmo Koncertbooking & Management'): ['Sys Bjerre'],\n ('Pixi Uno', 'Brokke'): ['Sys Bjerre'],\n ('Pixi Uno', 'CarinaT'): ['Sys Bjerre'],\n ('Pixi Uno', 'Cgt'): ['Sys Bjerre'],\n ('Pixi Uno', 'Christian Giersing'): ['Sys Bjerre'],\n ('Pixi Uno', 'DanNav'): ['Sys Bjerre'],\n ('Pixi Uno', 'Don-dk'): ['Sys Bjerre'],\n ('Pixi Uno', 'Flygger'): ['Sys Bjerre'],\n ('Pixi Uno', 'Glenn'): ['Sys Bjerre'],\n ('Pixi Uno', 'Hede2000'): ['Sys Bjerre'],\n ('Pixi Uno', 'Hejsa'): ['Sys Bjerre'],\n ('Pixi Uno', 'Hjart'): ['Sys Bjerre'],\n ('Pixi Uno', 'Josefine23'): ['Sys Bjerre'],\n ('Pixi Uno', 'Joshuadenmark'): ['Sys Bjerre'],\n ('Pixi Uno', 'Kaare'): ['Sys Bjerre'],\n ('Pixi Uno', 'Kirjapan'): ['Sys Bjerre'],\n ('Pixi Uno', 'KnudW'): ['Sys Bjerre'],\n ('Pixi Uno', 'Lisbeth Sandø-pedersen'): ['Sys Bjerre'],\n ('Pixi Uno', 'Marc139a'): ['Sys Bjerre'],\n ('Pixi Uno', 'Masz'): ['Sys Bjerre'],\n ('Pixi Uno', 'Mubito'): ['Sys Bjerre'],\n ('Pixi Uno', 'PHE77'): ['Sys Bjerre'],\n ('Pixi Uno', 'Piralski'): ['Sys Bjerre'],\n ('Pixi Uno', 'Pred'): ['Sys Bjerre'],\n ('Pixi Uno', 'Pugilist'): ['Sys Bjerre'],\n ('Pixi Uno', 'Sabbe'): ['Sys Bjerre'],\n ('Pixi Uno', 'Savfisk'): ['Sys Bjerre'],\n ('Pixi Uno', 'Schnatzel'): ['Sys Bjerre'],\n ('Pixi Uno', 'System Of A Bjerre'): ['Sys Bjerre'],\n ('Pixi Uno', 'TherasTaneel'): ['Sys Bjerre'],\n ('Pixi Uno', 'Toxophilus'): ['Sys Bjerre'],\n ('Pixi Uno', 'Tsca'): ['Sys Bjerre'],\n ('Pixi Uno', 'Urbandweller'): ['Sys Bjerre'],\n ('Pixi Uno', 'Werldwayd'): ['Sys Bjerre'],\n ('Pixi Uno', 'Z33k'): ['Sys Bjerre'],\n ('Sarrus', 'Altaïr'): ['Superisligaen'],\n ('Sarrus', 'Amjaabc'): ['Superisligaen', 'Sys Bjerre'],\n ('Sarrus', 'Barklund'): ['Superisligaen', 'Roy Keane'],\n ('Sarrus', 'C.Thure'): ['Superisligaen'],\n ('Sarrus', 'CarlKlogeOve'): ['Superisligaen'],\n ('Sarrus', 'Christian75'): ['Superisligaen', 'Svenstrup (Aalborg Kommune)'],\n ('Sarrus', 'EPO'): ['Superisligaen',\n  'Kasper Lorentzen',\n  'Roy Keane',\n  'Sys Bjerre'],\n ('Sarrus', 'Ejwin'): ['Superisligaen'],\n ('Sarrus', 'Henrik Hansen'): ['Superisligaen', 'VM i ishockey 1962'],\n ('Sarrus', 'Hjart'): ['Superisligaen', 'Sys Bjerre'],\n ('Sarrus', 'Hockeyindustrien'): ['Superisligaen', 'Kasper Lorentzen'],\n ('Sarrus', 'Izm0'): ['Superisligaen'],\n ('Sarrus', 'Kaare'): ['Superisligaen', 'Sys Bjerre'],\n ('Sarrus', 'Mikkelh96'): ['Superisligaen'],\n ('Sarrus', 'Ohkami'): ['Superisligaen'],\n ('Sarrus', 'PHE77'): ['Superisligaen', 'Sys Bjerre'],\n ('Sarrus', 'Palnatoke'): ['Superisligaen'],\n ('Sarrus', 'Pandikas'): ['Superisligaen', 'Kasper Lorentzen', 'Roy Keane'],\n ('Sarrus', 'Patchfinder'): ['Superisligaen', 'Svenstrup (Aalborg Kommune)'],\n ('Sarrus', 'Pugilist'): ['Superisligaen',\n  'Svenstrup (Aalborg Kommune)',\n  'Roy Keane',\n  'Sys Bjerre'],\n ('Sarrus', 'Rodejong'): ['Superisligaen'],\n ('Sarrus', 'Royal Export'): ['Superisligaen'],\n ('Sarrus', 'STUDENT57'): ['Superisligaen'],\n ('Sarrus', 'SorenRK'): ['Superisligaen', 'Kasper Lorentzen'],\n ('Sarrus', 'Steenth'): ['Superisligaen',\n  'Svenstrup (Aalborg Kommune)',\n  'Kasper Lorentzen',\n  'Sys Bjerre'],\n ('Sarrus', 'Trade'): ['Superisligaen', 'Kasper Lorentzen', 'Sys Bjerre'],\n ('Sarrus', 'Tøndemageren'): ['Superisligaen', 'Kasper Lorentzen'],\n ('Sarrus', 'Ultraman'): ['Superisligaen'],\n ('Sarrus', 'Veolia'): ['Superisligaen'],\n ('Sarrus', 'Viby27'): ['Superisligaen'],\n ('Sarrus', 'Gorbi'): ['VM i ishockey 1962'],\n ('Sarrus', 'Asger'): ['Svenstrup (Aalborg Kommune)'],\n ('Sarrus', 'BKP'): ['Svenstrup (Aalborg Kommune)'],\n ('Sarrus', 'Cgt'): ['Svenstrup (Aalborg Kommune)', 'Sys Bjerre'],\n ('Sarrus', 'Christian Giersing'): ['Svenstrup (Aalborg Kommune)',\n  'Sys Bjerre'],\n ('Sarrus', 'Eureka360'): ['Svenstrup (Aalborg Kommune)'],\n ('Sarrus', 'Hubertus'): ['Svenstrup (Aalborg Kommune)'],\n ('Sarrus', 'LasseVestergaard'): ['Svenstrup (Aalborg Kommune)'],\n ('Sarrus', 'Madglad'): ['Svenstrup (Aalborg Kommune)'],\n ('Sarrus', 'Moeng'): ['Svenstrup (Aalborg Kommune)', 'Kasper Lorentzen'],\n ('Sarrus', 'Pelle S.H.'): ['Svenstrup (Aalborg Kommune)'],\n ('Sarrus', 'Postbuddet'): ['Svenstrup (Aalborg Kommune)'],\n ('Sarrus', 'Rmir2'): ['Svenstrup (Aalborg Kommune)'],\n ('Sarrus', 'Savfisk'): ['Svenstrup (Aalborg Kommune)', 'Sys Bjerre'],\n ('Sarrus', 'Sorenhk'): ['Svenstrup (Aalborg Kommune)'],\n ('Sarrus', 'Staunited'): ['Svenstrup (Aalborg Kommune)'],\n ('Sarrus', 'Trip Tucker'): ['Svenstrup (Aalborg Kommune)'],\n ('Sarrus', 'AllanCapone'): ['Kasper Lorentzen'],\n ('Sarrus', 'BabylonDK'): ['Kasper Lorentzen'],\n ('Sarrus', 'Barklundo'): ['Kasper Lorentzen'],\n ('Sarrus', 'Brandsen'): ['Kasper Lorentzen', 'Sys Bjerre'],\n ('Sarrus', 'EnurDK'): ['Kasper Lorentzen'],\n ('Sarrus', 'Fodbold-fan'): ['Kasper Lorentzen'],\n ('Sarrus', 'Froztbyte'): ['Kasper Lorentzen'],\n ('Sarrus', 'JKW~dawiki'): ['Kasper Lorentzen'],\n ('Sarrus', 'Jeswood'): ['Kasper Lorentzen'],\n ('Sarrus', 'K-CF85'): ['Kasper Lorentzen'],\n ('Sarrus', 'Kongen af fodbold'): ['Kasper Lorentzen'],\n ('Sarrus', 'Krog99'): ['Kasper Lorentzen'],\n ('Sarrus', 'Kwey09'): ['Kasper Lorentzen'],\n ('Sarrus', 'Math981n'): ['Kasper Lorentzen'],\n ('Sarrus', 'Mathiaskh'): ['Kasper Lorentzen'],\n ('Sarrus', 'Mons1957'): ['Kasper Lorentzen'],\n ('Sarrus', 'Mr1Nico'): ['Kasper Lorentzen'],\n ('Sarrus', 'Nico'): ['Kasper Lorentzen', 'Sys Bjerre'],\n ('Sarrus', 'Pelsdyret'): ['Kasper Lorentzen'],\n ('Sarrus', 'Præsidentindustrien'): ['Kasper Lorentzen'],\n ('Sarrus', 'RasmusAalbæk'): ['Kasper Lorentzen'],\n ('Sarrus', 'Santac'): ['Kasper Lorentzen'],\n ('Sarrus', 'SimmeD'): ['Kasper Lorentzen'],\n ('Sarrus', 'Altmuligmanden'): ['Roy Keane'],\n ('Sarrus', 'Celtics'): ['Roy Keane'],\n ('Sarrus', 'Emil12plov'): ['Roy Keane'],\n ('Sarrus', 'JesperCarlsen'): ['Roy Keane'],\n ('Sarrus', 'Loveless'): ['Roy Keane'],\n ('Sarrus', 'Man-U'): ['Roy Keane'],\n ('Sarrus', 'OriginalDBL'): ['Roy Keane'],\n ('Sarrus', 'Simonole1'): ['Roy Keane'],\n ('Sarrus', 'Thomas81'): ['Roy Keane'],\n ('Sarrus', 'Abemandddk'): ['Sys Bjerre'],\n ('Sarrus', 'Annetta Elmo Koncertbooking & Management'): ['Sys Bjerre'],\n ('Sarrus', 'Brokke'): ['Sys Bjerre'],\n ('Sarrus', 'CarinaT'): ['Sys Bjerre'],\n ('Sarrus', 'DanNav'): ['Sys Bjerre'],\n ('Sarrus', 'Don-dk'): ['Sys Bjerre'],\n ('Sarrus', 'Flygger'): ['Sys Bjerre'],\n ('Sarrus', 'Glenn'): ['Sys Bjerre'],\n ('Sarrus', 'Hede2000'): ['Sys Bjerre'],\n ('Sarrus', 'Hejsa'): ['Sys Bjerre'],\n ('Sarrus', 'Josefine23'): ['Sys Bjerre'],\n ('Sarrus', 'Joshuadenmark'): ['Sys Bjerre'],\n ('Sarrus', 'Kirjapan'): ['Sys Bjerre'],\n ('Sarrus', 'KnudW'): ['Sys Bjerre'],\n ('Sarrus', 'Lisbeth Sandø-pedersen'): ['Sys Bjerre'],\n ('Sarrus', 'Marc139a'): ['Sys Bjerre'],\n ('Sarrus', 'Masz'): ['Sys Bjerre'],\n ('Sarrus', 'Mubito'): ['Sys Bjerre'],\n ('Sarrus', 'Piralski'): ['Sys Bjerre'],\n ('Sarrus', 'Pred'): ['Sys Bjerre'],\n ('Sarrus', 'Sabbe'): ['Sys Bjerre'],\n ('Sarrus', 'Schnatzel'): ['Sys Bjerre'],\n ('Sarrus', 'System Of A Bjerre'): ['Sys Bjerre'],\n ('Sarrus', 'TherasTaneel'): ['Sys Bjerre'],\n ('Sarrus', 'Toxophilus'): ['Sys Bjerre'],\n ('Sarrus', 'Tsca'): ['Sys Bjerre'],\n ('Sarrus', 'Urbandweller'): ['Sys Bjerre'],\n ('Sarrus', 'Werldwayd'): ['Sys Bjerre'],\n ('Sarrus', 'Z33k'): ['Sys Bjerre'],\n ('Biscuit-in-Chief', 'Christian Giersing'): ['Potentiel energi'],\n ('Biscuit-in-Chief', 'Crudiant'): ['Potentiel energi'],\n ('Biscuit-in-Chief', 'Fodbold kongen'): ['Potentiel energi'],\n ('Biscuit-in-Chief', 'Glenn'): ['Potentiel energi', 'Saudi-Arabien'],\n ('Biscuit-in-Chief', 'GunnerPoulsen'): ['Potentiel energi'],\n ('Biscuit-in-Chief', 'Hashar'): ['Potentiel energi', 'Saudi-Arabien'],\n ('Biscuit-in-Chief', 'HenrikMidtiby'): ['Potentiel energi'],\n ('Biscuit-in-Chief', 'Hjart'): ['Potentiel energi', 'Saudi-Arabien'],\n ('Biscuit-in-Chief', 'Ilario'): ['Potentiel energi'],\n ('Biscuit-in-Chief', 'Inc'): ['Potentiel energi'],\n ('Biscuit-in-Chief', 'KnudW'): ['Potentiel energi', 'Saudi-Arabien'],\n ('Biscuit-in-Chief', 'MacApps'): ['Potentiel energi'],\n ('Biscuit-in-Chief', 'Nielssonnich'): ['Potentiel energi'],\n ('Biscuit-in-Chief', 'Palnatoke'): ['Potentiel energi', 'Saudi-Arabien'],\n ('Biscuit-in-Chief', 'Peo'): ['Potentiel energi'],\n ('Biscuit-in-Chief', 'Pred'): ['Potentiel energi'],\n ('Biscuit-in-Chief', 'Pugilist'): ['Potentiel energi'],\n ('Biscuit-in-Chief', 'Rodejong'): ['Potentiel energi'],\n ('Biscuit-in-Chief', 'Savfisk'): ['Potentiel energi'],\n ('Biscuit-in-Chief', 'Sten'): ['Potentiel energi'],\n ('Biscuit-in-Chief', 'Strawa'): ['Potentiel energi'],\n ('Biscuit-in-Chief',\n  'Aeonauthenticliving'): ['Straight Outta Compton (album)'],\n ('Biscuit-in-Chief', 'Amjaabc'): ['Straight Outta Compton (album)',\n  'Saudi-Arabien'],\n ('Biscuit-in-Chief', 'PerV'): ['Straight Outta Compton (album)',\n  'Saudi-Arabien'],\n ('Biscuit-in-Chief', 'PilleFischer'): ['Straight Outta Compton (album)'],\n ('Biscuit-in-Chief', 'Simbavibes'): ['Straight Outta Compton (album)'],\n ('Biscuit-in-Chief', 'Steenth'): ['Straight Outta Compton (album)',\n  'Saudi-Arabien'],\n ('Biscuit-in-Chief', 'Akkuratesse'): ['Saudi-Arabien'],\n ('Biscuit-in-Chief', 'Allano'): ['Saudi-Arabien'],\n ('Biscuit-in-Chief', 'Apw'): ['Saudi-Arabien'],\n ('Biscuit-in-Chief', 'Artikler'): ['Saudi-Arabien'],\n ('Biscuit-in-Chief', 'BBC'): ['Saudi-Arabien'],\n ('Biscuit-in-Chief', 'BjornGraabek'): ['Saudi-Arabien'],\n ('Biscuit-in-Chief', 'BrianHansen'): ['Saudi-Arabien'],\n ('Biscuit-in-Chief', 'Brotta8'): ['Saudi-Arabien'],\n ('Biscuit-in-Chief', 'Byrial'): ['Saudi-Arabien'],\n ('Biscuit-in-Chief', 'Cgt'): ['Saudi-Arabien'],\n ('Biscuit-in-Chief', 'CommonsDelinker'): ['Saudi-Arabien'],\n ('Biscuit-in-Chief', 'Dipsacus fullonum'): ['Saudi-Arabien'],\n ('Biscuit-in-Chief', 'EPO'): ['Saudi-Arabien'],\n ('Biscuit-in-Chief', 'Gereon K.'): ['Saudi-Arabien'],\n ('Biscuit-in-Chief', 'Haabet'): ['Saudi-Arabien'],\n ('Biscuit-in-Chief', 'HansJensen'): ['Saudi-Arabien'],\n ('Biscuit-in-Chief', 'Harne'): ['Saudi-Arabien'],\n ('Biscuit-in-Chief', 'Hede2000'): ['Saudi-Arabien'],\n ('Biscuit-in-Chief', 'Hejsa'): ['Saudi-Arabien'],\n ('Biscuit-in-Chief', 'Illegitimate Barrister'): ['Saudi-Arabien'],\n ('Biscuit-in-Chief', 'Jakob mark'): ['Saudi-Arabien'],\n ('Biscuit-in-Chief', 'Kaare'): ['Saudi-Arabien'],\n ('Biscuit-in-Chief', 'Kasper Holl'): ['Saudi-Arabien'],\n ('Biscuit-in-Chief', 'Khawabkitabeer'): ['Saudi-Arabien'],\n ('Biscuit-in-Chief', 'Larsbrp'): ['Saudi-Arabien'],\n ('Biscuit-in-Chief', 'Lindberg'): ['Saudi-Arabien'],\n ('Biscuit-in-Chief', 'Loveless'): ['Saudi-Arabien'],\n ('Biscuit-in-Chief', 'Mathiaskh'): ['Saudi-Arabien'],\n ('Biscuit-in-Chief', 'Mbini~dawiki'): ['Saudi-Arabien'],\n ('Biscuit-in-Chief', 'Medic'): ['Saudi-Arabien'],\n ('Biscuit-in-Chief', 'Moeng'): ['Saudi-Arabien'],\n ('Biscuit-in-Chief', 'Morten Haagensen'): ['Saudi-Arabien'],\n ('Biscuit-in-Chief', 'Necessary Evil'): ['Saudi-Arabien'],\n ('Biscuit-in-Chief', 'Nico'): ['Saudi-Arabien'],\n ('Biscuit-in-Chief', 'Nikolaj'): ['Saudi-Arabien'],\n ('Biscuit-in-Chief', 'PHE77'): ['Saudi-Arabien'],\n ('Biscuit-in-Chief', 'Pandikas'): ['Saudi-Arabien'],\n ('Biscuit-in-Chief', 'Patchfinder'): ['Saudi-Arabien'],\n ('Biscuit-in-Chief', 'Pelle S.H.'): ['Saudi-Arabien'],\n ('Biscuit-in-Chief', 'Peregrine981'): ['Saudi-Arabien'],\n ('Biscuit-in-Chief', 'Rmir2'): ['Saudi-Arabien'],\n ('Biscuit-in-Chief', 'Rune'): ['Saudi-Arabien'],\n ('Biscuit-in-Chief', 'Sabbe'): ['Saudi-Arabien'],\n ('Biscuit-in-Chief', 'Sangild'): ['Saudi-Arabien'],\n ('Biscuit-in-Chief', 'SimmeD'): ['Saudi-Arabien'],\n ('Biscuit-in-Chief', 'SorenRK'): ['Saudi-Arabien'],\n ('Biscuit-in-Chief', 'TherasTaneel'): ['Saudi-Arabien'],\n ('Biscuit-in-Chief', 'Trade'): ['Saudi-Arabien'],\n ('Biscuit-in-Chief', 'Trip Tucker'): ['Saudi-Arabien'],\n ('Biscuit-in-Chief', 'Villy Fink Isaksen'): ['Saudi-Arabien'],\n ('Biscuit-in-Chief', 'VseA'): ['Saudi-Arabien'],\n ('Biscuit-in-Chief', 'Wagner Texas Ranger'): ['Saudi-Arabien'],\n ('Biscuit-in-Chief', 'Weblars'): ['Saudi-Arabien'],\n ('Biscuit-in-Chief', 'Zelrin'): ['Saudi-Arabien'],\n ('Biscuit-in-Chief', 'Zheng Hoi'): ['Saudi-Arabien'],\n ('Christian Giersing', 'Crudiant'): ['Potentiel energi'],\n ('Christian Giersing', 'Fodbold kongen'): ['Potentiel energi'],\n ('Christian Giersing', 'Glenn'): ['Potentiel energi',\n  'Sys Bjerre',\n  'Forsmark atomkraftværk'],\n ('Christian Giersing', 'GunnerPoulsen'): ['Potentiel energi'],\n ('Christian Giersing', 'Hashar'): ['Potentiel energi'],\n ('Christian Giersing', 'HenrikMidtiby'): ['Potentiel energi'],\n ('Christian Giersing', 'Hjart'): ['Potentiel energi', 'Sys Bjerre'],\n ('Christian Giersing', 'Ilario'): ['Potentiel energi'],\n ('Christian Giersing', 'Inc'): ['Potentiel energi'],\n ('Christian Giersing', 'KnudW'): ['Potentiel energi', 'Sys Bjerre'],\n ('Christian Giersing', 'MacApps'): ['Potentiel energi'],\n ('Christian Giersing', 'Nielssonnich'): ['Potentiel energi'],\n ('Christian Giersing', 'Palnatoke'): ['Potentiel energi',\n  'Forsmark atomkraftværk'],\n ('Christian Giersing', 'Peo'): ['Potentiel energi'],\n ('Christian Giersing', 'Pred'): ['Potentiel energi', 'Sys Bjerre'],\n ('Christian Giersing', 'Pugilist'): ['Potentiel energi',\n  'Svenstrup (Aalborg Kommune)',\n  'Sys Bjerre'],\n ('Christian Giersing', 'Rodejong'): ['Potentiel energi'],\n ('Christian Giersing', 'Savfisk'): ['Potentiel energi',\n  'Svenstrup (Aalborg Kommune)',\n  'Sys Bjerre'],\n ('Christian Giersing', 'Sten'): ['Potentiel energi'],\n ('Christian Giersing', 'Strawa'): ['Potentiel energi'],\n ('Christian Giersing', 'Asger'): ['Svenstrup (Aalborg Kommune)'],\n ('Christian Giersing', 'BKP'): ['Svenstrup (Aalborg Kommune)', 'Oskarshamn'],\n ('Christian Giersing', 'Cgt'): ['Svenstrup (Aalborg Kommune)', 'Sys Bjerre'],\n ('Christian Giersing', 'Christian75'): ['Svenstrup (Aalborg Kommune)'],\n ('Christian Giersing', 'Eureka360'): ['Svenstrup (Aalborg Kommune)'],\n ('Christian Giersing', 'Hubertus'): ['Svenstrup (Aalborg Kommune)'],\n ('Christian Giersing', 'LasseVestergaard'): ['Svenstrup (Aalborg Kommune)'],\n ('Christian Giersing', 'Madglad'): ['Svenstrup (Aalborg Kommune)'],\n ('Christian Giersing', 'Moeng'): ['Svenstrup (Aalborg Kommune)'],\n ('Christian Giersing', 'Patchfinder'): ['Svenstrup (Aalborg Kommune)',\n  'Forsmark atomkraftværk'],\n ('Christian Giersing', 'Pelle S.H.'): ['Svenstrup (Aalborg Kommune)'],\n ('Christian Giersing', 'Postbuddet'): ['Svenstrup (Aalborg Kommune)'],\n ('Christian Giersing', 'Rmir2'): ['Svenstrup (Aalborg Kommune)'],\n ('Christian Giersing', 'Sorenhk'): ['Svenstrup (Aalborg Kommune)'],\n ('Christian Giersing', 'Staunited'): ['Svenstrup (Aalborg Kommune)'],\n ('Christian Giersing', 'Steenth'): ['Svenstrup (Aalborg Kommune)',\n  'Sys Bjerre'],\n ('Christian Giersing', 'Trip Tucker'): ['Svenstrup (Aalborg Kommune)'],\n ('Christian Giersing', 'Amidships'): ['Oskarshamn'],\n ('Christian Giersing', 'Anchor2009'): ['Oskarshamn'],\n ('Christian Giersing', 'Artikler'): ['Oskarshamn'],\n ('Christian Giersing', 'Kaare'): ['Oskarshamn', 'Sys Bjerre'],\n ('Christian Giersing', 'Kemp'): ['Oskarshamn'],\n ('Christian Giersing', 'Mo Cuishle'): ['Oskarshamn'],\n ('Christian Giersing', 'SorenRK'): ['Oskarshamn'],\n ('Christian Giersing', 'Trade'): ['Oskarshamn', 'Sys Bjerre'],\n ('Christian Giersing', 'Weblars'): ['Oskarshamn'],\n ('Christian Giersing', 'Abemandddk'): ['Sys Bjerre'],\n ('Christian Giersing', 'Amjaabc'): ['Sys Bjerre'],\n ('Christian Giersing',\n  'Annetta Elmo Koncertbooking & Management'): ['Sys Bjerre'],\n ('Christian Giersing', 'Brandsen'): ['Sys Bjerre'],\n ('Christian Giersing', 'Brokke'): ['Sys Bjerre'],\n ('Christian Giersing', 'CarinaT'): ['Sys Bjerre'],\n ('Christian Giersing', 'DanNav'): ['Sys Bjerre'],\n ('Christian Giersing', 'Don-dk'): ['Sys Bjerre'],\n ('Christian Giersing', 'EPO'): ['Sys Bjerre'],\n ('Christian Giersing', 'Flygger'): ['Sys Bjerre'],\n ('Christian Giersing', 'Hede2000'): ['Sys Bjerre'],\n ('Christian Giersing', 'Hejsa'): ['Sys Bjerre'],\n ('Christian Giersing', 'Josefine23'): ['Sys Bjerre'],\n ('Christian Giersing', 'Joshuadenmark'): ['Sys Bjerre'],\n ('Christian Giersing', 'Kirjapan'): ['Sys Bjerre'],\n ('Christian Giersing', 'Lisbeth Sandø-pedersen'): ['Sys Bjerre'],\n ('Christian Giersing', 'Marc139a'): ['Sys Bjerre'],\n ('Christian Giersing', 'Masz'): ['Sys Bjerre'],\n ('Christian Giersing', 'Mubito'): ['Sys Bjerre'],\n ('Christian Giersing', 'Nico'): ['Sys Bjerre'],\n ('Christian Giersing', 'PHE77'): ['Sys Bjerre'],\n ('Christian Giersing', 'Piralski'): ['Sys Bjerre'],\n ('Christian Giersing', 'Sabbe'): ['Sys Bjerre'],\n ('Christian Giersing', 'Schnatzel'): ['Sys Bjerre'],\n ('Christian Giersing', 'System Of A Bjerre'): ['Sys Bjerre'],\n ('Christian Giersing', 'TherasTaneel'): ['Sys Bjerre'],\n ('Christian Giersing', 'Toxophilus'): ['Sys Bjerre'],\n ('Christian Giersing', 'Tsca'): ['Sys Bjerre'],\n ('Christian Giersing', 'Urbandweller'): ['Sys Bjerre'],\n ('Christian Giersing', 'Werldwayd'): ['Sys Bjerre'],\n ('Christian Giersing', 'Z33k'): ['Sys Bjerre'],\n ('Christian Giersing', 'Anhn'): ['Forsmark atomkraftværk'],\n ('Christian Giersing', 'John Peters'): ['Forsmark atomkraftværk'],\n ('Christian Giersing', 'Poker-DM'): ['Forsmark atomkraftværk'],\n ('Christian Giersing', 'Rotlink'): ['Forsmark atomkraftværk'],\n ('Christian Giersing', 'Tostarpadius'): ['Forsmark atomkraftværk'],\n ('Crudiant', 'Fodbold kongen'): ['Potentiel energi'],\n ('Crudiant', 'Glenn'): ['Potentiel energi'],\n ('Crudiant', 'GunnerPoulsen'): ['Potentiel energi'],\n ('Crudiant', 'Hashar'): ['Potentiel energi'],\n ('Crudiant', 'HenrikMidtiby'): ['Potentiel energi'],\n ('Crudiant', 'Hjart'): ['Potentiel energi'],\n ('Crudiant', 'Ilario'): ['Potentiel energi'],\n ('Crudiant', 'Inc'): ['Potentiel energi'],\n ('Crudiant', 'KnudW'): ['Potentiel energi'],\n ('Crudiant', 'MacApps'): ['Potentiel energi'],\n ('Crudiant', 'Nielssonnich'): ['Potentiel energi'],\n ('Crudiant', 'Palnatoke'): ['Potentiel energi'],\n ('Crudiant', 'Peo'): ['Potentiel energi'],\n ('Crudiant', 'Pred'): ['Potentiel energi'],\n ('Crudiant', 'Pugilist'): ['Potentiel energi'],\n ('Crudiant', 'Rodejong'): ['Potentiel energi'],\n ('Crudiant', 'Savfisk'): ['Potentiel energi'],\n ('Crudiant', 'Sten'): ['Potentiel energi'],\n ('Crudiant', 'Strawa'): ['Potentiel energi'],\n ('Fodbold kongen', 'Glenn'): ['Potentiel energi'],\n ('Fodbold kongen', 'GunnerPoulsen'): ['Potentiel energi'],\n ('Fodbold kongen', 'Hashar'): ['Potentiel energi'],\n ('Fodbold kongen', 'HenrikMidtiby'): ['Potentiel energi'],\n ('Fodbold kongen', 'Hjart'): ['Potentiel energi'],\n ('Fodbold kongen', 'Ilario'): ['Potentiel energi'],\n ('Fodbold kongen', 'Inc'): ['Potentiel energi'],\n ('Fodbold kongen', 'KnudW'): ['Potentiel energi'],\n ('Fodbold kongen', 'MacApps'): ['Potentiel energi'],\n ('Fodbold kongen', 'Nielssonnich'): ['Potentiel energi'],\n ('Fodbold kongen', 'Palnatoke'): ['Potentiel energi'],\n ('Fodbold kongen', 'Peo'): ['Potentiel energi'],\n ('Fodbold kongen', 'Pred'): ['Potentiel energi'],\n ('Fodbold kongen', 'Pugilist'): ['Potentiel energi'],\n ('Fodbold kongen', 'Rodejong'): ['Potentiel energi'],\n ('Fodbold kongen', 'Savfisk'): ['Potentiel energi'],\n ('Fodbold kongen', 'Sten'): ['Potentiel energi'],\n ('Fodbold kongen', 'Strawa'): ['Potentiel energi'],\n ('Glenn', 'GunnerPoulsen'): ['Potentiel energi'],\n ('Glenn', 'Hashar'): ['Potentiel energi', 'Saudi-Arabien'],\n ('Glenn', 'HenrikMidtiby'): ['Potentiel energi'],\n ('Glenn', 'Hjart'): ['Potentiel energi', 'Sys Bjerre', 'Saudi-Arabien'],\n ('Glenn', 'Ilario'): ['Potentiel energi'],\n ('Glenn', 'Inc'): ['Potentiel energi'],\n ('Glenn', 'KnudW'): ['Potentiel energi', 'Sys Bjerre', 'Saudi-Arabien'],\n ('Glenn', 'MacApps'): ['Potentiel energi'],\n ('Glenn', 'Nielssonnich'): ['Potentiel energi'],\n ('Glenn', 'Palnatoke'): ['Potentiel energi',\n  'Jean Hersholt',\n  'Saudi-Arabien',\n  'Forsmark atomkraftværk'],\n ('Glenn', 'Peo'): ['Potentiel energi'],\n ('Glenn', 'Pred'): ['Potentiel energi', 'Sys Bjerre'],\n ('Glenn', 'Pugilist'): ['Potentiel energi', 'Jean Hersholt', 'Sys Bjerre'],\n ('Glenn', 'Rodejong'): ['Potentiel energi'],\n ('Glenn', 'Savfisk'): ['Potentiel energi', 'Sys Bjerre'],\n ('Glenn', 'Sten'): ['Potentiel energi'],\n ('Glenn', 'Strawa'): ['Potentiel energi'],\n ('Glenn', 'Amjaabc'): ['Jean Hersholt', 'Sys Bjerre', 'Saudi-Arabien'],\n ('Glenn', 'BKP'): ['Jean Hersholt'],\n ('Glenn', 'Bornsommer'): ['Jean Hersholt'],\n ('Glenn', 'Dipsacus fullonum'): ['Jean Hersholt', 'Saudi-Arabien'],\n ('Glenn', 'E-Turner'): ['Jean Hersholt'],\n ('Glenn', 'Henrik Hansen'): ['Jean Hersholt'],\n ('Glenn', 'John Peters'): ['Jean Hersholt', 'Forsmark atomkraftværk'],\n ('Glenn', 'Kaare'): ['Jean Hersholt', 'Sys Bjerre', 'Saudi-Arabien'],\n ('Glenn', 'M'): ['Jean Hersholt'],\n ('Glenn', 'Nico'): ['Jean Hersholt', 'Sys Bjerre', 'Saudi-Arabien'],\n ('Glenn', 'Rune X2'): ['Jean Hersholt'],\n ('Glenn', 'Steenth'): ['Jean Hersholt', 'Sys Bjerre', 'Saudi-Arabien'],\n ('Glenn', 'TherasTaneel'): ['Jean Hersholt', 'Sys Bjerre', 'Saudi-Arabien'],\n ('Glenn', 'Tomcatjo'): ['Jean Hersholt'],\n ('Glenn', 'Urbandweller'): ['Jean Hersholt', 'Sys Bjerre'],\n ('Glenn', 'Varlaam'): ['Jean Hersholt'],\n ('Glenn', 'Abemandddk'): ['Sys Bjerre'],\n ('Glenn', 'Annetta Elmo Koncertbooking & Management'): ['Sys Bjerre'],\n ('Glenn', 'Brandsen'): ['Sys Bjerre'],\n ('Glenn', 'Brokke'): ['Sys Bjerre'],\n ('Glenn', 'CarinaT'): ['Sys Bjerre'],\n ('Glenn', 'Cgt'): ['Sys Bjerre', 'Saudi-Arabien'],\n ('Glenn', 'DanNav'): ['Sys Bjerre'],\n ('Glenn', 'Don-dk'): ['Sys Bjerre'],\n ('Glenn', 'EPO'): ['Sys Bjerre', 'Saudi-Arabien'],\n ('Glenn', 'Flygger'): ['Sys Bjerre'],\n ('Glenn', 'Hede2000'): ['Sys Bjerre', 'Saudi-Arabien'],\n ('Glenn', 'Hejsa'): ['Sys Bjerre', 'Saudi-Arabien'],\n ('Glenn', 'Josefine23'): ['Sys Bjerre'],\n ('Glenn', 'Joshuadenmark'): ['Sys Bjerre'],\n ('Glenn', 'Kirjapan'): ['Sys Bjerre'],\n ('Glenn', 'Lisbeth Sandø-pedersen'): ['Sys Bjerre'],\n ('Glenn', 'Marc139a'): ['Sys Bjerre'],\n ('Glenn', 'Masz'): ['Sys Bjerre'],\n ('Glenn', 'Mubito'): ['Sys Bjerre'],\n ('Glenn', 'PHE77'): ['Sys Bjerre', 'Saudi-Arabien'],\n ('Glenn', 'Piralski'): ['Sys Bjerre'],\n ('Glenn', 'Sabbe'): ['Sys Bjerre', 'Saudi-Arabien'],\n ('Glenn', 'Schnatzel'): ['Sys Bjerre'],\n ('Glenn', 'System Of A Bjerre'): ['Sys Bjerre'],\n ('Glenn', 'Toxophilus'): ['Sys Bjerre'],\n ('Glenn', 'Trade'): ['Sys Bjerre', 'Saudi-Arabien'],\n ('Glenn', 'Tsca'): ['Sys Bjerre'],\n ('Glenn', 'Werldwayd'): ['Sys Bjerre'],\n ('Glenn', 'Z33k'): ['Sys Bjerre'],\n ('Glenn', 'Akkuratesse'): ['Saudi-Arabien'],\n ('Glenn', 'Allano'): ['Saudi-Arabien'],\n ('Glenn', 'Apw'): ['Saudi-Arabien'],\n ('Glenn', 'Artikler'): ['Saudi-Arabien'],\n ('Glenn', 'BBC'): ['Saudi-Arabien'],\n ('Glenn', 'BjornGraabek'): ['Saudi-Arabien'],\n ('Glenn', 'BrianHansen'): ['Saudi-Arabien'],\n ('Glenn', 'Brotta8'): ['Saudi-Arabien'],\n ('Glenn', 'Byrial'): ['Saudi-Arabien'],\n ('Glenn', 'CommonsDelinker'): ['Saudi-Arabien'],\n ('Glenn', 'Gereon K.'): ['Saudi-Arabien'],\n ('Glenn', 'Haabet'): ['Saudi-Arabien'],\n ('Glenn', 'HansJensen'): ['Saudi-Arabien'],\n ('Glenn', 'Harne'): ['Saudi-Arabien'],\n ('Glenn', 'Illegitimate Barrister'): ['Saudi-Arabien'],\n ('Glenn', 'Jakob mark'): ['Saudi-Arabien'],\n ('Glenn', 'Kasper Holl'): ['Saudi-Arabien'],\n ('Glenn', 'Khawabkitabeer'): ['Saudi-Arabien'],\n ('Glenn', 'Larsbrp'): ['Saudi-Arabien'],\n ('Glenn', 'Lindberg'): ['Saudi-Arabien'],\n ('Glenn', 'Loveless'): ['Saudi-Arabien'],\n ('Glenn', 'Mathiaskh'): ['Saudi-Arabien'],\n ('Glenn', 'Mbini~dawiki'): ['Saudi-Arabien'],\n ('Glenn', 'Medic'): ['Saudi-Arabien'],\n ('Glenn', 'Moeng'): ['Saudi-Arabien'],\n ('Glenn', 'Morten Haagensen'): ['Saudi-Arabien'],\n ('Glenn', 'Necessary Evil'): ['Saudi-Arabien'],\n ('Glenn', 'Nikolaj'): ['Saudi-Arabien'],\n ('Glenn', 'Pandikas'): ['Saudi-Arabien'],\n ('Glenn', 'Patchfinder'): ['Saudi-Arabien', 'Forsmark atomkraftværk'],\n ('Glenn', 'Pelle S.H.'): ['Saudi-Arabien'],\n ('Glenn', 'PerV'): ['Saudi-Arabien'],\n ('Glenn', 'Peregrine981'): ['Saudi-Arabien'],\n ('Glenn', 'Rmir2'): ['Saudi-Arabien'],\n ('Glenn', 'Rune'): ['Saudi-Arabien'],\n ('Glenn', 'Sangild'): ['Saudi-Arabien'],\n ('Glenn', 'SimmeD'): ['Saudi-Arabien'],\n ('Glenn', 'SorenRK'): ['Saudi-Arabien'],\n ('Glenn', 'Trip Tucker'): ['Saudi-Arabien'],\n ('Glenn', 'Villy Fink Isaksen'): ['Saudi-Arabien'],\n ('Glenn', 'VseA'): ['Saudi-Arabien'],\n ('Glenn', 'Wagner Texas Ranger'): ['Saudi-Arabien'],\n ('Glenn', 'Weblars'): ['Saudi-Arabien'],\n ('Glenn', 'Zelrin'): ['Saudi-Arabien'],\n ('Glenn', 'Zheng Hoi'): ['Saudi-Arabien'],\n ('Glenn', 'Anhn'): ['Forsmark atomkraftværk'],\n ('Glenn', 'Poker-DM'): ['Forsmark atomkraftværk'],\n ('Glenn', 'Rotlink'): ['Forsmark atomkraftværk'],\n ('Glenn', 'Tostarpadius'): ['Forsmark atomkraftværk'],\n ('GunnerPoulsen', 'Hashar'): ['Potentiel energi'],\n ('GunnerPoulsen', 'HenrikMidtiby'): ['Potentiel energi'],\n ('GunnerPoulsen', 'Hjart'): ['Potentiel energi'],\n ('GunnerPoulsen', 'Ilario'): ['Potentiel energi'],\n ('GunnerPoulsen', 'Inc'): ['Potentiel energi'],\n ('GunnerPoulsen', 'KnudW'): ['Potentiel energi'],\n ('GunnerPoulsen', 'MacApps'): ['Potentiel energi'],\n ('GunnerPoulsen', 'Nielssonnich'): ['Potentiel energi'],\n ('GunnerPoulsen', 'Palnatoke'): ['Potentiel energi'],\n ('GunnerPoulsen', 'Peo'): ['Potentiel energi'],\n ('GunnerPoulsen', 'Pred'): ['Potentiel energi'],\n ('GunnerPoulsen', 'Pugilist'): ['Potentiel energi'],\n ('GunnerPoulsen', 'Rodejong'): ['Potentiel energi'],\n ('GunnerPoulsen', 'Savfisk'): ['Potentiel energi'],\n ('GunnerPoulsen', 'Sten'): ['Potentiel energi'],\n ('GunnerPoulsen', 'Strawa'): ['Potentiel energi'],\n ('Hashar', 'HenrikMidtiby'): ['Potentiel energi'],\n ('Hashar', 'Hjart'): ['Potentiel energi', 'Saudi-Arabien'],\n ('Hashar', 'Ilario'): ['Potentiel energi'],\n ('Hashar', 'Inc'): ['Potentiel energi'],\n ('Hashar', 'KnudW'): ['Potentiel energi', 'Saudi-Arabien'],\n ('Hashar', 'MacApps'): ['Potentiel energi'],\n ('Hashar', 'Nielssonnich'): ['Potentiel energi'],\n ('Hashar', 'Palnatoke'): ['Potentiel energi', 'Saudi-Arabien'],\n ('Hashar', 'Peo'): ['Potentiel energi'],\n ('Hashar', 'Pred'): ['Potentiel energi'],\n ('Hashar', 'Pugilist'): ['Potentiel energi'],\n ('Hashar', 'Rodejong'): ['Potentiel energi'],\n ('Hashar', 'Savfisk'): ['Potentiel energi'],\n ('Hashar', 'Sten'): ['Potentiel energi'],\n ('Hashar', 'Strawa'): ['Potentiel energi'],\n ('Hashar', 'Akkuratesse'): ['Saudi-Arabien'],\n ('Hashar', 'Allano'): ['Saudi-Arabien'],\n ('Hashar', 'Amjaabc'): ['Saudi-Arabien'],\n ('Hashar', 'Apw'): ['Saudi-Arabien'],\n ('Hashar', 'Artikler'): ['Saudi-Arabien'],\n ('Hashar', 'BBC'): ['Saudi-Arabien'],\n ('Hashar', 'BjornGraabek'): ['Saudi-Arabien'],\n ('Hashar', 'BrianHansen'): ['Saudi-Arabien'],\n ('Hashar', 'Brotta8'): ['Saudi-Arabien'],\n ('Hashar', 'Byrial'): ['Saudi-Arabien'],\n ('Hashar', 'Cgt'): ['Saudi-Arabien'],\n ('Hashar', 'CommonsDelinker'): ['Saudi-Arabien'],\n ('Hashar', 'Dipsacus fullonum'): ['Saudi-Arabien'],\n ('Hashar', 'EPO'): ['Saudi-Arabien'],\n ('Hashar', 'Gereon K.'): ['Saudi-Arabien'],\n ('Hashar', 'Haabet'): ['Saudi-Arabien'],\n ('Hashar', 'HansJensen'): ['Saudi-Arabien'],\n ('Hashar', 'Harne'): ['Saudi-Arabien'],\n ('Hashar', 'Hede2000'): ['Saudi-Arabien'],\n ('Hashar', 'Hejsa'): ['Saudi-Arabien'],\n ('Hashar', 'Illegitimate Barrister'): ['Saudi-Arabien'],\n ('Hashar', 'Jakob mark'): ['Saudi-Arabien'],\n ('Hashar', 'Kaare'): ['Saudi-Arabien'],\n ('Hashar', 'Kasper Holl'): ['Saudi-Arabien'],\n ('Hashar', 'Khawabkitabeer'): ['Saudi-Arabien'],\n ('Hashar', 'Larsbrp'): ['Saudi-Arabien'],\n ('Hashar', 'Lindberg'): ['Saudi-Arabien'],\n ('Hashar', 'Loveless'): ['Saudi-Arabien'],\n ('Hashar', 'Mathiaskh'): ['Saudi-Arabien'],\n ('Hashar', 'Mbini~dawiki'): ['Saudi-Arabien'],\n ('Hashar', 'Medic'): ['Saudi-Arabien'],\n ('Hashar', 'Moeng'): ['Saudi-Arabien'],\n ('Hashar', 'Morten Haagensen'): ['Saudi-Arabien'],\n ('Hashar', 'Necessary Evil'): ['Saudi-Arabien'],\n ('Hashar', 'Nico'): ['Saudi-Arabien'],\n ('Hashar', 'Nikolaj'): ['Saudi-Arabien'],\n ('Hashar', 'PHE77'): ['Saudi-Arabien'],\n ('Hashar', 'Pandikas'): ['Saudi-Arabien'],\n ('Hashar', 'Patchfinder'): ['Saudi-Arabien'],\n ('Hashar', 'Pelle S.H.'): ['Saudi-Arabien'],\n ('Hashar', 'PerV'): ['Saudi-Arabien'],\n ('Hashar', 'Peregrine981'): ['Saudi-Arabien'],\n ('Hashar', 'Rmir2'): ['Saudi-Arabien'],\n ('Hashar', 'Rune'): ['Saudi-Arabien'],\n ('Hashar', 'Sabbe'): ['Saudi-Arabien'],\n ('Hashar', 'Sangild'): ['Saudi-Arabien'],\n ('Hashar', 'SimmeD'): ['Saudi-Arabien'],\n ('Hashar', 'SorenRK'): ['Saudi-Arabien'],\n ('Hashar', 'Steenth'): ['Saudi-Arabien'],\n ('Hashar', 'TherasTaneel'): ['Saudi-Arabien'],\n ('Hashar', 'Trade'): ['Saudi-Arabien'],\n ('Hashar', 'Trip Tucker'): ['Saudi-Arabien'],\n ('Hashar', 'Villy Fink Isaksen'): ['Saudi-Arabien'],\n ('Hashar', 'VseA'): ['Saudi-Arabien'],\n ('Hashar', 'Wagner Texas Ranger'): ['Saudi-Arabien'],\n ('Hashar', 'Weblars'): ['Saudi-Arabien'],\n ('Hashar', 'Zelrin'): ['Saudi-Arabien'],\n ('Hashar', 'Zheng Hoi'): ['Saudi-Arabien'],\n ('HenrikMidtiby', 'Hjart'): ['Potentiel energi'],\n ('HenrikMidtiby', 'Ilario'): ['Potentiel energi'],\n ('HenrikMidtiby', 'Inc'): ['Potentiel energi'],\n ('HenrikMidtiby', 'KnudW'): ['Potentiel energi'],\n ('HenrikMidtiby', 'MacApps'): ['Potentiel energi'],\n ('HenrikMidtiby', 'Nielssonnich'): ['Potentiel energi'],\n ('HenrikMidtiby', 'Palnatoke'): ['Potentiel energi'],\n ('HenrikMidtiby', 'Peo'): ['Potentiel energi'],\n ('HenrikMidtiby', 'Pred'): ['Potentiel energi'],\n ('HenrikMidtiby', 'Pugilist'): ['Potentiel energi'],\n ('HenrikMidtiby', 'Rodejong'): ['Potentiel energi'],\n ('HenrikMidtiby', 'Savfisk'): ['Potentiel energi'],\n ('HenrikMidtiby', 'Sten'): ['Potentiel energi'],\n ('HenrikMidtiby', 'Strawa'): ['Potentiel energi'],\n ('Hjart', 'Ilario'): ['Potentiel energi'],\n ('Hjart', 'Inc'): ['Potentiel energi'],\n ('Hjart', 'KnudW'): ['Potentiel energi', 'Sys Bjerre', 'Saudi-Arabien'],\n ('Hjart', 'MacApps'): ['Potentiel energi'],\n ('Hjart', 'Nielssonnich'): ['Potentiel energi'],\n ('Hjart', 'Palnatoke'): ['Potentiel energi',\n  'Superisligaen',\n  'Saudi-Arabien'],\n ('Hjart', 'Peo'): ['Potentiel energi'],\n ('Hjart', 'Pred'): ['Potentiel energi', 'Sys Bjerre'],\n ('Hjart', 'Pugilist'): ['Potentiel energi',\n  'Josephine Park',\n  'Superisligaen',\n  'Sys Bjerre',\n  'Henrik Dalsgaard'],\n ('Hjart', 'Rodejong'): ['Potentiel energi', 'Superisligaen'],\n ('Hjart', 'Savfisk'): ['Potentiel energi', 'Sys Bjerre'],\n ('Hjart', 'Sten'): ['Potentiel energi'],\n ('Hjart', 'Strawa'): ['Potentiel energi'],\n ('Hjart', 'Amjaabc'): ['Josephine Park',\n  'Superisligaen',\n  'Sys Bjerre',\n  'Henrik Dalsgaard',\n  'Saudi-Arabien'],\n ('Hjart', 'AndersViborg'): ['Josephine Park'],\n ('Hjart', 'Anne-Sophie Ofrim'): ['Josephine Park'],\n ('Hjart', 'CeciTGreg'): ['Josephine Park'],\n ('Hjart', 'Dipsacus fullonum'): ['Josephine Park', 'Saudi-Arabien'],\n ('Hjart', 'Laanders'): ['Josephine Park'],\n ('Hjart', 'Siksebuffen'): ['Josephine Park'],\n ('Hjart', 'TherasTaneel'): ['Josephine Park', 'Sys Bjerre', 'Saudi-Arabien'],\n ('Hjart', 'Tjalland'): ['Josephine Park'],\n ('Hjart', 'Tjernobyl'): ['Josephine Park'],\n ('Hjart', 'Toxophilus'): ['Josephine Park', 'Sys Bjerre'],\n ('Hjart', 'Altaïr'): ['Superisligaen'],\n ('Hjart', 'Barklund'): ['Superisligaen'],\n ('Hjart', 'C.Thure'): ['Superisligaen'],\n ('Hjart', 'CarlKlogeOve'): ['Superisligaen'],\n ('Hjart', 'Christian75'): ['Superisligaen'],\n ('Hjart', 'EPO'): ['Superisligaen', 'Sys Bjerre', 'Saudi-Arabien'],\n ('Hjart', 'Ejwin'): ['Superisligaen'],\n ('Hjart', 'Henrik Hansen'): ['Superisligaen'],\n ('Hjart', 'Hockeyindustrien'): ['Superisligaen'],\n ('Hjart', 'Izm0'): ['Superisligaen'],\n ('Hjart', 'Kaare'): ['Superisligaen', 'Sys Bjerre', 'Saudi-Arabien'],\n ('Hjart', 'Mikkelh96'): ['Superisligaen'],\n ('Hjart', 'Ohkami'): ['Superisligaen'],\n ('Hjart', 'PHE77'): ['Superisligaen',\n  'Sys Bjerre',\n  'Henrik Dalsgaard',\n  'Saudi-Arabien'],\n ('Hjart', 'Pandikas'): ['Superisligaen', 'Henrik Dalsgaard', 'Saudi-Arabien'],\n ('Hjart', 'Patchfinder'): ['Superisligaen',\n  'Henrik Dalsgaard',\n  'Saudi-Arabien'],\n ('Hjart', 'Royal Export'): ['Superisligaen'],\n ('Hjart', 'STUDENT57'): ['Superisligaen'],\n ('Hjart', 'SorenRK'): ['Superisligaen', 'Saudi-Arabien'],\n ('Hjart', 'Steenth'): ['Superisligaen', 'Sys Bjerre', 'Saudi-Arabien'],\n ('Hjart', 'Trade'): ['Superisligaen', 'Sys Bjerre', 'Saudi-Arabien'],\n ('Hjart', 'Tøndemageren'): ['Superisligaen', 'Henrik Dalsgaard'],\n ('Hjart', 'Ultraman'): ['Superisligaen'],\n ('Hjart', 'Veolia'): ['Superisligaen'],\n ('Hjart', 'Viby27'): ['Superisligaen'],\n ('Hjart', 'Abemandddk'): ['Sys Bjerre'],\n ('Hjart', 'Annetta Elmo Koncertbooking & Management'): ['Sys Bjerre'],\n ('Hjart', 'Brandsen'): ['Sys Bjerre'],\n ('Hjart', 'Brokke'): ['Sys Bjerre'],\n ('Hjart', 'CarinaT'): ['Sys Bjerre'],\n ('Hjart', 'Cgt'): ['Sys Bjerre', 'Saudi-Arabien'],\n ('Hjart', 'DanNav'): ['Sys Bjerre'],\n ('Hjart', 'Don-dk'): ['Sys Bjerre'],\n ('Hjart', 'Flygger'): ['Sys Bjerre'],\n ('Hjart', 'Hede2000'): ['Sys Bjerre', 'Saudi-Arabien'],\n ('Hjart', 'Hejsa'): ['Sys Bjerre', 'Saudi-Arabien'],\n ('Hjart', 'Josefine23'): ['Sys Bjerre'],\n ('Hjart', 'Joshuadenmark'): ['Sys Bjerre'],\n ('Hjart', 'Kirjapan'): ['Sys Bjerre'],\n ('Hjart', 'Lisbeth Sandø-pedersen'): ['Sys Bjerre'],\n ('Hjart', 'Marc139a'): ['Sys Bjerre'],\n ('Hjart', 'Masz'): ['Sys Bjerre'],\n ('Hjart', 'Mubito'): ['Sys Bjerre'],\n ('Hjart', 'Nico'): ['Sys Bjerre', 'Saudi-Arabien'],\n ('Hjart', 'Piralski'): ['Sys Bjerre'],\n ('Hjart', 'Sabbe'): ['Sys Bjerre', 'Saudi-Arabien'],\n ('Hjart', 'Schnatzel'): ['Sys Bjerre'],\n ('Hjart', 'System Of A Bjerre'): ['Sys Bjerre'],\n ('Hjart', 'Tsca'): ['Sys Bjerre'],\n ('Hjart', 'Urbandweller'): ['Sys Bjerre'],\n ('Hjart', 'Werldwayd'): ['Sys Bjerre'],\n ('Hjart', 'Z33k'): ['Sys Bjerre'],\n ('Hjart', 'AaB-ern'): ['Henrik Dalsgaard'],\n ('Hjart', 'ApocalypticMessenger'): ['Henrik Dalsgaard'],\n ('Hjart', 'Boldspiller'): ['Henrik Dalsgaard'],\n ('Hjart', 'Costa72'): ['Henrik Dalsgaard'],\n ('Hjart', 'Fodbold-fan'): ['Henrik Dalsgaard'],\n ('Hjart', 'Kwey09'): ['Henrik Dalsgaard'],\n ('Hjart', 'Math981n'): ['Henrik Dalsgaard'],\n ('Hjart', 'Ndsm'): ['Henrik Dalsgaard'],\n ('Hjart', 'Trenskow'): ['Henrik Dalsgaard'],\n ('Hjart', 'Tropapa'): ['Henrik Dalsgaard'],\n ('Hjart', 'Akkuratesse'): ['Saudi-Arabien'],\n ('Hjart', 'Allano'): ['Saudi-Arabien'],\n ('Hjart', 'Apw'): ['Saudi-Arabien'],\n ('Hjart', 'Artikler'): ['Saudi-Arabien'],\n ('Hjart', 'BBC'): ['Saudi-Arabien'],\n ('Hjart', 'BjornGraabek'): ['Saudi-Arabien'],\n ('Hjart', 'BrianHansen'): ['Saudi-Arabien'],\n ('Hjart', 'Brotta8'): ['Saudi-Arabien'],\n ('Hjart', 'Byrial'): ['Saudi-Arabien'],\n ('Hjart', 'CommonsDelinker'): ['Saudi-Arabien'],\n ('Hjart', 'Gereon K.'): ['Saudi-Arabien'],\n ('Hjart', 'Haabet'): ['Saudi-Arabien'],\n ('Hjart', 'HansJensen'): ['Saudi-Arabien'],\n ('Hjart', 'Harne'): ['Saudi-Arabien'],\n ('Hjart', 'Illegitimate Barrister'): ['Saudi-Arabien'],\n ('Hjart', 'Jakob mark'): ['Saudi-Arabien'],\n ('Hjart', 'Kasper Holl'): ['Saudi-Arabien'],\n ('Hjart', 'Khawabkitabeer'): ['Saudi-Arabien'],\n ('Hjart', 'Larsbrp'): ['Saudi-Arabien'],\n ('Hjart', 'Lindberg'): ['Saudi-Arabien'],\n ('Hjart', 'Loveless'): ['Saudi-Arabien'],\n ('Hjart', 'Mathiaskh'): ['Saudi-Arabien'],\n ('Hjart', 'Mbini~dawiki'): ['Saudi-Arabien'],\n ('Hjart', 'Medic'): ['Saudi-Arabien'],\n ('Hjart', 'Moeng'): ['Saudi-Arabien'],\n ('Hjart', 'Morten Haagensen'): ['Saudi-Arabien'],\n ('Hjart', 'Necessary Evil'): ['Saudi-Arabien'],\n ('Hjart', 'Nikolaj'): ['Saudi-Arabien'],\n ('Hjart', 'Pelle S.H.'): ['Saudi-Arabien'],\n ('Hjart', 'PerV'): ['Saudi-Arabien'],\n ('Hjart', 'Peregrine981'): ['Saudi-Arabien'],\n ('Hjart', 'Rmir2'): ['Saudi-Arabien'],\n ('Hjart', 'Rune'): ['Saudi-Arabien'],\n ('Hjart', 'Sangild'): ['Saudi-Arabien'],\n ('Hjart', 'SimmeD'): ['Saudi-Arabien'],\n ('Hjart', 'Trip Tucker'): ['Saudi-Arabien'],\n ('Hjart', 'Villy Fink Isaksen'): ['Saudi-Arabien'],\n ('Hjart', 'VseA'): ['Saudi-Arabien'],\n ('Hjart', 'Wagner Texas Ranger'): ['Saudi-Arabien'],\n ('Hjart', 'Weblars'): ['Saudi-Arabien'],\n ('Hjart', 'Zelrin'): ['Saudi-Arabien'],\n ('Hjart', 'Zheng Hoi'): ['Saudi-Arabien'],\n ('Ilario', 'Inc'): ['Potentiel energi'],\n ('Ilario', 'KnudW'): ['Potentiel energi'],\n ('Ilario', 'MacApps'): ['Potentiel energi'],\n ('Ilario', 'Nielssonnich'): ['Potentiel energi'],\n ('Ilario', 'Palnatoke'): ['Potentiel energi'],\n ('Ilario', 'Peo'): ['Potentiel energi'],\n ('Ilario', 'Pred'): ['Potentiel energi'],\n ('Ilario', 'Pugilist'): ['Potentiel energi'],\n ('Ilario', 'Rodejong'): ['Potentiel energi'],\n ('Ilario', 'Savfisk'): ['Potentiel energi'],\n ('Ilario', 'Sten'): ['Potentiel energi'],\n ('Ilario', 'Strawa'): ['Potentiel energi'],\n ('Inc', 'KnudW'): ['Potentiel energi'],\n ('Inc', 'MacApps'): ['Potentiel energi'],\n ('Inc', 'Nielssonnich'): ['Potentiel energi'],\n ('Inc', 'Palnatoke'): ['Potentiel energi'],\n ('Inc', 'Peo'): ['Potentiel energi'],\n ('Inc', 'Pred'): ['Potentiel energi'],\n ('Inc', 'Pugilist'): ['Potentiel energi'],\n ('Inc', 'Rodejong'): ['Potentiel energi'],\n ('Inc', 'Savfisk'): ['Potentiel energi'],\n ('Inc', 'Sten'): ['Potentiel energi'],\n ('Inc', 'Strawa'): ['Potentiel energi'],\n ('KnudW', 'MacApps'): ['Potentiel energi'],\n ('KnudW', 'Nielssonnich'): ['Potentiel energi'],\n ('KnudW', 'Palnatoke'): ['Potentiel energi', 'Saudi-Arabien', 'Bush Lady'],\n ('KnudW', 'Peo'): ['Potentiel energi'],\n ('KnudW', 'Pred'): ['Potentiel energi', 'Sys Bjerre'],\n ('KnudW', 'Pugilist'): ['Potentiel energi', 'Sys Bjerre'],\n ('KnudW', 'Rodejong'): ['Potentiel energi'],\n ('KnudW', 'Savfisk'): ['Potentiel energi', 'Sys Bjerre'],\n ('KnudW', 'Sten'): ['Potentiel energi'],\n ('KnudW', 'Strawa'): ['Potentiel energi'],\n ('KnudW', 'Abemandddk'): ['Sys Bjerre'],\n ('KnudW', 'Amjaabc'): ['Sys Bjerre', 'Saudi-Arabien', 'Bush Lady'],\n ('KnudW', 'Annetta Elmo Koncertbooking & Management'): ['Sys Bjerre'],\n ('KnudW', 'Brandsen'): ['Sys Bjerre'],\n ('KnudW', 'Brokke'): ['Sys Bjerre'],\n ('KnudW', 'CarinaT'): ['Sys Bjerre'],\n ('KnudW', 'Cgt'): ['Sys Bjerre', 'Saudi-Arabien'],\n ('KnudW', 'DanNav'): ['Sys Bjerre'],\n ('KnudW', 'Don-dk'): ['Sys Bjerre'],\n ('KnudW', 'EPO'): ['Sys Bjerre', 'Saudi-Arabien'],\n ('KnudW', 'Flygger'): ['Sys Bjerre'],\n ('KnudW', 'Hede2000'): ['Sys Bjerre', 'Saudi-Arabien'],\n ('KnudW', 'Hejsa'): ['Sys Bjerre', 'Saudi-Arabien'],\n ('KnudW', 'Josefine23'): ['Sys Bjerre'],\n ('KnudW', 'Joshuadenmark'): ['Sys Bjerre'],\n ('KnudW', 'Kaare'): ['Sys Bjerre', 'Saudi-Arabien'],\n ('KnudW', 'Kirjapan'): ['Sys Bjerre'],\n ('KnudW', 'Lisbeth Sandø-pedersen'): ['Sys Bjerre'],\n ('KnudW', 'Marc139a'): ['Sys Bjerre'],\n ('KnudW', 'Masz'): ['Sys Bjerre'],\n ('KnudW', 'Mubito'): ['Sys Bjerre'],\n ('KnudW', 'Nico'): ['Sys Bjerre', 'Saudi-Arabien'],\n ('KnudW', 'PHE77'): ['Sys Bjerre', 'Saudi-Arabien'],\n ('KnudW', 'Piralski'): ['Sys Bjerre'],\n ('KnudW', 'Sabbe'): ['Sys Bjerre', 'Saudi-Arabien'],\n ('KnudW', 'Schnatzel'): ['Sys Bjerre'],\n ('KnudW', 'Steenth'): ['Sys Bjerre', 'Saudi-Arabien'],\n ('KnudW', 'System Of A Bjerre'): ['Sys Bjerre'],\n ('KnudW', 'TherasTaneel'): ['Sys Bjerre', 'Polina Gagarina', 'Saudi-Arabien'],\n ('KnudW', 'Toxophilus'): ['Sys Bjerre'],\n ('KnudW', 'Trade'): ['Sys Bjerre', 'Saudi-Arabien'],\n ('KnudW', 'Tsca'): ['Sys Bjerre'],\n ('KnudW', 'Urbandweller'): ['Sys Bjerre'],\n ('KnudW', 'Werldwayd'): ['Sys Bjerre'],\n ('KnudW', 'Z33k'): ['Sys Bjerre'],\n ('KnudW', 'Aejsing'): ['Polina Gagarina'],\n ('KnudW', 'Dostojewskij'): ['Polina Gagarina'],\n ('KnudW', 'Erenhillerød'): ['Polina Gagarina'],\n ('KnudW', 'PerV'): ['Polina Gagarina', 'Saudi-Arabien'],\n ('KnudW', 'Siksebuffen'): ['Polina Gagarina'],\n ('KnudW', 'Akkuratesse'): ['Saudi-Arabien'],\n ('KnudW', 'Allano'): ['Saudi-Arabien'],\n ('KnudW', 'Apw'): ['Saudi-Arabien'],\n ('KnudW', 'Artikler'): ['Saudi-Arabien'],\n ('KnudW', 'BBC'): ['Saudi-Arabien'],\n ('KnudW', 'BjornGraabek'): ['Saudi-Arabien'],\n ('KnudW', 'BrianHansen'): ['Saudi-Arabien'],\n ('KnudW', 'Brotta8'): ['Saudi-Arabien'],\n ('KnudW', 'Byrial'): ['Saudi-Arabien'],\n ('KnudW', 'CommonsDelinker'): ['Saudi-Arabien'],\n ('KnudW', 'Dipsacus fullonum'): ['Saudi-Arabien'],\n ('KnudW', 'Gereon K.'): ['Saudi-Arabien'],\n ('KnudW', 'Haabet'): ['Saudi-Arabien'],\n ('KnudW', 'HansJensen'): ['Saudi-Arabien'],\n ('KnudW', 'Harne'): ['Saudi-Arabien'],\n ('KnudW', 'Illegitimate Barrister'): ['Saudi-Arabien'],\n ('KnudW', 'Jakob mark'): ['Saudi-Arabien'],\n ('KnudW', 'Kasper Holl'): ['Saudi-Arabien'],\n ('KnudW', 'Khawabkitabeer'): ['Saudi-Arabien'],\n ('KnudW', 'Larsbrp'): ['Saudi-Arabien'],\n ('KnudW', 'Lindberg'): ['Saudi-Arabien'],\n ('KnudW', 'Loveless'): ['Saudi-Arabien'],\n ...}"
     },
     "execution_count": 93,
     "metadata": {},
     "output_type": "execute_result"
    }
   ],
   "source": [
    "nx.get_edge_attributes(G, 'pages')"
   ],
   "metadata": {
    "collapsed": false,
    "ExecuteTime": {
     "end_time": "2024-03-14T13:39:40.943095200Z",
     "start_time": "2024-03-14T13:39:40.881702200Z"
    }
   },
   "id": "ec9a925f774a8c94",
   "execution_count": 93
  },
  {
   "cell_type": "code",
   "outputs": [],
   "source": [],
   "metadata": {
    "collapsed": false
   },
   "id": "eabc359778a8d9c2"
  },
  {
   "cell_type": "code",
   "outputs": [
    {
     "data": {
      "text/plain": "['AEJ',\n 'Akkuratesse',\n 'Allano',\n 'Amjaabc',\n 'Apw',\n 'Artikler',\n 'BBC',\n 'Biscuit-in-Chief',\n 'BjornGraabek',\n 'BrianHansen',\n 'Brotta8',\n 'Byrial',\n 'Cgt',\n 'CommonsDelinker',\n 'Dipsacus fullonum',\n 'EPO',\n 'Gereon K.',\n 'Glenn',\n 'Haabet',\n 'HansJensen',\n 'Harne',\n 'Hashar',\n 'Hede2000',\n 'Hejsa',\n 'Hjart',\n 'Illegitimate Barrister',\n 'Jakob mark',\n 'Kaare',\n 'Kasper Holl',\n 'Khawabkitabeer',\n 'KnudW',\n 'Larsbrp',\n 'Lindberg',\n 'Loveless',\n 'Mathiaskh',\n 'Mbini~dawiki',\n 'Medic',\n 'Moeng',\n 'Morten Haagensen',\n 'Necessary Evil',\n 'Nico',\n 'Nikolaj',\n 'PHE77',\n 'Palnatoke',\n 'Pandikas',\n 'Patchfinder',\n 'Pelle S.H.',\n 'PerV',\n 'Peregrine981',\n 'Rmir2',\n 'Rune',\n 'Sabbe',\n 'Sangild',\n 'SimmeD',\n 'SorenRK',\n 'Steenth',\n 'TherasTaneel',\n 'Trade',\n 'Trip Tucker',\n 'Villy Fink Isaksen',\n 'VseA',\n 'Wagner Texas Ranger',\n 'Weblars',\n 'Zelrin',\n 'Zheng Hoi']"
     },
     "execution_count": 99,
     "metadata": {},
     "output_type": "execute_result"
    }
   ],
   "source": [
    "page_contribs['Saudi-Arabien']"
   ],
   "metadata": {
    "collapsed": false,
    "ExecuteTime": {
     "end_time": "2024-03-14T13:43:54.535511Z",
     "start_time": "2024-03-14T13:43:54.528979100Z"
    }
   },
   "id": "4babc421b4205cab",
   "execution_count": 99
  },
  {
   "cell_type": "markdown",
   "source": [
    "### Clustering"
   ],
   "metadata": {
    "collapsed": false
   },
   "id": "a17fcc0d17fa0ff6"
  },
  {
   "cell_type": "code",
   "outputs": [
    {
     "name": "stdout",
     "output_type": "stream",
     "text": [
      "spectral clustering\n",
      "[1 1 1 ... 1 1 1]\n"
     ]
    }
   ],
   "source": [
    "adj_matrix = nx.to_numpy_array(G, weight='n_pages')\n",
    "sc = SpectralClustering(10, affinity='precomputed', n_init=100)\n",
    "sc.fit(adj_matrix)\n",
    "print('spectral clustering')\n",
    "print(sc.labels_)"
   ],
   "metadata": {
    "collapsed": false,
    "ExecuteTime": {
     "end_time": "2024-03-15T15:00:09.217532500Z",
     "start_time": "2024-03-15T15:00:02.041746800Z"
    }
   },
   "id": "1090aeb95a5a81ab",
   "execution_count": 221
  },
  {
   "cell_type": "code",
   "outputs": [
    {
     "data": {
      "text/plain": "0"
     },
     "execution_count": 235,
     "metadata": {},
     "output_type": "execute_result"
    }
   ],
   "source": [],
   "metadata": {
    "collapsed": false,
    "ExecuteTime": {
     "end_time": "2024-03-15T15:01:20.293310800Z",
     "start_time": "2024-03-15T15:01:20.275724500Z"
    }
   },
   "id": "b413386d95d1cb5d",
   "execution_count": 235
  },
  {
   "cell_type": "code",
   "outputs": [],
   "source": [
    "cluster_dict = {node: {'label': label} \n",
    "                for node, label in list(zip(list(G.nodes), sc.labels_))}\n",
    "nx.set_node_attributes(G, cluster_dict)"
   ],
   "metadata": {
    "collapsed": false,
    "ExecuteTime": {
     "end_time": "2024-03-15T15:01:26.086625600Z",
     "start_time": "2024-03-15T15:01:26.057842Z"
    }
   },
   "id": "57491c7308a622f3",
   "execution_count": 236
  },
  {
   "cell_type": "markdown",
   "source": [
    "### Testing clusters for modularity"
   ],
   "metadata": {
    "collapsed": false
   },
   "id": "dd977ce3df6107ec"
  },
  {
   "cell_type": "code",
   "outputs": [
    {
     "data": {
      "text/plain": "NodeDataView({'AEJ': {'label': 1}, 'Olaf Eller': {'label': 1}, 'Pixi Uno': {'label': 1}, 'Sarrus': {'label': 1}, 'Biscuit-in-Chief': {'label': 1}, 'Christian Giersing': {'label': 1}, 'Crudiant': {'label': 1}, 'Fodbold kongen': {'label': 7}, 'Glenn': {'label': 1}, 'GunnerPoulsen': {'label': 1}, 'Hashar': {'label': 1}, 'HenrikMidtiby': {'label': 1}, 'Hjart': {'label': 1}, 'Ilario': {'label': 1}, 'Inc': {'label': 1}, 'KnudW': {'label': 1}, 'MacApps': {'label': 1}, 'Nielssonnich': {'label': 1}, 'Palnatoke': {'label': 1}, 'Peo': {'label': 1}, 'Pred': {'label': 1}, 'Pugilist': {'label': 1}, 'Rodejong': {'label': 1}, 'Savfisk': {'label': 1}, 'Sten': {'label': 1}, 'Strawa': {'label': 1}, 'Amjaabc': {'label': 1}, 'AndersViborg': {'label': 1}, 'Anne-Sophie Ofrim': {'label': 1}, 'CeciTGreg': {'label': 1}, 'Dipsacus fullonum': {'label': 1}, 'Laanders': {'label': 1}, 'Siksebuffen': {'label': 1}, 'TherasTaneel': {'label': 1}, 'Tjalland': {'label': 1}, 'Tjernobyl': {'label': 1}, 'Toxophilus': {'label': 1}, 'Altaïr': {'label': 1}, 'Barklund': {'label': 1}, 'C.Thure': {'label': 1}, 'CarlKlogeOve': {'label': 1}, 'Christian75': {'label': 1}, 'EPO': {'label': 1}, 'Ejwin': {'label': 1}, 'Henrik Hansen': {'label': 1}, 'Hockeyindustrien': {'label': 1}, 'Izm0': {'label': 1}, 'Kaare': {'label': 1}, 'Mikkelh96': {'label': 1}, 'Ohkami': {'label': 1}, 'PHE77': {'label': 1}, 'Pandikas': {'label': 1}, 'Patchfinder': {'label': 1}, 'Royal Export': {'label': 1}, 'STUDENT57': {'label': 1}, 'SorenRK': {'label': 1}, 'Steenth': {'label': 1}, 'Trade': {'label': 1}, 'Tøndemageren': {'label': 1}, 'Ultraman': {'label': 1}, 'Veolia': {'label': 1}, 'Viby27': {'label': 1}, 'Gorbi': {'label': 1}, 'Dannebrog Spy': {'label': 1}, 'Heb': {'label': 1}, 'Kalaha': {'label': 9}, 'Morten Haagensen': {'label': 1}, 'PerV': {'label': 1}, 'Philaweb': {'label': 1}, 'Plantsarewonderful': {'label': 1}, 'Trip Tucker': {'label': 1}, 'Asger': {'label': 1}, 'BKP': {'label': 1}, 'Cgt': {'label': 1}, 'Eureka360': {'label': 8}, 'Hubertus': {'label': 9}, 'LasseVestergaard': {'label': 1}, 'Madglad': {'label': 1}, 'Moeng': {'label': 1}, 'Pelle S.H.': {'label': 1}, 'Postbuddet': {'label': 7}, 'Rmir2': {'label': 1}, 'Sorenhk': {'label': 1}, 'Staunited': {'label': 1}, 'FelixFilm2006': {'label': 1}, 'Nico': {'label': 1}, 'Zoizit': {'label': 1}, 'Bornsommer': {'label': 1}, 'E-Turner': {'label': 1}, 'John Peters': {'label': 1}, 'M': {'label': 1}, 'Rune X2': {'label': 1}, 'Tomcatjo': {'label': 1}, 'Urbandweller': {'label': 1}, 'Varlaam': {'label': 1}, 'Aeonauthenticliving': {'label': 1}, 'Charrity': {'label': 1}, 'Sabbe': {'label': 1}, 'PilleFischer': {'label': 1}, 'Simbavibes': {'label': 1}, 'Amidships': {'label': 1}, 'Anchor2009': {'label': 1}, 'Artikler': {'label': 1}, 'Kemp': {'label': 1}, 'Mo Cuishle': {'label': 1}, 'Weblars': {'label': 1}, 'AllanCapone': {'label': 7}, 'BabylonDK': {'label': 1}, 'Barklundo': {'label': 1}, 'Brandsen': {'label': 1}, 'EnurDK': {'label': 1}, 'Fodbold-fan': {'label': 1}, 'Froztbyte': {'label': 1}, 'JKW~dawiki': {'label': 1}, 'Jeswood': {'label': 1}, 'K-CF85': {'label': 1}, 'Kongen af fodbold': {'label': 9}, 'Krog99': {'label': 1}, 'Kwey09': {'label': 1}, 'Math981n': {'label': 1}, 'Mathiaskh': {'label': 1}, 'Mons1957': {'label': 1}, 'Mr1Nico': {'label': 9}, 'Pelsdyret': {'label': 1}, 'Præsidentindustrien': {'label': 1}, 'RasmusAalbæk': {'label': 7}, 'Santac': {'label': 1}, 'SimmeD': {'label': 1}, 'Altmuligmanden': {'label': 1}, 'Celtics': {'label': 1}, 'Emil12plov': {'label': 1}, 'JesperCarlsen': {'label': 1}, 'Loveless': {'label': 1}, 'Man-U': {'label': 9}, 'OriginalDBL': {'label': 1}, 'Simonole1': {'label': 1}, 'Thomas81': {'label': 1}, 'Abemandddk': {'label': 1}, 'Annetta Elmo Koncertbooking & Management': {'label': 1}, 'Brokke': {'label': 1}, 'CarinaT': {'label': 1}, 'DanNav': {'label': 1}, 'Don-dk': {'label': 1}, 'Flygger': {'label': 1}, 'Hede2000': {'label': 1}, 'Hejsa': {'label': 1}, 'Josefine23': {'label': 1}, 'Joshuadenmark': {'label': 1}, 'Kirjapan': {'label': 1}, 'Lisbeth Sandø-pedersen': {'label': 1}, 'Marc139a': {'label': 1}, 'Masz': {'label': 1}, 'Mubito': {'label': 1}, 'Piralski': {'label': 1}, 'Schnatzel': {'label': 1}, 'System Of A Bjerre': {'label': 1}, 'Tsca': {'label': 1}, 'Werldwayd': {'label': 1}, 'Z33k': {'label': 1}, 'AaB-ern': {'label': 1}, 'ApocalypticMessenger': {'label': 7}, 'Boldspiller': {'label': 1}, 'Costa72': {'label': 1}, 'Ndsm': {'label': 8}, 'Trenskow': {'label': 1}, 'Tropapa': {'label': 1}, 'Aejsing': {'label': 1}, 'Dostojewskij': {'label': 1}, 'Erenhillerød': {'label': 1}, 'Brol': {'label': 1}, 'EileenSanda': {'label': 1}, 'Granada': {'label': 1}, 'Tylander': {'label': 8}, 'Akkuratesse': {'label': 1}, 'Allano': {'label': 1}, 'Apw': {'label': 1}, 'BBC': {'label': 1}, 'BjornGraabek': {'label': 1}, 'BrianHansen': {'label': 1}, 'Brotta8': {'label': 1}, 'Byrial': {'label': 1}, 'CommonsDelinker': {'label': 1}, 'Gereon K.': {'label': 1}, 'Haabet': {'label': 1}, 'HansJensen': {'label': 1}, 'Harne': {'label': 1}, 'Illegitimate Barrister': {'label': 1}, 'Jakob mark': {'label': 1}, 'Kasper Holl': {'label': 1}, 'Khawabkitabeer': {'label': 1}, 'Larsbrp': {'label': 1}, 'Lindberg': {'label': 1}, 'Mbini~dawiki': {'label': 1}, 'Medic': {'label': 1}, 'Necessary Evil': {'label': 1}, 'Nikolaj': {'label': 1}, 'Peregrine981': {'label': 1}, 'Rune': {'label': 1}, 'Sangild': {'label': 1}, 'Villy Fink Isaksen': {'label': 1}, 'VseA': {'label': 1}, 'Wagner Texas Ranger': {'label': 1}, 'Zelrin': {'label': 1}, 'Zheng Hoi': {'label': 1}, 'Anhn': {'label': 1}, 'Poker-DM': {'label': 1}, 'Rotlink': {'label': 1}, 'Tostarpadius': {'label': 1}, 'Annika64': {'label': 1}, 'Grey-Fox': {'label': 1}, 'Victuallers': {'label': 1}, 'Ajvd': {'label': 1}, 'Fredelige': {'label': 1}, 'Rasmusgj': {'label': 1}, 'Sangjinhwa': {'label': 1}, 'Sebastjan': {'label': 1}, 'Andreas4261': {'label': 1}, 'Sorenolin': {'label': 1}, 'JGC': {'label': 1}, 'Thomas Vedelsbøl': {'label': 1}, 'Agerskov': {'label': 1}, 'Amphioxys': {'label': 1}, 'Anton Rasmussen': {'label': 1}, 'Breogan2008': {'label': 1}, 'Ditlev Petersen': {'label': 1}, 'Drlectin': {'label': 1}, 'Go1le': {'label': 1}, 'Jone': {'label': 1}, 'Kjeldjoh': {'label': 1}, 'Leolaursen': {'label': 1}, 'LostPast': {'label': 1}, 'Maitch': {'label': 1}, 'Manscher': {'label': 1}, 'Metalindustrien': {'label': 1}, 'Penguin': {'label': 1}, 'Pete607b': {'label': 1}, 'Sakkura': {'label': 1}, 'Senithil': {'label': 1}, 'ShiftFn': {'label': 1}, 'Sjerpe': {'label': 1}, 'Unposiple': {'label': 1}, 'Arvid-S': {'label': 1}, 'Hgav': {'label': 8}, 'Highfield89': {'label': 1}, 'IvarT': {'label': 1}, 'A09': {'label': 1}, 'Uli Elch': {'label': 1}, 'Clovis': {'label': 1}, 'Orwell123': {'label': 9}, 'Batmacumba': {'label': 1}, 'Catharina81': {'label': 1}, 'Giuseppe valenti (il ginecologo)': {'label': 1}, 'Heelgrasper': {'label': 1}, 'Jørgen': {'label': 1}, 'Lj phys': {'label': 1}, 'Peter Schou': {'label': 1}, 'Asger3400': {'label': 1}, 'NuclearBoyScout': {'label': 1}, 'Baddachamp': {'label': 1}, 'Bolddreng': {'label': 9}, 'Danand': {'label': 1}, 'Greerzy36': {'label': 1}, 'Harthacnut': {'label': 1}, 'Malene': {'label': 1}, 'Martinsecher': {'label': 1}, 'Odense1990': {'label': 1}, 'Steffen91': {'label': 1}, 'Wassini': {'label': 1}, 'BillyDK': {'label': 1}, 'Drmerkwurd': {'label': 1}, 'Rekf': {'label': 1}, 'Mads Ren`ai': {'label': 7}, 'Mr Accountable': {'label': 1}, 'Paralympic': {'label': 1}, 'Otrfan': {'label': 1}, 'Anigif': {'label': 1}, 'Brian Olesen': {'label': 1}, 'BrianOlesen1983': {'label': 1}, 'Chaser': {'label': 1}, 'Erik Bachmann': {'label': 1}, 'Isfisk': {'label': 1}, 'JayPeque': {'label': 1}, 'Kimsey0': {'label': 1}, 'LarsJHJ': {'label': 1}, 'LeonardoRob0t': {'label': 1}, 'Udufruduhu': {'label': 1}, 'Ukuleleole': {'label': 1}, 'HistorieRené': {'label': 1}, 'Danielle': {'label': 1}, 'Dannishroff': {'label': 1}, 'Eva Antonsen': {'label': 1}, 'Foto': {'label': 1}, 'Fred Bradstadt': {'label': 8}, 'Handzken': {'label': 1}, 'Henrikerhøj': {'label': 1}, 'Jensga': {'label': 1}, 'Kevincb22': {'label': 1}, 'M. Nielsen': {'label': 1}, 'MGA73': {'label': 1}, 'NERDI': {'label': 1}, 'Per Abrahamsen': {'label': 9}, 'Sasha': {'label': 1}, 'Sean Weston': {'label': 1}, 'Sejnok1234': {'label': 1}, 'Troels Arvin': {'label': 1}, 'Økonom': {'label': 1}, 'Ernst Poulsen': {'label': 1}, 'Osten2671': {'label': 1}, 'Sigvaldason': {'label': 1}, 'Tennisbold': {'label': 1}, 'Vistor': {'label': 1}, 'Crainrugze': {'label': 1}, 'Fulhamzimmer': {'label': 1}, 'Gkmcs': {'label': 1}, 'Ja240570': {'label': 1}, 'Vandcykel': {'label': 7}, 'Yupppidu': {'label': 1}, 'Courcelles': {'label': 1}, 'Geanixx': {'label': 1}, 'Orakologen': {'label': 1}, 'Εὐθυμένης': {'label': 1}, 'Лобачев Владимир': {'label': 1}, 'Ejner Willy': {'label': 1}, 'Sarmundo': {'label': 1}, 'Mariosmb': {'label': 1}, '東急電鉄': {'label': 1}, 'Loutv': {'label': 1}, 'Vrenak': {'label': 1}, 'Ysangkok': {'label': 1}, 'BIL': {'label': 1}, 'Hrafnin': {'label': 1}, 'Kopavap': {'label': 1}, 'Taketa': {'label': 1}, 'Infobesity': {'label': 1}, 'Jonesy702': {'label': 1}, 'Seide 04': {'label': 1}, 'Aciram': {'label': 1}, 'Chris1130': {'label': 1}, 'Christian List': {'label': 1}, 'Den fjättrade ankan~dawiki': {'label': 1}, 'Edelvang': {'label': 1}, 'Emilsj': {'label': 1}, 'Fnielsen': {'label': 1}, 'Fod': {'label': 1}, 'Fredi-boy': {'label': 1}, 'Furious Allegations': {'label': 1}, 'Gunnernett': {'label': 1}, 'Hansjorn': {'label': 1}, 'Hchristophersen': {'label': 1}, 'Inge-h': {'label': 1}, 'Johan U': {'label': 1}, 'Johan2005': {'label': 1}, 'Koiiy': {'label': 1}, 'Ktp72': {'label': 1}, 'Lena Dyrdal Andersen': {'label': 1}, 'Loupeter': {'label': 1}, 'Nikomog': {'label': 1}, 'Olejasz': {'label': 7}, 'Oleryhlolsson': {'label': 1}, 'Pfalzgreven': {'label': 1}, 'Pgroen': {'label': 1}, 'Pinkpanter82': {'label': 1}, 'Rhododendron': {'label': 1}, 'Ribewiki': {'label': 1}, 'Saddhiyama': {'label': 1}, 'Sajgoous': {'label': 1}, 'Sarah Layton': {'label': 1}, 'Sir48': {'label': 1}, 'Sjalvklara': {'label': 1}, 'Sleiborg': {'label': 1}, 'Sommer': {'label': 1}, 'Soren omg den bedste': {'label': 1}, 'Thomas Thorsen': {'label': 8}, 'Thomasbak1979': {'label': 1}, 'Torsteinn Olafsson': {'label': 1}, 'TraxPlayer': {'label': 1}, 'Tveol1091': {'label': 1}, \"U'et\": {'label': 1}, 'Urbanus~dawiki': {'label': 1}, 'Wegge': {'label': 1}, 'Zzalpha': {'label': 1}, 'A. Jensen': {'label': 1}, 'DenBlaaElg': {'label': 1}, 'Per Meistrup': {'label': 1}, 'Adagia': {'label': 3}, 'Sejeost123333333': {'label': 1}, 'Softron': {'label': 1}, 'Solange': {'label': 1}, 'Jollyy': {'label': 1}, 'Jolu': {'label': 1}, 'Morten67': {'label': 1}, 'Mortenped76': {'label': 1}, 'Salik.hard': {'label': 1}, 'Swirl da': {'label': 1}, 'Tuestor': {'label': 1}, 'Erikthau': {'label': 1}, 'Бучач-Львів': {'label': 1}, 'ウルトラ大不況': {'label': 1}, 'Abekat123': {'label': 1}, 'Jannick Aakjær': {'label': 1}, 'Matildehk': {'label': 1}, 'Monotar~dawiki': {'label': 1}, 'Peter Mathisen': {'label': 1}, 'Raven0764': {'label': 1}, 'Sandywood315': {'label': 1}, 'Skovns': {'label': 1}, 'خلدون شنتوت': {'label': 1}, 'Chateque': {'label': 1}, 'Noer87': {'label': 1}, 'Pelle5': {'label': 9}, 'Amkaa': {'label': 1}, 'BrianRasmussen': {'label': 1}, 'Jdx': {'label': 1}, 'LundenJensen': {'label': 1}, 'Papa Doc': {'label': 1}, 'مانفی': {'label': 1}, 'J 1982': {'label': 1}, 'FIKWH': {'label': 1}, 'Bilde': {'label': 1}, 'Emilstahl': {'label': 1}, 'Sasu985': {'label': 9}, 'Jesper Bøtker Mortensen': {'label': 1}, 'Nomoma': {'label': 1}, 'Svensson1': {'label': 1}, 'Cineclopedia': {'label': 1}, 'Jared Preston': {'label': 1}, 'Maskiner': {'label': 1}, 'Morten': {'label': 1}, 'Rosbirk': {'label': 1}, 'Bobak': {'label': 1}, 'ILoveKorea': {'label': 1}, 'Louis82': {'label': 1}, 'Palica': {'label': 1}, 'Scm': {'label': 1}, 'Biitesmalou': {'label': 4}, 'Kristian.HP': {'label': 4}, 'Lasseska': {'label': 4}, 'HenrikRomby': {'label': 1}, 'Amargaard': {'label': 1}, 'Andreas Müller': {'label': 1}, 'ArveprinsKnud': {'label': 1}, 'Bananaphone': {'label': 1}, 'ChicaDanesa': {'label': 1}, 'DianaBoy': {'label': 1}, 'EosKøge': {'label': 1}, 'Ft11': {'label': 1}, 'Gobo18': {'label': 1}, 'HelleSchmidt': {'label': 1}, 'Jesper71': {'label': 1}, 'Karmel80': {'label': 1}, 'Kazpr': {'label': 1}, 'Kgranov': {'label': 1}, 'Kinamand': {'label': 1}, 'Knowdom 2.0': {'label': 1}, 'Kosjka': {'label': 1}, 'Lasen': {'label': 9}, 'Law Lord': {'label': 1}, 'LiberalAlliance': {'label': 1}, 'Malver': {'label': 1}, 'Marisen~dawiki': {'label': 1}, 'Megamonne': {'label': 1}, 'Monne': {'label': 1}, 'Morten Svensson': {'label': 1}, 'Myrdk': {'label': 1}, 'Mysteriumen': {'label': 1}, 'Niels Buus': {'label': 1}, 'NyrupRasmussen': {'label': 1}, 'Osteklokke': {'label': 1}, 'Pardy': {'label': 1}, 'Pelle Dam': {'label': 1}, 'Rasmusbyg': {'label': 1}, 'Reporter Nielsen': {'label': 1}, 'Romolus': {'label': 1}, 'Schlätzmeister': {'label': 1}, 'So9q': {'label': 1}, 'Sorenkusk': {'label': 1}, 'T-Stone': {'label': 1}, 'Tastaturkrigeren': {'label': 1}, 'Valentin': {'label': 1}, 'Wikibruger': {'label': 1}, 'Æblemain': {'label': 1}, 'Kaspernymand': {'label': 1}, 'Alkarex': {'label': 1}, 'Anjoe': {'label': 1}, 'Asyntactic': {'label': 1}, 'BALMAINM': {'label': 8}, 'Benadikt': {'label': 1}, 'Concorde215': {'label': 1}, 'Ericjul': {'label': 1}, 'Godihrdt': {'label': 1}, 'Hetoft': {'label': 1}, 'Jeppe21': {'label': 1}, 'Jj@fiolgade.dk': {'label': 1}, 'King Ali Aljanabi Offridom': {'label': 1}, 'Lastorset': {'label': 1}, 'Magnus95': {'label': 8}, 'Mexk': {'label': 1}, 'Mikael V': {'label': 1}, 'Oz1cz': {'label': 1}, 'Peterbak': {'label': 1}, 'Poul G': {'label': 1}, 'Semiparaesite': {'label': 1}, 'Twid': {'label': 1}, 'Vicki Reitta': {'label': 1}, 'Åge': {'label': 8}, 'Gatekeeper': {'label': 1}, 'Gatekeeper1971': {'label': 1}, 'Nis Hoff': {'label': 1}, 'PhoenixV': {'label': 1}, 'Azizogames': {'label': 1}, 'Daniela Kloth': {'label': 1}, 'Erik Christensen': {'label': 1}, 'Steffen Löwe Gera': {'label': 0}, 'WikUzytkownik': {'label': 1}, 'A3ng3l': {'label': 7}, 'AJ5960': {'label': 1}, 'Aasth5048': {'label': 1}, 'Emil Olsen': {'label': 1}, 'Esbenjensen': {'label': 1}, 'Ezzzle': {'label': 1}, 'Gap9551': {'label': 1}, 'Glass': {'label': 1}, 'Hhst': {'label': 1}, 'Iojhug': {'label': 0}, 'Jan Friberg': {'label': 1}, 'Jandit': {'label': 1}, 'Jeblin25': {'label': 1}, 'Jens Peter Kaj Jensen': {'label': 7}, 'Jesper Wormstrup': {'label': 1}, 'Manoftrivia': {'label': 1}, 'Marianneholst': {'label': 1}, 'Martin Hansen Andersen': {'label': 1}, 'Moseby22': {'label': 1}, 'Philo': {'label': 1}, 'Rome0055': {'label': 1}, 'Saim2019': {'label': 1}, 'TennisRamo': {'label': 1}, 'TorbenHL': {'label': 1}, 'Twbn1946': {'label': 1}, 'UsernameHere': {'label': 1}, 'Xstoe': {'label': 1}, 'Предатор1990': {'label': 1}, 'Amherst99': {'label': 1}, 'Andreas A': {'label': 1}, 'Billelar': {'label': 1}, 'BlueEel': {'label': 1}, 'Carsonolajuda': {'label': 1}, 'Carsten R D': {'label': 1}, 'Chepry': {'label': 1}, 'DomingoBoy1': {'label': 1}, 'Erik Tweedy': {'label': 1}, 'Fa-super': {'label': 1}, 'Fanoftheworld': {'label': 1}, 'Fispaul': {'label': 9}, 'Grønland': {'label': 1}, 'Hofkas': {'label': 1}, 'InsaneHacker': {'label': 1}, 'Jackoe': {'label': 1}, 'Jeglugteraflort': {'label': 1}, 'Jensperchnielsen': {'label': 1}, 'Joy Richard Preuss Country': {'label': 1}, 'Klmeze': {'label': 1}, 'Kwamikagami': {'label': 1}, 'Larssvensen': {'label': 1}, 'Lasse Guldsborg': {'label': 1}, 'LeonardoKH': {'label': 1}, 'Mrloop': {'label': 9}, 'Mtlarsen': {'label': 1}, 'Nonames': {'label': 1}, 'Nothack': {'label': 1}, 'Rabunski456': {'label': 1}, 'Rasmus81': {'label': 8}, 'Rasmus911': {'label': 1}, 'Romanm': {'label': 1}, 'Snailwalker': {'label': 9}, 'Soren12345': {'label': 1}, 'Suisui': {'label': 1}, 'Svendsvend': {'label': 1}, 'User Z5020': {'label': 1}, 'V4qCL': {'label': 1}, 'Webkid~dawiki': {'label': 1}, 'Wolfram': {'label': 1}, 'Z99aal': {'label': 1}, 'Zachomissen69': {'label': 1}, 'Zilotte': {'label': 1}, 'Alfred345': {'label': 1}, '(Nazi) Adolf Hitler': {'label': 8}, 'Apoltix': {'label': 9}, 'Brunneis Burner': {'label': 8}, 'Carl6087': {'label': 8}, 'Casper~dawiki': {'label': 8}, 'Cepper': {'label': 8}, 'Christian~dawiki': {'label': 8}, 'DMGSGTEDRddr': {'label': 8}, 'David Sand Knak': {'label': 8}, 'Davor xx': {'label': 8}, 'Diggle': {'label': 8}, 'Ditte Maria': {'label': 8}, 'Djallese': {'label': 8}, 'Eestlane': {'label': 8}, 'Funkhauser': {'label': 8}, 'Graphicos': {'label': 8}, 'G®iffen': {'label': 8}, 'Heirserra': {'label': 8}, 'Henry450': {'label': 8}, 'Honymand': {'label': 8}, 'IBA': {'label': 8}, 'Jacob Valdemar': {'label': 8}, 'Jafeluv': {'label': 8}, 'Jakob fyn': {'label': 8}, 'Jan Pedersen': {'label': 1}, 'Jasmin07': {'label': 8}, 'Jimmi Agerskov': {'label': 8}, 'Joiner': {'label': 8}, 'Knudzan': {'label': 8}, 'Kontrollstellekundl': {'label': 8}, 'Kris981e': {'label': 8}, 'Krun': {'label': 8}, 'Kuddel': {'label': 8}, 'LarsNæsbye': {'label': 8}, 'Lear 21': {'label': 8}, 'Mich356s': {'label': 8}, 'Nicoshansen': {'label': 8}, 'Nstenberg': {'label': 8}, 'Oelting': {'label': 8}, 'Olaf Kosinsky': {'label': 8}, 'Paaske36': {'label': 7}, 'Palledkdinmor': {'label': 8}, 'Pechke': {'label': 8}, 'Peter3060': {'label': 8}, 'Purbo T': {'label': 8}, 'Pyrros': {'label': 1}, 'Ramloser': {'label': 1}, 'Rasmus002': {'label': 8}, 'Rete': {'label': 8}, 'Roamata': {'label': 8}, 'Rolff': {'label': 8}, 'Template namespace initialisation script': {'label': 8}, 'Thorfinn': {'label': 8}, 'Thpadk': {'label': 8}, 'TownDown': {'label': 8}, 'Vagnis': {'label': 8}, 'Wholle': {'label': 1}, 'Zkltr': {'label': 8}, 'DrDose': {'label': 1}, 'Algiz': {'label': 1}, 'Anne Louise1': {'label': 1}, 'Druschba 4': {'label': 1}, 'Krestenklit': {'label': 1}, 'Speravir': {'label': 1}, 'Yankee~dawiki': {'label': 1}, 'Zotur': {'label': 1}, 'Bernhard': {'label': 1}, 'C960657': {'label': 1}, 'Martinsejer': {'label': 1}, 'Solovergudhjem': {'label': 1}, 'Trurl': {'label': 1}, 'Ulflarsen': {'label': 1}, 'Anonym Aktivist Abe': {'label': 1}, 'RMB2610': {'label': 1}, 'RødovreMightyBulls': {'label': 1}, 'Abonnementskongen': {'label': 5}, 'Ertyuioælkjhgfvb': {'label': 5}, 'Jensfjensf': {'label': 5}, 'Nannafinne': {'label': 5}, 'Petervistisen': {'label': 5}, 'Randeris4': {'label': 5}, 'Tobiasth': {'label': 5}, 'AdamSmithFan': {'label': 1}, 'Annika': {'label': 1}, 'Erik Damskier': {'label': 1}, 'PHansen': {'label': 1}, 'Aaker': {'label': 1}, 'Cph1993': {'label': 1}, 'DobryBrat': {'label': 1}, 'Emilie dannef': {'label': 1}, 'Gleb Borisov': {'label': 1}, 'Ingmar~dawiki': {'label': 1}, 'Jarash': {'label': 1}, 'Kunuk XD': {'label': 1}, 'Madklub': {'label': 1}, 'Madzmz': {'label': 1}, 'Nillerdk': {'label': 1}, 'Ozi64': {'label': 1}, 'SSgt.Vensky': {'label': 1}, 'Thathánka Íyotake': {'label': 1}, 'Zuiseart': {'label': 1}, 'Ясамойла': {'label': 1}, 'Abekattensvend': {'label': 1}, 'Banff13': {'label': 1}, 'Brother Dysk': {'label': 1}, 'Christian89': {'label': 1}, 'Chrown': {'label': 1}, 'Emil w and': {'label': 1}, 'Fenrisulven': {'label': 1}, 'Goldstrome n Harnis': {'label': 1}, 'Hanne123': {'label': 1}, 'Jacobfk': {'label': 1}, 'Juddas': {'label': 1}, 'Juddas the ghost': {'label': 1}, 'Karlboibannemette': {'label': 1}, 'M0nster20010': {'label': 1}, 'Maltesen': {'label': 1}, 'Mark Jensen': {'label': 9}, 'Martin Friso (Youtuber)': {'label': 1}, 'N00b123': {'label': 1}, 'NaaZ94': {'label': 1}, 'Neustradamus': {'label': 1}, 'Niegodzisie': {'label': 0}, 'Ollebolle3': {'label': 1}, 'Onkel Tuca': {'label': 9}, 'RBC': {'label': 1}, 'ZCMI': {'label': 1}, 'İnfobgv': {'label': 1}, 'Coffins': {'label': 1}, 'QnudM': {'label': 1}, 'Seekers': {'label': 9}, 'Alexandramander': {'label': 1}, 'Ente lente': {'label': 1}, 'Giremino': {'label': 1}, 'Jakob~dawiki': {'label': 1}, 'Kefr4000': {'label': 1}, 'Megatron007': {'label': 1}, 'VictorEremita': {'label': 1}, 'Wildt': {'label': 1}, 'Yurik': {'label': 1}, 'KasperGp': {'label': 1}, 'Aksel Hansen': {'label': 7}, 'Andreas-lodahl': {'label': 7}, 'Franknavarro': {'label': 1}, 'Jakf': {'label': 9}, 'Kolban': {'label': 1}, 'LN1989': {'label': 1}, 'Cal1': {'label': 1}, 'Frank R': {'label': 9}, 'Optimus Pred': {'label': 1}, 'Boivie': {'label': 1}, 'Jacob1976x': {'label': 1}, 'Kung Hibbe': {'label': 1}, 'Thehappymonster': {'label': 1}, 'Apopov': {'label': 1}, 'Chr': {'label': 1}, 'Cisar': {'label': 1}, 'Fry1989': {'label': 1}, 'Gerdt~dawiki': {'label': 1}, 'Haraldur': {'label': 1}, 'HenrikKbh': {'label': 1}, 'Kim H': {'label': 7}, 'Korg': {'label': 1}, 'Laketown': {'label': 1}, 'Mart804m': {'label': 1}, 'Martin Macha 2111': {'label': 1}, 'Meldola': {'label': 1}, 'Missoeh': {'label': 1}, 'Purodha': {'label': 1}, 'Ralletheawesomeman': {'label': 1}, 'SanglierT': {'label': 1}, 'Vufff': {'label': 1}, 'Brams': {'label': 1}, 'Editoritarian': {'label': 1}, 'Flemmingvestmark': {'label': 1}, 'Menix~dawiki': {'label': 1}, 'Roosevelthertz': {'label': 1}, 'Steenen': {'label': 1}, 'Søren Lau': {'label': 1}, 'B.A.C.': {'label': 1}, 'Erikhj': {'label': 1}, 'Gerthn': {'label': 1}, 'Johnluisocasio': {'label': 1}, 'Piginnaanilissuaq': {'label': 1}, 'Weliopark': {'label': 1}, 'Frid1682': {'label': 1}, 'Hi im gosu': {'label': 1}, 'Magn9359': {'label': 1}, 'Mycomp': {'label': 1}, 'Asbjorn~dawiki': {'label': 1}, 'Bsh': {'label': 1}, 'Jeterfan': {'label': 1}, 'JohanJ': {'label': 7}, 'Kviste': {'label': 1}, 'Malou': {'label': 1}, 'PAC-MAN': {'label': 1}, 'Rune-wl': {'label': 1}, 'Tvarnoe': {'label': 9}, 'Cilidus': {'label': 1}, 'Conny~dawiki': {'label': 1}, 'Hvidovre321': {'label': 1}, 'Janas~dawiki': {'label': 1}, 'Jdv~dawiki': {'label': 1}, 'Jeppesn': {'label': 9}, 'Kasperli': {'label': 1}, 'Kristo1410': {'label': 1}, 'MMAAGGNNUUSS': {'label': 1}, 'Marginataen': {'label': 1}, 'Mortenf': {'label': 1}, 'Nord68': {'label': 1}, 'Tauro31': {'label': 1}, 'Thrane': {'label': 1}, 'Zserghei': {'label': 1}, 'Adriao': {'label': 1}, 'Chri166j': {'label': 1}, 'Sejsej': {'label': 1}, 'Boris M': {'label': 1}, 'Capsaicin': {'label': 1}, 'Captain Pepperoni': {'label': 1}, 'CordesP': {'label': 1}, 'Jhertel': {'label': 1}, 'OrdinaryProtein': {'label': 1}, 'Yawe': {'label': 1}, 'VilaAmalka': {'label': 1}, 'BoDeGA': {'label': 1}, 'Dksport2015': {'label': 1}, 'Lcl': {'label': 1}, 'Michael-hoffmann-hansen': {'label': 1}, 'Pebart2015': {'label': 1}, 'J.Riishøj': {'label': 1}, 'Kim Bach': {'label': 9}, 'KristianMadsen': {'label': 9}, 'Noopy2394': {'label': 1}, 'Torben Weyhe': {'label': 1}, 'Mathiasesmann1999': {'label': 9}, 'Casper Clark': {'label': 1}, 'Dan Koehl': {'label': 1}, 'Daniel Broder': {'label': 1}, 'Diepizza': {'label': 1}, 'Foden80': {'label': 1}, 'Lilac Soul': {'label': 1}, 'Lægevaccinationsorganisation': {'label': 1}, 'Mgarde': {'label': 1}, 'Ranveig': {'label': 1}, 'TrolleF': {'label': 1}, 'Wiki-værkstedet (Praktikant)': {'label': 1}, 'XMedicus': {'label': 1}, 'Silvertone1000': {'label': 1}, 'Theilert': {'label': 1}, 'Eldhufvud': {'label': 1}, 'Jyllinge Fc': {'label': 1}, 'SimonH.T': {'label': 1}, 'Gb0470': {'label': 1}, 'Hassesorensen': {'label': 1}, 'Henryfunk': {'label': 1}, 'Kamp': {'label': 1}, 'Karl Madsen': {'label': 1}, 'Orla Fokdal': {'label': 1}, 'Tandsryd': {'label': 1}, 'Àlex': {'label': 1}, 'Andefar': {'label': 1}, 'Claus96': {'label': 1}, 'ErikW1998': {'label': 1}, 'Fredhoff1996': {'label': 1}, 'Gunnar23': {'label': 9}, 'Makenzis': {'label': 1}, 'Maus-78': {'label': 1}, 'Nikegoddess': {'label': 1}, 'Nkm99': {'label': 1}, 'Sasu987': {'label': 7}, 'Stepro': {'label': 1}, 'Bøgelund': {'label': 9}, 'Diupwijk': {'label': 1}, 'Nkarumaa': {'label': 1}, 'BlueJayFan52': {'label': 1}, 'Crazy maniac': {'label': 7}, 'DSS': {'label': 9}, 'Jack Drago~dawiki': {'label': 1}, 'Mathnor': {'label': 9}, 'Mike.lifeguard': {'label': 1}, 'PjotrMahh1': {'label': 1}, 'Freeman~dawiki': {'label': 1}, 'Grasmusb': {'label': 1}, 'Tomjoad~dawiki': {'label': 1}, 'Willierap': {'label': 1}, 'Maasje': {'label': 1}, 'Steindy': {'label': 1}, 'Alexvillaro': {'label': 1}, 'Bob Collowân': {'label': 1}, 'Christian S~dawiki': {'label': 1}, 'Maximus Rex~dawiki': {'label': 1}, 'Turbobernd~dawiki': {'label': 1}, 'Bjørn Clasen': {'label': 1}, 'CengizHanAltai': {'label': 1}, 'DK NL D': {'label': 1}, 'FMSky': {'label': 1}, 'Fußballfan240395': {'label': 1}, 'Kimsorensen84': {'label': 1}, 'RSBTOZTjydfvx': {'label': 1}, 'RedBull1717': {'label': 1}, 'RedBull317': {'label': 1}, 'RoBri': {'label': 1}, '-wuppertaler': {'label': 1}, 'Anders-sandholm': {'label': 1}, 'Chri747y': {'label': 9}, 'DiDicho': {'label': 1}, 'DirtyxSanchez': {'label': 1}, 'Eden10Hazard': {'label': 7}, 'Fodboldbrugeren': {'label': 1}, 'Frederiknielsen7': {'label': 1}, 'Gul1909': {'label': 1}, 'Hornymanatee': {'label': 1}, 'Lispir': {'label': 1}, 'MrBonde': {'label': 1}, 'NisJørgensen': {'label': 1}, 'Pikinummiudengummi': {'label': 1}, 'Pip Faurby': {'label': 1}, 'Pwjg': {'label': 1}, 'Rja77101': {'label': 1}, 'Sebastian Stoltz': {'label': 1}, 'ThueGutten': {'label': 1}, 'ZanioloDiego': {'label': 1}, 'Terkel99': {'label': 1}, 'BiotiKx': {'label': 1}, 'Mads U N': {'label': 1}, 'McWiuff': {'label': 1}, 'BenjaminMlynek': {'label': 1}, 'Bjorn jensen': {'label': 1}, 'Geoand': {'label': 1}, 'Gilbert.sneed': {'label': 1}, 'Gunnar Larsson': {'label': 7}, 'Henning Makholm': {'label': 1}, 'Kimgarsdal': {'label': 1}, 'NicoPigo': {'label': 1}, 'Nikai': {'label': 1}, 'Pernoldi~dawiki': {'label': 1}, 'TorbenTT': {'label': 1}, 'Damm~dawiki': {'label': 1}, 'Thomasrasmussen123': {'label': 1}, 'Dooba': {'label': 1}, 'KasperPrip': {'label': 1}, 'Harlekin96': {'label': 1}, 'Heiko Gerber': {'label': 1}, 'Cardakli': {'label': 1}, 'Chris Benoit': {'label': 1}, 'Dinfedeklammesæk': {'label': 1}, 'Docko': {'label': 1}, 'Fkrogh': {'label': 1}, 'Hypuxylun': {'label': 1}, 'Muxyadin': {'label': 1}, 'The Dennis': {'label': 1}, 'Daneosaur': {'label': 1}, 'Storslem': {'label': 1}, 'Tanuki Z': {'label': 1}, 'Beethoven9': {'label': 1}, 'Bonulo': {'label': 1}, 'Dampbarn': {'label': 1}, 'JacobGaxe': {'label': 1}, 'Jakob60': {'label': 1}, 'Kezze': {'label': 1}, 'Knak': {'label': 1}, 'Kort til kirken': {'label': 1}, 'MicBehrens': {'label': 1}, 'Michiel1972': {'label': 1}, 'Peterjacobhansen': {'label': 1}, 'Søs13': {'label': 1}, 'Timur~dawiki': {'label': 1}, 'Bobby7913': {'label': 1}, 'Erik 1707': {'label': 1}, 'Druen': {'label': 1}, 'Leszek Jańczuk': {'label': 1}, 'Vindfeld': {'label': 1}, '2+2=4 quick math': {'label': 1}, 'Ah3kal': {'label': 1}, 'BarrakoBarner': {'label': 1}, 'Brugernavn123456789': {'label': 1}, 'Camillasindesen': {'label': 1}, 'DenisS': {'label': 1}, 'Fisk95': {'label': 9}, 'HapHaxion': {'label': 1}, 'Hestenalex': {'label': 1}, 'Jhendin': {'label': 1}, 'Kris91': {'label': 1}, 'LA2': {'label': 7}, 'Lordofd': {'label': 1}, 'Martinellechero': {'label': 1}, 'Mows': {'label': 1}, 'Nordfra': {'label': 1}, 'Orland': {'label': 1}, 'Pingvinlover': {'label': 1}, 'Purple Duke': {'label': 1}, 'Pølse king': {'label': 1}, 'Siener': {'label': 1}, 'Tdn70': {'label': 1}, 'Uxejn': {'label': 1}, 'Verdy p': {'label': 1}, 'Zephyr~dawiki': {'label': 1}, 'Rød Nummergøj': {'label': 1}, '8900kbh': {'label': 1}, 'AB-me': {'label': 9}, 'Ay304': {'label': 1}, 'Chri4d62': {'label': 1}, 'GoldenlionDK': {'label': 1}, 'Ronnie2ksort': {'label': 1}, 'Santiagocazorla12356789': {'label': 1}, 'The88Warrior': {'label': 7}, 'Fred Flinstones 666': {'label': 1}, 'SimonBP': {'label': 1}, 'Akselbo': {'label': 1}, 'Dorch': {'label': 1}, 'THKAA': {'label': 1}, '2millennium': {'label': 1}, 'Zafer': {'label': 1}, 'Adamdanyx': {'label': 1}, 'Andersersej': {'label': 1}, 'BiuerBoris': {'label': 1}, 'Chongkian': {'label': 1}, 'DanishComrade': {'label': 1}, 'Hamzaronaldo77': {'label': 1}, 'Hyggehyggehygge': {'label': 1}, 'Leliva': {'label': 1}, 'Mbmoeller': {'label': 1}, 'Niels1979dk': {'label': 1}, 'Vincenty846': {'label': 1}, 'Viplux': {'label': 1}, 'Young168t': {'label': 1}, 'Zabhood': {'label': 1}, 'Brittjay': {'label': 1}, 'Editantpv': {'label': 1}, 'Eyesnore': {'label': 1}, 'Gliwi': {'label': 1}, 'Gravitone': {'label': 1}, 'Hertig': {'label': 1}, 'Johannes Rohr': {'label': 1}, 'Mads Tiemroth': {'label': 1}, 'Schoener alltag': {'label': 1}, 'Thorkild': {'label': 1}, 'Trygve W Nodeland': {'label': 1}, 'Jarvin': {'label': 1}, 'Kempfsigurd': {'label': 1}, 'RKO~dawiki': {'label': 1}, 'VThomasAndersen': {'label': 1}, 'D.N og L.L': {'label': 1}, 'Jeppe96': {'label': 1}, 'Hartmut Haberland': {'label': 1}, 'NivlekDa': {'label': 0}, 'Saftgurka': {'label': 1}, 'Amtin': {'label': 1}, 'BjarkeSK': {'label': 1}, 'Quentinv57': {'label': 1}, 'Baccy': {'label': 1}, 'Kseroc': {'label': 1}, 'Orange-kun': {'label': 1}, 'Bibliophilen': {'label': 1}, 'MSkriver': {'label': 1}, 'MellowMurmur': {'label': 1}, 'Surelars': {'label': 1}, 'TGCP': {'label': 1}, 'Tsh': {'label': 1}, 'Ybidzian': {'label': 1}, 'Chlor': {'label': 1}, 'Dorte.jensen': {'label': 1}, 'Erwin': {'label': 1}, 'Gamren': {'label': 1}, 'Knielsen81': {'label': 1}, 'Kontoreg': {'label': 1}, 'Leksikonguy': {'label': 1}, 'Lsolesen': {'label': 1}, 'Nanna.jeppesen': {'label': 1}, 'Soft~dawiki': {'label': 1}, 'Songbird~dawiki': {'label': 1}, 'Thomas Kjeldsen': {'label': 1}, 'Tomastvivlaren': {'label': 1}, 'Toomai007': {'label': 1}, 'Knudbe': {'label': 1}, 'INeverCry': {'label': 1}, 'JonasJepsen': {'label': 9}, 'Papedipappaps': {'label': 1}, 'Sogc.christensen': {'label': 1}, 'Molaco': {'label': 1}, 'Risvang': {'label': 1}, 'Jawad': {'label': 1}, 'Qizilbash': {'label': 1}, 'Sbball96': {'label': 1}, 'Xhmee': {'label': 1}, 'Faroeman92': {'label': 1}, 'Asger19': {'label': 1}, 'DizzinessOfFreedom': {'label': 1}, 'Андрей М-1212': {'label': 1}, 'Curious Rune': {'label': 1}, 'Dinoideal': {'label': 1}, 'Havregryn': {'label': 7}, 'Hkja99': {'label': 1}, 'Moziedk': {'label': 1}, 'Rmelsen': {'label': 1}, 'Sorenrode': {'label': 1}, 'Suwa': {'label': 1}, 'Tim R': {'label': 1}, 'Wasabi': {'label': 1}, 'Galatto': {'label': 1}, 'Iznogoodenator': {'label': 1}, 'Mieee': {'label': 1}, 'Nickybutt': {'label': 9}, 'Tokafest': {'label': 1}, 'Natkatten': {'label': 1}, 'Onthehand': {'label': 1}, 'Signe Pedersen': {'label': 1}, 'Albert33': {'label': 6}, 'Alexanderolejnikovdanmark': {'label': 6}, 'Bianxo': {'label': 6}, 'Busstop': {'label': 6}, 'Ceyhunkarakas99': {'label': 6}, 'Copenhagenboy23': {'label': 6}, 'DanielMuffe2704': {'label': 6}, 'Geelsmark': {'label': 6}, 'Gokkemanden': {'label': 6}, 'Johan8900': {'label': 6}, 'Kaggertsen1': {'label': 6}, 'LIU': {'label': 6}, 'Lorten1234': {'label': 6}, 'Lysga lysga': {'label': 6}, 'Mads517': {'label': 6}, 'MartinCE': {'label': 6}, 'Mathiasbif77': {'label': 6}, 'MrKobna': {'label': 6}, 'Møllerensutr': {'label': 9}, 'Robert.rasmussen': {'label': 6}, 'Syvkabale': {'label': 6}, 'Sørensen.dk': {'label': 6}, 'TheDanishViking': {'label': 6}, 'Vincentsselvmål': {'label': 6}, 'Wiki007~dawiki': {'label': 9}, 'Boble-bobben': {'label': 1}, 'Daniel laumann': {'label': 1}, 'Daniel-lf': {'label': 1}, 'Detlukas': {'label': 1}, 'HRoued': {'label': 1}, 'Oliv680f': {'label': 1}, 'R2k~dawiki': {'label': 1}, 'TDKR Chicago 101': {'label': 1}, 'Tella~dawiki': {'label': 1}, 'Tjelly2': {'label': 1}, 'Tvebak': {'label': 1}, 'YaStiker': {'label': 1}, '2eight': {'label': 1}, 'PatrickM': {'label': 1}, 'UlrikOldenburg': {'label': 1}, 'Luke2000': {'label': 1}, 'Steffer13': {'label': 1}, 'Ahhh25': {'label': 1}, 'Allentoft': {'label': 1}, 'Hadberg': {'label': 1}, 'Heyjohn': {'label': 1}, 'Juel123': {'label': 1}, 'Marecare96': {'label': 1}, 'MathiasMajland1999': {'label': 1}, 'Nicklasthatsmexb': {'label': 1}, 'Pigstar': {'label': 1}, 'Wikijens': {'label': 1}, 'Lemser02': {'label': 1}, 'Dale Arnett': {'label': 1}, 'Stausholm89': {'label': 1}, 'TastyPoutine': {'label': 1}, 'Armania1728': {'label': 1}, 'Shegolkov': {'label': 1}, 'Ellerbams': {'label': 1}, 'Ev': {'label': 1}, 'Gjensen': {'label': 1}, 'Glaisher': {'label': 1}, 'Jakobrahbek': {'label': 1}, 'Jeppe9999': {'label': 1}, 'Kemiskforsker': {'label': 1}, 'Mikebamsen': {'label': 1}, 'Abaftsaver': {'label': 1}, 'Teaterflisen': {'label': 1}, 'LinguineFusilli': {'label': 1}, 'BispensGipsGebis': {'label': 1}, 'Christophersen': {'label': 1}, 'Css~dawiki': {'label': 1}, 'Fatpanda': {'label': 1}, 'Huusmik': {'label': 1}, 'Mads møller': {'label': 1}, 'Nielstrup': {'label': 1}, 'Oliver6700': {'label': 1}, 'Orale140605': {'label': 1}, 'Sara755c': {'label': 1}, 'Sidefor': {'label': 1}, 'Stang~dawiki': {'label': 1}, 'Sunds': {'label': 1}, 'Trinekc': {'label': 1}, 'Cp20072007': {'label': 1}, 'Johanhilge': {'label': 1}, 'Mortens9': {'label': 1}, 'Nikothegirl': {'label': 1}, 'Ole Lund Christensen': {'label': 1}, 'OrangeBiteyThing': {'label': 1}, 'RhinoMind': {'label': 9}, 'TheRealsSquid': {'label': 1}, 'Austrazil': {'label': 1}, 'Cycn': {'label': 1}, 'Marek69': {'label': 1}, 'Ocean of Storms': {'label': 1}, 'Thue': {'label': 1}, 'Hartenhof': {'label': 1}, 'Stempelquist': {'label': 9}, 'Trekw': {'label': 7}, 'Wdymbydat': {'label': 1}, '3F': {'label': 1}, 'Gunnarbach': {'label': 1}, 'Holder': {'label': 1}, 'Homo lupus': {'label': 1}, 'Immanuel Giel': {'label': 1}, 'Kristinkaradottir': {'label': 1}, 'Marko Markako': {'label': 1}, 'Michael riber jorgensen': {'label': 1}, 'Musubana': {'label': 1}, 'Sauðkindin~dawiki': {'label': 1}, 'Sveinbjorg': {'label': 1}, 'Adamsen': {'label': 1}, 'Peterhansen': {'label': 1}, 'Silasriis': {'label': 1}, 'Werddemer': {'label': 1}, 'Polarlys': {'label': 1}, 'Stalverk80': {'label': 1}, 'Jakes~dawiki': {'label': 1}, 'Mathias2100': {'label': 1}, 'Milhoj': {'label': 9}, 'Santiago Claudio': {'label': 1}, 'Ulrik marschall': {'label': 1}, 'Vagn30': {'label': 9}, 'BBQ - BBQ': {'label': 1}, 'Br drengen': {'label': 9}, 'Denuartige': {'label': 1}, 'Giammarco Ferrari': {'label': 1}, 'Hiltom22': {'label': 1}, 'Jonjojo': {'label': 1}, 'Kaffemaskine': {'label': 1}, 'Killziky': {'label': 1}, 'Klaus96': {'label': 1}, 'Lax~dawiki': {'label': 1}, 'Lingvisten': {'label': 1}, 'Magn9372': {'label': 1}, 'Mikewilken': {'label': 1}, 'Mikstef': {'label': 1}, 'Nono-1966': {'label': 1}, 'Oliver96~dawiki': {'label': 1}, 'Sommer og vinter': {'label': 1}, 'Thaudahl': {'label': 1}, 'Tomm~dawiki': {'label': 1}, 'Madspoulsen': {'label': 1}, 'Alapyr': {'label': 1}, 'Jakobdam': {'label': 1}, 'Jesperdahl': {'label': 1}, 'Mads Haupt': {'label': 1}, 'Marloth2000': {'label': 1}, 'Nickispeaki': {'label': 1}, 'Δ': {'label': 1}, 'Fregerslev': {'label': 1}, 'Magnus Schou': {'label': 1}, 'Tijd-jp': {'label': 1}, 'Mantson': {'label': 1}, 'Hans G. Oberlack': {'label': 1}, 'Tintin jr.': {'label': 1}, 'Minorax': {'label': 1}, 'Kimse84': {'label': 1}, 'Marc-André Aßbrock': {'label': 1}, 'MichielN': {'label': 1}, 'Kallorius': {'label': 1}, 'Krygerlarsen': {'label': 1}, 'MC Kasser': {'label': 1}, 'VicVal': {'label': 1}, 'NBS': {'label': 1}, 'Rjd0060': {'label': 1}, 'SecretName101': {'label': 1}, 'Hytytyt': {'label': 1}, 'Medicohih': {'label': 1}, 'Abu ari': {'label': 8}, 'Albertmoebius': {'label': 8}, 'Birchswamp': {'label': 8}, 'Skjoldbro': {'label': 8}, 'Mrstendal': {'label': 1}, 'Allan64~dawiki': {'label': 1}, 'Eberfeld': {'label': 1}, 'Jim~dawiki': {'label': 1}, 'Mikue': {'label': 1}, 'Nickoe': {'label': 1}, 'Nyhave': {'label': 1}, 'Soccerwatcher': {'label': 1}, 'ThomasRiem': {'label': 1}, 'Fritzie': {'label': 1}, 'Safran M': {'label': 1}, '1020D': {'label': 1}, 'Adailton': {'label': 1}, 'Kar-nung': {'label': 1}, 'Apokrif': {'label': 1}, 'Donauwelle~dawiki': {'label': 1}, 'Entropeter': {'label': 0}, 'Erik Corry~dawiki': {'label': 1}, 'Fillen': {'label': 1}, 'Henrik Villum': {'label': 1}, 'Kontrollen': {'label': 1}, 'Nsaa': {'label': 1}, 'Pinnerup': {'label': 1}, 'Rosenquist': {'label': 1}, 'John.St': {'label': 1}, 'Hcholdt': {'label': 1}, 'Rumabe': {'label': 1}, 'Uffep': {'label': 1}, 'Zerlina': {'label': 1}, 'Flix11': {'label': 1}, 'Jjkankila': {'label': 1}, 'Juqipedia': {'label': 1}, 'Prebug': {'label': 1}, 'AK92': {'label': 1}, 'Anne Henriksen': {'label': 1}, 'Dannyvilla91': {'label': 1}, 'Friis6091': {'label': 1}, 'Hans1995': {'label': 1}, 'IbRas': {'label': 1}, 'JPehrson~dawiki': {'label': 1}, 'Kiilerich': {'label': 1}, 'Kramer~dawiki': {'label': 1}, 'Leif Thorup': {'label': 1}, 'Lensi': {'label': 1}, 'Maya123': {'label': 1}, 'Micken~dawiki': {'label': 1}, 'Mts2605': {'label': 1}, 'Oernbo': {'label': 1}, 'Peterggg': {'label': 1}, 'Ryuujin~dawiki': {'label': 1}, 'TranEmpl': {'label': 1}, 'Ulvund': {'label': 1}, 'Monsterknight': {'label': 1}, 'Phpgeek': {'label': 9}, 'Rammstein9932': {'label': 1}, 'Wojciech Pędzich': {'label': 1}, 'Frysun': {'label': 1}, 'Gretemahler': {'label': 1}, 'Bernard4': {'label': 1}, 'Malouilover123': {'label': 1}, 'Lotje': {'label': 1}, 'Oliv9751': {'label': 0}, 'Peter Bang Bøglund': {'label': 1}, 'Brandon.macuser': {'label': 1}, 'Lijealso': {'label': 1}, 'Mickelh': {'label': 1}, 'Abrixp': {'label': 7}, 'Anders-k': {'label': 7}, 'Antonioholsted': {'label': 7}, 'Aria-Ramos': {'label': 9}, 'BeagleDude': {'label': 7}, 'Bocanegra': {'label': 7}, 'Carl.hendrix': {'label': 9}, 'Casper006': {'label': 7}, 'CentrinoDK': {'label': 7}, 'Centrino~dawiki': {'label': 7}, 'Change~dawiki': {'label': 7}, 'Christian91~dawiki': {'label': 9}, 'DannyJ': {'label': 7}, 'Denpinkepanda': {'label': 7}, 'Dinmorsfar': {'label': 7}, 'Donskis': {'label': 7}, 'EgoCentric': {'label': 7}, 'Eirik': {'label': 9}, 'EmilSecher': {'label': 9}, 'Emilio~dawiki': {'label': 9}, 'EriFr': {'label': 7}, 'Erylaos': {'label': 7}, 'Faldereb': {'label': 7}, 'Fck4ever': {'label': 7}, 'Fcmemil': {'label': 9}, 'Firat1': {'label': 7}, 'Geekboy3000': {'label': 7}, 'Gorm42': {'label': 7}, 'GreatDane23': {'label': 7}, 'Hader-bif': {'label': 7}, 'Heltborg53': {'label': 7}, 'Henjar': {'label': 7}, 'Henrik kps': {'label': 7}, 'Holmen8': {'label': 7}, 'Jacobvsh': {'label': 7}, 'Jan Kronsell': {'label': 9}, 'Jasper~dawiki': {'label': 7}, 'Jay-der': {'label': 7}, 'JonasBR': {'label': 7}, 'Joohnny peter': {'label': 7}, 'JutlandHollows': {'label': 7}, 'Kim feder': {'label': 9}, 'Klinting': {'label': 7}, 'Ksjohansen': {'label': 9}, 'Lars Helbo': {'label': 9}, 'LasseVp': {'label': 7}, 'Lgulbaek': {'label': 7}, 'Lillebror94': {'label': 7}, 'Mads-92': {'label': 7}, 'Magn0984': {'label': 7}, 'Malund': {'label': 7}, 'Marcus Cyron': {'label': 7}, 'Mathiaslundahlgren': {'label': 9}, 'Mceppe': {'label': 9}, 'Meiz': {'label': 7}, 'Mikekl20': {'label': 7}, 'Mikk930d': {'label': 7}, 'Mikkel705': {'label': 7}, 'Mikkelfriis1': {'label': 9}, 'Molich': {'label': 7}, 'Mypride~dawiki': {'label': 7}, 'Nickerreal': {'label': 7}, 'Nicq': {'label': 9}, 'NielsHindborg': {'label': 9}, 'OO-Karina-Oo': {'label': 7}, 'Oliver606': {'label': 7}, 'Oliverbif1': {'label': 7}, 'Paaske': {'label': 9}, 'Petersen1942': {'label': 7}, 'Prip~dawiki': {'label': 7}, 'Prutten': {'label': 7}, 'Pylleæg': {'label': 7}, 'RJDK': {'label': 9}, 'Ronaldo7777777': {'label': 7}, 'Royalblue': {'label': 7}, 'Saesonkort': {'label': 7}, 'Shabdoo': {'label': 7}, 'Ssk2600': {'label': 7}, 'Staffan': {'label': 7}, 'Stefanvase': {'label': 7}, 'Strong44': {'label': 7}, 'Superbif': {'label': 7}, 'Sutterkarl': {'label': 7}, 'Søren Fink': {'label': 7}, 'Tailang': {'label': 7}, 'Thomas Jeppe': {'label': 7}, 'Tuuma': {'label': 7}, 'Tux1230': {'label': 9}, 'Uffe-viborg': {'label': 7}, 'Umolich': {'label': 7}, 'VH4RDSTYLEFRE4K01': {'label': 7}, 'VHR1313': {'label': 7}, 'William1423': {'label': 7}, 'WiseguyJones': {'label': 7}, 'Yoda1893': {'label': 7}, 'A.sav': {'label': 1}, 'Augustrohlin': {'label': 1}, 'Babylone2094': {'label': 1}, 'Blanki Ostfalen': {'label': 1}, 'Doppelgænger': {'label': 1}, 'Galà': {'label': 1}, 'Preferencefri': {'label': 1}, 'Waenceslaus': {'label': 1}, '美区': {'label': 1}, 'Madseckert': {'label': 1}, 'Abramovich': {'label': 9}, 'AndreasKofoed': {'label': 9}, 'Andresse': {'label': 9}, 'Antondk21': {'label': 9}, 'Bech1205': {'label': 9}, 'Birqer': {'label': 9}, 'Biso': {'label': 9}, 'Bittermand': {'label': 9}, 'Bjorlund': {'label': 9}, 'Brumbassen': {'label': 9}, 'BuchMASTER': {'label': 9}, 'Call0064': {'label': 9}, 'Champ3n1': {'label': 9}, 'Champen~dawiki': {'label': 9}, 'Chris.stina': {'label': 9}, 'Chrisbb': {'label': 9}, 'Cometstyles': {'label': 9}, 'Conrad235': {'label': 9}, 'Crueligan': {'label': 9}, 'DJ-William': {'label': 9}, 'David-golota': {'label': 9}, 'Dinfarerher': {'label': 9}, 'Doris9210': {'label': 9}, 'Dozo69': {'label': 9}, 'Druden': {'label': 9}, 'Dunkin': {'label': 9}, 'Erobran': {'label': 9}, 'FC William': {'label': 9}, 'FQL': {'label': 9}, 'Fedejohn': {'label': 9}, 'Finasiøren': {'label': 9}, 'Frederik22': {'label': 9}, 'FrederikBlicher': {'label': 9}, 'Froggie~dawiki': {'label': 9}, 'Fuglesang': {'label': 9}, 'Fussbolfan': {'label': 9}, 'Habbo-boy': {'label': 9}, 'HaderFCK123': {'label': 9}, 'Hafnia2003': {'label': 9}, 'Hanser12': {'label': 9}, 'Isbjørnelort': {'label': 9}, 'Jaanklaas': {'label': 9}, 'Jensen2850': {'label': 9}, 'JesperSorensen': {'label': 9}, 'Jonas rinholdt': {'label': 9}, 'Jrballe': {'label': 9}, 'KING OF FOOTBALL': {'label': 9}, 'Kaare Dybvad': {'label': 9}, 'KeverHop': {'label': 9}, 'Kloster2630': {'label': 9}, 'Knowitall': {'label': 9}, 'Kril3189': {'label': 9}, 'Krugmeisteren': {'label': 9}, 'LALALA123123': {'label': 9}, 'Lars VM': {'label': 9}, 'Larsgundersen78': {'label': 9}, 'Lasse1111': {'label': 9}, 'Linderoth': {'label': 9}, 'Madzzoni': {'label': 9}, 'Maggerwiki': {'label': 9}, 'Markusbarrit': {'label': 9}, 'Masterper199': {'label': 9}, 'Math297c': {'label': 9}, 'MikkelAH': {'label': 9}, 'Mikkelfriis': {'label': 9}, 'Milo95~dawiki': {'label': 9}, 'Monder': {'label': 9}, 'MuGG3~dawiki': {'label': 9}, 'Mwonsyld': {'label': 9}, 'Noah4241': {'label': 9}, 'Oddur': {'label': 9}, 'Olivergulli': {'label': 9}, 'Orahbek': {'label': 9}, 'Pattepadde': {'label': 9}, 'Philipwu8511': {'label': 9}, 'Predze': {'label': 9}, 'Pålog': {'label': 9}, 'Qwerty13556': {'label': 9}, 'Raakilde': {'label': 9}, 'Railfan': {'label': 9}, 'Rasmusdahl': {'label': 9}, 'RedRevolution': {'label': 9}, 'RuneSQvist': {'label': 9}, 'Simonmt': {'label': 9}, 'Sofieemma': {'label': 9}, 'Stallion': {'label': 9}, 'Swagister20': {'label': 9}, 'Tabasco95': {'label': 9}, 'Tennisdk': {'label': 9}, 'The French never won a war.': {'label': 9}, 'The Head~dawiki': {'label': 9}, 'ThomasEdwards91': {'label': 9}, 'To pander': {'label': 9}, 'Tobias1409': {'label': 9}, 'Tofo23': {'label': 9}, 'Torstein': {'label': 9}, 'Twinkles19': {'label': 9}, 'Udholm': {'label': 9}, 'UnaX': {'label': 9}, 'Undeviginti': {'label': 9}, 'Uniwiki': {'label': 9}, 'Xxkrolle': {'label': 9}, 'Årstallet': {'label': 9}, 'Thejen': {'label': 1}, 'DJ PhilZz': {'label': 0}, 'TheDanishGuy': {'label': 1}, 'F.bendik': {'label': 1}, 'Sorenhj': {'label': 1}, 'Jarould': {'label': 1}, 'Schekinov Alexey Victorovich': {'label': 1}, 'Bergkvist05': {'label': 3}, 'Davi~dawiki': {'label': 3}, 'Marianne Hartling': {'label': 3}, 'Quadrupleespresso': {'label': 3}, 'RG067': {'label': 3}, 'Forstbirdo': {'label': 1}, 'AVilkki12': {'label': 1}, 'Dhansen89': {'label': 1}, 'Myliit': {'label': 1}, 'Patrickloenne': {'label': 1}, 'Polæpolæp': {'label': 1}, 'Sebatman': {'label': 1}, 'Agnete': {'label': 1}, 'DenGamleBy': {'label': 1}, 'HEriksen': {'label': 1}, 'Heied': {'label': 1}, 'Inasoren': {'label': 1}, 'Marstalsson': {'label': 1}, 'Nielsaage': {'label': 1}, 'Nik have': {'label': 1}, 'Regicollis': {'label': 1}, 'Taamu': {'label': 1}, 'Thomascs1002': {'label': 1}, 'X Marstaller! x': {'label': 1}, 'Fckgo': {'label': 1}, 'Magnus Pind Bjerre': {'label': 1}, 'Morsing~dawiki': {'label': 1}, 'Alfred h o4000': {'label': 1}, 'Gungner': {'label': 1}, 'HSV4life': {'label': 1}, 'Helenaandersen23': {'label': 1}, 'Swedishelectropop': {'label': 1}, 'Xraun': {'label': 1}, 'Alexnder w': {'label': 1}, 'Bigbug21': {'label': 1}, 'Kejo': {'label': 1}, 'Potter AB': {'label': 1}, 'Tgpedersen': {'label': 1}, 'Jesper Haagensen': {'label': 1}, 'Bwiki': {'label': 1}, 'Joen Elmbak': {'label': 1}, 'MadsWN': {'label': 1}, 'Torben Melchior': {'label': 1}, 'Victor4444': {'label': 1}, 'TBA': {'label': 1}, 'Ahmani': {'label': 1}, 'Chicky35': {'label': 1}, 'NaPi': {'label': 1}, 'Allanth': {'label': 1}, 'Hekerui': {'label': 1}, 'Jack Bornholm': {'label': 1}, 'Tequila~dawiki': {'label': 1}, 'WTM': {'label': 0}, 'Jwinther': {'label': 1}, 'Landungsbrücken': {'label': 1}, 'Stoney63': {'label': 1}, 'NightSift': {'label': 1}, 'Sreviblean': {'label': 1}, 'Anr': {'label': 1}, 'Arctic Kangaroo': {'label': 1}, 'Cl': {'label': 1}, 'Eculeus': {'label': 1}, 'Karelj': {'label': 1}, 'Kristaga': {'label': 1}, 'Loes Winders': {'label': 1}, 'LucVerhelst': {'label': 1}, 'Westermarck': {'label': 1}, '不寐听江': {'label': 1}, 'Antonski123': {'label': 1}, 'Qu0404': {'label': 1}, 'TartarTorte': {'label': 1}, 'Hanni2004': {'label': 1}, 'Henrico67': {'label': 1}, 'HerrNum': {'label': 1}, 'Latinfever': {'label': 1}, 'Madsasp': {'label': 1}, 'Madsbernhart': {'label': 1}, 'Sebastian haun': {'label': 1}, 'Victorhougaard': {'label': 1}, 'Asbjoernmo': {'label': 1}, 'Andre Engels': {'label': 1}, 'AnetteM': {'label': 1}, 'Baziic': {'label': 1}, 'Blodfighter': {'label': 1}, 'Chrilleman': {'label': 1}, 'Dolphen1993': {'label': 1}, 'Duncanaaby': {'label': 1}, 'Duncanaabybro': {'label': 1}, 'Elentirmo': {'label': 1}, 'Emilrealmadrid': {'label': 1}, 'Flugscham': {'label': 1}, 'Hans peter2065': {'label': 1}, 'Kasp281b': {'label': 1}, 'Kasperhj': {'label': 1}, 'MathiasKaae': {'label': 1}, 'Odder1~dawiki': {'label': 1}, 'Priess96': {'label': 1}, 'Sdihdskaskdia': {'label': 1}, 'Simowis': {'label': 1}, 'Thomas Kirk Larsen': {'label': 1}, 'Xxx44': {'label': 1}, 'Yankie bar': {'label': 1}, 'Åååååå': {'label': 1}, 'Hreinn Gudlaugsson': {'label': 1}, 'Yamatochem': {'label': 1}, 'AnnKatrin': {'label': 1}, 'Gecko': {'label': 1}, 'Johannnes89': {'label': 1}, 'Prc~dawiki': {'label': 1}, 'Ямато1': {'label': 1}, '六田清二': {'label': 1}, 'Daniellomholt': {'label': 1}, 'JRogMH': {'label': 1}, 'JamesP': {'label': 1}, 'Jkhugh': {'label': 1}, 'LeJC': {'label': 1}, 'Liva112': {'label': 1}, 'Mads2001': {'label': 1}, 'Mette Buhl': {'label': 1}, 'Nicklaselmark12': {'label': 1}, 'Stine discowax': {'label': 1}, 'Yezdk': {'label': 1}, 'AdrianHealey91': {'label': 1}, 'Sbyg': {'label': 1}, 'MhonDK': {'label': 1}, 'Murtjin': {'label': 1}, 'Jammer97': {'label': 1}, 'トリノ特許許可局': {'label': 1}, 'Lklundin': {'label': 1}, 'BørgeRullepølse1': {'label': 1}, 'Danmuz': {'label': 0}, 'Drahdiwaberling': {'label': 1}, 'Gevin': {'label': 1}, 'Gunnar.offel': {'label': 1}, 'Michael Sander': {'label': 1}, 'SteveK': {'label': 1}, 'Pubaine': {'label': 1}, 'STINNW': {'label': 1}, 'Chumwa': {'label': 1}, 'Oknazevad': {'label': 1}, 'Rémih': {'label': 1}, 'かなコバ': {'label': 1}, 'せいきょういく': {'label': 1}, 'Baldor~dawiki': {'label': 1}, 'Blomstogbi': {'label': 1}, 'Frihed10': {'label': 1}, 'Hush~dawiki': {'label': 1}, 'IvanScrooge98': {'label': 1}, 'Jacob Rosendal Kristensen': {'label': 1}, 'Martin H.': {'label': 1}, 'TorbenDK': {'label': 1}, 'Caspern': {'label': 1}, 'Fabstar~dawiki': {'label': 1}, 'Henrikmat': {'label': 1}, 'Joshua06': {'label': 1}, 'Mcwagner~dawiki': {'label': 1}, 'Ruhoff': {'label': 1}, 'Slinger~dawiki': {'label': 1}, 'Thogsdk': {'label': 1}, 'Thomas69699990': {'label': 1}, 'Visti nr 3': {'label': 1}, 'KaffeDrickarN': {'label': 1}, 'Maxthedog': {'label': 1}, 'Ainsha': {'label': 1}, 'Druidsaki': {'label': 1}, 'Fadesga': {'label': 1}, 'Faffi~dawiki': {'label': 1}, 'Flakesdk': {'label': 1}, 'Frankras': {'label': 1}, 'Gyldmark': {'label': 1}, 'Harry Styles 1998': {'label': 1}, 'Jakosa': {'label': 1}, 'Jens Brix Christiansen': {'label': 1}, 'Kattesarah': {'label': 1}, 'Kirkgaard': {'label': 1}, 'Mandersenhoegh': {'label': 1}, 'MartinBerg': {'label': 1}, 'Niggolaj': {'label': 1}, 'Pmod': {'label': 1}, 'Surferman': {'label': 1}, 'Tiyoringo': {'label': 1}, 'Elgaard': {'label': 1}, 'Frederik Sunne': {'label': 1}, 'Emvi11': {'label': 1}, 'Miropiro': {'label': 1}, 'Victor Trevor': {'label': 1}, 'ZeiP': {'label': 1}, 'Poeterouge': {'label': 1}, 'Cabboss': {'label': 1}, 'Albert Holland': {'label': 1}, 'Luntertun~dawiki': {'label': 1}, 'Undrande': {'label': 1}, 'LH5801': {'label': 1}, 'Peternielsen2': {'label': 1}, 'Toke elmoe': {'label': 1}, 'WikiWikiWuhuu': {'label': 1}, 'Gökhan': {'label': 1}, 'Metsken': {'label': 1}, 'Søberg': {'label': 1}, 'Whiteberg': {'label': 1}, '1Kwords': {'label': 1}, 'ABCDEAN': {'label': 1}, 'Alex746c': {'label': 1}, 'Antemister': {'label': 1}, 'Arman90p': {'label': 1}, 'Bibliotekaren': {'label': 1}, 'BigPen15': {'label': 1}, 'Blanu': {'label': 1}, 'Bozorgjam1s': {'label': 1}, 'Bruunr': {'label': 1}, 'Davidbjo': {'label': 1}, 'DorisAntony': {'label': 1}, 'Dsca': {'label': 1}, 'Emma 520afg': {'label': 1}, 'Hasan.2526272829': {'label': 1}, 'Hatef1': {'label': 1}, 'Humant7': {'label': 1}, 'Irani1at': {'label': 1}, 'Kathrinaswag': {'label': 1}, 'Keallu~dawiki': {'label': 1}, 'Malla~dawiki': {'label': 1}, 'MohammadBeck': {'label': 1}, 'Murtaza': {'label': 1}, 'MustafaMahdawi': {'label': 1}, 'Niels Orbesen': {'label': 1}, 'Nordjyden1999': {'label': 1}, 'Playboy of afghanistan': {'label': 1}, 'Ragoris': {'label': 1}, 'Rike300': {'label': 1}, 'SejHing': {'label': 1}, 'Sher~dawiki': {'label': 1}, 'Silasdillermand': {'label': 1}, 'Spimch': {'label': 1}, 'Wida~dawiki': {'label': 1}, 'XoLo921': {'label': 1}, 'Saricha': {'label': 1}, 'Flame1333': {'label': 1}, 'Bo Vesth': {'label': 1}, 'Julie West Dik': {'label': 1}, 'Kon-fut-se': {'label': 1}, 'Mark.odense': {'label': 1}, 'Jonnmann': {'label': 1}, 'Kallenberg1': {'label': 1}, 'Borg punk': {'label': 1}, 'Dysp': {'label': 1}, 'Joakim~dawiki': {'label': 1}, 'Magamma': {'label': 1}, 'Nyverden': {'label': 1}, 'Ttk': {'label': 1}, 'AkselStadelBorum': {'label': 1}, 'Davidbk64': {'label': 1}, 'Ddddddd~dawiki': {'label': 1}, 'Frederiklan': {'label': 1}, 'Hauge24': {'label': 1}, 'Irasokh': {'label': 1}, 'Juve holigan': {'label': 1}, 'Kalabio': {'label': 1}, 'KasJ': {'label': 1}, 'Scip.': {'label': 1}, 'WTer': {'label': 1}, 'Z4700z': {'label': 1}, 'Zepas': {'label': 1}, 'AlexTref871': {'label': 1}, 'XXN': {'label': 1}, 'Jenesaisquoi': {'label': 1}, 'Lilleskou': {'label': 1}, 'Marcvjnicolas': {'label': 1}, 'Nielspeterqm': {'label': 1}, 'Xhienne': {'label': 1}, 'Sebleouf': {'label': 1}, 'FrankHas': {'label': 1}, 'Camilla Buch': {'label': 1}, 'Mike1034': {'label': 1}, 'Morriis': {'label': 1}, 'MortyDK': {'label': 1}, 'Paracel63': {'label': 1}, '呆け悶拷': {'label': 1}, 'Rettepennen': {'label': 1}, 'Nordmensch': {'label': 1}, 'Purdmuh': {'label': 1}, 'DragonflySixtyseven': {'label': 1}, 'Ujkiol': {'label': 1}, 'Forzaroma': {'label': 1}, 'NHG~dawiki': {'label': 1}, 'Bpaarmann': {'label': 1}, 'Emilblicher': {'label': 1}, 'Euty': {'label': 1}, 'GilliamJF': {'label': 1}, 'Hanseku': {'label': 1}, 'Jacob agervig': {'label': 1}, 'Mewa767': {'label': 1}, 'Mugibsaihtam': {'label': 1}, 'Pikogpatter1': {'label': 1}, 'Thankyousir~dawiki': {'label': 1}, 'Vebosa6020': {'label': 1}, 'Herstad': {'label': 1}, 'Hnansen': {'label': 1}, 'Wildfluorescent': {'label': 1}, 'Silfver': {'label': 1}, 'Flügel-Flitzer': {'label': 1}, 'Olympicbandy': {'label': 1}, 'AnneLine25': {'label': 1}, 'Holderøje': {'label': 1}, 'Uch~dawiki': {'label': 1}, 'Viasacro': {'label': 1}, 'Bzorro': {'label': 1}, 'Epistaxis': {'label': 1}, 'Mbernes': {'label': 1}, 'Alex030n': {'label': 1}, 'Allmhurach': {'label': 1}, 'Augu1200': {'label': 1}, 'Ayams': {'label': 1}, 'Csv': {'label': 1}, 'Gamblr': {'label': 1}, 'Hotnot': {'label': 1}, 'JoneX': {'label': 1}, 'Knud Henrik Sørensen': {'label': 1}, 'Liselotz': {'label': 1}, 'Lpoulsen': {'label': 1}, 'Mw~dawiki': {'label': 1}, 'Nalle&Lisa': {'label': 1}, 'Neververy60': {'label': 1}, 'Pkj61': {'label': 1}, 'Shaya~dawiki': {'label': 1}, 'Thuecl': {'label': 1}, 'Troels V. Christensen': {'label': 1}, 'WIKIng': {'label': 1}, 'Esil': {'label': 1}, 'Jaincu': {'label': 1}, 'Krølben': {'label': 1}, 'LHolm': {'label': 1}, 'Olly1': {'label': 1}, 'Wkn': {'label': 1}, 'Leiferdrengen': {'label': 1}, 'Makn75': {'label': 1}, 'Kridp': {'label': 1}, 'Avala': {'label': 1}, 'Scanwidan': {'label': 1}, 'Mstar79': {'label': 1}, 'Wodehouse': {'label': 1}, 'EdBever': {'label': 1}, 'Fma12': {'label': 1}, 'Kaiser matias': {'label': 1}, 'Amalierosa02': {'label': 1}, 'AstroOgier': {'label': 1}, 'Benjamin220401': {'label': 1}, 'Bent2517': {'label': 1}, 'CactiStaccingCrane': {'label': 1}, 'Cocu': {'label': 1}, 'Dnorhoj': {'label': 1}, 'FSV': {'label': 1}, 'Fatma2021k': {'label': 1}, 'FrederikPeter': {'label': 1}, 'Haukur': {'label': 1}, 'Hemmit': {'label': 1}, 'JCS~dawiki': {'label': 1}, 'Jonatan.skytte': {'label': 1}, 'Kasperbalshaj': {'label': 1}, 'KatrineBekker-Hansen': {'label': 1}, 'MHS~dawiki': {'label': 1}, 'Nikolajellegaard123': {'label': 1}, 'Patjanka': {'label': 1}, 'Robin Hood~dawiki': {'label': 1}, 'Seewolf': {'label': 1}, 'Walshwngro Sinto': {'label': 1}, '1Veertje': {'label': 1}, 'Geraldshields11': {'label': 1}, 'Cyclonebill': {'label': 1}, 'Ephraim33': {'label': 1}, 'NuclearWarhead': {'label': 1}, 'Petro': {'label': 1}, 'PaulVIF': {'label': 1}, 'Lettonica': {'label': 1}, 'Olfino': {'label': 1}, 'Alanovic': {'label': 1}, 'Anas1712': {'label': 1}, 'Axelon123': {'label': 1}, 'Ditte Schulz': {'label': 1}, 'Frits063': {'label': 1}, 'Fumarana': {'label': 1}, 'KattyOn': {'label': 1}, 'Mojo~dawiki': {'label': 1}, 'Neuman88': {'label': 1}, 'RoboForm': {'label': 1}, 'Sesamlukop': {'label': 1}, 'Vandkande': {'label': 1}, 'Vibeke Printzlau': {'label': 1}, 'Zohanogluja': {'label': 1}, '1wikiiuser1': {'label': 1}, 'Andyrays': {'label': 1}, 'Dbensous': {'label': 1}, 'Powerpia': {'label': 1}, 'Andreasdirksen': {'label': 1}, 'Mor Forglemmigej': {'label': 1}, 'Lavanyavermeir': {'label': 1}, 'FCMads': {'label': 1}, 'Jackie': {'label': 1}, 'Jimmydlb': {'label': 1}, 'Kbbajer': {'label': 1}, 'Mikkelmarius': {'label': 1}, 'Mirko~dawiki': {'label': 1}, 'Mr-question': {'label': 1}, 'Noodles~dawiki': {'label': 1}, 'Paul-obiefule': {'label': 1}, 'Per C Jakobsen': {'label': 1}, 'Pikhat': {'label': 1}, 'Politikeren': {'label': 1}, 'Qweqwe~dawiki': {'label': 1}, 'Siggimund': {'label': 1}, 'Tuelund~dawiki': {'label': 1}, 'Vb-michael': {'label': 1}, 'ArthurMcGill': {'label': 1}, 'Halsingen': {'label': 1}, 'Klaas': {'label': 1}, 'Maalbida': {'label': 1}, 'Snio': {'label': 1}, 'Frodep~dawiki': {'label': 1}, 'Følelse': {'label': 1}, 'HYGGE': {'label': 1}, 'Hounsvad': {'label': 1}, 'Jacsel': {'label': 1}, 'LucasSimper': {'label': 1}, 'Mat91qor': {'label': 1}, 'Matty937': {'label': 1}, 'MortenZdk': {'label': 1}, 'Perlonn': {'label': 1}, 'Sune2510': {'label': 1}, 'Victoria~dawiki': {'label': 1}, 'Stilk': {'label': 1}, 'Rklawton': {'label': 1}, 'Thierry Caro': {'label': 1}, 'Alhm': {'label': 1}, 'Dnh': {'label': 1}, 'Eriktina': {'label': 1}, 'Ertu~dawiki': {'label': 1}, 'IsoNick': {'label': 1}, 'Jesper Mortensen': {'label': 1}, 'Kjarbak': {'label': 1}, 'Kresspahl': {'label': 1}, 'Kristjan Wager': {'label': 1}, 'Madsgormlarsen': {'label': 1}, 'Mantabi': {'label': 1}, 'Marchen.gjertsen': {'label': 1}, 'MartinA12221': {'label': 1}, 'Mimo~dawiki': {'label': 1}, 'Mlarris': {'label': 1}, 'Papiraffald': {'label': 1}, 'Patrickkpetersen': {'label': 1}, 'Ras~dawiki': {'label': 1}, 'Tfsoft': {'label': 1}, 'Tonnes': {'label': 1}, 'Jac100': {'label': 1}, 'BenficaNNossaPaixao': {'label': 1}, 'BiggerThanPortugal': {'label': 1}, 'HCa': {'label': 1}, 'Serta6100': {'label': 1}, 'Theabang': {'label': 1}, 'BBB27044': {'label': 1}, 'Milenioscuro': {'label': 1}, 'Pohowiki': {'label': 1}, 'Vejen': {'label': 1}, 'Nødden~dawiki': {'label': 1}, 'Roede': {'label': 1}, 'Sasper': {'label': 1}, 'Atcovi': {'label': 1}, 'DanielZain': {'label': 1}, 'Hitz18': {'label': 1}, 'Ikir60': {'label': 1}, 'Martin-tirup': {'label': 1}, 'Popenda': {'label': 1}, 'Reinhard Kraasch': {'label': 1}, 'RuderKnægt': {'label': 1}, 'Tounsimentounes': {'label': 1}, 'UZI': {'label': 1}, 'Wikialf10': {'label': 1}, 'Zilvador': {'label': 1}, 'Ziryab~dawiki': {'label': 1}, 'S.A. Julio': {'label': 1}, 'Jan Janssen': {'label': 1}, 'Ramblersen': {'label': 1}, 'AQ-R33kz': {'label': 1}, 'Alex Cohn': {'label': 1}, 'Victor skalvig': {'label': 1}, 'Carpe diem82': {'label': 1}, 'DanskPåDansk': {'label': 1}, 'Jmorrison230582': {'label': 1}, 'Akinnaw': {'label': 0}, 'Alix1367': {'label': 0}, 'Amaterasu725': {'label': 0}, 'Bruno Meireles': {'label': 0}, 'Camillatraberg': {'label': 0}, 'Celiajbt': {'label': 0}, 'Davidvalbakjensen': {'label': 0}, 'Dega-l': {'label': 0}, 'Dictedegnkristiansen': {'label': 0}, 'Dinfar54': {'label': 0}, 'Duccen': {'label': 0}, 'Emil436w': {'label': 0}, 'Eron1234': {'label': 0}, 'Esbendyr': {'label': 0}, 'Flyingphilip123': {'label': 0}, 'Frederik97': {'label': 0}, 'FrizzG': {'label': 0}, 'Hej jeg hedder fann0289': {'label': 0}, 'Hejsa justin biber': {'label': 0}, 'John blue': {'label': 0}, 'Kasp127a': {'label': 0}, 'Knægt': {'label': 0}, 'Korrektricen': {'label': 0}, 'Kraesenpind': {'label': 0}, 'Looplulu2': {'label': 0}, 'MUFCTTDID': {'label': 0}, 'Martin.Lind': {'label': 0}, 'Mathildejegvedalt': {'label': 0}, 'Mikkel249n': {'label': 0}, 'Nata7371': {'label': 0}, 'Nicolaidr': {'label': 0}, 'Nikolaj1099': {'label': 0}, 'Nokia621': {'label': 0}, 'Pajooo': {'label': 0}, 'Placesnake~dawiki': {'label': 0}, 'Rasmusweidinger': {'label': 0}, 'Saha0214': {'label': 0}, 'Sarah&Justin': {'label': 0}, 'Sofiebieberw': {'label': 0}, 'TIMSKAP': {'label': 0}, 'Thea1997': {'label': 0}, 'Theaguld': {'label': 0}, 'Treddy': {'label': 0}, 'TypicalDane050505': {'label': 0}, 'Uebeltank': {'label': 0}, 'User2352352': {'label': 0}, 'Vdanielnc': {'label': 0}, 'Villadsqawsed': {'label': 0}, 'Wolfertwo': {'label': 0}, 'YouTube kanalen': {'label': 0}, 'Zombiefish500': {'label': 0}, 'Polter88': {'label': 2}, 'Sandro Halank': {'label': 2}, 'MetteKarlsen': {'label': 1}, 'OnlyRock': {'label': 1}, 'Trijnstel': {'label': 1}, 'MulleMilos': {'label': 1}})"
     },
     "execution_count": 237,
     "metadata": {},
     "output_type": "execute_result"
    }
   ],
   "source": [
    "G.nodes(data=True)"
   ],
   "metadata": {
    "collapsed": false,
    "ExecuteTime": {
     "end_time": "2024-03-15T15:01:29.698570900Z",
     "start_time": "2024-03-15T15:01:29.665794500Z"
    }
   },
   "id": "ada5c15b0abeedc1",
   "execution_count": 237
  },
  {
   "cell_type": "code",
   "outputs": [
    {
     "data": {
      "text/plain": "88"
     },
     "execution_count": 242,
     "metadata": {},
     "output_type": "execute_result"
    }
   ],
   "source": [
    "node1 = list(G.nodes)[0]\n",
    "node2 = list(G.nodes)[3]\n",
    "nx.get_edge_attributes(G, 'n_pages')[(node1,node2)]"
   ],
   "metadata": {
    "collapsed": false,
    "ExecuteTime": {
     "end_time": "2024-03-15T15:03:02.741469200Z",
     "start_time": "2024-03-15T15:03:02.621079800Z"
    }
   },
   "id": "6403fa69da436433",
   "execution_count": 242
  },
  {
   "cell_type": "code",
   "outputs": [
    {
     "data": {
      "text/plain": "426"
     },
     "execution_count": 238,
     "metadata": {},
     "output_type": "execute_result"
    }
   ],
   "source": [
    "len(page_contribs)"
   ],
   "metadata": {
    "collapsed": false,
    "ExecuteTime": {
     "end_time": "2024-03-15T15:02:08.898240400Z",
     "start_time": "2024-03-15T15:02:08.858323700Z"
    }
   },
   "id": "4730cfaed3e68080",
   "execution_count": 238
  },
  {
   "cell_type": "markdown",
   "source": [
    "### Testing text similarities within and between clusters"
   ],
   "metadata": {
    "collapsed": false
   },
   "id": "7a6bd0561b277f66"
  },
  {
   "cell_type": "code",
   "outputs": [],
   "source": [
    "#user_articles_dict = {user: set(articles) for user, articles \n",
    "#                      in list(zip(users,user_articles))}\n",
    "site = pywikibot.Site('da', 'wikipedia')\n",
    "pages = pagegenerators.PagesFromTitlesGenerator(page_contribs.keys(), site)\n",
    "def get_page_plain_text(page_title):\n",
    "    site = pywikibot.Site('da', 'wikipedia')\n",
    "    page = pywikibot.Page(site, page_title)\n",
    "    return page.extract()\n",
    "    \n",
    "page_title = list(page_contribs.keys())[0]\n",
    "wikicode = get_page_plain_text(page_title)"
   ],
   "metadata": {
    "collapsed": false,
    "ExecuteTime": {
     "end_time": "2024-03-15T13:34:27.462165600Z",
     "start_time": "2024-03-15T13:34:27.060657Z"
    }
   },
   "id": "4974dcf36b76617c",
   "execution_count": 153
  },
  {
   "cell_type": "code",
   "outputs": [
    {
     "data": {
      "text/plain": "['Olaf Eller',\n ' (født 13. juni 1960), er en dansk ',\n 'ishockey',\n 'træner, ekspertkommentator og forhenværende spiller på det danske ',\n 'Danmarks ishockeylandshold',\n 'ishockeylandshold',\n '.\\n\\n',\n ' Aktiv karriere ',\n '\\nSom aktiv repræsenterede han i mange år ',\n 'Rødovre Skøjte & Ishockey Klub',\n 'Rødovre',\n ' 1976-90,  inden den aktive karriere blev rundet af med tre sæsoner , som spillende træner  i ',\n 'Rungsted Cobras',\n 'Rungsted',\n '. Det var således  i Rungsted, at Ellers trænerkarriere blev indledt, da han i sæsonen 1990-91 var kombineret spiller og træner i den nordsjællandske klub. I denne rolle fortsatte han til 1993\\n\\nSom spiller har Eller vundet det danske mesterskab 5 gange, alle med Rødovre, i 1978, 1983, 1985, 1986 og 1990. Eller har desuden repræsenteret Danmark ved 104 landskampe.\\n\\n',\n ' Træner ',\n '\\nEfter at have indledt trænerkarrieren mens han stadig var aktiv i Rungsted har Eller i årene derefter trænet mange klubber i den danske ',\n 'Superisligaen',\n 'Superisliga',\n ':\\n\\n',\n ' ',\n 'Rungsted Cobras',\n 'Rungsted',\n ' (1990-95)\\n',\n ' ',\n 'Hvidovre',\n ' (1995-1998) (2009)\\n',\n ' ',\n 'Rødovre Mighty Bulls',\n ' (1998-2002)\\n',\n ' ',\n 'Frederikshavn White Hawks',\n 'Frederikshavn',\n ' (2003-05, 2006-08)\\n',\n ' ',\n 'Herlev Hornets',\n 'Herlev',\n ' (2005-06)\\n',\n ' ',\n 'EfB Ishockey',\n ' (2011-2013)\\n\\nDerudover har Eller som den hidtil eneste dansker trænet en klub i den næstbedste svenske række Allsvenskan, da han i sæsonen 2002-03 var træner for Troja/Ljungby. Oveni dette har han fungeret som landstræner for det danske juniorlandshold i 2009 og 2010. En rolle han nu atter fra juni 2013 har overtaget\\n\\nOlaf Eller har som træner vundet det danske mesterskab én gang da han i 1999 stod bag bænken da Rødovre blev danske mestre, samme klub som han blev danske mestre med fem gange som aktiv.\\n\\nEller har også været islandsk landstræner i perioden oktober 2010 til maj 2012, ',\n 'Islands ishockeylandshold',\n '.',\n 'ref',\n 'Cite web ',\n 'url',\n 'http://tv2sport.dk/node/65777',\n ' ',\n 'title',\n 'Olaf Eller bliver islandsk landstræner ',\n '!',\n ' TV 2 SPORT ',\n 'access-date',\n '22. oktober 2010 ',\n 'archive-date',\n '25. oktober 2010 ',\n 'archive-url',\n 'https://web.archive.org/web/20101025033251/http://tv2sport.dk/node/65777',\n ' ',\n 'url-status',\n 'dead ',\n 'ref',\n '\\n\\n',\n ' TV ',\n '\\nVed siden af sin trænergerning har Olaf Eller igennem flere år fungeret som ekspertkommentator ved ',\n 'VM i ishockey',\n ' samt ved ',\n 'Superisligaen',\n 'Superisligakampe',\n ' for ',\n 'TV 2 Sport',\n ' ved siden af ',\n 'Jimmy Bøjgaard',\n '.\\n\\n',\n ' Personligt ',\n '\\nOlaf Ellers søn, ',\n 'Lars Eller',\n 'Lars',\n ', er ligeledes ishockeyspiller og spiller i ',\n 'National Hockey League',\n 'NHL',\n ' for Pittsburgh Penguins\\nDerudover arbejder han til dagligt på  Dragør Skole Nord (tidl Nordstrandskolen) som lærer. ',\n 'kilde mangler',\n 'dato',\n 'Uge 19, 2011',\n '\\n\\n',\n ' Eksterne henvisninger ',\n '\\n',\n 'http://eliteprospects.com/player.php?player=10603',\n 'Spiller- og trænerstatistik fra www.eliteprospects.com',\n '\\n',\n 'reflist',\n '\\n\\n',\n 'FD',\n '1960',\n 'Levende',\n 'Eller, Olaf',\n '\\n\\n',\n 'Kategori:Ishockeyspillere fra Danmark',\n '\\n',\n 'Kategori:Superisliga-spillere fra Nordsjælland Cobras',\n '\\n',\n 'Kategori:Superisliga-spillere fra Rødovre Mighty Bulls',\n '\\n',\n 'Kategori:Personer fra Rødovre',\n '\\n',\n 'Kategori:Ishockeytrænere fra Danmark']"
     },
     "execution_count": 137,
     "metadata": {},
     "output_type": "execute_result"
    }
   ],
   "source": [
    "wikicode.filter_text()"
   ],
   "metadata": {
    "collapsed": false,
    "ExecuteTime": {
     "end_time": "2024-03-15T13:22:30.646651Z",
     "start_time": "2024-03-15T13:22:30.634209800Z"
    }
   },
   "id": "2719dfbfd3f221d7",
   "execution_count": 137
  },
  {
   "cell_type": "code",
   "outputs": [
    {
     "data": {
      "text/plain": "'Saudi-Arabien (arabisk: السعودية as-Saʿūdīyah), officielt Kongeriget Saudi-Arabien (arabisk: المملكة العربية السعودية Al-Mamlakah al-Arabiyah as-Sa\\'ūdiyah), er et land i Mellemøsten og det største land på den Arabiske Halvø.\\nLandet grænser mod Jordan i nordvest, Irak i nord, Kuwait i nordøst, Qatar, Bahrain og De Forenede Arabiske Emirater i øst, Oman i sydøst og Yemen i syd. Landet ligger ud til den Persiske Bugt i nordøst og det Røde Hav mod vest og er det eneste land, der har kyster mod begge disse have. Saudi-Arabien har anslået 30,8 millioner indbyggere og et areal på cirka 2.150.000 km².\\nKongeriget Saudi-Arabien bliver nogle gange kaldt \"De to hellige moskeers land\" med tanke på Mekka og Medina, som er muslimernes to helligste byer. Saudi-Arabien blev grundlagt af Abdul Aziz bin Saud, hvis offensiv i 1902 generobrede Al-Saud-familiens forfædres hjemby Riyadh og kulminerede i 1932 med udråbelsen og anerkendelsen af Kongeriget Saudi-Arabien.\\nSaudi-Arabien er det land i verden, som eksporterer mest olie, og denne eksport udgør basis i den saudiarabiske økonomi. Olie står for over 90 % af landets eksportindtægter og næsten 75 % af de statslige indtægter. Dette danner grundlaget for den markante stigning i levestandarden, som er indtruffet i løbet af det seneste halve århundrede.\\nLandet er både juridisk, politisk og kulturelt præget af islam i den strenge sunnimuslimske udgave, der går under betegnelsen wahhabisme. Menneskerettighedsorganisationer som Amnesty International og Human Rights Watch har gentagne gange udtrykt bekymringer angående menneskerettigheder i Saudi-Arabien herunder kvinders rettigheder; bekymringer som er afvist af den saudiarabiske regering.'"
     },
     "execution_count": 154,
     "metadata": {},
     "output_type": "execute_result"
    }
   ],
   "source": [
    "get_page_plain_text('Saudi-Arabien')"
   ],
   "metadata": {
    "collapsed": false,
    "ExecuteTime": {
     "end_time": "2024-03-15T13:34:29.539896Z",
     "start_time": "2024-03-15T13:34:29.187467800Z"
    }
   },
   "id": "a4f4115deb8cc7d4",
   "execution_count": 154
  },
  {
   "cell_type": "code",
   "outputs": [
    {
     "data": {
      "text/plain": "['saudiarabien',\n 'arabisk',\n 'assadyah',\n 'officielt',\n 'kongeriget',\n 'saudiarabien',\n 'arabisk',\n 'almamlakah',\n 'alarabiyah',\n 'assadiyah',\n 'land',\n 'mellemøsten',\n 'største',\n 'land',\n 'arabiske',\n 'halvø',\n 'landet',\n 'grænser',\n 'jordan',\n 'nordvest',\n 'irak',\n 'nord',\n 'kuwait',\n 'nordøst',\n 'qatar',\n 'bahrain',\n 'forenede',\n 'arabiske',\n 'emirater',\n 'øst',\n 'oman',\n 'sydøst',\n 'yemen',\n 'syd',\n 'landet',\n 'ligger',\n 'persiske',\n 'bugt',\n 'nordøst',\n 'røde',\n 'hav',\n 'vest',\n 'eneste',\n 'land',\n 'kyster',\n 'begge',\n 'saudiarabien',\n 'anslået',\n 'millioner',\n 'indbyggere',\n 'areal',\n 'cirka',\n 'km',\n 'kongeriget',\n 'saudiarabien',\n 'gange',\n 'kaldt',\n 'to',\n 'hellige',\n 'moskeers',\n 'land',\n 'tanke',\n 'mekka',\n 'medina',\n 'muslimernes',\n 'to',\n 'helligste',\n 'byer',\n 'saudiarabien',\n 'grundlagt',\n 'abdul',\n 'aziz',\n 'bin',\n 'saud',\n 'offensiv',\n 'generobrede',\n 'alsaudfamiliens',\n 'forfædres',\n 'hjemby',\n 'riyadh',\n 'kulminerede',\n 'udråbelsen',\n 'anerkendelsen',\n 'kongeriget',\n 'saudiarabien',\n 'saudiarabien',\n 'land',\n 'verden',\n 'eksporterer',\n 'mest',\n 'olie',\n 'eksport',\n 'udgør',\n 'basis',\n 'saudiarabiske',\n 'økonomi',\n 'olie',\n 'står',\n 'landets',\n 'eksportindtægter',\n 'næsten',\n 'statslige',\n 'indtægter',\n 'danner',\n 'grundlaget',\n 'markante',\n 'stigning',\n 'levestandarden',\n 'indtruffet',\n 'løbet',\n 'seneste',\n 'halve',\n 'århundrede',\n 'landet',\n 'både',\n 'juridisk',\n 'politisk',\n 'kulturelt',\n 'præget',\n 'islam',\n 'strenge',\n 'sunnimuslimske',\n 'udgave',\n 'går',\n 'betegnelsen',\n 'wahhabisme',\n 'menneskerettighedsorganisationer',\n 'amnesty',\n 'international',\n 'human',\n 'rights',\n 'watch',\n 'gentagne',\n 'gange',\n 'udtrykt',\n 'bekymringer',\n 'angående',\n 'menneskerettigheder',\n 'saudiarabien',\n 'herunder',\n 'kvinders',\n 'rettigheder',\n 'bekymringer',\n 'afvist',\n 'saudiarabiske',\n 'regering']"
     },
     "execution_count": 162,
     "metadata": {},
     "output_type": "execute_result"
    }
   ],
   "source": [
    "stop_words = set(stopwords.words('danish'))\n",
    "\n",
    "def isabc(string):\n",
    "    return string.lower() in 'abcdefghijklmnopqrstuvwxyzøæå'\n",
    "\n",
    "def tokenize_only_abc(text, exclude_stop=True, collocs=[]):\n",
    "    text = text.lower()\n",
    "    text = text.replace('\\n', ' ')\n",
    "    text = ''.join([char for char in text if (isabc(char) or char == ' ')])\n",
    "    tokenizer = MWETokenizer(collocs)\n",
    "    tokens = tokenizer.tokenize(text.split())\n",
    "    if exclude_stop:\n",
    "        return [token for token in tokens if not token in stop_words]\n",
    "    return tokens\n",
    "\n",
    "text = get_page_plain_text('Saudi-Arabien')\n",
    "tokenize_only_abc(text)"
   ],
   "metadata": {
    "collapsed": false,
    "ExecuteTime": {
     "end_time": "2024-03-15T13:48:36.629869Z",
     "start_time": "2024-03-15T13:48:36.121573400Z"
    }
   },
   "id": "ec78ba8d6442953e",
   "execution_count": 162
  },
  {
   "cell_type": "code",
   "outputs": [
    {
     "name": "stdout",
     "output_type": "stream",
     "text": [
      "['Olaf Eller', 'Potentiel energi', 'Josephine Park']\n",
      "[[1.         0.         0.09877296]\n",
      " [0.         1.         0.01495873]\n",
      " [0.09877296 0.01495873 1.        ]]\n"
     ]
    }
   ],
   "source": [
    "def pairwise_cosine(texts):\n",
    "    vectorizer = CountVectorizer()\n",
    "    bow_matrix = vectorizer.fit_transform(texts)\n",
    "    return cosine_similarity(bow_matrix)\n",
    "# Example list of texts\n",
    "page_titles = list(page_contribs.keys())[:3]\n",
    "page_texts = [get_page_plain_text(page_title) for page_title in page_titles]\n",
    "texts = [' '.join(tokenize_only_abc(text)) for text in page_texts]\n",
    "print(page_titles)\n",
    "print(pairwise_cosine(texts))"
   ],
   "metadata": {
    "collapsed": false,
    "ExecuteTime": {
     "end_time": "2024-03-15T14:37:34.417564Z",
     "start_time": "2024-03-15T14:37:32.626749400Z"
    }
   },
   "id": "2358ba0fcb5f3b65",
   "execution_count": 208
  },
  {
   "cell_type": "code",
   "outputs": [
    {
     "name": "stderr",
     "output_type": "stream",
     "text": [
      "100%|██████████| 20/20 [00:00<00:00, 59.90it/s]\n"
     ]
    },
    {
     "name": "stdout",
     "output_type": "stream",
     "text": [
      "calculating\n"
     ]
    },
    {
     "data": {
      "text/plain": "0.2707151766684177"
     },
     "execution_count": 217,
     "metadata": {},
     "output_type": "execute_result"
    }
   ],
   "source": [
    "page_titles = list(page_contribs.keys())\n",
    "\n",
    "def tokenized_text_from_page_title(page_title):\n",
    "    page_text = get_page_plain_text(page_title)\n",
    "    tokenized_text = ' '.join(tokenize_only_abc(page_text))\n",
    "    return tokenized_text\n",
    "\n",
    "def mean_cosine_distance(page_titles):\n",
    "    n_pages = len(page_titles)\n",
    "    tokenized_texts = Parallel(n_jobs=-2)(delayed(tokenized_text_from_page_title)(page_title) for page_title in tqdm(page_titles))\n",
    "    cosine_distances = pairwise_cosine(tokenized_texts)\n",
    "    mean_cosine = (np.sum(cosine_distances) - n_pages) / (2 * n_pages)\n",
    "    return mean_cosine\n",
    "mean_cosine_distance(page_titles)"
   ],
   "metadata": {
    "collapsed": false,
    "ExecuteTime": {
     "end_time": "2024-03-15T14:57:32.784981600Z",
     "start_time": "2024-03-15T14:57:31.520575600Z"
    }
   },
   "id": "4188a47ae7308a35",
   "execution_count": 217
  },
  {
   "cell_type": "code",
   "outputs": [
    {
     "data": {
      "text/plain": "0.037333333333333336"
     },
     "execution_count": 211,
     "metadata": {},
     "output_type": "execute_result"
    }
   ],
   "source": [],
   "metadata": {
    "collapsed": false,
    "ExecuteTime": {
     "end_time": "2024-03-15T14:52:20.557794300Z",
     "start_time": "2024-03-15T14:52:20.530236200Z"
    }
   },
   "id": "eecff1639a1620be",
   "execution_count": 211
  },
  {
   "cell_type": "markdown",
   "source": [
    "### Finding out what the clusters mean by keywords"
   ],
   "metadata": {
    "collapsed": false
   },
   "id": "aa1f3350314712cc"
  }
 ],
 "metadata": {
  "kernelspec": {
   "display_name": "Python 3",
   "language": "python",
   "name": "python3"
  },
  "language_info": {
   "codemirror_mode": {
    "name": "ipython",
    "version": 2
   },
   "file_extension": ".py",
   "mimetype": "text/x-python",
   "name": "python",
   "nbconvert_exporter": "python",
   "pygments_lexer": "ipython2",
   "version": "2.7.6"
  }
 },
 "nbformat": 4,
 "nbformat_minor": 5
}
