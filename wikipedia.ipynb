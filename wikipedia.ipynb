{
 "cells": [
  {
   "cell_type": "markdown",
   "source": [
    "Ide: tag dansk-sproget wikipedia, find alle brugere og lav netværk over brugere, der har redigeret de samme artikler. Derefter, få lix-tal eller lignende fra alle artikler, og se om der er sammenhæng... Eller groupér efter konnektivitet, og se på sammenhængen i grupperne baseret på keywords i artiklerne, eller fordelingen af kategorier.\n",
    "\n",
    "X Filter navne med bot eller ip-adresser.\n",
    "X Få data\n",
    "X Konstruer graf\n",
    "X Cluster\n",
    "O Test clusters for modularity mod random graphs\n",
    "O Test text similarity mellem og indenfor clusters\n",
    "O Find kategorier for clusters"
   ],
   "metadata": {
    "collapsed": false
   },
   "id": "4e93c78f45b5dd7a"
  },
  {
   "cell_type": "markdown",
   "source": [
    "# Analyzing the Network of Bots on the Danish Wikipedia\n",
    "\n",
    "## 1. Motivation\n",
    "\n",
    "For many years now Wikipedia has been one of the most important sources of information on the internet, with millions of articles in all the world's major languages. Relying solely on the collaboration of strangers, Wikipedia has gone from being a radical experiment in free information to a trustworthy source of knowledge. As the project has grown over the years, automation has been vital in keeping articles up to date, making otherwise tedious edits, and empowering contributors to make the most use of what they have to contribute. In this project we take a look at the bots that maintain and expand the Danish Wikipedia, how they work together, and see how network analysis and textual analysis can shed light on their contributions to the wiki."
   ],
   "metadata": {
    "collapsed": false
   },
   "id": "e2f635715bfbf180"
  },
  {
   "cell_type": "code",
   "outputs": [],
   "source": [
    "import copy\n",
    "import pandas as pd\n",
    "from itertools import chain\n",
    "from nltk import word_tokenize\n",
    "from itertools import combinations\n",
    "from collections import defaultdict\n",
    "import matplotlib.pyplot as plt\n",
    "import numpy as np\n",
    "import pywikibot\n",
    "import networkx as nx\n",
    "from tqdm import tqdm\n",
    "import nltk\n",
    "from nltk.corpus import stopwords\n",
    "from nltk import word_tokenize\n",
    "from netwulf import visualize\n",
    "import community as community_louvain\n",
    "import os"
   ],
   "metadata": {
    "collapsed": false,
    "ExecuteTime": {
     "end_time": "2024-04-24T13:17:49.454012800Z",
     "start_time": "2024-04-24T13:17:49.421527400Z"
    }
   },
   "id": "6b63d2710d72adb8",
   "execution_count": 107
  },
  {
   "cell_type": "code",
   "outputs": [
    {
     "name": "stderr",
     "output_type": "stream",
     "text": [
      "[nltk_data] Downloading package stopwords to\n",
      "[nltk_data]     C:\\Users\\nikol\\AppData\\Roaming\\nltk_data...\n",
      "[nltk_data]   Package stopwords is already up-to-date!\n"
     ]
    },
    {
     "data": {
      "text/plain": "True"
     },
     "execution_count": 108,
     "metadata": {},
     "output_type": "execute_result"
    }
   ],
   "source": [
    "nltk.download('stopwords')"
   ],
   "metadata": {
    "collapsed": false,
    "ExecuteTime": {
     "end_time": "2024-04-24T13:17:55.445078800Z",
     "start_time": "2024-04-24T13:17:55.341201600Z"
    }
   },
   "id": "50c4ca14d563c945",
   "execution_count": 108
  },
  {
   "cell_type": "markdown",
   "source": [
    "## Basic stats\n",
    "\n",
    "All the data in this project has been collected by ourselves, using the library 'pywikibot' which provides an easy way to connect to the Wikimedia API. By iterating through all the pages in the Danish Wikipedia, we were able to collect a dataset of roughly 260,000 pages (estimated 85% of all Danish pages), along with all the bots having contributed to those pages, and the categories the pages belong to. All bots on Wikipedia are registered, and by cross-checking the list of bots on the Danish Wikipedia with the contributors to a given page, we could be certain not to get any 'real' users in our dataset.\n",
    "\n",
    "In addition to the page data, we have also gathered information on all the bots, how many pages they have edited, and the total amount of edits they have performed. In all, we collected data on 197 bots (83% of all the bots). Most of the bots not included in this dataset had no contributions to any pages as of yet, and were therefore deemed not to be of much interest."
   ],
   "metadata": {
    "collapsed": false
   },
   "id": "546fd5f1a8115016"
  },
  {
   "cell_type": "code",
   "outputs": [],
   "source": [
    "pages_dataframe = pd.read_pickle('data/pages_dataframe_final')"
   ],
   "metadata": {
    "collapsed": false,
    "ExecuteTime": {
     "end_time": "2024-04-24T09:07:54.786436300Z",
     "start_time": "2024-04-24T09:07:53.250200800Z"
    }
   },
   "id": "40a3003d46920b41",
   "execution_count": 9
  },
  {
   "cell_type": "code",
   "outputs": [
    {
     "data": {
      "text/plain": "               name   count\n0        Steenthbot  209306\n1          MGA73bot   96866\n2        Luckas-bot   54237\n3          EmausBot   52480\n4             Xqbot   49228\n..              ...     ...\n192         SreeBot       2\n193       TAP Bot 1       2\n194  Kolega2357-Bot       1\n195          Dpkbot       1\n196         MenoBot       1\n\n[197 rows x 2 columns]",
      "text/html": "<div>\n<style scoped>\n    .dataframe tbody tr th:only-of-type {\n        vertical-align: middle;\n    }\n\n    .dataframe tbody tr th {\n        vertical-align: top;\n    }\n\n    .dataframe thead th {\n        text-align: right;\n    }\n</style>\n<table border=\"1\" class=\"dataframe\">\n  <thead>\n    <tr style=\"text-align: right;\">\n      <th></th>\n      <th>name</th>\n      <th>count</th>\n    </tr>\n  </thead>\n  <tbody>\n    <tr>\n      <th>0</th>\n      <td>Steenthbot</td>\n      <td>209306</td>\n    </tr>\n    <tr>\n      <th>1</th>\n      <td>MGA73bot</td>\n      <td>96866</td>\n    </tr>\n    <tr>\n      <th>2</th>\n      <td>Luckas-bot</td>\n      <td>54237</td>\n    </tr>\n    <tr>\n      <th>3</th>\n      <td>EmausBot</td>\n      <td>52480</td>\n    </tr>\n    <tr>\n      <th>4</th>\n      <td>Xqbot</td>\n      <td>49228</td>\n    </tr>\n    <tr>\n      <th>...</th>\n      <td>...</td>\n      <td>...</td>\n    </tr>\n    <tr>\n      <th>192</th>\n      <td>SreeBot</td>\n      <td>2</td>\n    </tr>\n    <tr>\n      <th>193</th>\n      <td>TAP Bot 1</td>\n      <td>2</td>\n    </tr>\n    <tr>\n      <th>194</th>\n      <td>Kolega2357-Bot</td>\n      <td>1</td>\n    </tr>\n    <tr>\n      <th>195</th>\n      <td>Dpkbot</td>\n      <td>1</td>\n    </tr>\n    <tr>\n      <th>196</th>\n      <td>MenoBot</td>\n      <td>1</td>\n    </tr>\n  </tbody>\n</table>\n<p>197 rows × 2 columns</p>\n</div>"
     },
     "execution_count": 10,
     "metadata": {},
     "output_type": "execute_result"
    }
   ],
   "source": [
    "bots_dataframe = pd.DataFrame(pages_dataframe['bots'].explode().value_counts())\n",
    "bots_dataframe = bots_dataframe.rename_axis('name')\n",
    "bots_dataframe = bots_dataframe.reset_index()\n",
    "pd.to_pickle(bots_dataframe, 'bots_dataframe')\n",
    "bots_dataframe"
   ],
   "metadata": {
    "collapsed": false,
    "ExecuteTime": {
     "end_time": "2024-04-24T09:07:58.540152700Z",
     "start_time": "2024-04-24T09:07:58.352636200Z"
    }
   },
   "id": "522479d8a42104ce",
   "execution_count": 10
  },
  {
   "cell_type": "code",
   "outputs": [
    {
     "data": {
      "text/plain": "               name   count  edit_count\n0        Steenthbot  209306      751959\n1          MGA73bot   96866      274384\n2        Luckas-bot   54237      194041\n3          EmausBot   52480      181033\n4             Xqbot   49228      137064\n..              ...     ...         ...\n192         SreeBot       2           4\n193       TAP Bot 1       2          12\n194  Kolega2357-Bot       1           9\n195          Dpkbot       1           3\n196         MenoBot       1          22\n\n[197 rows x 3 columns]",
      "text/html": "<div>\n<style scoped>\n    .dataframe tbody tr th:only-of-type {\n        vertical-align: middle;\n    }\n\n    .dataframe tbody tr th {\n        vertical-align: top;\n    }\n\n    .dataframe thead th {\n        text-align: right;\n    }\n</style>\n<table border=\"1\" class=\"dataframe\">\n  <thead>\n    <tr style=\"text-align: right;\">\n      <th></th>\n      <th>name</th>\n      <th>count</th>\n      <th>edit_count</th>\n    </tr>\n  </thead>\n  <tbody>\n    <tr>\n      <th>0</th>\n      <td>Steenthbot</td>\n      <td>209306</td>\n      <td>751959</td>\n    </tr>\n    <tr>\n      <th>1</th>\n      <td>MGA73bot</td>\n      <td>96866</td>\n      <td>274384</td>\n    </tr>\n    <tr>\n      <th>2</th>\n      <td>Luckas-bot</td>\n      <td>54237</td>\n      <td>194041</td>\n    </tr>\n    <tr>\n      <th>3</th>\n      <td>EmausBot</td>\n      <td>52480</td>\n      <td>181033</td>\n    </tr>\n    <tr>\n      <th>4</th>\n      <td>Xqbot</td>\n      <td>49228</td>\n      <td>137064</td>\n    </tr>\n    <tr>\n      <th>...</th>\n      <td>...</td>\n      <td>...</td>\n      <td>...</td>\n    </tr>\n    <tr>\n      <th>192</th>\n      <td>SreeBot</td>\n      <td>2</td>\n      <td>4</td>\n    </tr>\n    <tr>\n      <th>193</th>\n      <td>TAP Bot 1</td>\n      <td>2</td>\n      <td>12</td>\n    </tr>\n    <tr>\n      <th>194</th>\n      <td>Kolega2357-Bot</td>\n      <td>1</td>\n      <td>9</td>\n    </tr>\n    <tr>\n      <th>195</th>\n      <td>Dpkbot</td>\n      <td>1</td>\n      <td>3</td>\n    </tr>\n    <tr>\n      <th>196</th>\n      <td>MenoBot</td>\n      <td>1</td>\n      <td>22</td>\n    </tr>\n  </tbody>\n</table>\n<p>197 rows × 3 columns</p>\n</div>"
     },
     "execution_count": 11,
     "metadata": {},
     "output_type": "execute_result"
    }
   ],
   "source": [
    "def get_bot_data(bot_name):\n",
    "    site = pywikibot.Site('da', 'wikipedia')\n",
    "    bot = pywikibot.User(site, bot_name)\n",
    "    edit_count = bot.editCount()\n",
    "    return {'edit_count': edit_count}\n",
    "\n",
    "bots_dataframe = pd.concat([bots_dataframe, bots_dataframe['name'].apply(lambda x: pd.Series(get_bot_data(x)))], axis=1)\n",
    "bots_dataframe"
   ],
   "metadata": {
    "collapsed": false,
    "ExecuteTime": {
     "end_time": "2024-04-24T09:08:39.384716400Z",
     "start_time": "2024-04-24T09:08:05.250729500Z"
    }
   },
   "id": "71c37f32783f168f",
   "execution_count": 11
  },
  {
   "cell_type": "markdown",
   "source": [
    "### Graph construction\n",
    "\n",
    "From the page data we can construct a graph with the contributing bots constituting the nodes, with links between them if they have contributed to the same page. Each edge will also contain the amount of pages the two bots both have contributed to."
   ],
   "metadata": {
    "collapsed": false
   },
   "id": "12717bdf42b55456"
  },
  {
   "cell_type": "code",
   "outputs": [
    {
     "name": "stderr",
     "output_type": "stream",
     "text": [
      "100%|██████████| 197/197 [11:07<00:00,  3.39s/it]\n",
      "100%|█████████▉| 262178/262278 [00:46<00:00, 5718.91it/s] "
     ]
    }
   ],
   "source": [
    "edge_dict = defaultdict(lambda: {'pages':[],'n_pages':0})\n",
    "only_contributor = defaultdict(lambda: 0)\n",
    "pbar = tqdm(total=pages_dataframe.shape[0])\n",
    "def page_edges(page):\n",
    "    pbar.update(1)\n",
    "    contributors = page['bots']\n",
    "    if len(contributors) < 2:\n",
    "        if len(contributors) == 1:\n",
    "            only_contributor[contributors[0]] += 1\n",
    "        return []\n",
    "    contributors.sort()\n",
    "    contributor_pairs = list(combinations(contributors, r=2))\n",
    "    for contributor_pair in contributor_pairs:\n",
    "        edge_dict[contributor_pair]['pages'].append(page['name'])\n",
    "        edge_dict[contributor_pair]['n_pages'] += 1\n",
    "\n",
    "pages_dataframe.apply(page_edges, axis=1)\n",
    "G = nx.Graph()\n",
    "G.add_edges_from(edge_dict.keys())\n",
    "nx.set_edge_attributes(G, edge_dict)"
   ],
   "metadata": {
    "collapsed": false,
    "ExecuteTime": {
     "end_time": "2024-04-24T10:13:12.171055600Z",
     "start_time": "2024-04-24T10:12:25.345718400Z"
    }
   },
   "id": "f5cc5da1c44a5c08",
   "execution_count": 81
  },
  {
   "cell_type": "markdown",
   "source": [
    "In the construction of the graph, we took note of those pages where only one bot have contributed to, and now we can add the number of pages contributed to solely by a certain bot to our bot data:"
   ],
   "metadata": {
    "collapsed": false
   },
   "id": "f4363195012028e2"
  },
  {
   "cell_type": "code",
   "outputs": [
    {
     "data": {
      "text/plain": "               name   count  edit_count  \\\n0        Steenthbot  209306      751959   \n1          MGA73bot   96866      274384   \n2        Luckas-bot   54237      194041   \n3          EmausBot   52480      181033   \n4             Xqbot   49228      137064   \n..              ...     ...         ...   \n192         SreeBot       2           4   \n193       TAP Bot 1       2          12   \n194  Kolega2357-Bot       1           9   \n195          Dpkbot       1           3   \n196         MenoBot       1          22   \n\n                                       top 5 tokens  only contributor count  \n0         [:, ændre, erstatter, eksisterende, data]                 70945.0  \n1                 [xx, sprog, flytter, link, iabot]                  3872.0  \n2                         [:, zh, oc, ko, kategori]                    66.0  \n3          [:, retter, dobbelt, omdirigering, team]                  1697.0  \n4    [retter, omdirigering, dobbelt, :, diskussion]                  8096.0  \n..                                              ...                     ...  \n192                             [:, qu, ay, bs, eo]                     0.0  \n193              [:, velkommen, bbc, knowledge, ms]                     0.0  \n194       [:, kolega-bot, kategori, mpikambana, mg]                     0.0  \n195                 [:, ml, ケイ酸ナトリウム, സർലഫ, സലകകററ]                     0.0  \n196              [:, menobot, zh, tarbot, участник]                     0.0  \n\n[197 rows x 5 columns]",
      "text/html": "<div>\n<style scoped>\n    .dataframe tbody tr th:only-of-type {\n        vertical-align: middle;\n    }\n\n    .dataframe tbody tr th {\n        vertical-align: top;\n    }\n\n    .dataframe thead th {\n        text-align: right;\n    }\n</style>\n<table border=\"1\" class=\"dataframe\">\n  <thead>\n    <tr style=\"text-align: right;\">\n      <th></th>\n      <th>name</th>\n      <th>count</th>\n      <th>edit_count</th>\n      <th>top 5 tokens</th>\n      <th>only contributor count</th>\n    </tr>\n  </thead>\n  <tbody>\n    <tr>\n      <th>0</th>\n      <td>Steenthbot</td>\n      <td>209306</td>\n      <td>751959</td>\n      <td>[:, ændre, erstatter, eksisterende, data]</td>\n      <td>70945.0</td>\n    </tr>\n    <tr>\n      <th>1</th>\n      <td>MGA73bot</td>\n      <td>96866</td>\n      <td>274384</td>\n      <td>[xx, sprog, flytter, link, iabot]</td>\n      <td>3872.0</td>\n    </tr>\n    <tr>\n      <th>2</th>\n      <td>Luckas-bot</td>\n      <td>54237</td>\n      <td>194041</td>\n      <td>[:, zh, oc, ko, kategori]</td>\n      <td>66.0</td>\n    </tr>\n    <tr>\n      <th>3</th>\n      <td>EmausBot</td>\n      <td>52480</td>\n      <td>181033</td>\n      <td>[:, retter, dobbelt, omdirigering, team]</td>\n      <td>1697.0</td>\n    </tr>\n    <tr>\n      <th>4</th>\n      <td>Xqbot</td>\n      <td>49228</td>\n      <td>137064</td>\n      <td>[retter, omdirigering, dobbelt, :, diskussion]</td>\n      <td>8096.0</td>\n    </tr>\n    <tr>\n      <th>...</th>\n      <td>...</td>\n      <td>...</td>\n      <td>...</td>\n      <td>...</td>\n      <td>...</td>\n    </tr>\n    <tr>\n      <th>192</th>\n      <td>SreeBot</td>\n      <td>2</td>\n      <td>4</td>\n      <td>[:, qu, ay, bs, eo]</td>\n      <td>0.0</td>\n    </tr>\n    <tr>\n      <th>193</th>\n      <td>TAP Bot 1</td>\n      <td>2</td>\n      <td>12</td>\n      <td>[:, velkommen, bbc, knowledge, ms]</td>\n      <td>0.0</td>\n    </tr>\n    <tr>\n      <th>194</th>\n      <td>Kolega2357-Bot</td>\n      <td>1</td>\n      <td>9</td>\n      <td>[:, kolega-bot, kategori, mpikambana, mg]</td>\n      <td>0.0</td>\n    </tr>\n    <tr>\n      <th>195</th>\n      <td>Dpkbot</td>\n      <td>1</td>\n      <td>3</td>\n      <td>[:, ml, ケイ酸ナトリウム, സർലഫ, സലകകററ]</td>\n      <td>0.0</td>\n    </tr>\n    <tr>\n      <th>196</th>\n      <td>MenoBot</td>\n      <td>1</td>\n      <td>22</td>\n      <td>[:, menobot, zh, tarbot, участник]</td>\n      <td>0.0</td>\n    </tr>\n  </tbody>\n</table>\n<p>197 rows × 5 columns</p>\n</div>"
     },
     "execution_count": 82,
     "metadata": {},
     "output_type": "execute_result"
    }
   ],
   "source": [
    "only_contributor = pd.DataFrame(list(only_contributor.items()), columns=['name', 'only contributor count'])\n",
    "bots_dataframe = pd.merge(bots_dataframe, only_contributor, on='name', how='outer').fillna({'only contributor count':0})\n",
    "bots_dataframe"
   ],
   "metadata": {
    "collapsed": false,
    "ExecuteTime": {
     "end_time": "2024-04-24T10:13:23.305984800Z",
     "start_time": "2024-04-24T10:13:23.250303200Z"
    }
   },
   "id": "5f166e0e7c3fd57c",
   "execution_count": 82
  },
  {
   "cell_type": "code",
   "outputs": [],
   "source": [
    "attribute_dict = bots_dataframe.set_index('name').T.to_dict('dict')\n",
    "nx.set_node_attributes(G, attribute_dict)"
   ],
   "metadata": {
    "collapsed": false,
    "ExecuteTime": {
     "end_time": "2024-04-24T09:00:18.435192800Z",
     "start_time": "2024-04-24T09:00:18.391424400Z"
    }
   },
   "id": "b3c889d09fe8d6bd",
   "execution_count": 9
  },
  {
   "cell_type": "markdown",
   "source": [
    "### Graph analysis\n",
    "\n",
    "We can now take a look at the resulting graph."
   ],
   "metadata": {
    "collapsed": false
   },
   "id": "56de47dd5b66359e"
  },
  {
   "cell_type": "code",
   "outputs": [
    {
     "name": "stdout",
     "output_type": "stream",
     "text": [
      "Number of nodes in graph: 197\n",
      "Number of edges in graph: 15024 out of 19306.0 possible\n",
      "Mean degree <k> in graph: 152.5279187817259\n",
      "Number of connected components in graph: 1\n"
     ]
    }
   ],
   "source": [
    "n_nodes = len(G.nodes)\n",
    "n_edges = len(G.edges)\n",
    "mean_degree = np.mean(list(dict(G.degree).values()))\n",
    "n_components = nx.number_connected_components(G)\n",
    "print(f'Number of nodes in graph: {n_nodes}')\n",
    "print(f'Number of edges in graph: {n_edges} out of {n_nodes*(n_nodes-1)/2} possible')\n",
    "print(f'Mean degree <k> in graph: {mean_degree}')\n",
    "print(f'Number of connected components in graph: {n_components}')"
   ],
   "metadata": {
    "collapsed": false,
    "ExecuteTime": {
     "end_time": "2024-04-24T13:03:24.565342500Z",
     "start_time": "2024-04-24T13:03:24.544315300Z"
    }
   },
   "id": "2ec9bbba14cb4c32",
   "execution_count": 106
  },
  {
   "cell_type": "markdown",
   "source": [
    "From the basic stats, we see that the network is extremely connected, since approximately 75% of the possible existing links actually are there. We see that the average degree, 152, is not that far off from the number of nodes, suggesting that many of the bots have contributed to a page with almost all other bots at some point in time. The mean degree is way past log(N), and the graph is therefore far beyond supercritical - hypercritical might be a better term."
   ],
   "metadata": {
    "collapsed": false
   },
   "id": "68c55472a9f3ac75"
  },
  {
   "cell_type": "code",
   "outputs": [],
   "source": [
    "visualize(G)"
   ],
   "metadata": {
    "collapsed": false
   },
   "id": "3050826e9a4e4875"
  },
  {
   "cell_type": "code",
   "outputs": [],
   "source": [
    "p = 2*n_edges/(n_nodes*(n_nodes-1))\n",
    "G_random = nx.gnp_random_graph(n_nodes, p)"
   ],
   "metadata": {
    "collapsed": false,
    "ExecuteTime": {
     "end_time": "2024-04-24T07:30:44.747174500Z",
     "start_time": "2024-04-24T07:30:44.670432400Z"
    }
   },
   "id": "3627c8b83617bd13",
   "execution_count": 11
  },
  {
   "cell_type": "markdown",
   "source": [
    "We now take a look at the degree distribution, as contrasted with a random graph"
   ],
   "metadata": {
    "collapsed": false
   },
   "id": "b770b7f973180fe0"
  },
  {
   "cell_type": "code",
   "outputs": [
    {
     "data": {
      "text/plain": "<Figure size 640x480 with 1 Axes>",
      "image/png": "[encoded data removed]"
     },
     "metadata": {},
     "output_type": "display_data"
    }
   ],
   "source": [
    "g_deg_random = dict(G_random.degree).values()\n",
    "g_deg = dict(G.degree).values()\n",
    "plt.hist(g_deg, alpha=0.8,bins=30, label='Real graph')\n",
    "plt.hist(g_deg_random, alpha=0.8, label='Random graph')\n",
    "plt.title('Degree distribution')\n",
    "plt.xlabel('Degree')\n",
    "plt.ylabel('Count')\n",
    "plt.legend()\n",
    "plt.show()"
   ],
   "metadata": {
    "collapsed": false,
    "ExecuteTime": {
     "end_time": "2024-04-24T07:32:52.330990100Z",
     "start_time": "2024-04-24T07:32:52.046057Z"
    }
   },
   "id": "85d3d8042550c0fa",
   "execution_count": 16
  },
  {
   "cell_type": "markdown",
   "source": [
    "We see that, like many other graphs in the real world the degree distribution is far more heavy-tailed than for the random graph. Interestingly, there are many more heavily connected nodes than sparsely connected ones. "
   ],
   "metadata": {
    "collapsed": false
   },
   "id": "3cd4db565264ad4b"
  },
  {
   "cell_type": "code",
   "outputs": [
    {
     "name": "stdout",
     "output_type": "stream",
     "text": [
      "Assortativity by degree: -0.23707266331244956\n",
      "Assortativity by page count: -0.005738042216992627\n",
      "Assortativity by edit count: -0.0055661349891391\n",
      "Assortativity by only contributor pages: -0.023442735883572745\n"
     ]
    }
   ],
   "source": [
    "g_deg_assort = nx.degree_assortativity_coefficient(G)\n",
    "g_count_assort = nx.attribute_assortativity_coefficient(G, 'count')\n",
    "g_edit_count_assort = nx.attribute_assortativity_coefficient(G, 'edit_count')\n",
    "g_only_contrib_assort = nx.attribute_assortativity_coefficient(G, 'only contributor count')\n",
    "\n",
    "print(f'Assortativity by degree: {g_deg_assort}')\n",
    "print(f'Assortativity by page count: {g_count_assort}')\n",
    "print(f'Assortativity by edit count: {g_edit_count_assort}')\n",
    "print(f'Assortativity by only contributor pages: {g_only_contrib_assort}')"
   ],
   "metadata": {
    "collapsed": false,
    "ExecuteTime": {
     "end_time": "2024-04-24T08:34:06.248194300Z",
     "start_time": "2024-04-24T08:34:05.991539100Z"
    }
   },
   "id": "ef1e062ea58288bc",
   "execution_count": 61
  },
  {
   "cell_type": "code",
   "outputs": [
    {
     "name": "stdout",
     "output_type": "stream",
     "text": [
      "Name: Steenthbot, centrality: 1.0\n",
      "Name: Thijs!bot, centrality: 0.9849246231155779\n",
      "Name: EmausBot, centrality: 0.9849246231155779\n",
      "Name: Xqbot, centrality: 0.98\n",
      "Name: MGA73bot, centrality: 0.98\n"
     ]
    }
   ],
   "source": [
    "# Get closeness centrality using nx built in function.\n",
    "c_centrality = nx.closeness_centrality(G)\n",
    "c_centrality_sorted = dict(sorted(c_centrality.items(), key=lambda item: item[1]))\n",
    "top5_c = list(c_centrality_sorted.items())[:-6:-1]\n",
    "\n",
    "for name, centrality in top5_c:\n",
    "    print(f'Name: {name}, centrality: {centrality}')"
   ],
   "metadata": {
    "collapsed": false,
    "ExecuteTime": {
     "end_time": "2024-04-24T08:37:02.934986600Z",
     "start_time": "2024-04-24T08:37:02.906099600Z"
    }
   },
   "id": "96d4b9c1168a1575",
   "execution_count": 62
  },
  {
   "cell_type": "code",
   "outputs": [
    {
     "name": "stdout",
     "output_type": "stream",
     "text": [
      "Name: Steenthbot, centrality: 0.08179464836881363\n",
      "Name: Thijs!bot, centrality: 0.0817647570314459\n",
      "Name: Xqbot, centrality: 0.0817205802070015\n",
      "Name: MGA73bot, centrality: 0.0817205802070015\n",
      "Name: Luckas-bot, centrality: 0.08171179473957559\n"
     ]
    }
   ],
   "source": [
    "# get eigenvector centrality using nx built-in function.\n",
    "e_centrality = nx.eigenvector_centrality(G)\n",
    "e_centrality_sorted = dict(sorted(e_centrality.items(), key=lambda item: item[1]))\n",
    "top5_e = list(e_centrality_sorted.items())[:-6:-1]\n",
    "\n",
    "for name, centrality in top5_e:\n",
    "    print(f'Name: {name}, centrality: {centrality}')"
   ],
   "metadata": {
    "collapsed": false,
    "ExecuteTime": {
     "end_time": "2024-04-24T08:37:24.692578500Z",
     "start_time": "2024-04-24T08:37:24.625828700Z"
    }
   },
   "id": "3f40a7f7e7906d4f",
   "execution_count": 63
  },
  {
   "cell_type": "markdown",
   "source": [
    "### Clustering"
   ],
   "metadata": {
    "collapsed": false
   },
   "id": "a17fcc0d17fa0ff6"
  },
  {
   "cell_type": "code",
   "outputs": [],
   "source": [
    "partition = community_louvain.best_partition(G)\n",
    "n_communities = max(partition.values()) + 1\n",
    "n_communities"
   ],
   "metadata": {
    "collapsed": false,
    "ExecuteTime": {
     "end_time": "2024-04-24T10:13:50.438374700Z",
     "start_time": "2024-04-24T10:13:50.182219900Z"
    }
   },
   "id": "1090aeb95a5a81ab",
   "execution_count": 83
  },
  {
   "cell_type": "code",
   "outputs": [
    {
     "data": {
      "text/plain": "               name   count  edit_count  \\\n0        Steenthbot  209306      751959   \n1          MGA73bot   96866      274384   \n2        Luckas-bot   54237      194041   \n3          EmausBot   52480      181033   \n4             Xqbot   49228      137064   \n..              ...     ...         ...   \n192         SreeBot       2           4   \n193       TAP Bot 1       2          12   \n194  Kolega2357-Bot       1           9   \n195          Dpkbot       1           3   \n196         MenoBot       1          22   \n\n                                       top 5 tokens  only contributor count  \\\n0         [:, ændre, erstatter, eksisterende, data]                 70945.0   \n1                 [xx, sprog, flytter, link, iabot]                  3872.0   \n2                         [:, zh, oc, ko, kategori]                    66.0   \n3          [:, retter, dobbelt, omdirigering, team]                  1697.0   \n4    [retter, omdirigering, dobbelt, :, diskussion]                  8096.0   \n..                                              ...                     ...   \n192                             [:, qu, ay, bs, eo]                     0.0   \n193              [:, velkommen, bbc, knowledge, ms]                     0.0   \n194       [:, kolega-bot, kategori, mpikambana, mg]                     0.0   \n195                 [:, ml, ケイ酸ナトリウム, സർലഫ, സലകകററ]                     0.0   \n196              [:, menobot, zh, tarbot, участник]                     0.0   \n\n     community  \n0            0  \n1            0  \n2            0  \n3            0  \n4            0  \n..         ...  \n192          0  \n193          0  \n194          0  \n195          0  \n196          0  \n\n[197 rows x 6 columns]",
      "text/html": "<div>\n<style scoped>\n    .dataframe tbody tr th:only-of-type {\n        vertical-align: middle;\n    }\n\n    .dataframe tbody tr th {\n        vertical-align: top;\n    }\n\n    .dataframe thead th {\n        text-align: right;\n    }\n</style>\n<table border=\"1\" class=\"dataframe\">\n  <thead>\n    <tr style=\"text-align: right;\">\n      <th></th>\n      <th>name</th>\n      <th>count</th>\n      <th>edit_count</th>\n      <th>top 5 tokens</th>\n      <th>only contributor count</th>\n      <th>community</th>\n    </tr>\n  </thead>\n  <tbody>\n    <tr>\n      <th>0</th>\n      <td>Steenthbot</td>\n      <td>209306</td>\n      <td>751959</td>\n      <td>[:, ændre, erstatter, eksisterende, data]</td>\n      <td>70945.0</td>\n      <td>0</td>\n    </tr>\n    <tr>\n      <th>1</th>\n      <td>MGA73bot</td>\n      <td>96866</td>\n      <td>274384</td>\n      <td>[xx, sprog, flytter, link, iabot]</td>\n      <td>3872.0</td>\n      <td>0</td>\n    </tr>\n    <tr>\n      <th>2</th>\n      <td>Luckas-bot</td>\n      <td>54237</td>\n      <td>194041</td>\n      <td>[:, zh, oc, ko, kategori]</td>\n      <td>66.0</td>\n      <td>0</td>\n    </tr>\n    <tr>\n      <th>3</th>\n      <td>EmausBot</td>\n      <td>52480</td>\n      <td>181033</td>\n      <td>[:, retter, dobbelt, omdirigering, team]</td>\n      <td>1697.0</td>\n      <td>0</td>\n    </tr>\n    <tr>\n      <th>4</th>\n      <td>Xqbot</td>\n      <td>49228</td>\n      <td>137064</td>\n      <td>[retter, omdirigering, dobbelt, :, diskussion]</td>\n      <td>8096.0</td>\n      <td>0</td>\n    </tr>\n    <tr>\n      <th>...</th>\n      <td>...</td>\n      <td>...</td>\n      <td>...</td>\n      <td>...</td>\n      <td>...</td>\n      <td>...</td>\n    </tr>\n    <tr>\n      <th>192</th>\n      <td>SreeBot</td>\n      <td>2</td>\n      <td>4</td>\n      <td>[:, qu, ay, bs, eo]</td>\n      <td>0.0</td>\n      <td>0</td>\n    </tr>\n    <tr>\n      <th>193</th>\n      <td>TAP Bot 1</td>\n      <td>2</td>\n      <td>12</td>\n      <td>[:, velkommen, bbc, knowledge, ms]</td>\n      <td>0.0</td>\n      <td>0</td>\n    </tr>\n    <tr>\n      <th>194</th>\n      <td>Kolega2357-Bot</td>\n      <td>1</td>\n      <td>9</td>\n      <td>[:, kolega-bot, kategori, mpikambana, mg]</td>\n      <td>0.0</td>\n      <td>0</td>\n    </tr>\n    <tr>\n      <th>195</th>\n      <td>Dpkbot</td>\n      <td>1</td>\n      <td>3</td>\n      <td>[:, ml, ケイ酸ナトリウム, സർലഫ, സലകകററ]</td>\n      <td>0.0</td>\n      <td>0</td>\n    </tr>\n    <tr>\n      <th>196</th>\n      <td>MenoBot</td>\n      <td>1</td>\n      <td>22</td>\n      <td>[:, menobot, zh, tarbot, участник]</td>\n      <td>0.0</td>\n      <td>0</td>\n    </tr>\n  </tbody>\n</table>\n<p>197 rows × 6 columns</p>\n</div>"
     },
     "execution_count": 88,
     "metadata": {},
     "output_type": "execute_result"
    }
   ],
   "source": [
    "bots_dataframe['community'] = bots_dataframe['name'].apply(lambda name: partition[name])\n",
    "bots_dataframe"
   ],
   "metadata": {
    "collapsed": false,
    "ExecuteTime": {
     "end_time": "2024-04-24T10:14:45.263340200Z",
     "start_time": "2024-04-24T10:14:45.211371400Z"
    }
   },
   "id": "ab5e1a5d9ff99293",
   "execution_count": 88
  },
  {
   "cell_type": "code",
   "outputs": [
    {
     "data": {
      "text/plain": "                      name                                               bots  \\\n0                Flagstaff  [ArthurBot, BenzolBot, Bot-Schafter, Broadbot,...   \n1                     Flak                       [Broadbot, EmausBot, Hxhbot]   \n2         Flak (sandgrund)                                         [MGA73bot]   \n3               Flakfortet  [Luckas-bot, MGA73bot, PenguinBot, Steenthbot,...   \n4                Flakhaven                                       [Steenthbot]   \n...                    ...                                                ...   \n262273       Flagguirlande                                                 []   \n262274         Flagofficer                 [Luckas-bot, MGA73bot, Steenthbot]   \n262275  Flags of the World  [EmausBot, Luckas-bot, MGA73bot, PalnaBot, Ste...   \n262276            Flagskib  [Amirobot, Ken123BOT, Luckas-bot, PenguinBot, ...   \n262277         Flagspætter  [Alecs.bot, Amirobot, EmausBot, Gpvosbot, Luck...   \n\n                                               categories communities  \n0       [Byer i Arizona, Commons-kategori på Wikidata ...      [0, 1]  \n1                         [Flertydig, Flertydig (samlet)]      [0, 1]  \n2         [Omdirigeringer forbundet til et Wikidata-emne]         [1]  \n3       [Koordinater på Wikidata, Københavns Befæstnin...         [1]  \n4       [Artikler med døde links, Koordinater på Wikid...         [1]  \n...                                                   ...         ...  \n262273                            [Julepynt, Traditioner]          []  \n262274  [Kilder mangler (samlet liste), Kilder mangler...         [1]  \n262275   [Community Sites, Læringsnetsteder, Vexillologi]      [0, 1]  \n262276  [Påbegyndte artikler (samlet liste), Påbegyndt...      [0, 1]  \n262277  [Commons-kategori på Wikidata er ens med lokal...      [0, 1]  \n\n[262278 rows x 4 columns]",
      "text/html": "<div>\n<style scoped>\n    .dataframe tbody tr th:only-of-type {\n        vertical-align: middle;\n    }\n\n    .dataframe tbody tr th {\n        vertical-align: top;\n    }\n\n    .dataframe thead th {\n        text-align: right;\n    }\n</style>\n<table border=\"1\" class=\"dataframe\">\n  <thead>\n    <tr style=\"text-align: right;\">\n      <th></th>\n      <th>name</th>\n      <th>bots</th>\n      <th>categories</th>\n      <th>communities</th>\n    </tr>\n  </thead>\n  <tbody>\n    <tr>\n      <th>0</th>\n      <td>Flagstaff</td>\n      <td>[ArthurBot, BenzolBot, Bot-Schafter, Broadbot,...</td>\n      <td>[Byer i Arizona, Commons-kategori på Wikidata ...</td>\n      <td>[0, 1]</td>\n    </tr>\n    <tr>\n      <th>1</th>\n      <td>Flak</td>\n      <td>[Broadbot, EmausBot, Hxhbot]</td>\n      <td>[Flertydig, Flertydig (samlet)]</td>\n      <td>[0, 1]</td>\n    </tr>\n    <tr>\n      <th>2</th>\n      <td>Flak (sandgrund)</td>\n      <td>[MGA73bot]</td>\n      <td>[Omdirigeringer forbundet til et Wikidata-emne]</td>\n      <td>[1]</td>\n    </tr>\n    <tr>\n      <th>3</th>\n      <td>Flakfortet</td>\n      <td>[Luckas-bot, MGA73bot, PenguinBot, Steenthbot,...</td>\n      <td>[Koordinater på Wikidata, Københavns Befæstnin...</td>\n      <td>[1]</td>\n    </tr>\n    <tr>\n      <th>4</th>\n      <td>Flakhaven</td>\n      <td>[Steenthbot]</td>\n      <td>[Artikler med døde links, Koordinater på Wikid...</td>\n      <td>[1]</td>\n    </tr>\n    <tr>\n      <th>...</th>\n      <td>...</td>\n      <td>...</td>\n      <td>...</td>\n      <td>...</td>\n    </tr>\n    <tr>\n      <th>262273</th>\n      <td>Flagguirlande</td>\n      <td>[]</td>\n      <td>[Julepynt, Traditioner]</td>\n      <td>[]</td>\n    </tr>\n    <tr>\n      <th>262274</th>\n      <td>Flagofficer</td>\n      <td>[Luckas-bot, MGA73bot, Steenthbot]</td>\n      <td>[Kilder mangler (samlet liste), Kilder mangler...</td>\n      <td>[1]</td>\n    </tr>\n    <tr>\n      <th>262275</th>\n      <td>Flags of the World</td>\n      <td>[EmausBot, Luckas-bot, MGA73bot, PalnaBot, Ste...</td>\n      <td>[Community Sites, Læringsnetsteder, Vexillologi]</td>\n      <td>[0, 1]</td>\n    </tr>\n    <tr>\n      <th>262276</th>\n      <td>Flagskib</td>\n      <td>[Amirobot, Ken123BOT, Luckas-bot, PenguinBot, ...</td>\n      <td>[Påbegyndte artikler (samlet liste), Påbegyndt...</td>\n      <td>[0, 1]</td>\n    </tr>\n    <tr>\n      <th>262277</th>\n      <td>Flagspætter</td>\n      <td>[Alecs.bot, Amirobot, EmausBot, Gpvosbot, Luck...</td>\n      <td>[Commons-kategori på Wikidata er ens med lokal...</td>\n      <td>[0, 1]</td>\n    </tr>\n  </tbody>\n</table>\n<p>262278 rows × 4 columns</p>\n</div>"
     },
     "execution_count": 13,
     "metadata": {},
     "output_type": "execute_result"
    }
   ],
   "source": [
    "def communities_of_page(bots):\n",
    "    communities = []\n",
    "    for bot in bots:\n",
    "        try:\n",
    "            communities.append(partition[bot])\n",
    "        except KeyError:\n",
    "            pass\n",
    "    return list(set(communities))\n",
    "\n",
    "pages_dataframe['communities'] = pages_dataframe['bots'].apply(communities_of_page)\n",
    "pages_dataframe"
   ],
   "metadata": {
    "collapsed": false,
    "ExecuteTime": {
     "end_time": "2024-04-24T09:01:07.981677700Z",
     "start_time": "2024-04-24T09:01:06.052681700Z"
    }
   },
   "id": "57491c7308a622f3",
   "execution_count": 13
  },
  {
   "cell_type": "code",
   "outputs": [],
   "source": [
    "stop_words = set(stopwords.words('danish'))\n",
    "def tokenize_category_list(category_list, exclude_stop=True):\n",
    "    text = ' '.join(category_list)\n",
    "    text = text.lower()\n",
    "    text = ''.join([char for char in text if (char.isalpha() or char in ' -')])\n",
    "    tokens = word_tokenize(text)\n",
    "    if exclude_stop:\n",
    "        return [token for token in tokens if not token in stop_words]\n",
    "    return tokens"
   ],
   "metadata": {
    "collapsed": false
   },
   "id": "b3f79e3fcc8afb34",
   "execution_count": null
  },
  {
   "cell_type": "code",
   "outputs": [
    {
     "data": {
      "text/plain": "                                             name  \\\n0                                             !!!   \n1    \"Fjerne Israel fra landkortet\"- kontroversen   \n2     \"Fjerne Israel fra landkortet\"-bemærkningen   \n3                                 \"Gråt\" rumvæsen   \n4                                        \"Heroes\"   \n..                                            ...   \n780                1. division i ishockey 1975-76   \n781                1. division i ishockey 1976-77   \n782                1. division i ishockey 1977-78   \n783                1. division i ishockey 1978-79   \n784                1. division i ishockey 1979-80   \n\n                                                  bots  \\\n0    [Addbot, LucienBOT, Luckas-bot, MGA73bot, Stee...   \n1                                              [Xqbot]   \n2                                    [Broadbot, Xqbot]   \n3                                              [Xqbot]   \n4    [Dipsacus fullonum bot, InternetArchiveBot, MG...   \n..                                                 ...   \n780                               [InternetArchiveBot]   \n781                               [InternetArchiveBot]   \n782                               [InternetArchiveBot]   \n783                               [InternetArchiveBot]   \n784                               [InternetArchiveBot]   \n\n                                            categories communities  \\\n0    [Artikler med musikhenvisninger fra Wikidata, ...      [0, 2]   \n1                                                   []         [0]   \n2                                                   []         [0]   \n3                                                   []         [0]   \n4    [Album fra 1977, David Bowie-album, Påbegyndte...         [0]   \n..                                                 ...         ...   \n780  [DM i ishockey, Ishockey i 1975, Ishockey i 19...         [0]   \n781  [DM i ishockey, Ishockey i 1976, Ishockey i 19...         [0]   \n782  [DM i ishockey, Ishockey i 1977, Ishockey i 19...         [0]   \n783  [DM i ishockey, Ishockey i 1978, Ishockey i 19...         [0]   \n784  [DM i ishockey, Ishockey i 1979, Ishockey i 19...         [0]   \n\n                                                tokens  \n0    [artikler, musikhenvisninger, wikidata, common...  \n1                                                   []  \n2                                                   []  \n3                                                   []  \n4    [album, david, bowie-album, påbegyndte, artikl...  \n..                                                 ...  \n780  [dm, ishockey, ishockey, ishockey, sider, weba...  \n781  [dm, ishockey, ishockey, ishockey, sider, weba...  \n782  [dm, ishockey, ishockey, ishockey, sider, weba...  \n783  [dm, ishockey, ishockey, ishockey, sider, weba...  \n784  [dm, ishockey, ishockey, ishockey, sider, weba...  \n\n[785 rows x 5 columns]",
      "text/html": "<div>\n<style scoped>\n    .dataframe tbody tr th:only-of-type {\n        vertical-align: middle;\n    }\n\n    .dataframe tbody tr th {\n        vertical-align: top;\n    }\n\n    .dataframe thead th {\n        text-align: right;\n    }\n</style>\n<table border=\"1\" class=\"dataframe\">\n  <thead>\n    <tr style=\"text-align: right;\">\n      <th></th>\n      <th>name</th>\n      <th>bots</th>\n      <th>categories</th>\n      <th>communities</th>\n      <th>tokens</th>\n    </tr>\n  </thead>\n  <tbody>\n    <tr>\n      <th>0</th>\n      <td>!!!</td>\n      <td>[Addbot, LucienBOT, Luckas-bot, MGA73bot, Stee...</td>\n      <td>[Artikler med musikhenvisninger fra Wikidata, ...</td>\n      <td>[0, 2]</td>\n      <td>[artikler, musikhenvisninger, wikidata, common...</td>\n    </tr>\n    <tr>\n      <th>1</th>\n      <td>\"Fjerne Israel fra landkortet\"- kontroversen</td>\n      <td>[Xqbot]</td>\n      <td>[]</td>\n      <td>[0]</td>\n      <td>[]</td>\n    </tr>\n    <tr>\n      <th>2</th>\n      <td>\"Fjerne Israel fra landkortet\"-bemærkningen</td>\n      <td>[Broadbot, Xqbot]</td>\n      <td>[]</td>\n      <td>[0]</td>\n      <td>[]</td>\n    </tr>\n    <tr>\n      <th>3</th>\n      <td>\"Gråt\" rumvæsen</td>\n      <td>[Xqbot]</td>\n      <td>[]</td>\n      <td>[0]</td>\n      <td>[]</td>\n    </tr>\n    <tr>\n      <th>4</th>\n      <td>\"Heroes\"</td>\n      <td>[Dipsacus fullonum bot, InternetArchiveBot, MG...</td>\n      <td>[Album fra 1977, David Bowie-album, Påbegyndte...</td>\n      <td>[0]</td>\n      <td>[album, david, bowie-album, påbegyndte, artikl...</td>\n    </tr>\n    <tr>\n      <th>...</th>\n      <td>...</td>\n      <td>...</td>\n      <td>...</td>\n      <td>...</td>\n      <td>...</td>\n    </tr>\n    <tr>\n      <th>780</th>\n      <td>1. division i ishockey 1975-76</td>\n      <td>[InternetArchiveBot]</td>\n      <td>[DM i ishockey, Ishockey i 1975, Ishockey i 19...</td>\n      <td>[0]</td>\n      <td>[dm, ishockey, ishockey, ishockey, sider, weba...</td>\n    </tr>\n    <tr>\n      <th>781</th>\n      <td>1. division i ishockey 1976-77</td>\n      <td>[InternetArchiveBot]</td>\n      <td>[DM i ishockey, Ishockey i 1976, Ishockey i 19...</td>\n      <td>[0]</td>\n      <td>[dm, ishockey, ishockey, ishockey, sider, weba...</td>\n    </tr>\n    <tr>\n      <th>782</th>\n      <td>1. division i ishockey 1977-78</td>\n      <td>[InternetArchiveBot]</td>\n      <td>[DM i ishockey, Ishockey i 1977, Ishockey i 19...</td>\n      <td>[0]</td>\n      <td>[dm, ishockey, ishockey, ishockey, sider, weba...</td>\n    </tr>\n    <tr>\n      <th>783</th>\n      <td>1. division i ishockey 1978-79</td>\n      <td>[InternetArchiveBot]</td>\n      <td>[DM i ishockey, Ishockey i 1978, Ishockey i 19...</td>\n      <td>[0]</td>\n      <td>[dm, ishockey, ishockey, ishockey, sider, weba...</td>\n    </tr>\n    <tr>\n      <th>784</th>\n      <td>1. division i ishockey 1979-80</td>\n      <td>[InternetArchiveBot]</td>\n      <td>[DM i ishockey, Ishockey i 1979, Ishockey i 19...</td>\n      <td>[0]</td>\n      <td>[dm, ishockey, ishockey, ishockey, sider, weba...</td>\n    </tr>\n  </tbody>\n</table>\n<p>785 rows × 5 columns</p>\n</div>"
     },
     "execution_count": 64,
     "metadata": {},
     "output_type": "execute_result"
    }
   ],
   "source": [
    "pages_dataframe['tokens'] = pages_dataframe['categories'].apply(tokenize_category_list)\n",
    "pages_dataframe"
   ],
   "metadata": {
    "collapsed": false,
    "ExecuteTime": {
     "end_time": "2024-04-14T15:00:25.431709500Z",
     "start_time": "2024-04-14T15:00:25.213082500Z"
    }
   },
   "id": "269e6452d7b82e9e",
   "execution_count": 64
  },
  {
   "cell_type": "code",
   "outputs": [
    {
     "data": {
      "text/plain": "communities\n0    [artikler, musikhenvisninger, wikidata, common...\n1    [intet, lokalt, billede, intet, billede, wikid...\n2    [artikler, musikhenvisninger, wikidata, common...\n3    [intet, lokalt, billede, intet, billede, wikid...\nName: tokens, dtype: object"
     },
     "execution_count": 73,
     "metadata": {},
     "output_type": "execute_result"
    }
   ],
   "source": [
    "corpus = pages_dataframe[['communities','tokens']].explode('communities').groupby('communities')['tokens'].apply(lambda x: list(chain(*x)))\n",
    "corpus"
   ],
   "metadata": {
    "collapsed": false,
    "ExecuteTime": {
     "end_time": "2024-04-14T15:03:34.231566700Z",
     "start_time": "2024-04-14T15:03:34.202077200Z"
    }
   },
   "id": "7a76372eb1c12116",
   "execution_count": 73
  },
  {
   "cell_type": "code",
   "outputs": [],
   "source": [
    "# Returns top k terms as defined by TF-IDF\n",
    "def top_k_terms_TF_IDF(tokens, k, IDF_dict):\n",
    "    tokens, counts = np.unique(tokens, return_counts=True)\n",
    "    tfidf = np.zeros(len(counts))\n",
    "    for i, (token, count) in enumerate(list(zip(tokens, counts))):\n",
    "        tfidf[i] = count * IDF_dict[token]\n",
    "    top_k_idxs = np.argsort(tfidf)[:-(k+1):-1]\n",
    "    return tokens[top_k_idxs]\n",
    "\n",
    "# Returns top k most frequent terms.\n",
    "def top_k_terms_TF(tokens, k):\n",
    "    unique_tokens, counts = np.unique(tokens, return_counts=True)\n",
    "    top_k_idxs = np.argsort(counts)[:-(k+1):-1]\n",
    "    return np.array(unique_tokens)[top_k_idxs]\n",
    "\n",
    "# For the whole corpus define the IDF value for each term and return\n",
    "# the results as a dictionary: {term:IDF}\n",
    "def IDF(corpus):\n",
    "    IDF_dict = defaultdict(lambda: 0)\n",
    "    N = len(corpus)\n",
    "    for doc in corpus:\n",
    "        for term in list(set(doc)):\n",
    "            IDF_dict[term] += 1\n",
    "    return {term: np.log(N / count) for term, count in IDF_dict.items()}"
   ],
   "metadata": {
    "collapsed": false,
    "ExecuteTime": {
     "end_time": "2024-04-24T10:15:55.943850200Z",
     "start_time": "2024-04-24T10:15:55.928803800Z"
    }
   },
   "id": "96a9d6e50de8b1c2",
   "execution_count": 89
  },
  {
   "cell_type": "code",
   "outputs": [],
   "source": [
    "IDF_dict = IDF(corpus)\n",
    "TFIDF_df = pd.DataFrame(data={c: top_k_terms_TF_IDF(corpus[c], 10, IDF_dict) for c in range(4)})\n",
    "TFIDF_df"
   ],
   "metadata": {
    "collapsed": false
   },
   "id": "bb1260163a53dbe7"
  },
  {
   "cell_type": "markdown",
   "source": [
    "### Textual analysis\n",
    "categories\n",
    "edits\n",
    "first line of articles\n",
    "find a few interesting bots"
   ],
   "metadata": {
    "collapsed": false
   },
   "id": "46202eaadfd1be4a"
  },
  {
   "cell_type": "code",
   "outputs": [],
   "source": [
    "stop_words = set(stopwords.words('danish')) | set(stopwords.words('english'))\n",
    "stop_words = stop_words | {'robot','r','tilføjer','ændrer','fjerner'}\n",
    "def tokenize_contributions(contributions, exclude_stop=True):\n",
    "    text = ' '.join(contributions)\n",
    "    text = text.lower()\n",
    "    text = ''.join([char for char in text if (char.isalpha() or char in ' -')])\n",
    "    tokens = word_tokenize(text)\n",
    "    if exclude_stop:\n",
    "        return [token for token in tokens if not token in stop_words]\n",
    "    return tokens"
   ],
   "metadata": {
    "collapsed": false,
    "ExecuteTime": {
     "end_time": "2024-04-24T10:18:19.396693800Z",
     "start_time": "2024-04-24T10:18:19.386515900Z"
    }
   },
   "id": "b1dfa45d4f66eb9",
   "execution_count": 94
  },
  {
   "cell_type": "code",
   "outputs": [
    {
     "name": "stderr",
     "output_type": "stream",
     "text": [
      "\n",
      "100%|██████████| 197/197 [01:58<00:00,  1.67it/s]\n",
      "\n",
      "  1%|          | 2/197 [00:00<00:56,  3.43it/s]\u001B[A\n",
      "  2%|▏         | 3/197 [00:01<01:16,  2.54it/s]\u001B[A\n",
      "  2%|▏         | 4/197 [00:01<01:43,  1.86it/s]\u001B[A\n",
      "  3%|▎         | 5/197 [00:02<01:48,  1.76it/s]\u001B[A\n",
      "  3%|▎         | 6/197 [00:03<01:54,  1.66it/s]\u001B[A\n",
      "  4%|▎         | 7/197 [00:03<01:55,  1.65it/s]\u001B[A\n",
      "  4%|▍         | 8/197 [00:04<02:19,  1.35it/s]\u001B[A\n",
      "  5%|▍         | 9/197 [00:05<02:06,  1.49it/s]\u001B[A\n",
      "  5%|▌         | 10/197 [00:05<01:54,  1.64it/s]\u001B[A\n",
      "  6%|▌         | 11/197 [00:06<01:49,  1.70it/s]\u001B[A\n",
      "  6%|▌         | 12/197 [00:06<01:45,  1.76it/s]\u001B[A\n",
      "  7%|▋         | 13/197 [00:07<01:40,  1.83it/s]\u001B[A\n",
      "  7%|▋         | 14/197 [00:07<01:39,  1.84it/s]\u001B[A\n",
      "  8%|▊         | 15/197 [00:08<01:33,  1.95it/s]\u001B[A\n",
      "  8%|▊         | 16/197 [00:08<01:33,  1.93it/s]\u001B[A\n",
      "  9%|▊         | 17/197 [00:09<01:33,  1.93it/s]\u001B[A\n",
      "  9%|▉         | 18/197 [00:09<01:32,  1.94it/s]\u001B[A\n",
      " 10%|▉         | 19/197 [00:10<01:37,  1.82it/s]\u001B[A\n",
      " 10%|█         | 20/197 [00:11<01:35,  1.85it/s]\u001B[A\n",
      " 11%|█         | 21/197 [00:11<01:39,  1.76it/s]\u001B[A\n",
      " 11%|█         | 22/197 [00:12<01:47,  1.62it/s]\u001B[A\n",
      " 12%|█▏        | 23/197 [00:13<02:04,  1.39it/s]\u001B[A\n",
      " 12%|█▏        | 24/197 [00:13<01:58,  1.47it/s]\u001B[A\n",
      " 13%|█▎        | 25/197 [00:14<01:50,  1.55it/s]\u001B[A\n",
      " 13%|█▎        | 26/197 [00:15<01:45,  1.63it/s]\u001B[A\n",
      " 14%|█▎        | 27/197 [00:15<01:39,  1.70it/s]\u001B[A\n",
      " 14%|█▍        | 28/197 [00:16<01:36,  1.75it/s]\u001B[A\n",
      " 15%|█▍        | 29/197 [00:16<01:35,  1.75it/s]\u001B[A\n",
      " 15%|█▌        | 30/197 [00:17<01:40,  1.66it/s]\u001B[A\n",
      " 16%|█▌        | 31/197 [00:18<01:44,  1.60it/s]\u001B[A\n",
      " 16%|█▌        | 32/197 [00:18<01:40,  1.64it/s]\u001B[A\n",
      " 17%|█▋        | 33/197 [00:19<01:38,  1.67it/s]\u001B[A\n",
      " 17%|█▋        | 34/197 [00:19<01:37,  1.67it/s]\u001B[A\n",
      " 18%|█▊        | 35/197 [00:20<01:40,  1.62it/s]\u001B[A\n",
      " 18%|█▊        | 36/197 [00:21<01:35,  1.68it/s]\u001B[A\n",
      " 19%|█▉        | 37/197 [00:21<01:41,  1.57it/s]\u001B[A\n",
      " 19%|█▉        | 38/197 [00:22<01:44,  1.53it/s]\u001B[A\n",
      " 20%|█▉        | 39/197 [00:23<01:40,  1.57it/s]\u001B[A\n",
      " 20%|██        | 40/197 [00:23<01:40,  1.56it/s]\u001B[A\n",
      " 21%|██        | 41/197 [00:24<01:39,  1.58it/s]\u001B[A\n",
      " 21%|██▏       | 42/197 [00:24<01:34,  1.64it/s]\u001B[A\n",
      " 22%|██▏       | 43/197 [00:25<01:32,  1.67it/s]\u001B[A\n",
      " 22%|██▏       | 44/197 [00:26<01:30,  1.69it/s]\u001B[A\n",
      " 23%|██▎       | 45/197 [00:26<01:29,  1.70it/s]\u001B[A\n",
      " 23%|██▎       | 46/197 [00:27<01:35,  1.58it/s]\u001B[A\n",
      " 24%|██▍       | 47/197 [00:27<01:32,  1.62it/s]\u001B[A\n",
      " 24%|██▍       | 48/197 [00:28<01:34,  1.58it/s]\u001B[A\n",
      " 25%|██▍       | 49/197 [00:29<01:29,  1.65it/s]\u001B[A\n",
      " 25%|██▌       | 50/197 [00:29<01:36,  1.53it/s]\u001B[A\n",
      " 26%|██▌       | 51/197 [00:30<01:28,  1.64it/s]\u001B[A\n",
      " 26%|██▋       | 52/197 [00:30<01:24,  1.72it/s]\u001B[A\n",
      " 27%|██▋       | 53/197 [00:31<01:23,  1.72it/s]\u001B[A\n",
      " 27%|██▋       | 54/197 [00:32<01:20,  1.77it/s]\u001B[A\n",
      " 28%|██▊       | 55/197 [00:32<01:18,  1.80it/s]\u001B[A\n",
      " 28%|██▊       | 56/197 [00:33<01:16,  1.84it/s]\u001B[A\n",
      " 29%|██▉       | 57/197 [00:33<01:10,  1.98it/s]\u001B[A\n",
      " 29%|██▉       | 58/197 [00:34<01:12,  1.91it/s]\u001B[A\n",
      " 30%|██▉       | 59/197 [00:34<01:14,  1.86it/s]\u001B[A\n",
      " 30%|███       | 60/197 [00:35<01:14,  1.85it/s]\u001B[A\n",
      " 31%|███       | 61/197 [00:35<01:15,  1.81it/s]\u001B[A\n",
      " 31%|███▏      | 62/197 [00:36<01:12,  1.86it/s]\u001B[A\n",
      " 32%|███▏      | 63/197 [00:36<01:13,  1.82it/s]\u001B[A\n",
      " 32%|███▏      | 64/197 [00:37<01:15,  1.76it/s]\u001B[A\n",
      " 33%|███▎      | 65/197 [00:38<01:25,  1.55it/s]\u001B[A\n",
      " 34%|███▎      | 66/197 [00:38<01:21,  1.60it/s]\u001B[A\n",
      " 34%|███▍      | 67/197 [00:39<01:14,  1.75it/s]\u001B[A\n",
      " 35%|███▍      | 68/197 [00:39<01:02,  2.08it/s]\u001B[A\n",
      " 35%|███▌      | 69/197 [00:40<01:16,  1.66it/s]\u001B[A\n",
      " 36%|███▌      | 70/197 [00:41<01:15,  1.68it/s]\u001B[A\n",
      " 36%|███▌      | 71/197 [00:41<01:19,  1.59it/s]\u001B[A\n",
      " 37%|███▋      | 72/197 [00:42<01:20,  1.55it/s]\u001B[A\n",
      " 37%|███▋      | 73/197 [00:42<01:17,  1.60it/s]\u001B[A\n",
      " 38%|███▊      | 74/197 [00:43<01:17,  1.58it/s]\u001B[A\n",
      " 38%|███▊      | 75/197 [00:44<01:15,  1.61it/s]\u001B[A\n",
      " 39%|███▊      | 76/197 [00:44<01:17,  1.55it/s]\u001B[A\n",
      " 39%|███▉      | 77/197 [00:45<01:19,  1.52it/s]\u001B[A\n",
      " 40%|███▉      | 78/197 [00:46<01:19,  1.49it/s]\u001B[A\n",
      " 40%|████      | 79/197 [00:46<01:16,  1.54it/s]\u001B[A\n",
      " 41%|████      | 80/197 [00:47<01:16,  1.53it/s]\u001B[A\n",
      " 41%|████      | 81/197 [00:48<01:11,  1.62it/s]\u001B[A\n",
      " 42%|████▏     | 82/197 [00:48<01:12,  1.59it/s]\u001B[A\n",
      " 42%|████▏     | 83/197 [00:49<01:12,  1.58it/s]\u001B[A\n",
      " 43%|████▎     | 84/197 [00:49<01:05,  1.72it/s]\u001B[A\n",
      " 43%|████▎     | 85/197 [00:50<01:02,  1.79it/s]\u001B[A\n",
      " 44%|████▎     | 86/197 [00:50<00:58,  1.90it/s]\u001B[A\n",
      " 44%|████▍     | 87/197 [00:51<00:57,  1.91it/s]\u001B[A\n",
      " 45%|████▍     | 88/197 [00:52<01:07,  1.62it/s]\u001B[A\n",
      " 45%|████▌     | 89/197 [00:52<01:04,  1.67it/s]\u001B[A\n",
      " 46%|████▌     | 90/197 [00:53<01:01,  1.75it/s]\u001B[A\n",
      " 46%|████▌     | 91/197 [00:53<00:59,  1.79it/s]\u001B[A\n",
      " 47%|████▋     | 92/197 [00:54<00:58,  1.81it/s]\u001B[A\n",
      " 47%|████▋     | 93/197 [00:54<00:56,  1.85it/s]\u001B[A\n",
      " 48%|████▊     | 94/197 [00:55<00:55,  1.85it/s]\u001B[A\n",
      " 48%|████▊     | 95/197 [00:55<00:55,  1.83it/s]\u001B[A\n",
      " 49%|████▊     | 96/197 [00:56<00:54,  1.87it/s]\u001B[A\n",
      " 49%|████▉     | 97/197 [00:57<00:54,  1.82it/s]\u001B[A\n",
      " 50%|████▉     | 98/197 [00:57<00:52,  1.88it/s]\u001B[A\n",
      " 50%|█████     | 99/197 [00:58<00:54,  1.79it/s]\u001B[A\n",
      " 51%|█████     | 100/197 [00:58<00:53,  1.82it/s]\u001B[A\n",
      " 51%|█████▏    | 101/197 [00:59<00:51,  1.85it/s]\u001B[A\n",
      " 52%|█████▏    | 102/197 [00:59<00:50,  1.87it/s]\u001B[A\n",
      " 52%|█████▏    | 103/197 [01:00<00:49,  1.91it/s]\u001B[A\n",
      " 53%|█████▎    | 104/197 [01:00<00:48,  1.91it/s]\u001B[A\n",
      " 53%|█████▎    | 105/197 [01:01<00:46,  1.97it/s]\u001B[A\n",
      " 54%|█████▍    | 106/197 [01:01<00:46,  1.97it/s]\u001B[A\n",
      " 54%|█████▍    | 107/197 [01:02<00:46,  1.92it/s]\u001B[A\n",
      " 55%|█████▍    | 108/197 [01:02<00:43,  2.04it/s]\u001B[A\n",
      " 55%|█████▌    | 109/197 [01:03<00:42,  2.05it/s]\u001B[A\n",
      " 56%|█████▌    | 110/197 [01:03<00:44,  1.96it/s]\u001B[A\n",
      " 56%|█████▋    | 111/197 [01:04<00:43,  1.98it/s]\u001B[A\n",
      " 57%|█████▋    | 112/197 [01:04<00:42,  1.99it/s]\u001B[A\n",
      " 57%|█████▋    | 113/197 [01:05<00:42,  1.97it/s]\u001B[A\n",
      " 58%|█████▊    | 114/197 [01:05<00:43,  1.90it/s]\u001B[A\n",
      " 58%|█████▊    | 115/197 [01:06<00:45,  1.79it/s]\u001B[A\n",
      " 59%|█████▉    | 116/197 [01:06<00:45,  1.80it/s]\u001B[A\n",
      " 59%|█████▉    | 117/197 [01:07<00:43,  1.82it/s]\u001B[A\n",
      " 60%|█████▉    | 118/197 [01:08<00:44,  1.78it/s]\u001B[A\n",
      " 60%|██████    | 119/197 [01:08<00:42,  1.83it/s]\u001B[A\n",
      " 61%|██████    | 120/197 [01:09<00:41,  1.85it/s]\u001B[A\n",
      " 61%|██████▏   | 121/197 [01:09<00:35,  2.15it/s]\u001B[A\n",
      " 62%|██████▏   | 122/197 [01:10<00:38,  1.97it/s]\u001B[A\n",
      " 62%|██████▏   | 123/197 [01:10<00:39,  1.88it/s]\u001B[A\n",
      " 63%|██████▎   | 124/197 [01:11<00:35,  2.06it/s]\u001B[A\n",
      " 63%|██████▎   | 125/197 [01:11<00:33,  2.13it/s]\u001B[A\n",
      " 64%|██████▍   | 126/197 [01:11<00:34,  2.08it/s]\u001B[A\n",
      " 64%|██████▍   | 127/197 [01:12<00:34,  2.03it/s]\u001B[A\n",
      " 65%|██████▍   | 128/197 [01:12<00:34,  2.01it/s]\u001B[A\n",
      " 65%|██████▌   | 129/197 [01:13<00:34,  1.95it/s]\u001B[A\n",
      " 66%|██████▌   | 130/197 [01:14<00:41,  1.61it/s]\u001B[A\n",
      " 66%|██████▋   | 131/197 [01:14<00:39,  1.66it/s]\u001B[A\n",
      " 67%|██████▋   | 132/197 [01:15<00:36,  1.77it/s]\u001B[A\n",
      " 68%|██████▊   | 133/197 [01:15<00:36,  1.78it/s]\u001B[A\n",
      " 68%|██████▊   | 134/197 [01:16<00:34,  1.80it/s]\u001B[A\n",
      " 69%|██████▊   | 135/197 [01:17<00:35,  1.76it/s]\u001B[A\n",
      " 69%|██████▉   | 136/197 [01:17<00:33,  1.81it/s]\u001B[A\n",
      " 70%|██████▉   | 137/197 [01:18<00:32,  1.86it/s]\u001B[A\n",
      " 70%|███████   | 138/197 [01:18<00:31,  1.90it/s]\u001B[A\n",
      " 71%|███████   | 139/197 [01:19<00:28,  2.05it/s]\u001B[A\n",
      " 71%|███████   | 140/197 [01:19<00:26,  2.17it/s]\u001B[A\n",
      " 72%|███████▏  | 141/197 [01:19<00:24,  2.29it/s]\u001B[A\n",
      " 72%|███████▏  | 142/197 [01:20<00:25,  2.18it/s]\u001B[A\n",
      " 73%|███████▎  | 143/197 [01:20<00:23,  2.27it/s]\u001B[A\n",
      " 73%|███████▎  | 144/197 [01:21<00:23,  2.28it/s]\u001B[A\n",
      " 74%|███████▎  | 145/197 [01:21<00:23,  2.17it/s]\u001B[A\n",
      " 74%|███████▍  | 146/197 [01:22<00:22,  2.26it/s]\u001B[A\n",
      " 75%|███████▍  | 147/197 [01:22<00:21,  2.38it/s]\u001B[A\n",
      " 75%|███████▌  | 148/197 [01:22<00:20,  2.43it/s]\u001B[A\n",
      " 76%|███████▌  | 149/197 [01:23<00:18,  2.61it/s]\u001B[A\n",
      " 76%|███████▌  | 150/197 [01:23<00:17,  2.64it/s]\u001B[A\n",
      " 77%|███████▋  | 151/197 [01:23<00:16,  2.83it/s]\u001B[A\n",
      " 77%|███████▋  | 152/197 [01:24<00:22,  2.03it/s]\u001B[A\n",
      " 78%|███████▊  | 153/197 [01:24<00:17,  2.46it/s]\u001B[A\n",
      " 78%|███████▊  | 154/197 [01:25<00:18,  2.30it/s]\u001B[A\n",
      " 79%|███████▊  | 155/197 [01:25<00:17,  2.43it/s]\u001B[A\n",
      " 79%|███████▉  | 156/197 [01:25<00:15,  2.67it/s]\u001B[A\n",
      " 80%|███████▉  | 157/197 [01:26<00:16,  2.45it/s]\u001B[A\n",
      " 80%|████████  | 158/197 [01:26<00:14,  2.69it/s]\u001B[A\n",
      " 81%|████████  | 159/197 [01:27<00:13,  2.91it/s]\u001B[A\n",
      " 81%|████████  | 160/197 [01:27<00:10,  3.39it/s]\u001B[A\n",
      " 82%|████████▏ | 161/197 [01:27<00:10,  3.49it/s]\u001B[A\n",
      " 82%|████████▏ | 162/197 [01:27<00:10,  3.45it/s]\u001B[A\n",
      " 83%|████████▎ | 163/197 [01:28<00:09,  3.51it/s]\u001B[A\n",
      " 83%|████████▎ | 164/197 [01:28<00:08,  3.87it/s]\u001B[A\n",
      " 84%|████████▍ | 165/197 [01:28<00:12,  2.65it/s]\u001B[A\n",
      " 84%|████████▍ | 166/197 [01:29<00:10,  2.91it/s]\u001B[A\n",
      " 85%|████████▍ | 167/197 [01:29<00:09,  3.05it/s]\u001B[A\n",
      " 85%|████████▌ | 168/197 [01:29<00:09,  3.12it/s]\u001B[A\n",
      " 86%|████████▌ | 169/197 [01:29<00:07,  3.60it/s]\u001B[A\n",
      " 86%|████████▋ | 170/197 [01:30<00:07,  3.48it/s]\u001B[A\n",
      " 87%|████████▋ | 171/197 [01:30<00:06,  4.01it/s]\u001B[A\n",
      " 87%|████████▋ | 172/197 [01:30<00:05,  4.39it/s]\u001B[A\n",
      " 88%|████████▊ | 173/197 [01:30<00:05,  4.24it/s]\u001B[A\n",
      " 88%|████████▊ | 174/197 [01:31<00:05,  4.13it/s]\u001B[A\n",
      " 89%|████████▉ | 175/197 [01:31<00:04,  4.59it/s]\u001B[A\n",
      " 89%|████████▉ | 176/197 [01:31<00:04,  4.92it/s]\u001B[A\n",
      " 90%|████████▉ | 177/197 [01:31<00:03,  5.15it/s]\u001B[A\n",
      " 90%|█████████ | 178/197 [01:31<00:03,  5.37it/s]\u001B[A\n",
      " 91%|█████████ | 179/197 [01:31<00:03,  5.46it/s]\u001B[A\n",
      " 91%|█████████▏| 180/197 [01:32<00:03,  5.54it/s]\u001B[A\n",
      " 92%|█████████▏| 181/197 [01:32<00:02,  5.60it/s]\u001B[A\n",
      " 92%|█████████▏| 182/197 [01:32<00:02,  5.68it/s]\u001B[A\n",
      " 93%|█████████▎| 183/197 [01:32<00:02,  5.87it/s]\u001B[A\n",
      " 93%|█████████▎| 184/197 [01:32<00:02,  5.92it/s]\u001B[A\n",
      " 94%|█████████▍| 185/197 [01:32<00:02,  5.93it/s]\u001B[A\n",
      " 94%|█████████▍| 186/197 [01:33<00:01,  5.94it/s]\u001B[A\n",
      " 95%|█████████▍| 187/197 [01:33<00:01,  5.95it/s]\u001B[A\n",
      " 95%|█████████▌| 188/197 [01:33<00:01,  5.98it/s]\u001B[A\n",
      " 96%|█████████▌| 189/197 [01:33<00:01,  5.81it/s]\u001B[A\n",
      " 96%|█████████▋| 190/197 [01:33<00:01,  5.59it/s]\u001B[A\n",
      " 97%|█████████▋| 191/197 [01:34<00:01,  5.76it/s]\u001B[A\n",
      " 97%|█████████▋| 192/197 [01:34<00:00,  5.78it/s]\u001B[A\n",
      " 98%|█████████▊| 193/197 [01:34<00:00,  5.81it/s]\u001B[A\n",
      " 98%|█████████▊| 194/197 [01:34<00:00,  6.01it/s]\u001B[A\n",
      " 99%|█████████▉| 195/197 [01:34<00:00,  5.96it/s]\u001B[A\n",
      " 99%|█████████▉| 196/197 [01:34<00:00,  6.02it/s]\u001B[A\n",
      "100%|██████████| 197/197 [01:34<00:00,  6.18it/s]\u001B[A"
     ]
    }
   ],
   "source": [
    "pbar = tqdm(total=bots_dataframe.shape[0])\n",
    "def top_k_tokens(bot_name, k=10):\n",
    "    pbar.update(1)\n",
    "    site = pywikibot.Site('da', 'wikipedia')\n",
    "    bot = pywikibot.User(site, bot_name)\n",
    "    contributions = list(bot.contributions())\n",
    "    contributions_text = [c[-1] for c in contributions]\n",
    "    tokens = tokenize_contributions(contributions_text)\n",
    "    return top_k_terms_TF(tokens, k)\n",
    "\n",
    "bots_dataframe['top 10 tokens'] = bots_dataframe['name'].apply(top_k_tokens)"
   ],
   "metadata": {
    "collapsed": false,
    "ExecuteTime": {
     "end_time": "2024-04-24T10:19:59.124078200Z",
     "start_time": "2024-04-24T10:18:23.966290500Z"
    }
   },
   "id": "7fceea8ebd0ebd37",
   "execution_count": 95
  },
  {
   "cell_type": "code",
   "outputs": [
    {
     "data": {
      "text/plain": "community\n0    [ændre, opdatering, data, erstatter, nyeste, t...\n1    [ved, kategori, enwpawbawb, brug, eksterne, he...\nName: top 10 tokens, dtype: object"
     },
     "execution_count": 98,
     "metadata": {},
     "output_type": "execute_result"
    }
   ],
   "source": [
    "corpus = bots_dataframe.groupby('community')['top 10 tokens'].apply(lambda x: list(chain(*x)))\n",
    "corpus"
   ],
   "metadata": {
    "collapsed": false,
    "ExecuteTime": {
     "end_time": "2024-04-24T10:21:58.708149500Z",
     "start_time": "2024-04-24T10:21:58.682989100Z"
    }
   },
   "id": "601211acb4f84683",
   "execution_count": 98
  },
  {
   "cell_type": "code",
   "outputs": [
    {
     "data": {
      "text/plain": "    0   1\n0  fr  ru\n1  es  es\n2  ru  fr\n3  pl  pl\n4  sv  pt\n5  ja  ja\n6  pt  fi\n7  nl  nl\n8  fi  sv\n9   -  di",
      "text/html": "<div>\n<style scoped>\n    .dataframe tbody tr th:only-of-type {\n        vertical-align: middle;\n    }\n\n    .dataframe tbody tr th {\n        vertical-align: top;\n    }\n\n    .dataframe thead th {\n        text-align: right;\n    }\n</style>\n<table border=\"1\" class=\"dataframe\">\n  <thead>\n    <tr style=\"text-align: right;\">\n      <th></th>\n      <th>0</th>\n      <th>1</th>\n    </tr>\n  </thead>\n  <tbody>\n    <tr>\n      <th>0</th>\n      <td>fr</td>\n      <td>ru</td>\n    </tr>\n    <tr>\n      <th>1</th>\n      <td>es</td>\n      <td>es</td>\n    </tr>\n    <tr>\n      <th>2</th>\n      <td>ru</td>\n      <td>fr</td>\n    </tr>\n    <tr>\n      <th>3</th>\n      <td>pl</td>\n      <td>pl</td>\n    </tr>\n    <tr>\n      <th>4</th>\n      <td>sv</td>\n      <td>pt</td>\n    </tr>\n    <tr>\n      <th>5</th>\n      <td>ja</td>\n      <td>ja</td>\n    </tr>\n    <tr>\n      <th>6</th>\n      <td>pt</td>\n      <td>fi</td>\n    </tr>\n    <tr>\n      <th>7</th>\n      <td>nl</td>\n      <td>nl</td>\n    </tr>\n    <tr>\n      <th>8</th>\n      <td>fi</td>\n      <td>sv</td>\n    </tr>\n    <tr>\n      <th>9</th>\n      <td>-</td>\n      <td>di</td>\n    </tr>\n  </tbody>\n</table>\n</div>"
     },
     "execution_count": 101,
     "metadata": {},
     "output_type": "execute_result"
    }
   ],
   "source": [
    "IDF_dict = IDF(corpus)\n",
    "TF_df = pd.DataFrame(data={c: top_k_terms_TF(corpus[c], 10) for c in range(2)})\n",
    "TF_df"
   ],
   "metadata": {
    "collapsed": false,
    "ExecuteTime": {
     "end_time": "2024-04-24T10:23:06.136702900Z",
     "start_time": "2024-04-24T10:23:06.089092700Z"
    }
   },
   "id": "897f474038fcd3b1",
   "execution_count": 101
  },
  {
   "cell_type": "markdown",
   "source": [
    "## 3. Tools, theory and analysis. Describe the process of theory to insight\n",
    "Talk about how you’ve worked with text, including regular expressions, unicode, etc.\n",
    "Describe which network science tools and data analysis strategies you’ve used, how those network science measures work, and why the tools you’ve chosen are right for the problem you’re solving.\n",
    "How did you use the tools to understand your dataset?\n",
    "\n",
    "The network analysis has provided us with insights into the way the bots collaborate, and how they behave. By looking at the degree distribution...\n",
    "\n",
    "The textual analysis posed an interesting problem in this project. Most of what the bots are doing have less to do with writing articles, and more to do with maintaining and updating the metadata and structure of the articles. Luckily, the edits they perform come with more or less descriptive messages, which we have used to get a sense of the purpose of each bot. \n",
    "\n"
   ],
   "metadata": {
    "collapsed": false
   },
   "id": "4e4f2c1b047711fd"
  },
  {
   "cell_type": "markdown",
   "source": [
    "## 4. Discussion. Think critically about your creation\n",
    "What went well?\n",
    "What is still missing? What could be improved? Why?"
   ],
   "metadata": {
    "collapsed": false
   },
   "id": "e81d3f1e08e4bc63"
  }
 ],
 "metadata": {
  "kernelspec": {
   "display_name": "Python 3",
   "language": "python",
   "name": "python3"
  },
  "language_info": {
   "codemirror_mode": {
    "name": "ipython",
    "version": 2
   },
   "file_extension": ".py",
   "mimetype": "text/x-python",
   "name": "python",
   "nbconvert_exporter": "python",
   "pygments_lexer": "ipython2",
   "version": "2.7.6"
  }
 },
 "nbformat": 4,
 "nbformat_minor": 5
}
