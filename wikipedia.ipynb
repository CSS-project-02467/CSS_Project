{
 "cells": [
  {
   "cell_type": "markdown",
   "source": [
    "Ide: tag dansk-sproget wikipedia, find alle brugere og lav netværk over brugere, der har redigeret de samme artikler. Derefter, få lix-tal eller lignende fra alle artikler, og se om der er sammenhæng... Eller groupér efter konnektivitet, og se på sammenhængen i grupperne baseret på keywords i artiklerne, eller fordelingen af kategorier.\n",
    "\n",
    "X Filter navne med bot eller ip-adresser.\n",
    "X Få data\n",
    "X Konstruer graf\n",
    "X Cluster\n",
    "O Test clusters for modularity mod random graphs\n",
    "O Test text similarity mellem og indenfor clusters\n",
    "O Find kategorier for clusters"
   ],
   "metadata": {
    "collapsed": false
   },
   "id": "4e93c78f45b5dd7a"
  },
  {
   "cell_type": "code",
   "outputs": [],
   "source": [
    "import pandas as pd\n",
    "from bs4 import BeautifulSoup\n",
    "import requests\n",
    "from itertools import chain\n",
    "from nltk import word_tokenize\n",
    "from itertools import combinations\n",
    "from functools import reduce\n",
    "from collections import defaultdict\n",
    "import re\n",
    "import numpy as np\n",
    "from sklearn.cluster import SpectralClustering\n",
    "from sklearn import metrics\n",
    "import pywikibot\n",
    "import networkx as nx\n",
    "from tqdm import tqdm\n",
    "from joblib import Parallel, delayed\n",
    "from pywikibot import pagegenerators\n",
    "import nltk\n",
    "from datetime import datetime, timedelta\n",
    "from nltk.tokenize import MWETokenizer\n",
    "from nltk.corpus import stopwords\n",
    "from nltk import word_tokenize\n",
    "from netwulf import visualize\n",
    "from sklearn.metrics.pairwise import cosine_similarity\n",
    "from sklearn.feature_extraction.text import CountVectorizer\n",
    "import community as community_louvain"
   ],
   "metadata": {
    "collapsed": false,
    "ExecuteTime": {
     "end_time": "2024-04-14T15:10:52.493701100Z",
     "start_time": "2024-04-14T15:10:51.143627200Z"
    }
   },
   "id": "6b63d2710d72adb8",
   "execution_count": 75
  },
  {
   "cell_type": "code",
   "outputs": [
    {
     "name": "stderr",
     "output_type": "stream",
     "text": [
      "[nltk_data] Downloading package punkt to\n",
      "[nltk_data]     C:\\Users\\nikol\\AppData\\Roaming\\nltk_data...\n",
      "[nltk_data]   Package punkt is already up-to-date!\n",
      "[nltk_data] Downloading package stopwords to\n",
      "[nltk_data]     C:\\Users\\nikol\\AppData\\Roaming\\nltk_data...\n",
      "[nltk_data]   Package stopwords is already up-to-date!\n"
     ]
    },
    {
     "data": {
      "text/plain": "True"
     },
     "execution_count": 2,
     "metadata": {},
     "output_type": "execute_result"
    }
   ],
   "source": [
    "nltk.download('punkt')\n",
    "nltk.download('stopwords')"
   ],
   "metadata": {
    "collapsed": false,
    "ExecuteTime": {
     "end_time": "2024-04-14T13:12:41.858876500Z",
     "start_time": "2024-04-14T13:12:41.180044200Z"
    }
   },
   "id": "50c4ca14d563c945",
   "execution_count": 2
  },
  {
   "cell_type": "markdown",
   "source": [
    "### Getting data"
   ],
   "metadata": {
    "collapsed": false
   },
   "id": "546fd5f1a8115016"
  },
  {
   "cell_type": "code",
   "outputs": [],
   "source": [
    "def isbot(string):\n",
    "    return 'bot' in string.lower()\n",
    "\n",
    "def get_user_contributions(username):\n",
    "    site = pywikibot.Site('da', 'wikipedia')\n",
    "    user = pywikibot.User(site, username)\n",
    "    contributions = user.contributions(total=500)\n",
    "    articles = [contrib[0].title() for contrib in contributions \n",
    "                if ':' not in contrib[0].title()]\n",
    "    return articles\n",
    "\n",
    "def get_page_contributors(pagename):\n",
    "    site = pywikibot.Site('da', 'wikipedia')\n",
    "    page = pywikibot.Page(site, pagename)\n",
    "    contributors = page.contributors()\n",
    "    # Implement botfilter\n",
    "    usernames = [user for user in contributors if isbot(user)]\n",
    "    return {pagename: usernames}"
   ],
   "metadata": {
    "collapsed": false,
    "ExecuteTime": {
     "end_time": "2024-04-14T13:32:47.878262400Z",
     "start_time": "2024-04-14T13:32:47.846405100Z"
    }
   },
   "id": "6edca597f5ab0a6",
   "execution_count": 2
  },
  {
   "cell_type": "code",
   "outputs": [
    {
     "name": "stdout",
     "output_type": "stream",
     "text": [
      "10\n",
      "20\n",
      "30\n",
      "40\n",
      "50\n",
      "60\n",
      "70\n",
      "80\n",
      "90\n",
      "100\n",
      "110\n",
      "120\n",
      "130\n",
      "140\n",
      "150\n",
      "160\n",
      "170\n",
      "180\n",
      "190\n",
      "200\n",
      "210\n",
      "220\n",
      "230\n",
      "240\n",
      "250\n",
      "260\n",
      "270\n",
      "280\n",
      "290\n",
      "300\n",
      "310\n",
      "320\n",
      "330\n",
      "340\n",
      "350\n",
      "360\n",
      "370\n",
      "380\n",
      "390\n",
      "400\n",
      "410\n",
      "420\n",
      "430\n",
      "440\n",
      "450\n",
      "460\n",
      "470\n",
      "480\n",
      "490\n",
      "500\n",
      "510\n",
      "520\n",
      "530\n",
      "540\n",
      "550\n",
      "560\n",
      "570\n",
      "580\n",
      "590\n",
      "600\n",
      "610\n",
      "620\n",
      "630\n",
      "640\n",
      "650\n",
      "660\n",
      "670\n",
      "680\n",
      "690\n",
      "700\n",
      "710\n",
      "720\n",
      "730\n",
      "740\n",
      "750\n",
      "760\n",
      "770\n",
      "780\n",
      "790\n",
      "800\n",
      "810\n",
      "820\n",
      "830\n",
      "840\n",
      "850\n",
      "860\n",
      "870\n",
      "880\n",
      "890\n",
      "900\n",
      "910\n",
      "920\n",
      "930\n",
      "940\n",
      "950\n",
      "960\n",
      "970\n",
      "980\n",
      "990\n",
      "1000\n"
     ]
    },
    {
     "data": {
      "text/plain": "                                             name  \\\n0                                             !!!   \n1    \"Fjerne Israel fra landkortet\"- kontroversen   \n2     \"Fjerne Israel fra landkortet\"-bemærkningen   \n3                                 \"Gråt\" rumvæsen   \n4                                        \"Heroes\"   \n..                                            ...   \n780                1. division i ishockey 1975-76   \n781                1. division i ishockey 1976-77   \n782                1. division i ishockey 1977-78   \n783                1. division i ishockey 1978-79   \n784                1. division i ishockey 1979-80   \n\n                                                  bots  \\\n0    [Steenthbot, MGA73bot, Addbot, Luckas-bot, Luc...   \n1                                              [Xqbot]   \n2                                    [Xqbot, Broadbot]   \n3                                              [Xqbot]   \n4    [InternetArchiveBot, MGA73bot, Steenthbot, Dip...   \n..                                                 ...   \n780                               [InternetArchiveBot]   \n781                               [InternetArchiveBot]   \n782                               [InternetArchiveBot]   \n783                               [InternetArchiveBot]   \n784                               [InternetArchiveBot]   \n\n                                            categories  \n0    [[[da:Kategori:Artikler med musikhenvisninger ...  \n1                                                   []  \n2                                                   []  \n3                                                   []  \n4    [[[da:Kategori:Album fra 1977]], [[da:Kategori...  \n..                                                 ...  \n780  [[[da:Kategori:DM i ishockey]], [[da:Kategori:...  \n781  [[[da:Kategori:DM i ishockey]], [[da:Kategori:...  \n782  [[[da:Kategori:DM i ishockey]], [[da:Kategori:...  \n783  [[[da:Kategori:DM i ishockey]], [[da:Kategori:...  \n784  [[[da:Kategori:DM i ishockey]], [[da:Kategori:...  \n\n[785 rows x 3 columns]",
      "text/html": "<div>\n<style scoped>\n    .dataframe tbody tr th:only-of-type {\n        vertical-align: middle;\n    }\n\n    .dataframe tbody tr th {\n        vertical-align: top;\n    }\n\n    .dataframe thead th {\n        text-align: right;\n    }\n</style>\n<table border=\"1\" class=\"dataframe\">\n  <thead>\n    <tr style=\"text-align: right;\">\n      <th></th>\n      <th>name</th>\n      <th>bots</th>\n      <th>categories</th>\n    </tr>\n  </thead>\n  <tbody>\n    <tr>\n      <th>0</th>\n      <td>!!!</td>\n      <td>[Steenthbot, MGA73bot, Addbot, Luckas-bot, Luc...</td>\n      <td>[[[da:Kategori:Artikler med musikhenvisninger ...</td>\n    </tr>\n    <tr>\n      <th>1</th>\n      <td>\"Fjerne Israel fra landkortet\"- kontroversen</td>\n      <td>[Xqbot]</td>\n      <td>[]</td>\n    </tr>\n    <tr>\n      <th>2</th>\n      <td>\"Fjerne Israel fra landkortet\"-bemærkningen</td>\n      <td>[Xqbot, Broadbot]</td>\n      <td>[]</td>\n    </tr>\n    <tr>\n      <th>3</th>\n      <td>\"Gråt\" rumvæsen</td>\n      <td>[Xqbot]</td>\n      <td>[]</td>\n    </tr>\n    <tr>\n      <th>4</th>\n      <td>\"Heroes\"</td>\n      <td>[InternetArchiveBot, MGA73bot, Steenthbot, Dip...</td>\n      <td>[[[da:Kategori:Album fra 1977]], [[da:Kategori...</td>\n    </tr>\n    <tr>\n      <th>...</th>\n      <td>...</td>\n      <td>...</td>\n      <td>...</td>\n    </tr>\n    <tr>\n      <th>780</th>\n      <td>1. division i ishockey 1975-76</td>\n      <td>[InternetArchiveBot]</td>\n      <td>[[[da:Kategori:DM i ishockey]], [[da:Kategori:...</td>\n    </tr>\n    <tr>\n      <th>781</th>\n      <td>1. division i ishockey 1976-77</td>\n      <td>[InternetArchiveBot]</td>\n      <td>[[[da:Kategori:DM i ishockey]], [[da:Kategori:...</td>\n    </tr>\n    <tr>\n      <th>782</th>\n      <td>1. division i ishockey 1977-78</td>\n      <td>[InternetArchiveBot]</td>\n      <td>[[[da:Kategori:DM i ishockey]], [[da:Kategori:...</td>\n    </tr>\n    <tr>\n      <th>783</th>\n      <td>1. division i ishockey 1978-79</td>\n      <td>[InternetArchiveBot]</td>\n      <td>[[[da:Kategori:DM i ishockey]], [[da:Kategori:...</td>\n    </tr>\n    <tr>\n      <th>784</th>\n      <td>1. division i ishockey 1979-80</td>\n      <td>[InternetArchiveBot]</td>\n      <td>[[[da:Kategori:DM i ishockey]], [[da:Kategori:...</td>\n    </tr>\n  </tbody>\n</table>\n<p>785 rows × 3 columns</p>\n</div>"
     },
     "execution_count": 3,
     "metadata": {},
     "output_type": "execute_result"
    }
   ],
   "source": [
    "site = pywikibot.Site('da', 'wikipedia')\n",
    "all_pages_gen = site.allpages()\n",
    "def get_page_info(page):\n",
    "    contributors = list(page.contributors())\n",
    "    bots = [c for c in contributors if isbot(c)]\n",
    "    return {'name': page.title(), 'bots': bots, 'categories': list(page.categories())}\n",
    "\n",
    "parallel = Parallel(n_jobs=-2, return_as = \"generator\")\n",
    "data = parallel(delayed(get_page_info)(page)\n",
    "                               for i, page in enumerate(all_pages_gen))\n",
    "page_data = []\n",
    "counter = 0\n",
    "print_every = 10\n",
    "break_when = 1000\n",
    "while True:\n",
    "    try:\n",
    "        page = next(data)\n",
    "        if not page['bots'] == []:\n",
    "            page_data += [page]\n",
    "        counter += 1\n",
    "        if counter % print_every == 0:\n",
    "            print(counter)\n",
    "        if counter == break_when:\n",
    "            break\n",
    "    except StopIteration:\n",
    "        print('Done')\n",
    "        break\n",
    "        \n",
    "pages_dataframe = pd.DataFrame(page_data)\n",
    "pd.to_pickle(pages_dataframe, 'pages_dataframe')\n",
    "pages_dataframe"
   ],
   "metadata": {
    "collapsed": false,
    "ExecuteTime": {
     "end_time": "2024-04-14T13:34:22.094971Z",
     "start_time": "2024-04-14T13:32:55.824734600Z"
    }
   },
   "id": "fe1f046112fa4f9a",
   "execution_count": 3
  },
  {
   "cell_type": "code",
   "outputs": [],
   "source": [
    "pages_dataframe['categories'] = pages_dataframe['categories'].apply(lambda categories: [category.title()[9:] for category in categories])"
   ],
   "metadata": {
    "collapsed": false,
    "ExecuteTime": {
     "end_time": "2024-04-14T14:50:20.675418500Z",
     "start_time": "2024-04-14T14:50:20.655335400Z"
    }
   },
   "id": "94ad026dd499379a",
   "execution_count": 47
  },
  {
   "cell_type": "code",
   "outputs": [
    {
     "data": {
      "text/plain": "                   name  count\n0            Steenthbot    634\n1                Addbot    415\n2                 Xqbot    378\n3              WeggeBot    365\n4            Luckas-bot    339\n..                  ...    ...\n155  Le Pied-bot~dawiki      1\n156           AsgardBot      1\n157          NjardarBot      1\n158          WinstonBot      1\n159             Ver-bot      1\n\n[160 rows x 2 columns]",
      "text/html": "<div>\n<style scoped>\n    .dataframe tbody tr th:only-of-type {\n        vertical-align: middle;\n    }\n\n    .dataframe tbody tr th {\n        vertical-align: top;\n    }\n\n    .dataframe thead th {\n        text-align: right;\n    }\n</style>\n<table border=\"1\" class=\"dataframe\">\n  <thead>\n    <tr style=\"text-align: right;\">\n      <th></th>\n      <th>name</th>\n      <th>count</th>\n    </tr>\n  </thead>\n  <tbody>\n    <tr>\n      <th>0</th>\n      <td>Steenthbot</td>\n      <td>634</td>\n    </tr>\n    <tr>\n      <th>1</th>\n      <td>Addbot</td>\n      <td>415</td>\n    </tr>\n    <tr>\n      <th>2</th>\n      <td>Xqbot</td>\n      <td>378</td>\n    </tr>\n    <tr>\n      <th>3</th>\n      <td>WeggeBot</td>\n      <td>365</td>\n    </tr>\n    <tr>\n      <th>4</th>\n      <td>Luckas-bot</td>\n      <td>339</td>\n    </tr>\n    <tr>\n      <th>...</th>\n      <td>...</td>\n      <td>...</td>\n    </tr>\n    <tr>\n      <th>155</th>\n      <td>Le Pied-bot~dawiki</td>\n      <td>1</td>\n    </tr>\n    <tr>\n      <th>156</th>\n      <td>AsgardBot</td>\n      <td>1</td>\n    </tr>\n    <tr>\n      <th>157</th>\n      <td>NjardarBot</td>\n      <td>1</td>\n    </tr>\n    <tr>\n      <th>158</th>\n      <td>WinstonBot</td>\n      <td>1</td>\n    </tr>\n    <tr>\n      <th>159</th>\n      <td>Ver-bot</td>\n      <td>1</td>\n    </tr>\n  </tbody>\n</table>\n<p>160 rows × 2 columns</p>\n</div>"
     },
     "execution_count": 5,
     "metadata": {},
     "output_type": "execute_result"
    }
   ],
   "source": [
    "bots_dataframe = pd.DataFrame(pages_dataframe['bots'].explode().value_counts())\n",
    "bots_dataframe = bots_dataframe.rename_axis('name')\n",
    "bots_dataframe = bots_dataframe.reset_index()\n",
    "pd.to_pickle(bots_dataframe, 'bots_dataframe')\n",
    "bots_dataframe"
   ],
   "metadata": {
    "collapsed": false,
    "ExecuteTime": {
     "end_time": "2024-04-14T13:34:38.450547500Z",
     "start_time": "2024-04-14T13:34:38.383395100Z"
    }
   },
   "id": "522479d8a42104ce",
   "execution_count": 5
  },
  {
   "cell_type": "code",
   "outputs": [
    {
     "data": {
      "text/plain": "                   name  count  edit_count\n0            Steenthbot    634      751514\n1                Addbot    415      151154\n2                 Xqbot    378      137057\n3              WeggeBot    365       67893\n4            Luckas-bot    339      194041\n..                  ...    ...         ...\n155  Le Pied-bot~dawiki      1        1922\n156           AsgardBot      1          36\n157          NjardarBot      1        2912\n158          WinstonBot      1          28\n159             Ver-bot      1         152\n\n[160 rows x 3 columns]",
      "text/html": "<div>\n<style scoped>\n    .dataframe tbody tr th:only-of-type {\n        vertical-align: middle;\n    }\n\n    .dataframe tbody tr th {\n        vertical-align: top;\n    }\n\n    .dataframe thead th {\n        text-align: right;\n    }\n</style>\n<table border=\"1\" class=\"dataframe\">\n  <thead>\n    <tr style=\"text-align: right;\">\n      <th></th>\n      <th>name</th>\n      <th>count</th>\n      <th>edit_count</th>\n    </tr>\n  </thead>\n  <tbody>\n    <tr>\n      <th>0</th>\n      <td>Steenthbot</td>\n      <td>634</td>\n      <td>751514</td>\n    </tr>\n    <tr>\n      <th>1</th>\n      <td>Addbot</td>\n      <td>415</td>\n      <td>151154</td>\n    </tr>\n    <tr>\n      <th>2</th>\n      <td>Xqbot</td>\n      <td>378</td>\n      <td>137057</td>\n    </tr>\n    <tr>\n      <th>3</th>\n      <td>WeggeBot</td>\n      <td>365</td>\n      <td>67893</td>\n    </tr>\n    <tr>\n      <th>4</th>\n      <td>Luckas-bot</td>\n      <td>339</td>\n      <td>194041</td>\n    </tr>\n    <tr>\n      <th>...</th>\n      <td>...</td>\n      <td>...</td>\n      <td>...</td>\n    </tr>\n    <tr>\n      <th>155</th>\n      <td>Le Pied-bot~dawiki</td>\n      <td>1</td>\n      <td>1922</td>\n    </tr>\n    <tr>\n      <th>156</th>\n      <td>AsgardBot</td>\n      <td>1</td>\n      <td>36</td>\n    </tr>\n    <tr>\n      <th>157</th>\n      <td>NjardarBot</td>\n      <td>1</td>\n      <td>2912</td>\n    </tr>\n    <tr>\n      <th>158</th>\n      <td>WinstonBot</td>\n      <td>1</td>\n      <td>28</td>\n    </tr>\n    <tr>\n      <th>159</th>\n      <td>Ver-bot</td>\n      <td>1</td>\n      <td>152</td>\n    </tr>\n  </tbody>\n</table>\n<p>160 rows × 3 columns</p>\n</div>"
     },
     "execution_count": 7,
     "metadata": {},
     "output_type": "execute_result"
    }
   ],
   "source": [
    "def get_bot_data(bot_name):\n",
    "    site = pywikibot.Site('da', 'wikipedia')\n",
    "    bot = pywikibot.User(site, bot_name)\n",
    "    edit_count = bot.editCount()\n",
    "    return {'edit_count': edit_count}\n",
    "\n",
    "bots_dataframe = pd.concat([bots_dataframe, bots_dataframe['name'].apply(lambda x: pd.Series(get_bot_data(x)))], axis=1)\n",
    "bots_dataframe"
   ],
   "metadata": {
    "collapsed": false,
    "ExecuteTime": {
     "end_time": "2024-04-14T13:36:12.839010900Z",
     "start_time": "2024-04-14T13:35:37.039711600Z"
    }
   },
   "id": "71c37f32783f168f",
   "execution_count": 7
  },
  {
   "cell_type": "code",
   "outputs": [
    {
     "name": "stdout",
     "output_type": "stream",
     "text": [
      "470'erne f.Kr.\n"
     ]
    },
    {
     "data": {
      "text/plain": "[Category('Kategori:5. århundrede f.Kr.'), Category('Kategori:Årtier')]"
     },
     "execution_count": 85,
     "metadata": {},
     "output_type": "execute_result"
    }
   ],
   "source": [
    "p = next(iter(all_pages_gen))\n",
    "print(p.title())\n",
    "list(p.categories())"
   ],
   "metadata": {
    "collapsed": false,
    "ExecuteTime": {
     "end_time": "2024-04-14T12:55:01.377856500Z",
     "start_time": "2024-04-14T12:55:01.005877Z"
    }
   },
   "id": "4992dd52a6c0adfd",
   "execution_count": 85
  },
  {
   "cell_type": "code",
   "outputs": [
    {
     "data": {
      "text/plain": "[Category('Kategori:Artikler med musikhenvisninger fra Wikidata'),\n Category('Kategori:Commons-kategori på Wikidata er ens med sidetitel'),\n Category('Kategori:Lokalt billede forskelligt fra Wikidata'),\n Category('Kategori:Musikgrupper fra USA'),\n Category('Kategori:Påbegyndte artikler (samlet liste)'),\n Category('Kategori:Påbegyndte artikler om musikgrupper fra USA'),\n Category('Kategori:Wikipedia artikler med BNF autoritetsdata-ID'),\n Category('Kategori:Wikipedia artikler med GND autoritetsdata-ID'),\n Category('Kategori:Wikipedia artikler med ISNI autoritetsdata-ID'),\n Category('Kategori:Wikipedia artikler med LCCN autoritetsdata-ID'),\n Category('Kategori:Wikipedia artikler med MusicBrainz autoritetsdata-ID'),\n Category('Kategori:Wikipedia artikler med VIAF autoritetsdata-ID')]"
     },
     "execution_count": 40,
     "metadata": {},
     "output_type": "execute_result"
    }
   ],
   "source": [
    "list(pages_dataframe['categories'][0])"
   ],
   "metadata": {
    "collapsed": false,
    "ExecuteTime": {
     "end_time": "2024-04-14T14:46:06.353697100Z",
     "start_time": "2024-04-14T14:46:06.306875400Z"
    }
   },
   "id": "a01e79ab6da7428a",
   "execution_count": 40
  },
  {
   "cell_type": "markdown",
   "source": [
    "### Dataframes"
   ],
   "metadata": {
    "collapsed": false
   },
   "id": "294fff88258617af"
  },
  {
   "cell_type": "markdown",
   "source": [
    "### Graph construction"
   ],
   "metadata": {
    "collapsed": false
   },
   "id": "12717bdf42b55456"
  },
  {
   "cell_type": "code",
   "outputs": [],
   "source": [
    "edge_dict = defaultdict(lambda: {'pages':[],'n_pages':0})\n",
    "\n",
    "def page_edges(page):\n",
    "    contributors = page['bots']\n",
    "    if len(contributors) < 2:\n",
    "        return []\n",
    "    contributors.sort()\n",
    "    contributor_pairs = list(combinations(contributors, r=2))\n",
    "    for contributor_pair in contributor_pairs:\n",
    "        edge_dict[contributor_pair]['pages'].append(page['name'])\n",
    "        edge_dict[contributor_pair]['n_pages'] += 1\n",
    "\n",
    "pages_dataframe.apply(page_edges, axis=1)\n",
    "G = nx.Graph()\n",
    "G.add_edges_from(edge_dict.keys())\n",
    "nx.set_edge_attributes(G, edge_dict)"
   ],
   "metadata": {
    "collapsed": false,
    "ExecuteTime": {
     "end_time": "2024-04-14T13:49:27.668886200Z",
     "start_time": "2024-04-14T13:49:27.026508300Z"
    }
   },
   "id": "f5cc5da1c44a5c08",
   "execution_count": 15
  },
  {
   "cell_type": "code",
   "outputs": [
    {
     "data": {
      "text/plain": "160"
     },
     "execution_count": 17,
     "metadata": {},
     "output_type": "execute_result"
    }
   ],
   "source": [
    "len(bots_dataframe)"
   ],
   "metadata": {
    "collapsed": false,
    "ExecuteTime": {
     "end_time": "2024-04-14T13:49:42.279725400Z",
     "start_time": "2024-04-14T13:49:42.267053Z"
    }
   },
   "id": "f8995873f4dc3eaa",
   "execution_count": 17
  },
  {
   "cell_type": "code",
   "outputs": [
    {
     "data": {
      "text/plain": "6824"
     },
     "execution_count": 18,
     "metadata": {},
     "output_type": "execute_result"
    }
   ],
   "source": [
    "len(G.edges)"
   ],
   "metadata": {
    "collapsed": false,
    "ExecuteTime": {
     "end_time": "2024-04-14T13:50:05.668177600Z",
     "start_time": "2024-04-14T13:50:05.655069900Z"
    }
   },
   "id": "87948a7aef43baf3",
   "execution_count": 18
  },
  {
   "cell_type": "code",
   "outputs": [
    {
     "data": {
      "text/plain": "{('Addbot', 'LucienBOT'): 86,\n ('Addbot', 'Luckas-bot'): 325,\n ('Addbot', 'MGA73bot'): 80,\n ('Addbot', 'Steenthbot'): 385,\n ('Addbot', 'Broadbot'): 85,\n ('Addbot', 'VolkovBot'): 293,\n ('Addbot', 'Alecs.bot'): 9,\n ('Addbot', 'LaaknorBot'): 32,\n ('Addbot', 'RedBot'): 36,\n ('Addbot', 'SieBot'): 300,\n ('Addbot', 'TXiKiBoT'): 317,\n ('Addbot', 'Thijs!bot'): 332,\n ('Addbot', 'WeggeBot'): 347,\n ('Addbot', 'Zorrobot'): 35,\n ('Addbot', 'AlleborgoBot'): 73,\n ('Addbot', 'Bot-Schafter'): 5,\n ('Addbot', 'BotMultichill'): 59,\n ('Addbot', 'ChuispastonBot'): 196,\n ('Addbot', 'DumZiBoT'): 8,\n ('Addbot', 'EmausBot'): 288,\n ('Addbot', 'FlaBot'): 178,\n ('Addbot', 'FribergBot'): 2,\n ('Addbot', 'InternetArchiveBot'): 74,\n ('Addbot', 'JAnDbot'): 302,\n ('Addbot', 'LinkFA-Bot'): 6,\n ('Addbot', 'Louperibot'): 81,\n ('Addbot', 'MastiBot'): 16,\n ('Addbot', 'MerlIwBot'): 71,\n ('Addbot', 'Nallimbot'): 14,\n ('Addbot', 'Nobot~dawiki'): 212,\n ('Addbot', 'RibotBOT'): 12,\n ('Addbot', 'RobotQuistnix'): 18,\n ('Addbot', 'SilvonenBot'): 22,\n ('Addbot', 'Tsca.bot'): 2,\n ('Addbot', 'Xqbot'): 300,\n ('Addbot', 'YonaBot'): 3,\n ('Addbot', 'YurikBot'): 48,\n ('Addbot', 'Alexbot'): 309,\n ('Addbot', 'Byrialbot'): 94,\n ('Addbot', 'MerlLinkBot'): 3,\n ('Addbot', 'Escarbot'): 175,\n ('Addbot', 'Kwjbot'): 2,\n ('Addbot', 'WikiDreamer Bot'): 10,\n ('Addbot', 'WikitanvirBot'): 159,\n ('Addbot', 'Hxhbot'): 8,\n ('Addbot', 'Ken123BOT'): 8,\n ('Addbot', 'TobeBot'): 139,\n ('Addbot', 'AvocatoBot'): 8,\n ('Addbot', 'CocuBot'): 6,\n ('Addbot', 'Dawikibot'): 20,\n ('Addbot', 'Amirobot'): 13,\n ('Addbot', 'SassoBot'): 23,\n ('Addbot', 'ZéroBot'): 103,\n ('Addbot', 'Kimseybot'): 1,\n ('Addbot', 'LA2-bot'): 19,\n ('Addbot', 'ArthurBot'): 233,\n ('Addbot', 'CarsracBot'): 90,\n ('Addbot', \"D'ohBot\"): 81,\n ('Addbot', 'HRoestBot'): 63,\n ('Addbot', 'Hebbot'): 1,\n ('Addbot', 'HerculeBot'): 257,\n ('Addbot', 'KLBot2'): 2,\n ('Addbot', 'MauritsBot'): 8,\n ('Addbot', 'Obersachsebot'): 6,\n ('Addbot', 'Rubinbot'): 8,\n ('Addbot', 'Synthebot'): 6,\n ('Addbot', 'PalnaBot'): 19,\n ('Addbot', 'Idioma-bot'): 132,\n ('Addbot', 'KamikazeBot'): 112,\n ('Addbot', 'MelancholieBot'): 117,\n ('Addbot', 'Robbot'): 72,\n ('Addbot', 'TjBot'): 24,\n ('Addbot', 'Chobot'): 74,\n ('Addbot', 'Makecat-bot'): 7,\n ('Addbot', 'Justincheng12345-bot'): 1,\n ('Addbot', 'OKBot'): 168,\n ('Addbot', 'JackieBot'): 21,\n ('Addbot', 'MystBot'): 88,\n ('Addbot', 'Minsbot'): 4,\n ('Addbot', 'Rezabot'): 6,\n ('Addbot', 'YFdyh-bot'): 19,\n ('Addbot', 'Almabot'): 43,\n ('Addbot', 'BenzolBot'): 6,\n ('Addbot', 'Chlewbot'): 15,\n ('Addbot', 'Dipsacus fullonum bot'): 18,\n ('Addbot', 'DirlBot'): 10,\n ('Addbot', 'DixonDBot'): 18,\n ('Addbot', 'Gpvosbot'): 24,\n ('Addbot', 'GrouchoBot'): 37,\n ('Addbot', 'Ptbotgourou'): 53,\n ('Addbot', 'Robot'): 7,\n ('Addbot', 'ButkoBot'): 14,\n ('Addbot', 'WinstonBot'): 1,\n ('Addbot', 'BOTarate'): 216,\n ('Addbot', 'PipepBot'): 39,\n ('Addbot', 'Jotterbot'): 9,\n ('Addbot', 'Aibot'): 5,\n ('Addbot', 'AvicBot'): 6,\n ('Addbot', 'タチコマ robot'): 8,\n ('Addbot', \"Bot O'Sarrus\"): 1,\n ('Addbot', 'Mjbmrbot'): 15,\n ('Addbot', 'SpBot'): 5,\n ('Addbot', 'PenguinBot'): 14,\n ('Addbot', 'HiW-Bot'): 3,\n ('Addbot', 'Darkicebot'): 3,\n ('Addbot', 'DragonBot'): 214,\n ('Addbot', 'Movses-bot'): 4,\n ('Addbot', 'Soulbot'): 11,\n ('Addbot', 'KasparBot'): 1,\n ('Addbot', 'OctraBot'): 2,\n ('Addbot', 'AndersBot~dawiki'): 19,\n ('Addbot', 'Rei-bot'): 195,\n ('Addbot', 'PixelBot'): 5,\n ('Addbot', 'Ficbot'): 9,\n ('Addbot', 'OdderBot'): 43,\n ('Addbot', 'MSBOT'): 34,\n ('Addbot', 'YiFeiBot'): 255,\n ('Addbot', 'JhsBot'): 8,\n ('Addbot', 'Wybot'): 12,\n ('Addbot', 'SteenthIWbot'): 5,\n ('Addbot', 'GhalyBot'): 132,\n ('Addbot', 'NobelBot'): 31,\n ('Addbot', 'Le Pied-bot~dawiki'): 1,\n ('Addbot', 'Muro Bot'): 16,\n ('Addbot', 'TuvicBot'): 5,\n ('Addbot', 'Zwobot'): 1,\n ('Addbot', 'BodhisattvaBot'): 21,\n ('Addbot', 'Vagobot'): 5,\n ('Addbot', 'MondalorBot'): 3,\n ('Addbot', 'StigBot'): 2,\n ('Addbot', 'DSisyphBot'): 3,\n ('Addbot', 'DrFO.Tn.Bot'): 1,\n ('Addbot', 'Guanabot~dawiki'): 1,\n ('Addbot', 'PolarBot'): 1,\n ('Addbot', \"MaszO'Bot\"): 3,\n ('Addbot', 'Ebrambot'): 7,\n ('Addbot', 'Diego Grez Bot'): 1,\n ('Addbot', 'YasBot'): 1,\n ('Addbot', 'SimmeDBot'): 1,\n ('Addbot', 'AStarBot'): 2,\n ('Addbot', 'Bgbot'): 1,\n ('Addbot', 'Dinamik-bot'): 2,\n ('Addbot', 'Froztbytebot'): 6,\n ('Addbot', 'GnawnBot'): 1,\n ('Addbot', 'SoxBot'): 1,\n ('Addbot', 'Albambot'): 1,\n ('Addbot', 'Cgtbot'): 1,\n ('Addbot', 'DarafshBot'): 1,\n ('Addbot', 'Dexbot'): 1,\n ('Addbot', 'Mentibot'): 1,\n ('Addbot', 'FoxBot'): 1,\n ('Addbot', 'Ver-bot'): 1,\n ('LucienBOT', 'Luckas-bot'): 85,\n ('LucienBOT', 'MGA73bot'): 12,\n ('LucienBOT', 'Steenthbot'): 85,\n ('LucienBOT', 'Alexbot'): 77,\n ('LucienBOT', 'Escarbot'): 53,\n ('LucienBOT', 'Kwjbot'): 1,\n ('LucienBOT', 'MerlLinkBot'): 1,\n ('LucienBOT', 'WeggeBot'): 83,\n ('LucienBOT', 'WikiDreamer Bot'): 2,\n ('LucienBOT', 'WikitanvirBot'): 40,\n ('LucienBOT', 'Zorrobot'): 9,\n ('LucienBOT', 'Broadbot'): 20,\n ('LucienBOT', 'EmausBot'): 77,\n ('LucienBOT', 'Hxhbot'): 1,\n ('LucienBOT', 'InternetArchiveBot'): 11,\n ('LucienBOT', 'Ken123BOT'): 4,\n ('LucienBOT', 'SilvonenBot'): 4,\n ('LucienBOT', 'TXiKiBoT'): 83,\n ('LucienBOT', 'Thijs!bot'): 82,\n ('LucienBOT', 'TobeBot'): 35,\n ('LucienBOT', 'VolkovBot'): 75,\n ('LucienBOT', 'Xqbot'): 78,\n ('LucienBOT', 'Amirobot'): 4,\n ('LucienBOT', 'ChuispastonBot'): 55,\n ('LucienBOT', 'Justincheng12345-bot'): 1,\n ('LucienBOT', 'MelancholieBot'): 33,\n ('LucienBOT', 'MerlIwBot'): 12,\n ('LucienBOT', 'OKBot'): 44,\n ('LucienBOT', 'PalnaBot'): 4,\n ('LucienBOT', 'SassoBot'): 2,\n ('LucienBOT', 'SieBot'): 72,\n ('LucienBOT', 'DirlBot'): 1,\n ('LucienBOT', 'JackieBot'): 3,\n ('LucienBOT', 'KLBot2'): 2,\n ('LucienBOT', 'KamikazeBot'): 17,\n ('LucienBOT', 'MastiBot'): 2,\n ('LucienBOT', 'Rei-bot'): 45,\n ('LucienBOT', 'Robbot'): 11,\n ('LucienBOT', 'RobotQuistnix'): 4,\n ('LucienBOT', 'YFdyh-bot'): 5,\n ('LucienBOT', 'YurikBot'): 11,\n ('LucienBOT', 'Zwobot'): 2,\n ('LucienBOT', 'ZéroBot'): 16,\n ('LucienBOT', 'ArthurBot'): 64,\n ('LucienBOT', 'ButkoBot'): 5,\n ('LucienBOT', \"D'ohBot\"): 17,\n ('LucienBOT', 'Dawikibot'): 4,\n ('LucienBOT', 'Idioma-bot'): 22,\n ('LucienBOT', 'LaaknorBot'): 5,\n ('LucienBOT', 'Nobot~dawiki'): 62,\n ('LucienBOT', 'Robot'): 1,\n ('LucienBOT', 'WinstonBot'): 1,\n ('LucienBOT', 'Aibot'): 1,\n ('LucienBOT', 'PixelBot'): 1,\n ('LucienBOT', 'Ptbotgourou'): 7,\n ('LucienBOT', 'BOTarate'): 50,\n ('LucienBOT', 'Byrialbot'): 22,\n ('LucienBOT', 'CarsracBot'): 19,\n ('LucienBOT', 'DragonBot'): 58,\n ('LucienBOT', 'GhalyBot'): 35,\n ('LucienBOT', 'HerculeBot'): 73,\n ('LucienBOT', 'JAnDbot'): 76,\n ('LucienBOT', 'Louperibot'): 10,\n ('LucienBOT', 'MSBOT'): 2,\n ('LucienBOT', 'NobelBot'): 8,\n ('LucienBOT', 'PipepBot'): 5,\n ('LucienBOT', 'YiFeiBot'): 65,\n ('LucienBOT', 'AlleborgoBot'): 6,\n ('LucienBOT', 'FlaBot'): 44,\n ('LucienBOT', 'TjBot'): 7,\n ('LucienBOT', 'Chobot'): 24,\n ('LucienBOT', 'Dipsacus fullonum bot'): 4,\n ('LucienBOT', 'HRoestBot'): 12,\n ('LucienBOT', 'BotMultichill'): 15,\n ('LucienBOT', 'MystBot'): 22,\n ('LucienBOT', 'Almabot'): 9,\n ('LucienBOT', 'OdderBot'): 5,\n ('LucienBOT', 'タチコマ robot'): 2,\n ('LucienBOT', 'GrouchoBot'): 5,\n ('LucienBOT', 'RedBot'): 4,\n ('LucienBOT', 'Mjbmrbot'): 5,\n ('LucienBOT', 'TuvicBot'): 1,\n ('LucienBOT', 'Ficbot'): 3,\n ('LucienBOT', 'Nallimbot'): 1,\n ('LucienBOT', 'Wybot'): 3,\n ('LucienBOT', 'DixonDBot'): 1,\n ('LucienBOT', 'Chlewbot'): 5,\n ('LucienBOT', 'BodhisattvaBot'): 4,\n ('LucienBOT', 'Soulbot'): 1,\n ('LucienBOT', 'Muro Bot'): 5,\n ('LucienBOT', 'LinkFA-Bot'): 1,\n ('LucienBOT', 'Gpvosbot'): 12,\n ('LucienBOT', 'AndersBot~dawiki'): 5,\n ('LucienBOT', 'YonaBot'): 1,\n ('LucienBOT', 'Ebrambot'): 2,\n ('LucienBOT', 'SimmeDBot'): 1,\n ('LucienBOT', 'AvocatoBot'): 1,\n ('LucienBOT', 'Alecs.bot'): 3,\n ('LucienBOT', 'Dinamik-bot'): 1,\n ('LucienBOT', 'Froztbytebot'): 4,\n ('LucienBOT', 'GnawnBot'): 1,\n ('LucienBOT', 'LA2-bot'): 4,\n ('LucienBOT', 'Makecat-bot'): 1,\n ('LucienBOT', 'Rubinbot'): 2,\n ('LucienBOT', 'SoxBot'): 1,\n ('LucienBOT', 'SpBot'): 1,\n ('LucienBOT', 'Albambot'): 1,\n ('LucienBOT', 'BenzolBot'): 1,\n ('LucienBOT', 'DumZiBoT'): 2,\n ('LucienBOT', 'Bot-Schafter'): 1,\n ('LucienBOT', 'Darkicebot'): 1,\n ('LucienBOT', 'MauritsBot'): 1,\n ('LucienBOT', 'MondalorBot'): 1,\n ('LucienBOT', 'StigBot'): 1,\n ('Luckas-bot', 'MGA73bot'): 57,\n ('Luckas-bot', 'Steenthbot'): 321,\n ('Luckas-bot', 'Alexbot'): 289,\n ('Luckas-bot', 'FribergBot'): 1,\n ('Luckas-bot', 'WeggeBot'): 312,\n ('Luckas-bot', 'Broadbot'): 68,\n ('Luckas-bot', 'EmausBot'): 273,\n ('Luckas-bot', 'Hxhbot'): 4,\n ('Luckas-bot', 'InternetArchiveBot'): 46,\n ('Luckas-bot', 'Ken123BOT'): 8,\n ('Luckas-bot', 'SilvonenBot'): 21,\n ('Luckas-bot', 'TXiKiBoT'): 297,\n ('Luckas-bot', 'Thijs!bot'): 302,\n ('Luckas-bot', 'TobeBot'): 136,\n ('Luckas-bot', 'VolkovBot'): 279,\n ('Luckas-bot', 'Xqbot'): 286,\n ('Luckas-bot', 'AlleborgoBot'): 64,\n ('Luckas-bot', 'ArthurBot'): 231,\n ('Luckas-bot', 'BOTarate'): 207,\n ('Luckas-bot', 'CocuBot'): 5,\n ('Luckas-bot', 'JAnDbot'): 287,\n ('Luckas-bot', 'Jotterbot'): 8,\n ('Luckas-bot', 'Louperibot'): 75,\n ('Luckas-bot', 'MastiBot'): 17,\n ('Luckas-bot', 'Mjbmrbot'): 15,\n ('Luckas-bot', 'Nallimbot'): 17,\n ('Luckas-bot', 'OctraBot'): 6,\n ('Luckas-bot', 'PenguinBot'): 7,\n ('Luckas-bot', 'Rubinbot'): 8,\n ('Luckas-bot', 'SieBot'): 282,\n ('Luckas-bot', 'TuvicBot'): 5,\n ('Luckas-bot', 'WikiDreamer Bot'): 8,\n ('Luckas-bot', 'WikitanvirBot'): 155,\n ('Luckas-bot', 'Zorrobot'): 31,\n ('Luckas-bot', 'CarsracBot'): 83,\n ('Luckas-bot', 'ChuispastonBot'): 183,\n ('Luckas-bot', 'RedBot'): 32,\n ('Luckas-bot', 'Amirobot'): 13,\n ('Luckas-bot', 'SassoBot'): 24,\n ('Luckas-bot', 'ZéroBot'): 92,\n ('Luckas-bot', 'Dawikibot'): 15,\n ('Luckas-bot', 'Kimseybot'): 1,\n ('Luckas-bot', 'LA2-bot'): 12,\n ('Luckas-bot', \"D'ohBot\"): 80,\n ('Luckas-bot', 'Escarbot'): 169,\n ('Luckas-bot', 'HRoestBot'): 52,\n ('Luckas-bot', 'Hebbot'): 1,\n ('Luckas-bot', 'HerculeBot'): 254,\n ('Luckas-bot', 'KLBot2'): 11,\n ('Luckas-bot', 'MauritsBot'): 6,\n ('Luckas-bot', 'MerlIwBot'): 62,\n ('Luckas-bot', 'Obersachsebot'): 5,\n ('Luckas-bot', 'Synthebot'): 5,\n ('Luckas-bot', 'PalnaBot'): 27,\n ('Luckas-bot', 'Byrialbot'): 90,\n ('Luckas-bot', 'Darkicebot'): 4,\n ('Luckas-bot', 'Diego Grez Bot'): 2,\n ('Luckas-bot', 'FlaBot'): 167,\n ('Luckas-bot', 'KamikazeBot'): 117,\n ('Luckas-bot', 'MelancholieBot'): 123,\n ('Luckas-bot', 'RobotQuistnix'): 19,\n ('Luckas-bot', 'YurikBot'): 40,\n ('Luckas-bot', 'AndersBot~dawiki'): 18,\n ('Luckas-bot', 'Nobot~dawiki'): 208,\n ('Luckas-bot', 'OKBot'): 157,\n ('Luckas-bot', 'Ptbotgourou'): 48,\n ('Luckas-bot', 'Idioma-bot'): 125,\n ('Luckas-bot', 'LaaknorBot'): 22,\n ('Luckas-bot', 'Robbot'): 70,\n ('Luckas-bot', 'TjBot'): 24,\n ('Luckas-bot', 'AvicBot'): 5,\n ('Luckas-bot', 'BodhisattvaBot'): 22,\n ('Luckas-bot', 'Dipsacus fullonum bot'): 20,\n ('Luckas-bot', 'DragonBot'): 212,\n ('Luckas-bot', 'GrouchoBot'): 35,\n ('Luckas-bot', 'LinkFA-Bot'): 8,\n ('Luckas-bot', 'YFdyh-bot'): 17,\n ('Luckas-bot', 'Zxabot'): 1,\n ('Luckas-bot', 'TuHan-Bot'): 3,\n ('Luckas-bot', 'Chobot'): 73,\n ('Luckas-bot', 'MystBot'): 87,\n ('Luckas-bot', 'Justincheng12345-bot'): 2,\n ('Luckas-bot', 'AsgardBot'): 1,\n ('Luckas-bot', 'Vagobot'): 6,\n ('Luckas-bot', 'DirlBot'): 9,\n ('Luckas-bot', 'JackieBot'): 19,\n ('Luckas-bot', 'Rei-bot'): 191,\n ('Luckas-bot', 'Zwobot'): 3,\n ('Luckas-bot', 'FoxBot'): 2,\n ('Luckas-bot', 'NjardarBot'): 1,\n ('Luckas-bot', 'Robot'): 7,\n ('Luckas-bot', 'Minsbot'): 4,\n ('Luckas-bot', 'Alecs.bot'): 9,\n ('Luckas-bot', 'Almabot'): 44,\n ('Luckas-bot', 'Muro Bot'): 17,\n ('Luckas-bot', 'Rezabot'): 5,\n ('Luckas-bot', 'BenzolBot'): 4,\n ('Luckas-bot', 'Bot-Schafter'): 4,\n ('Luckas-bot', 'Chlewbot'): 13,\n ('Luckas-bot', 'DixonDBot'): 17,\n ('Luckas-bot', 'Gpvosbot'): 21,\n ('Luckas-bot', 'YonaBot'): 2,\n ('Luckas-bot', 'ButkoBot'): 13,\n ('Luckas-bot', 'WinstonBot'): 1,\n ('Luckas-bot', 'AvocatoBot'): 6,\n ('Luckas-bot', 'Kwjbot'): 1,\n ('Luckas-bot', 'PipepBot'): 37,\n ('Luckas-bot', 'Aibot'): 4,\n ('Luckas-bot', 'タチコマ robot'): 6,\n ('Luckas-bot', \"Bot O'Sarrus\"): 1,\n ('Luckas-bot', 'SpBot'): 3,\n ('Luckas-bot', 'Movses-bot'): 2,\n ('Luckas-bot', 'KasparBot'): 1,\n ('Luckas-bot', 'DumZiBoT'): 6,\n ('Luckas-bot', 'Ficbot'): 9,\n ('Luckas-bot', 'HiW-Bot'): 1,\n ('Luckas-bot', 'PixelBot'): 4,\n ('Luckas-bot', 'BotMultichill'): 55,\n ('Luckas-bot', 'OdderBot'): 35,\n ('Luckas-bot', 'RibotBOT'): 9,\n ('Luckas-bot', 'MSBOT'): 32,\n ('Luckas-bot', 'YiFeiBot'): 239,\n ('Luckas-bot', 'JhsBot'): 7,\n ('Luckas-bot', 'Wybot'): 12,\n ('Luckas-bot', 'GhalyBot'): 129,\n ('Luckas-bot', 'NobelBot'): 30,\n ('Luckas-bot', 'Soulbot'): 8,\n ('Luckas-bot', 'Le Pied-bot~dawiki'): 1,\n ('Luckas-bot', 'MondalorBot'): 3,\n ('Luckas-bot', 'StigBot'): 2,\n ('Luckas-bot', 'DSisyphBot'): 3,\n ('Luckas-bot', 'DrFO.Tn.Bot'): 1,\n ('Luckas-bot', 'Guanabot~dawiki'): 1,\n ('Luckas-bot', 'SteenthIWbot'): 3,\n ('Luckas-bot', 'Ebrambot'): 7,\n ('Luckas-bot', 'Makecat-bot'): 3,\n ('Luckas-bot', 'YasBot'): 1,\n ('Luckas-bot', 'SimmeDBot'): 1,\n ('Luckas-bot', \"MaszO'Bot\"): 2,\n ('Luckas-bot', 'AStarBot'): 2,\n ('Luckas-bot', 'Dinamik-bot'): 1,\n ('Luckas-bot', 'Froztbytebot'): 4,\n ('Luckas-bot', 'GnawnBot'): 1,\n ('Luckas-bot', 'SoxBot'): 1,\n ('Luckas-bot', 'Albambot'): 1,\n ('Luckas-bot', 'Cgtbot'): 1,\n ('Luckas-bot', 'DarafshBot'): 1,\n ('Luckas-bot', 'Dexbot'): 1,\n ('MGA73bot', 'Steenthbot'): 101,\n ('MGA73bot', 'Dipsacus fullonum bot'): 16,\n ('MGA73bot', 'InternetArchiveBot'): 72,\n ('MGA73bot', 'Alecs.bot'): 5,\n ('MGA73bot', 'Broadbot'): 24,\n ('MGA73bot', 'LaaknorBot'): 14,\n ('MGA73bot', 'RedBot'): 14,\n ('MGA73bot', 'SieBot'): 42,\n ('MGA73bot', 'TXiKiBoT'): 40,\n ('MGA73bot', 'Thijs!bot'): 41,\n ('MGA73bot', 'VolkovBot'): 45,\n ('MGA73bot', 'WeggeBot'): 61,\n ('MGA73bot', 'Zorrobot'): 29,\n ('MGA73bot', 'AlleborgoBot'): 13,\n ('MGA73bot', 'Bot-Schafter'): 5,\n ('MGA73bot', 'BotMultichill'): 7,\n ('MGA73bot', 'ChuispastonBot'): 31,\n ('MGA73bot', 'DumZiBoT'): 5,\n ('MGA73bot', 'EmausBot'): 61,\n ('MGA73bot', 'FlaBot'): 15,\n ('MGA73bot', 'FribergBot'): 1,\n ('MGA73bot', 'JAnDbot'): 27,\n ('MGA73bot', 'LinkFA-Bot'): 7,\n ('MGA73bot', 'Louperibot'): 14,\n ('MGA73bot', 'MastiBot'): 11,\n ('MGA73bot', 'MerlIwBot'): 27,\n ('MGA73bot', 'Nallimbot'): 8,\n ('MGA73bot', 'Nobot~dawiki'): 13,\n ('MGA73bot', 'RibotBOT'): 5,\n ('MGA73bot', 'RobotQuistnix'): 19,\n ('MGA73bot', 'SilvonenBot'): 12,\n ('MGA73bot', 'Tsca.bot'): 2,\n ('MGA73bot', 'Xqbot'): 50,\n ('MGA73bot', 'YonaBot'): 2,\n ('MGA73bot', 'YurikBot'): 17,\n ('MGA73bot', 'Alexbot'): 28,\n ('MGA73bot', 'Byrialbot'): 11,\n ('MGA73bot', 'MerlLinkBot'): 3,\n ('MGA73bot', 'Escarbot'): 32,\n ('MGA73bot', 'Kwjbot'): 2,\n ('MGA73bot', 'WikiDreamer Bot'): 5,\n ('MGA73bot', 'WikitanvirBot'): 30,\n ('MGA73bot', 'Hxhbot'): 3,\n ('MGA73bot', 'Ken123BOT'): 5,\n ('MGA73bot', 'TobeBot'): 15,\n ('MGA73bot', 'ArthurBot'): 29,\n ('MGA73bot', 'BOTarate'): 9,\n ('MGA73bot', 'CocuBot'): 7,\n ('MGA73bot', 'Jotterbot'): 10,\n ('MGA73bot', 'Mjbmrbot'): 6,\n ('MGA73bot', 'OctraBot'): 10,\n ('MGA73bot', 'PenguinBot'): 13,\n ('MGA73bot', 'Rubinbot'): 7,\n ('MGA73bot', 'TuvicBot'): 2,\n ('MGA73bot', 'AvocatoBot'): 3,\n ('MGA73bot', 'Dawikibot'): 10,\n ('MGA73bot', 'CarsracBot'): 15,\n ('MGA73bot', 'Amirobot'): 11,\n ('MGA73bot', 'SassoBot'): 5,\n ('MGA73bot', 'ZéroBot'): 33,\n ('MGA73bot', 'Kimseybot'): 1,\n ('MGA73bot', 'LA2-bot'): 12,\n ('MGA73bot', \"D'ohBot\"): 11,\n ('MGA73bot', 'HRoestBot'): 8,\n ('MGA73bot', 'Hebbot'): 1,\n ('MGA73bot', 'HerculeBot'): 7,\n ('MGA73bot', 'KLBot2'): 10,\n ('MGA73bot', 'MauritsBot'): 4,\n ('MGA73bot', 'Obersachsebot'): 2,\n ('MGA73bot', 'Synthebot'): 2,\n ('MGA73bot', \"Bot O'Sarrus\"): 3,\n ('MGA73bot', 'PalnaBot'): 27,\n ('MGA73bot', 'Darkicebot'): 4,\n ('MGA73bot', 'Diego Grez Bot'): 1,\n ('MGA73bot', 'KamikazeBot'): 17,\n ('MGA73bot', 'MelancholieBot'): 20,\n ('MGA73bot', 'AndersBot~dawiki'): 7,\n ('MGA73bot', 'OKBot'): 16,\n ('MGA73bot', 'Ptbotgourou'): 19,\n ('MGA73bot', 'Idioma-bot'): 13,\n ('MGA73bot', 'Robbot'): 14,\n ('MGA73bot', 'TjBot'): 5,\n ('MGA73bot', 'AvicBot'): 6,\n ('MGA73bot', 'BodhisattvaBot'): 6,\n ('MGA73bot', 'DragonBot'): 12,\n ('MGA73bot', 'GrouchoBot'): 9,\n ('MGA73bot', 'YFdyh-bot'): 7,\n ('MGA73bot', 'Zxabot'): 1,\n ('MGA73bot', 'TuHan-Bot'): 2,\n ('MGA73bot', 'Justincheng12345-bot'): 2,\n ('MGA73bot', 'AsgardBot'): 1,\n ('MGA73bot', 'Vagobot'): 3,\n ('MGA73bot', 'DirlBot'): 8,\n ('MGA73bot', 'JackieBot'): 10,\n ('MGA73bot', 'Rei-bot'): 14,\n ('MGA73bot', 'Zwobot'): 2,\n ('MGA73bot', 'MystBot'): 5,\n ('MGA73bot', 'Chobot'): 14,\n ('MGA73bot', 'FoxBot'): 2,\n ('MGA73bot', 'NjardarBot'): 1,\n ('MGA73bot', 'Robot'): 9,\n ('MGA73bot', 'Minsbot'): 4,\n ('MGA73bot', 'Almabot'): 4,\n ('MGA73bot', 'Muro Bot'): 2,\n ('MGA73bot', 'BenzolBot'): 4,\n ('MGA73bot', 'Chlewbot'): 7,\n ('MGA73bot', 'DixonDBot'): 3,\n ('MGA73bot', 'Gpvosbot'): 7,\n ('MGA73bot', 'ButkoBot'): 5,\n ('MGA73bot', 'WinstonBot'): 1,\n ('MGA73bot', 'PipepBot'): 7,\n ('MGA73bot', 'Aibot'): 3,\n ('MGA73bot', 'タチコマ robot'): 5,\n ('MGA73bot', 'SpBot'): 4,\n ('MGA73bot', 'PixelBot'): 2,\n ('MGA73bot', 'OdderBot'): 7,\n ('MGA73bot', 'GhalyBot'): 3,\n ('MGA73bot', 'MondalorBot'): 2,\n ('MGA73bot', 'StigBot'): 2,\n ('MGA73bot', 'PolarBot'): 1,\n ('MGA73bot', \"MaszO'Bot\"): 1,\n ('MGA73bot', 'Ebrambot'): 1,\n ('MGA73bot', 'JhsBot'): 5,\n ('MGA73bot', 'YiFeiBot'): 4,\n ('MGA73bot', 'Soulbot'): 1,\n ('MGA73bot', 'SteenthIWbot'): 1,\n ('MGA73bot', 'NobelBot'): 2,\n ('MGA73bot', 'AStarBot'): 1,\n ('MGA73bot', 'Bgbot'): 1,\n ('MGA73bot', 'HiW-Bot'): 1,\n ('MGA73bot', 'Makecat-bot'): 2,\n ('MGA73bot', 'Movses-bot'): 3,\n ('MGA73bot', 'Dinamik-bot'): 2,\n ('MGA73bot', 'Froztbytebot'): 4,\n ('MGA73bot', 'GnawnBot'): 1,\n ('MGA73bot', 'SoxBot'): 1,\n ('MGA73bot', 'Albambot'): 1,\n ('MGA73bot', 'Cgtbot'): 1,\n ('MGA73bot', 'DSisyphBot'): 1,\n ('MGA73bot', 'DarafshBot'): 1,\n ('MGA73bot', 'Dexbot'): 1,\n ('MGA73bot', 'Mentibot'): 1,\n ('MGA73bot', 'Rezabot'): 3,\n ('Steenthbot', 'Dipsacus fullonum bot'): 22,\n ('Steenthbot', 'InternetArchiveBot'): 111,\n ('Steenthbot', 'Broadbot'): 85,\n ('Steenthbot', 'VolkovBot'): 293,\n ('Steenthbot', 'Alecs.bot'): 9,\n ('Steenthbot', 'LaaknorBot'): 31,\n ('Steenthbot', 'RedBot'): 37,\n ('Steenthbot', 'SieBot'): 296,\n ('Steenthbot', 'TXiKiBoT'): 309,\n ('Steenthbot', 'Thijs!bot'): 319,\n ('Steenthbot', 'WeggeBot'): 341,\n ('Steenthbot', 'Zorrobot'): 41,\n ('Steenthbot', 'AlleborgoBot'): 70,\n ('Steenthbot', 'Bot-Schafter'): 5,\n ('Steenthbot', 'BotMultichill'): 56,\n ('Steenthbot', 'ChuispastonBot'): 187,\n ('Steenthbot', 'DumZiBoT'): 6,\n ('Steenthbot', 'EmausBot'): 284,\n ('Steenthbot', 'FlaBot'): 174,\n ('Steenthbot', 'FribergBot'): 1,\n ('Steenthbot', 'JAnDbot'): 292,\n ('Steenthbot', 'LinkFA-Bot'): 9,\n ('Steenthbot', 'Louperibot'): 76,\n ('Steenthbot', 'MastiBot'): 19,\n ('Steenthbot', 'MerlIwBot'): 73,\n ('Steenthbot', 'Nallimbot'): 16,\n ('Steenthbot', 'Nobot~dawiki'): 212,\n ('Steenthbot', 'RibotBOT'): 11,\n ('Steenthbot', 'RobotQuistnix'): 18,\n ('Steenthbot', 'SilvonenBot'): 20,\n ('Steenthbot', 'Tsca.bot'): 2,\n ('Steenthbot', 'Xqbot'): 300,\n ('Steenthbot', 'YonaBot'): 3,\n ('Steenthbot', 'YurikBot'): 47,\n ('Steenthbot', 'Alexbot'): 304,\n ('Steenthbot', 'Byrialbot'): 95,\n ('Steenthbot', 'MerlLinkBot'): 3,\n ('Steenthbot', 'Escarbot'): 173,\n ('Steenthbot', 'Kwjbot'): 2,\n ('Steenthbot', 'WikiDreamer Bot'): 10,\n ('Steenthbot', 'WikitanvirBot'): 158,\n ('Steenthbot', 'Hxhbot'): 6,\n ('Steenthbot', 'Ken123BOT'): 8,\n ('Steenthbot', 'TobeBot'): 140,\n ('Steenthbot', 'ArthurBot'): 230,\n ('Steenthbot', 'BOTarate'): 212,\n ('Steenthbot', 'CocuBot'): 6,\n ('Steenthbot', 'Jotterbot'): 10,\n ('Steenthbot', 'Mjbmrbot'): 14,\n ('Steenthbot', 'OctraBot'): 12,\n ('Steenthbot', 'PenguinBot'): 18,\n ('Steenthbot', 'Rubinbot'): 9,\n ('Steenthbot', 'TuvicBot'): 6,\n ('Steenthbot', 'AvocatoBot'): 7,\n ('Steenthbot', 'Dawikibot'): 23,\n ('Steenthbot', 'CarsracBot'): 83,\n ('Steenthbot', 'Amirobot'): 17,\n ('Steenthbot', 'SassoBot'): 24,\n ('Steenthbot', 'ZéroBot'): 100,\n ('Steenthbot', 'Kimseybot'): 1,\n ('Steenthbot', 'LA2-bot'): 19,\n ('Steenthbot', \"D'ohBot\"): 82,\n ('Steenthbot', 'HRoestBot'): 54,\n ('Steenthbot', 'Hebbot'): 1,\n ('Steenthbot', 'HerculeBot'): 257,\n ('Steenthbot', 'KLBot2'): 14,\n ('Steenthbot', 'MauritsBot'): 7,\n ('Steenthbot', 'Obersachsebot'): 6,\n ('Steenthbot', 'Synthebot'): 6,\n ('Steenthbot', \"Bot O'Sarrus\"): 5,\n ('Steenthbot', 'KamikazeBot'): 116,\n ('Steenthbot', 'MystBot'): 90,\n ('Steenthbot', 'PalnaBot'): 35,\n ('Steenthbot', 'Darkicebot'): 5,\n ('Steenthbot', 'Diego Grez Bot'): 2,\n ('Steenthbot', 'MelancholieBot'): 126,\n ('Steenthbot', 'AndersBot~dawiki'): 20,\n ('Steenthbot', 'OKBot'): 164,\n ('Steenthbot', 'Ptbotgourou'): 48,\n ('Steenthbot', 'Idioma-bot'): 128,\n ('Steenthbot', 'Robbot'): 70,\n ('Steenthbot', 'TjBot'): 25,\n ('Steenthbot', 'AvicBot'): 6,\n ('Steenthbot', 'BodhisattvaBot'): 22,\n ('Steenthbot', 'DragonBot'): 214,\n ('Steenthbot', 'GrouchoBot'): 37,\n ('Steenthbot', 'YFdyh-bot'): 19,\n ('Steenthbot', 'Zxabot'): 1,\n ('Steenthbot', 'TuHan-Bot'): 3,\n ('Steenthbot', 'Chobot'): 73,\n ('Steenthbot', 'Makecat-bot'): 7,\n ('Steenthbot', 'Justincheng12345-bot'): 2,\n ('Steenthbot', 'AsgardBot'): 1,\n ('Steenthbot', 'Vagobot'): 6,\n ('Steenthbot', 'DirlBot'): 7,\n ('Steenthbot', 'JackieBot'): 22,\n ('Steenthbot', 'Rei-bot'): 194,\n ('Steenthbot', 'Zwobot'): 3,\n ('Steenthbot', 'FoxBot'): 2,\n ('Steenthbot', 'NjardarBot'): 1,\n ('Steenthbot', 'Robot'): 9,\n ('Steenthbot', 'Minsbot'): 4,\n ('Steenthbot', 'Almabot'): 42,\n ('Steenthbot', 'Muro Bot'): 17,\n ('Steenthbot', 'Rezabot'): 5,\n ('Steenthbot', 'BenzolBot'): 5,\n ('Steenthbot', 'Chlewbot'): 14,\n ('Steenthbot', 'DixonDBot'): 18,\n ('Steenthbot', 'Gpvosbot'): 23,\n ('Steenthbot', 'ButkoBot'): 13,\n ('Steenthbot', 'WinstonBot'): 1,\n ('Steenthbot', 'PipepBot'): 38,\n ('Steenthbot', 'Aibot'): 3,\n ('Steenthbot', 'タチコマ robot'): 8,\n ('Steenthbot', 'Movses-bot'): 4,\n ('Steenthbot', 'Soulbot'): 11,\n ('Steenthbot', 'KasparBot'): 1,\n ('Steenthbot', 'OdderBot'): 38,\n ('Steenthbot', 'MSBOT'): 33,\n ('Steenthbot', 'YiFeiBot'): 255,\n ('Steenthbot', 'JhsBot'): 8,\n ('Steenthbot', 'Wybot'): 12,\n ('Steenthbot', 'SpBot'): 4,\n ('Steenthbot', 'SteenthIWbot'): 5,\n ('Steenthbot', 'GhalyBot'): 131,\n ('Steenthbot', 'NobelBot'): 30,\n ('Steenthbot', 'Ficbot'): 8,\n ('Steenthbot', 'Le Pied-bot~dawiki'): 1,\n ('Steenthbot', 'DSisyphBot'): 3,\n ('Steenthbot', 'MondalorBot'): 2,\n ('Steenthbot', 'DrFO.Tn.Bot'): 1,\n ('Steenthbot', 'Guanabot~dawiki'): 1,\n ('Steenthbot', 'PolarBot'): 1,\n ('Steenthbot', \"MaszO'Bot\"): 3,\n ('Steenthbot', 'Ebrambot'): 7,\n ('Steenthbot', 'PixelBot'): 2,\n ('Steenthbot', 'YasBot'): 1,\n ('Steenthbot', 'SimmeDBot'): 1,\n ('Steenthbot', 'AStarBot'): 2,\n ('Steenthbot', 'Bgbot'): 1,\n ('Steenthbot', 'HiW-Bot'): 1,\n ('Steenthbot', 'Dinamik-bot'): 2,\n ('Steenthbot', 'Froztbytebot'): 6,\n ('Steenthbot', 'GnawnBot'): 1,\n ('Steenthbot', 'SoxBot'): 1,\n ('Steenthbot', 'Albambot'): 1,\n ('Steenthbot', 'Cgtbot'): 1,\n ('Steenthbot', 'DarafshBot'): 1,\n ('Steenthbot', 'StigBot'): 1,\n ('Steenthbot', 'Dexbot'): 1,\n ('Steenthbot', 'Mentibot'): 1,\n ('Steenthbot', 'Ver-bot'): 1,\n ('Broadbot', 'Xqbot'): 74,\n ('Broadbot', 'VolkovBot'): 65,\n ('Broadbot', 'Alecs.bot'): 2,\n ('Broadbot', 'LaaknorBot'): 3,\n ('Broadbot', 'RedBot'): 13,\n ('Broadbot', 'SieBot'): 73,\n ('Broadbot', 'TXiKiBoT'): 68,\n ('Broadbot', 'Thijs!bot'): 70,\n ('Broadbot', 'WeggeBot'): 71,\n ('Broadbot', 'Zorrobot'): 12,\n ('Broadbot', 'AlleborgoBot'): 20,\n ('Broadbot', 'Bot-Schafter'): 4,\n ('Broadbot', 'BotMultichill'): 16,\n ('Broadbot', 'ChuispastonBot'): 41,\n ('Broadbot', 'DumZiBoT'): 3,\n ('Broadbot', 'EmausBot'): 57,\n ('Broadbot', 'FlaBot'): 39,\n ('Broadbot', 'FribergBot'): 1,\n ('Broadbot', 'InternetArchiveBot'): 17,\n ('Broadbot', 'JAnDbot'): 63,\n ('Broadbot', 'LinkFA-Bot'): 3,\n ('Broadbot', 'Louperibot'): 14,\n ('Broadbot', 'MastiBot'): 8,\n ('Broadbot', 'MerlIwBot'): 26,\n ('Broadbot', 'Nallimbot'): 4,\n ('Broadbot', 'Nobot~dawiki'): 47,\n ('Broadbot', 'RibotBOT'): 5,\n ('Broadbot', 'RobotQuistnix'): 12,\n ('Broadbot', 'SilvonenBot'): 7,\n ('Broadbot', 'Tsca.bot'): 2,\n ('Broadbot', 'YonaBot'): 2,\n ('Broadbot', 'YurikBot'): 14,\n ('Broadbot', 'PenguinBot'): 9,\n ('Broadbot', 'Hxhbot'): 2,\n ('Broadbot', 'Ken123BOT'): 5,\n ('Broadbot', 'TobeBot'): 33,\n ('Broadbot', 'Byrialbot'): 16,\n ('Broadbot', 'ArthurBot'): 53,\n ('Broadbot', 'CarsracBot'): 13,\n ('Broadbot', \"D'ohBot\"): 18,\n ('Broadbot', 'Escarbot'): 42,\n ('Broadbot', 'HRoestBot'): 16,\n ('Broadbot', 'Hebbot'): 1,\n ('Broadbot', 'HerculeBot'): 51,\n ('Broadbot', 'KLBot2'): 5,\n ('Broadbot', 'MauritsBot'): 6,\n ('Broadbot', 'Obersachsebot'): 2,\n ('Broadbot', 'Rubinbot'): 4,\n ('Broadbot', 'Synthebot'): 2,\n ('Broadbot', 'WikitanvirBot'): 36,\n ('Broadbot', 'ZéroBot'): 21,\n ('Broadbot', 'AndersBot~dawiki'): 7,\n ('Broadbot', 'OKBot'): 39,\n ('Broadbot', 'PalnaBot'): 11,\n ('Broadbot', 'Ptbotgourou'): 13,\n ('Broadbot', 'KamikazeBot'): 23,\n ('Broadbot', 'MelancholieBot'): 31,\n ('Broadbot', 'MystBot'): 23,\n ('Broadbot', 'TuHan-Bot'): 1,\n ('Broadbot', 'Alexbot'): 58,\n ('Broadbot', 'Amirobot'): 3,\n ('Broadbot', 'Justincheng12345-bot'): 1,\n ('Broadbot', 'SassoBot'): 3,\n ('Broadbot', 'Chobot'): 16,\n ('Broadbot', 'FoxBot'): 2,\n ('Broadbot', 'GrouchoBot'): 9,\n ('Broadbot', 'NjardarBot'): 1,\n ('Broadbot', 'Rei-bot'): 47,\n ('Broadbot', 'Robbot'): 13,\n ('Broadbot', 'Robot'): 8,\n ('Broadbot', 'Zwobot'): 1,\n ('Broadbot', 'Almabot'): 14,\n ('Broadbot', 'Dipsacus fullonum bot'): 6,\n ('Broadbot', 'Idioma-bot'): 18,\n ('Broadbot', 'Muro Bot'): 3,\n ('Broadbot', 'TjBot'): 9,\n ('Broadbot', 'BenzolBot'): 4,\n ('Broadbot', 'Chlewbot'): 9,\n ('Broadbot', 'DirlBot'): 4,\n ('Broadbot', 'DixonDBot'): 4,\n ('Broadbot', 'Gpvosbot'): 11,\n ('Broadbot', 'JackieBot'): 8,\n ('Broadbot', 'YFdyh-bot'): 3,\n ('Broadbot', 'HiW-Bot'): 3,\n ('Broadbot', 'Darkicebot'): 3,\n ('Broadbot', 'DragonBot'): 48,\n ('Broadbot', 'Movses-bot'): 4,\n ('Broadbot', 'WikiDreamer Bot'): 3,\n ('Broadbot', 'Ficbot'): 2,\n ('Broadbot', 'Mjbmrbot'): 6,\n ('Broadbot', 'Rezabot'): 4,\n ('Broadbot', 'MerlLinkBot'): 1,\n ('Broadbot', 'OdderBot'): 6,\n ('Broadbot', 'BOTarate'): 38,\n ('Broadbot', 'GhalyBot'): 27,\n ('Broadbot', 'PipepBot'): 6,\n ('Broadbot', 'MSBOT'): 1,\n ('Broadbot', 'NobelBot'): 3,\n ('Broadbot', 'YiFeiBot'): 46,\n ('Broadbot', 'DSisyphBot'): 3,\n ('Broadbot', 'Wybot'): 5,\n ('Broadbot', 'Dawikibot'): 4,\n ('Broadbot', 'BodhisattvaBot'): 4,\n ('Broadbot', 'PolarBot'): 1,\n ('Broadbot', 'ButkoBot'): 3,\n ('Broadbot', 'Makecat-bot'): 2,\n ('Broadbot', 'Soulbot'): 1,\n ('Broadbot', 'Jotterbot'): 5,\n ('Broadbot', 'Minsbot'): 3,\n ('Broadbot', 'AStarBot'): 1,\n ('Broadbot', 'JhsBot'): 4,\n ('Broadbot', 'SpBot'): 2,\n ('Broadbot', 'Vagobot'): 2,\n ('Broadbot', 'AvicBot'): 3,\n ('Broadbot', 'Bgbot'): 1,\n ('Broadbot', 'TuvicBot'): 1,\n ('Broadbot', 'AvocatoBot'): 1,\n ('Broadbot', 'Froztbytebot'): 2,\n ('Broadbot', 'LA2-bot'): 3,\n ('Broadbot', 'MondalorBot'): 1,\n ('Broadbot', 'Cgtbot'): 1,\n ('Broadbot', 'DarafshBot'): 1,\n ('Broadbot', 'CocuBot'): 3,\n ('Broadbot', 'Mentibot'): 1,\n ('Broadbot', 'タチコマ robot'): 3,\n ('Broadbot', 'Dinamik-bot'): 1,\n ('Broadbot', 'OctraBot'): 1,\n ('Broadbot', 'Ver-bot'): 1,\n ('Xqbot', 'AlleborgoBot'): 65,\n ('Xqbot', 'Bot-Schafter'): 5,\n ('Xqbot', 'BotMultichill'): 52,\n ('Xqbot', 'ChuispastonBot'): 173,\n ('Xqbot', 'DumZiBoT'): 8,\n ('Xqbot', 'EmausBot'): 252,\n ('Xqbot', 'FlaBot'): 154,\n ('Xqbot', 'FribergBot'): 1,\n ('Xqbot', 'InternetArchiveBot'): 45,\n ('Xqbot', 'JAnDbot'): 265,\n ('Xqbot', 'LinkFA-Bot'): 9,\n ('Xqbot', 'Louperibot'): 73,\n ('Xqbot', 'MastiBot'): 17,\n ('Xqbot', 'MerlIwBot'): 61,\n ('Xqbot', 'Nallimbot'): 16,\n ('Xqbot', 'Nobot~dawiki'): 198,\n ('Xqbot', 'RibotBOT'): 11,\n ('Xqbot', 'RobotQuistnix'): 21,\n ('Xqbot', 'SieBot'): 264,\n ('Xqbot', 'SilvonenBot'): 22,\n ('Xqbot', 'TXiKiBoT'): 268,\n ('Xqbot', 'Thijs!bot'): 280,\n ('Xqbot', 'Tsca.bot'): 2,\n ('Xqbot', 'VolkovBot'): 255,\n ('Xqbot', 'WeggeBot'): 286,\n ('Xqbot', 'YonaBot'): 3,\n ('Xqbot', 'YurikBot'): 38,\n ('Xqbot', 'Zorrobot'): 29,\n ('Xqbot', 'PenguinBot'): 10,\n ('Xqbot', 'Hxhbot'): 6,\n ('Xqbot', 'Ken123BOT'): 8,\n ('Xqbot', 'TobeBot'): 120,\n ('Xqbot', 'Alexbot'): 264,\n ('Xqbot', 'ArthurBot'): 208,\n ('Xqbot', 'BOTarate'): 186,\n ('Xqbot', 'CocuBot'): 5,\n ('Xqbot', 'Jotterbot'): 8,\n ('Xqbot', 'Mjbmrbot'): 13,\n ('Xqbot', 'OctraBot'): 4,\n ('Xqbot', 'Rubinbot'): 9,\n ('Xqbot', 'TuvicBot'): 6,\n ('Xqbot', 'WikiDreamer Bot'): 8,\n ('Xqbot', 'WikitanvirBot'): 140,\n ('Xqbot', 'Amirobot'): 13,\n ('Xqbot', 'SassoBot'): 22,\n ('Xqbot', 'ZéroBot'): 86,\n ('Xqbot', 'Dawikibot'): 17,\n ('Xqbot', 'Kimseybot'): 1,\n ('Xqbot', 'LA2-bot'): 13,\n ('Xqbot', 'CarsracBot'): 74,\n ('Xqbot', \"D'ohBot\"): 76,\n ('Xqbot', 'Escarbot'): 153,\n ('Xqbot', 'HRoestBot'): 40,\n ('Xqbot', 'Hebbot'): 1,\n ('Xqbot', 'HerculeBot'): 229,\n ('Xqbot', 'KLBot2'): 10,\n ('Xqbot', 'MauritsBot'): 8,\n ('Xqbot', 'Obersachsebot'): 6,\n ('Xqbot', 'Synthebot'): 6,\n ('Xqbot', 'Byrialbot'): 87,\n ('Xqbot', 'Darkicebot'): 5,\n ('Xqbot', 'Diego Grez Bot'): 2,\n ('Xqbot', 'KamikazeBot'): 98,\n ('Xqbot', 'MelancholieBot'): 119,\n ('Xqbot', 'PalnaBot'): 24,\n ('Xqbot', 'AndersBot~dawiki'): 19,\n ('Xqbot', 'OKBot'): 156,\n ('Xqbot', 'Ptbotgourou'): 41,\n ('Xqbot', 'Idioma-bot'): 119,\n ('Xqbot', 'LaaknorBot'): 21,\n ('Xqbot', 'Robbot'): 66,\n ('Xqbot', 'TjBot'): 23,\n ('Xqbot', 'AvicBot'): 7,\n ('Xqbot', 'BodhisattvaBot'): 21,\n ('Xqbot', 'Dipsacus fullonum bot'): 16,\n ('Xqbot', 'DragonBot'): 197,\n ('Xqbot', 'GrouchoBot'): 33,\n ('Xqbot', 'YFdyh-bot'): 16,\n ('Xqbot', 'Zxabot'): 1,\n ('Xqbot', 'Chobot'): 65,\n ('Xqbot', 'MystBot'): 78,\n ('Xqbot', 'TuHan-Bot'): 1,\n ('Xqbot', 'Makecat-bot'): 5,\n ('Xqbot', 'Justincheng12345-bot'): 2,\n ('Xqbot', 'AsgardBot'): 1,\n ('Xqbot', 'Vagobot'): 6,\n ('Xqbot', 'DirlBot'): 10,\n ('Xqbot', 'JackieBot'): 17,\n ('Xqbot', 'Rei-bot'): 172,\n ('Xqbot', 'Zwobot'): 2,\n ('Xqbot', 'FoxBot'): 2,\n ('Xqbot', 'NjardarBot'): 1,\n ('Xqbot', 'RedBot'): 31,\n ('Xqbot', 'Robot'): 9,\n ('Xqbot', 'Alecs.bot'): 9,\n ('Xqbot', 'Almabot'): 41,\n ('Xqbot', 'Muro Bot'): 14,\n ('Xqbot', 'BenzolBot'): 6,\n ('Xqbot', 'Chlewbot'): 13,\n ('Xqbot', 'DixonDBot'): 13,\n ('Xqbot', 'Gpvosbot'): 21,\n ('Xqbot', 'ButkoBot'): 13,\n ('Xqbot', 'WinstonBot'): 1,\n ('Xqbot', 'AvocatoBot'): 5,\n ('Xqbot', 'Kwjbot'): 1,\n ('Xqbot', 'PipepBot'): 37,\n ('Xqbot', 'Aibot'): 4,\n ('Xqbot', 'タチコマ robot'): 7,\n ('Xqbot', 'Movses-bot'): 4,\n ('Xqbot', 'Soulbot'): 11,\n ('Xqbot', 'KasparBot'): 1,\n ('Xqbot', 'Ficbot'): 8,\n ('Xqbot', 'HiW-Bot'): 2,\n ('Xqbot', 'Rezabot'): 4,\n ('Xqbot', 'MerlLinkBot'): 1,\n ('Xqbot', 'PixelBot'): 3,\n ('Xqbot', 'OdderBot'): 31,\n ('Xqbot', 'MSBOT'): 31,\n ('Xqbot', 'YiFeiBot'): 221,\n ('Xqbot', 'JhsBot'): 7,\n ('Xqbot', 'Wybot'): 10,\n ('Xqbot', 'GhalyBot'): 118,\n ('Xqbot', 'NobelBot'): 29,\n ('Xqbot', 'Le Pied-bot~dawiki'): 1,\n ('Xqbot', 'MondalorBot'): 3,\n ('Xqbot', 'StigBot'): 2,\n ('Xqbot', 'DSisyphBot'): 2,\n ('Xqbot', 'DrFO.Tn.Bot'): 1,\n ('Xqbot', 'Guanabot~dawiki'): 1,\n ('Xqbot', 'SteenthIWbot'): 4,\n ('Xqbot', 'Ebrambot'): 7,\n ('Xqbot', 'YasBot'): 1,\n ('Xqbot', 'SimmeDBot'): 1,\n ('Xqbot', 'Minsbot'): 3,\n ('Xqbot', \"MaszO'Bot\"): 1,\n ('Xqbot', 'AStarBot'): 2,\n ('Xqbot', 'SpBot'): 2,\n ('Xqbot', 'Bgbot'): 1,\n ('Xqbot', 'Dinamik-bot'): 1,\n ('Xqbot', 'Froztbytebot'): 5,\n ('Xqbot', 'GnawnBot'): 1,\n ('Xqbot', 'SoxBot'): 1,\n ('Xqbot', 'Albambot'): 1,\n ('Xqbot', 'Cgtbot'): 1,\n ('Xqbot', 'DarafshBot'): 1,\n ('Xqbot', 'Dexbot'): 1,\n ('Xqbot', 'Mentibot'): 1,\n ('Xqbot', 'Ver-bot'): 1,\n ('Dipsacus fullonum bot', 'InternetArchiveBot'): 12,\n ('Dipsacus fullonum bot', 'Amirobot'): 4,\n ('Dipsacus fullonum bot', 'AvicBot'): 2,\n ('Dipsacus fullonum bot', 'BodhisattvaBot'): 2,\n ('Dipsacus fullonum bot', \"D'ohBot\"): 2,\n ('Dipsacus fullonum bot', 'Darkicebot'): 2,\n ('Dipsacus fullonum bot', 'DragonBot'): 4,\n ('Dipsacus fullonum bot', 'EmausBot'): 22,\n ('Dipsacus fullonum bot', 'Escarbot'): 10,\n ('Dipsacus fullonum bot', 'GrouchoBot'): 4,\n ('Dipsacus fullonum bot', 'LinkFA-Bot'): 8,\n ('Dipsacus fullonum bot', 'MastiBot'): 5,\n ('Dipsacus fullonum bot', 'MelancholieBot'): 8,\n ('Dipsacus fullonum bot', 'MerlIwBot'): 10,\n ('Dipsacus fullonum bot', 'PalnaBot'): 9,\n ...}"
     },
     "execution_count": 20,
     "metadata": {},
     "output_type": "execute_result"
    }
   ],
   "source": [
    "nx.get_edge_attributes(G, 'n_pages')"
   ],
   "metadata": {
    "collapsed": false,
    "ExecuteTime": {
     "end_time": "2024-04-14T13:51:38.614092500Z",
     "start_time": "2024-04-14T13:51:38.546013400Z"
    }
   },
   "id": "ec9a925f774a8c94",
   "execution_count": 20
  },
  {
   "cell_type": "markdown",
   "source": [
    "### Graph analysis"
   ],
   "metadata": {
    "collapsed": false
   },
   "id": "56de47dd5b66359e"
  },
  {
   "cell_type": "code",
   "outputs": [
    {
     "data": {
      "text/plain": "5.056245805348308"
     },
     "execution_count": 83,
     "metadata": {},
     "output_type": "execute_result"
    }
   ],
   "source": [
    "np.mean(list(dict(G.degree).values()))\n",
    "np.log(len(G.nodes))"
   ],
   "metadata": {
    "collapsed": false,
    "ExecuteTime": {
     "end_time": "2024-04-14T15:14:02.846081300Z",
     "start_time": "2024-04-14T15:14:02.823204700Z"
    }
   },
   "id": "2ec9bbba14cb4c32",
   "execution_count": 83
  },
  {
   "cell_type": "code",
   "outputs": [
    {
     "data": {
      "text/plain": "                                             name  \\\n0                                             !!!   \n1    \"Fjerne Israel fra landkortet\"- kontroversen   \n2     \"Fjerne Israel fra landkortet\"-bemærkningen   \n3                                 \"Gråt\" rumvæsen   \n4                                        \"Heroes\"   \n..                                            ...   \n780                1. division i ishockey 1975-76   \n781                1. division i ishockey 1976-77   \n782                1. division i ishockey 1977-78   \n783                1. division i ishockey 1978-79   \n784                1. division i ishockey 1979-80   \n\n                                                  bots  \\\n0    [Addbot, LucienBOT, Luckas-bot, MGA73bot, Stee...   \n1                                              [Xqbot]   \n2                                    [Broadbot, Xqbot]   \n3                                              [Xqbot]   \n4    [Dipsacus fullonum bot, InternetArchiveBot, MG...   \n..                                                 ...   \n780                               [InternetArchiveBot]   \n781                               [InternetArchiveBot]   \n782                               [InternetArchiveBot]   \n783                               [InternetArchiveBot]   \n784                               [InternetArchiveBot]   \n\n                                            categories communities  \\\n0    [Artikler med musikhenvisninger fra Wikidata, ...      [0, 2]   \n1                                                   []         [0]   \n2                                                   []         [0]   \n3                                                   []         [0]   \n4    [Album fra 1977, David Bowie-album, Påbegyndte...         [0]   \n..                                                 ...         ...   \n780  [DM i ishockey, Ishockey i 1975, Ishockey i 19...         [0]   \n781  [DM i ishockey, Ishockey i 1976, Ishockey i 19...         [0]   \n782  [DM i ishockey, Ishockey i 1977, Ishockey i 19...         [0]   \n783  [DM i ishockey, Ishockey i 1978, Ishockey i 19...         [0]   \n784  [DM i ishockey, Ishockey i 1979, Ishockey i 19...         [0]   \n\n                                                tokens  \n0    [artikler, musikhenvisninger, wikidata, common...  \n1                                                   []  \n2                                                   []  \n3                                                   []  \n4    [album, david, bowie-album, påbegyndte, artikl...  \n..                                                 ...  \n780  [dm, ishockey, ishockey, ishockey, sider, weba...  \n781  [dm, ishockey, ishockey, ishockey, sider, weba...  \n782  [dm, ishockey, ishockey, ishockey, sider, weba...  \n783  [dm, ishockey, ishockey, ishockey, sider, weba...  \n784  [dm, ishockey, ishockey, ishockey, sider, weba...  \n\n[785 rows x 5 columns]",
      "text/html": "<div>\n<style scoped>\n    .dataframe tbody tr th:only-of-type {\n        vertical-align: middle;\n    }\n\n    .dataframe tbody tr th {\n        vertical-align: top;\n    }\n\n    .dataframe thead th {\n        text-align: right;\n    }\n</style>\n<table border=\"1\" class=\"dataframe\">\n  <thead>\n    <tr style=\"text-align: right;\">\n      <th></th>\n      <th>name</th>\n      <th>bots</th>\n      <th>categories</th>\n      <th>communities</th>\n      <th>tokens</th>\n    </tr>\n  </thead>\n  <tbody>\n    <tr>\n      <th>0</th>\n      <td>!!!</td>\n      <td>[Addbot, LucienBOT, Luckas-bot, MGA73bot, Stee...</td>\n      <td>[Artikler med musikhenvisninger fra Wikidata, ...</td>\n      <td>[0, 2]</td>\n      <td>[artikler, musikhenvisninger, wikidata, common...</td>\n    </tr>\n    <tr>\n      <th>1</th>\n      <td>\"Fjerne Israel fra landkortet\"- kontroversen</td>\n      <td>[Xqbot]</td>\n      <td>[]</td>\n      <td>[0]</td>\n      <td>[]</td>\n    </tr>\n    <tr>\n      <th>2</th>\n      <td>\"Fjerne Israel fra landkortet\"-bemærkningen</td>\n      <td>[Broadbot, Xqbot]</td>\n      <td>[]</td>\n      <td>[0]</td>\n      <td>[]</td>\n    </tr>\n    <tr>\n      <th>3</th>\n      <td>\"Gråt\" rumvæsen</td>\n      <td>[Xqbot]</td>\n      <td>[]</td>\n      <td>[0]</td>\n      <td>[]</td>\n    </tr>\n    <tr>\n      <th>4</th>\n      <td>\"Heroes\"</td>\n      <td>[Dipsacus fullonum bot, InternetArchiveBot, MG...</td>\n      <td>[Album fra 1977, David Bowie-album, Påbegyndte...</td>\n      <td>[0]</td>\n      <td>[album, david, bowie-album, påbegyndte, artikl...</td>\n    </tr>\n    <tr>\n      <th>...</th>\n      <td>...</td>\n      <td>...</td>\n      <td>...</td>\n      <td>...</td>\n      <td>...</td>\n    </tr>\n    <tr>\n      <th>780</th>\n      <td>1. division i ishockey 1975-76</td>\n      <td>[InternetArchiveBot]</td>\n      <td>[DM i ishockey, Ishockey i 1975, Ishockey i 19...</td>\n      <td>[0]</td>\n      <td>[dm, ishockey, ishockey, ishockey, sider, weba...</td>\n    </tr>\n    <tr>\n      <th>781</th>\n      <td>1. division i ishockey 1976-77</td>\n      <td>[InternetArchiveBot]</td>\n      <td>[DM i ishockey, Ishockey i 1976, Ishockey i 19...</td>\n      <td>[0]</td>\n      <td>[dm, ishockey, ishockey, ishockey, sider, weba...</td>\n    </tr>\n    <tr>\n      <th>782</th>\n      <td>1. division i ishockey 1977-78</td>\n      <td>[InternetArchiveBot]</td>\n      <td>[DM i ishockey, Ishockey i 1977, Ishockey i 19...</td>\n      <td>[0]</td>\n      <td>[dm, ishockey, ishockey, ishockey, sider, weba...</td>\n    </tr>\n    <tr>\n      <th>783</th>\n      <td>1. division i ishockey 1978-79</td>\n      <td>[InternetArchiveBot]</td>\n      <td>[DM i ishockey, Ishockey i 1978, Ishockey i 19...</td>\n      <td>[0]</td>\n      <td>[dm, ishockey, ishockey, ishockey, sider, weba...</td>\n    </tr>\n    <tr>\n      <th>784</th>\n      <td>1. division i ishockey 1979-80</td>\n      <td>[InternetArchiveBot]</td>\n      <td>[DM i ishockey, Ishockey i 1979, Ishockey i 19...</td>\n      <td>[0]</td>\n      <td>[dm, ishockey, ishockey, ishockey, sider, weba...</td>\n    </tr>\n  </tbody>\n</table>\n<p>785 rows × 5 columns</p>\n</div>"
     },
     "execution_count": 84,
     "metadata": {},
     "output_type": "execute_result"
    }
   ],
   "source": [
    "pages_dataframe"
   ],
   "metadata": {
    "collapsed": false,
    "ExecuteTime": {
     "end_time": "2024-04-14T15:16:33.899890600Z",
     "start_time": "2024-04-14T15:16:33.864349900Z"
    }
   },
   "id": "b07b5b3471bc64c9",
   "execution_count": 84
  },
  {
   "cell_type": "markdown",
   "source": [
    "### Clustering"
   ],
   "metadata": {
    "collapsed": false
   },
   "id": "a17fcc0d17fa0ff6"
  },
  {
   "cell_type": "code",
   "outputs": [],
   "source": [
    "partition = community_louvain.best_partition(G)"
   ],
   "metadata": {
    "collapsed": false,
    "ExecuteTime": {
     "end_time": "2024-04-14T14:02:23.350143Z",
     "start_time": "2024-04-14T14:02:23.083561600Z"
    }
   },
   "id": "1090aeb95a5a81ab",
   "execution_count": 22
  },
  {
   "cell_type": "code",
   "outputs": [],
   "source": [
    "n_communities = max(partition.values()) + 1"
   ],
   "metadata": {
    "collapsed": false,
    "ExecuteTime": {
     "end_time": "2024-04-14T14:41:22.077844500Z",
     "start_time": "2024-04-14T14:41:22.060093500Z"
    }
   },
   "id": "b413386d95d1cb5d",
   "execution_count": 38
  },
  {
   "cell_type": "code",
   "outputs": [
    {
     "data": {
      "text/plain": "                                             name  \\\n0                                             !!!   \n1    \"Fjerne Israel fra landkortet\"- kontroversen   \n2     \"Fjerne Israel fra landkortet\"-bemærkningen   \n3                                 \"Gråt\" rumvæsen   \n4                                        \"Heroes\"   \n..                                            ...   \n780                1. division i ishockey 1975-76   \n781                1. division i ishockey 1976-77   \n782                1. division i ishockey 1977-78   \n783                1. division i ishockey 1978-79   \n784                1. division i ishockey 1979-80   \n\n                                                  bots  \\\n0    [Addbot, LucienBOT, Luckas-bot, MGA73bot, Stee...   \n1                                              [Xqbot]   \n2                                    [Broadbot, Xqbot]   \n3                                              [Xqbot]   \n4    [Dipsacus fullonum bot, InternetArchiveBot, MG...   \n..                                                 ...   \n780                               [InternetArchiveBot]   \n781                               [InternetArchiveBot]   \n782                               [InternetArchiveBot]   \n783                               [InternetArchiveBot]   \n784                               [InternetArchiveBot]   \n\n                                            categories communities  \n0    [[[da:Kategori:Artikler med musikhenvisninger ...      [0, 2]  \n1                                                   []         [0]  \n2                                                   []         [0]  \n3                                                   []         [0]  \n4    [[[da:Kategori:Album fra 1977]], [[da:Kategori...         [0]  \n..                                                 ...         ...  \n780  [[[da:Kategori:DM i ishockey]], [[da:Kategori:...         [0]  \n781  [[[da:Kategori:DM i ishockey]], [[da:Kategori:...         [0]  \n782  [[[da:Kategori:DM i ishockey]], [[da:Kategori:...         [0]  \n783  [[[da:Kategori:DM i ishockey]], [[da:Kategori:...         [0]  \n784  [[[da:Kategori:DM i ishockey]], [[da:Kategori:...         [0]  \n\n[785 rows x 4 columns]",
      "text/html": "<div>\n<style scoped>\n    .dataframe tbody tr th:only-of-type {\n        vertical-align: middle;\n    }\n\n    .dataframe tbody tr th {\n        vertical-align: top;\n    }\n\n    .dataframe thead th {\n        text-align: right;\n    }\n</style>\n<table border=\"1\" class=\"dataframe\">\n  <thead>\n    <tr style=\"text-align: right;\">\n      <th></th>\n      <th>name</th>\n      <th>bots</th>\n      <th>categories</th>\n      <th>communities</th>\n    </tr>\n  </thead>\n  <tbody>\n    <tr>\n      <th>0</th>\n      <td>!!!</td>\n      <td>[Addbot, LucienBOT, Luckas-bot, MGA73bot, Stee...</td>\n      <td>[[[da:Kategori:Artikler med musikhenvisninger ...</td>\n      <td>[0, 2]</td>\n    </tr>\n    <tr>\n      <th>1</th>\n      <td>\"Fjerne Israel fra landkortet\"- kontroversen</td>\n      <td>[Xqbot]</td>\n      <td>[]</td>\n      <td>[0]</td>\n    </tr>\n    <tr>\n      <th>2</th>\n      <td>\"Fjerne Israel fra landkortet\"-bemærkningen</td>\n      <td>[Broadbot, Xqbot]</td>\n      <td>[]</td>\n      <td>[0]</td>\n    </tr>\n    <tr>\n      <th>3</th>\n      <td>\"Gråt\" rumvæsen</td>\n      <td>[Xqbot]</td>\n      <td>[]</td>\n      <td>[0]</td>\n    </tr>\n    <tr>\n      <th>4</th>\n      <td>\"Heroes\"</td>\n      <td>[Dipsacus fullonum bot, InternetArchiveBot, MG...</td>\n      <td>[[[da:Kategori:Album fra 1977]], [[da:Kategori...</td>\n      <td>[0]</td>\n    </tr>\n    <tr>\n      <th>...</th>\n      <td>...</td>\n      <td>...</td>\n      <td>...</td>\n      <td>...</td>\n    </tr>\n    <tr>\n      <th>780</th>\n      <td>1. division i ishockey 1975-76</td>\n      <td>[InternetArchiveBot]</td>\n      <td>[[[da:Kategori:DM i ishockey]], [[da:Kategori:...</td>\n      <td>[0]</td>\n    </tr>\n    <tr>\n      <th>781</th>\n      <td>1. division i ishockey 1976-77</td>\n      <td>[InternetArchiveBot]</td>\n      <td>[[[da:Kategori:DM i ishockey]], [[da:Kategori:...</td>\n      <td>[0]</td>\n    </tr>\n    <tr>\n      <th>782</th>\n      <td>1. division i ishockey 1977-78</td>\n      <td>[InternetArchiveBot]</td>\n      <td>[[[da:Kategori:DM i ishockey]], [[da:Kategori:...</td>\n      <td>[0]</td>\n    </tr>\n    <tr>\n      <th>783</th>\n      <td>1. division i ishockey 1978-79</td>\n      <td>[InternetArchiveBot]</td>\n      <td>[[[da:Kategori:DM i ishockey]], [[da:Kategori:...</td>\n      <td>[0]</td>\n    </tr>\n    <tr>\n      <th>784</th>\n      <td>1. division i ishockey 1979-80</td>\n      <td>[InternetArchiveBot]</td>\n      <td>[[[da:Kategori:DM i ishockey]], [[da:Kategori:...</td>\n      <td>[0]</td>\n    </tr>\n  </tbody>\n</table>\n<p>785 rows × 4 columns</p>\n</div>"
     },
     "execution_count": 39,
     "metadata": {},
     "output_type": "execute_result"
    }
   ],
   "source": [
    "def communities_of_page(bots):\n",
    "    communities = []\n",
    "    for bot in bots:\n",
    "        try:\n",
    "            communities.append(partition[bot])\n",
    "        except KeyError:\n",
    "            pass\n",
    "    return list(set(communities))\n",
    "\n",
    "pages_dataframe['communities'] = pages_dataframe['bots'].apply(communities_of_page)\n",
    "pages_dataframe"
   ],
   "metadata": {
    "collapsed": false,
    "ExecuteTime": {
     "end_time": "2024-04-14T14:42:34.071943500Z",
     "start_time": "2024-04-14T14:42:34.028043300Z"
    }
   },
   "id": "57491c7308a622f3",
   "execution_count": 39
  },
  {
   "cell_type": "code",
   "outputs": [
    {
     "data": {
      "text/plain": "                                             name  \\\n0                                             !!!   \n1    \"Fjerne Israel fra landkortet\"- kontroversen   \n2     \"Fjerne Israel fra landkortet\"-bemærkningen   \n3                                 \"Gråt\" rumvæsen   \n4                                        \"Heroes\"   \n..                                            ...   \n780                1. division i ishockey 1975-76   \n781                1. division i ishockey 1976-77   \n782                1. division i ishockey 1977-78   \n783                1. division i ishockey 1978-79   \n784                1. division i ishockey 1979-80   \n\n                                                  bots  \\\n0    [Addbot, LucienBOT, Luckas-bot, MGA73bot, Stee...   \n1                                              [Xqbot]   \n2                                    [Broadbot, Xqbot]   \n3                                              [Xqbot]   \n4    [Dipsacus fullonum bot, InternetArchiveBot, MG...   \n..                                                 ...   \n780                               [InternetArchiveBot]   \n781                               [InternetArchiveBot]   \n782                               [InternetArchiveBot]   \n783                               [InternetArchiveBot]   \n784                               [InternetArchiveBot]   \n\n                                            categories communities  \n0    [Artikler med musikhenvisninger fra Wikidata, ...      [0, 2]  \n1                                                   []         [0]  \n2                                                   []         [0]  \n3                                                   []         [0]  \n4    [Album fra 1977, David Bowie-album, Påbegyndte...         [0]  \n..                                                 ...         ...  \n780  [DM i ishockey, Ishockey i 1975, Ishockey i 19...         [0]  \n781  [DM i ishockey, Ishockey i 1976, Ishockey i 19...         [0]  \n782  [DM i ishockey, Ishockey i 1977, Ishockey i 19...         [0]  \n783  [DM i ishockey, Ishockey i 1978, Ishockey i 19...         [0]  \n784  [DM i ishockey, Ishockey i 1979, Ishockey i 19...         [0]  \n\n[785 rows x 4 columns]",
      "text/html": "<div>\n<style scoped>\n    .dataframe tbody tr th:only-of-type {\n        vertical-align: middle;\n    }\n\n    .dataframe tbody tr th {\n        vertical-align: top;\n    }\n\n    .dataframe thead th {\n        text-align: right;\n    }\n</style>\n<table border=\"1\" class=\"dataframe\">\n  <thead>\n    <tr style=\"text-align: right;\">\n      <th></th>\n      <th>name</th>\n      <th>bots</th>\n      <th>categories</th>\n      <th>communities</th>\n    </tr>\n  </thead>\n  <tbody>\n    <tr>\n      <th>0</th>\n      <td>!!!</td>\n      <td>[Addbot, LucienBOT, Luckas-bot, MGA73bot, Stee...</td>\n      <td>[Artikler med musikhenvisninger fra Wikidata, ...</td>\n      <td>[0, 2]</td>\n    </tr>\n    <tr>\n      <th>1</th>\n      <td>\"Fjerne Israel fra landkortet\"- kontroversen</td>\n      <td>[Xqbot]</td>\n      <td>[]</td>\n      <td>[0]</td>\n    </tr>\n    <tr>\n      <th>2</th>\n      <td>\"Fjerne Israel fra landkortet\"-bemærkningen</td>\n      <td>[Broadbot, Xqbot]</td>\n      <td>[]</td>\n      <td>[0]</td>\n    </tr>\n    <tr>\n      <th>3</th>\n      <td>\"Gråt\" rumvæsen</td>\n      <td>[Xqbot]</td>\n      <td>[]</td>\n      <td>[0]</td>\n    </tr>\n    <tr>\n      <th>4</th>\n      <td>\"Heroes\"</td>\n      <td>[Dipsacus fullonum bot, InternetArchiveBot, MG...</td>\n      <td>[Album fra 1977, David Bowie-album, Påbegyndte...</td>\n      <td>[0]</td>\n    </tr>\n    <tr>\n      <th>...</th>\n      <td>...</td>\n      <td>...</td>\n      <td>...</td>\n      <td>...</td>\n    </tr>\n    <tr>\n      <th>780</th>\n      <td>1. division i ishockey 1975-76</td>\n      <td>[InternetArchiveBot]</td>\n      <td>[DM i ishockey, Ishockey i 1975, Ishockey i 19...</td>\n      <td>[0]</td>\n    </tr>\n    <tr>\n      <th>781</th>\n      <td>1. division i ishockey 1976-77</td>\n      <td>[InternetArchiveBot]</td>\n      <td>[DM i ishockey, Ishockey i 1976, Ishockey i 19...</td>\n      <td>[0]</td>\n    </tr>\n    <tr>\n      <th>782</th>\n      <td>1. division i ishockey 1977-78</td>\n      <td>[InternetArchiveBot]</td>\n      <td>[DM i ishockey, Ishockey i 1977, Ishockey i 19...</td>\n      <td>[0]</td>\n    </tr>\n    <tr>\n      <th>783</th>\n      <td>1. division i ishockey 1978-79</td>\n      <td>[InternetArchiveBot]</td>\n      <td>[DM i ishockey, Ishockey i 1978, Ishockey i 19...</td>\n      <td>[0]</td>\n    </tr>\n    <tr>\n      <th>784</th>\n      <td>1. division i ishockey 1979-80</td>\n      <td>[InternetArchiveBot]</td>\n      <td>[DM i ishockey, Ishockey i 1979, Ishockey i 19...</td>\n      <td>[0]</td>\n    </tr>\n  </tbody>\n</table>\n<p>785 rows × 4 columns</p>\n</div>"
     },
     "execution_count": 48,
     "metadata": {},
     "output_type": "execute_result"
    }
   ],
   "source": [
    "pages_dataframe"
   ],
   "metadata": {
    "collapsed": false,
    "ExecuteTime": {
     "end_time": "2024-04-14T14:51:07.305716200Z",
     "start_time": "2024-04-14T14:51:07.255471600Z"
    }
   },
   "id": "76c59d585af9ac2",
   "execution_count": 48
  },
  {
   "cell_type": "code",
   "outputs": [],
   "source": [
    "stop_words = set(stopwords.words('danish'))\n",
    "def tokenize_category_list(category_list, exclude_stop=True):\n",
    "    text = ' '.join(category_list)\n",
    "    text = text.lower()\n",
    "    text = ''.join([char for char in text if (char.isalpha() or char in ' -')])\n",
    "    tokens = word_tokenize(text)\n",
    "    if exclude_stop:\n",
    "        return [token for token in tokens if not token in stop_words]\n",
    "    return tokens"
   ],
   "metadata": {
    "collapsed": false,
    "ExecuteTime": {
     "end_time": "2024-04-14T15:00:23.969778700Z",
     "start_time": "2024-04-14T15:00:23.945107700Z"
    }
   },
   "id": "b3f79e3fcc8afb34",
   "execution_count": 63
  },
  {
   "cell_type": "code",
   "outputs": [
    {
     "data": {
      "text/plain": "                                             name  \\\n0                                             !!!   \n1    \"Fjerne Israel fra landkortet\"- kontroversen   \n2     \"Fjerne Israel fra landkortet\"-bemærkningen   \n3                                 \"Gråt\" rumvæsen   \n4                                        \"Heroes\"   \n..                                            ...   \n780                1. division i ishockey 1975-76   \n781                1. division i ishockey 1976-77   \n782                1. division i ishockey 1977-78   \n783                1. division i ishockey 1978-79   \n784                1. division i ishockey 1979-80   \n\n                                                  bots  \\\n0    [Addbot, LucienBOT, Luckas-bot, MGA73bot, Stee...   \n1                                              [Xqbot]   \n2                                    [Broadbot, Xqbot]   \n3                                              [Xqbot]   \n4    [Dipsacus fullonum bot, InternetArchiveBot, MG...   \n..                                                 ...   \n780                               [InternetArchiveBot]   \n781                               [InternetArchiveBot]   \n782                               [InternetArchiveBot]   \n783                               [InternetArchiveBot]   \n784                               [InternetArchiveBot]   \n\n                                            categories communities  \\\n0    [Artikler med musikhenvisninger fra Wikidata, ...      [0, 2]   \n1                                                   []         [0]   \n2                                                   []         [0]   \n3                                                   []         [0]   \n4    [Album fra 1977, David Bowie-album, Påbegyndte...         [0]   \n..                                                 ...         ...   \n780  [DM i ishockey, Ishockey i 1975, Ishockey i 19...         [0]   \n781  [DM i ishockey, Ishockey i 1976, Ishockey i 19...         [0]   \n782  [DM i ishockey, Ishockey i 1977, Ishockey i 19...         [0]   \n783  [DM i ishockey, Ishockey i 1978, Ishockey i 19...         [0]   \n784  [DM i ishockey, Ishockey i 1979, Ishockey i 19...         [0]   \n\n                                                tokens  \n0    [artikler, musikhenvisninger, wikidata, common...  \n1                                                   []  \n2                                                   []  \n3                                                   []  \n4    [album, david, bowie-album, påbegyndte, artikl...  \n..                                                 ...  \n780  [dm, ishockey, ishockey, ishockey, sider, weba...  \n781  [dm, ishockey, ishockey, ishockey, sider, weba...  \n782  [dm, ishockey, ishockey, ishockey, sider, weba...  \n783  [dm, ishockey, ishockey, ishockey, sider, weba...  \n784  [dm, ishockey, ishockey, ishockey, sider, weba...  \n\n[785 rows x 5 columns]",
      "text/html": "<div>\n<style scoped>\n    .dataframe tbody tr th:only-of-type {\n        vertical-align: middle;\n    }\n\n    .dataframe tbody tr th {\n        vertical-align: top;\n    }\n\n    .dataframe thead th {\n        text-align: right;\n    }\n</style>\n<table border=\"1\" class=\"dataframe\">\n  <thead>\n    <tr style=\"text-align: right;\">\n      <th></th>\n      <th>name</th>\n      <th>bots</th>\n      <th>categories</th>\n      <th>communities</th>\n      <th>tokens</th>\n    </tr>\n  </thead>\n  <tbody>\n    <tr>\n      <th>0</th>\n      <td>!!!</td>\n      <td>[Addbot, LucienBOT, Luckas-bot, MGA73bot, Stee...</td>\n      <td>[Artikler med musikhenvisninger fra Wikidata, ...</td>\n      <td>[0, 2]</td>\n      <td>[artikler, musikhenvisninger, wikidata, common...</td>\n    </tr>\n    <tr>\n      <th>1</th>\n      <td>\"Fjerne Israel fra landkortet\"- kontroversen</td>\n      <td>[Xqbot]</td>\n      <td>[]</td>\n      <td>[0]</td>\n      <td>[]</td>\n    </tr>\n    <tr>\n      <th>2</th>\n      <td>\"Fjerne Israel fra landkortet\"-bemærkningen</td>\n      <td>[Broadbot, Xqbot]</td>\n      <td>[]</td>\n      <td>[0]</td>\n      <td>[]</td>\n    </tr>\n    <tr>\n      <th>3</th>\n      <td>\"Gråt\" rumvæsen</td>\n      <td>[Xqbot]</td>\n      <td>[]</td>\n      <td>[0]</td>\n      <td>[]</td>\n    </tr>\n    <tr>\n      <th>4</th>\n      <td>\"Heroes\"</td>\n      <td>[Dipsacus fullonum bot, InternetArchiveBot, MG...</td>\n      <td>[Album fra 1977, David Bowie-album, Påbegyndte...</td>\n      <td>[0]</td>\n      <td>[album, david, bowie-album, påbegyndte, artikl...</td>\n    </tr>\n    <tr>\n      <th>...</th>\n      <td>...</td>\n      <td>...</td>\n      <td>...</td>\n      <td>...</td>\n      <td>...</td>\n    </tr>\n    <tr>\n      <th>780</th>\n      <td>1. division i ishockey 1975-76</td>\n      <td>[InternetArchiveBot]</td>\n      <td>[DM i ishockey, Ishockey i 1975, Ishockey i 19...</td>\n      <td>[0]</td>\n      <td>[dm, ishockey, ishockey, ishockey, sider, weba...</td>\n    </tr>\n    <tr>\n      <th>781</th>\n      <td>1. division i ishockey 1976-77</td>\n      <td>[InternetArchiveBot]</td>\n      <td>[DM i ishockey, Ishockey i 1976, Ishockey i 19...</td>\n      <td>[0]</td>\n      <td>[dm, ishockey, ishockey, ishockey, sider, weba...</td>\n    </tr>\n    <tr>\n      <th>782</th>\n      <td>1. division i ishockey 1977-78</td>\n      <td>[InternetArchiveBot]</td>\n      <td>[DM i ishockey, Ishockey i 1977, Ishockey i 19...</td>\n      <td>[0]</td>\n      <td>[dm, ishockey, ishockey, ishockey, sider, weba...</td>\n    </tr>\n    <tr>\n      <th>783</th>\n      <td>1. division i ishockey 1978-79</td>\n      <td>[InternetArchiveBot]</td>\n      <td>[DM i ishockey, Ishockey i 1978, Ishockey i 19...</td>\n      <td>[0]</td>\n      <td>[dm, ishockey, ishockey, ishockey, sider, weba...</td>\n    </tr>\n    <tr>\n      <th>784</th>\n      <td>1. division i ishockey 1979-80</td>\n      <td>[InternetArchiveBot]</td>\n      <td>[DM i ishockey, Ishockey i 1979, Ishockey i 19...</td>\n      <td>[0]</td>\n      <td>[dm, ishockey, ishockey, ishockey, sider, weba...</td>\n    </tr>\n  </tbody>\n</table>\n<p>785 rows × 5 columns</p>\n</div>"
     },
     "execution_count": 64,
     "metadata": {},
     "output_type": "execute_result"
    }
   ],
   "source": [
    "pages_dataframe['tokens'] = pages_dataframe['categories'].apply(tokenize_category_list)\n",
    "pages_dataframe"
   ],
   "metadata": {
    "collapsed": false,
    "ExecuteTime": {
     "end_time": "2024-04-14T15:00:25.431709500Z",
     "start_time": "2024-04-14T15:00:25.213082500Z"
    }
   },
   "id": "269e6452d7b82e9e",
   "execution_count": 64
  },
  {
   "cell_type": "code",
   "outputs": [
    {
     "data": {
      "text/plain": "communities\n0    [artikler, musikhenvisninger, wikidata, common...\n1    [intet, lokalt, billede, intet, billede, wikid...\n2    [artikler, musikhenvisninger, wikidata, common...\n3    [intet, lokalt, billede, intet, billede, wikid...\nName: tokens, dtype: object"
     },
     "execution_count": 73,
     "metadata": {},
     "output_type": "execute_result"
    }
   ],
   "source": [
    "corpus = pages_dataframe[['communities','tokens']].explode('communities').groupby('communities')['tokens'].apply(lambda x: list(chain(*x)))\n",
    "corpus"
   ],
   "metadata": {
    "collapsed": false,
    "ExecuteTime": {
     "end_time": "2024-04-14T15:03:34.231566700Z",
     "start_time": "2024-04-14T15:03:34.202077200Z"
    }
   },
   "id": "7a76372eb1c12116",
   "execution_count": 73
  },
  {
   "cell_type": "code",
   "outputs": [
    {
     "data": {
      "text/plain": "                         0                        1                  2  \\\n0                 ishockey  administrationskategori              norge   \n1            superisligaen              tekstkilder         basketball   \n2                       dm                 kortfilm  basketball-ligaer   \n3  administrationskategori           dokumentarfilm            kvinder   \n4                 stumfilm                flertydig         skydevåben   \n5                floorball                    tyske         foreninger   \n6                    sprog             breddegrader    metallica-sange   \n7            sovjetunionen                      fly              brahe   \n8           dokumentarfilm               flertydige            sundhed   \n9              tekstkilder                  længde-             norske   \n\n                3  \n0        historie  \n1        spaniens  \n2         militær  \n3     solsystemet  \n4     borgerkrige  \n5           hæren  \n6          bruger  \n7          bydele  \n8  arrondissement  \n9        timeline  ",
      "text/html": "<div>\n<style scoped>\n    .dataframe tbody tr th:only-of-type {\n        vertical-align: middle;\n    }\n\n    .dataframe tbody tr th {\n        vertical-align: top;\n    }\n\n    .dataframe thead th {\n        text-align: right;\n    }\n</style>\n<table border=\"1\" class=\"dataframe\">\n  <thead>\n    <tr style=\"text-align: right;\">\n      <th></th>\n      <th>0</th>\n      <th>1</th>\n      <th>2</th>\n      <th>3</th>\n    </tr>\n  </thead>\n  <tbody>\n    <tr>\n      <th>0</th>\n      <td>ishockey</td>\n      <td>administrationskategori</td>\n      <td>norge</td>\n      <td>historie</td>\n    </tr>\n    <tr>\n      <th>1</th>\n      <td>superisligaen</td>\n      <td>tekstkilder</td>\n      <td>basketball</td>\n      <td>spaniens</td>\n    </tr>\n    <tr>\n      <th>2</th>\n      <td>dm</td>\n      <td>kortfilm</td>\n      <td>basketball-ligaer</td>\n      <td>militær</td>\n    </tr>\n    <tr>\n      <th>3</th>\n      <td>administrationskategori</td>\n      <td>dokumentarfilm</td>\n      <td>kvinder</td>\n      <td>solsystemet</td>\n    </tr>\n    <tr>\n      <th>4</th>\n      <td>stumfilm</td>\n      <td>flertydig</td>\n      <td>skydevåben</td>\n      <td>borgerkrige</td>\n    </tr>\n    <tr>\n      <th>5</th>\n      <td>floorball</td>\n      <td>tyske</td>\n      <td>foreninger</td>\n      <td>hæren</td>\n    </tr>\n    <tr>\n      <th>6</th>\n      <td>sprog</td>\n      <td>breddegrader</td>\n      <td>metallica-sange</td>\n      <td>bruger</td>\n    </tr>\n    <tr>\n      <th>7</th>\n      <td>sovjetunionen</td>\n      <td>fly</td>\n      <td>brahe</td>\n      <td>bydele</td>\n    </tr>\n    <tr>\n      <th>8</th>\n      <td>dokumentarfilm</td>\n      <td>flertydige</td>\n      <td>sundhed</td>\n      <td>arrondissement</td>\n    </tr>\n    <tr>\n      <th>9</th>\n      <td>tekstkilder</td>\n      <td>længde-</td>\n      <td>norske</td>\n      <td>timeline</td>\n    </tr>\n  </tbody>\n</table>\n</div>"
     },
     "execution_count": 74,
     "metadata": {},
     "output_type": "execute_result"
    }
   ],
   "source": [
    "# Returns top k terms as defined by TF-IDF\n",
    "def top_k_terms_TF_IDF(tokens, k, IDF_dict):\n",
    "    tokens, counts = np.unique(tokens, return_counts=True)\n",
    "    tfidf = np.zeros(len(counts))\n",
    "    for i, (token, count) in enumerate(list(zip(tokens, counts))):\n",
    "        tfidf[i] = count * IDF_dict[token]\n",
    "    top_k_idxs = np.argsort(tfidf)[:-(k+1):-1]\n",
    "    return tokens[top_k_idxs]\n",
    "\n",
    "# For the whole corpus define the IDF value for each term and return\n",
    "# the results as a dictionary: {term:IDF}\n",
    "def IDF(corpus):\n",
    "    IDF_dict = defaultdict(lambda: 0)\n",
    "    N = len(corpus)\n",
    "    for doc in corpus:\n",
    "        for term in list(set(doc)):\n",
    "            IDF_dict[term] += 1\n",
    "    return {term: np.log(N / count) for term, count in IDF_dict.items()}\n",
    "\n",
    "IDF_dict = IDF(corpus)\n",
    "TFIDF_df = pd.DataFrame(data={c: top_k_terms_TF_IDF(corpus[c], 10, IDF_dict) for c in range(4)})\n",
    "TFIDF_df"
   ],
   "metadata": {
    "collapsed": false,
    "ExecuteTime": {
     "end_time": "2024-04-14T15:07:44.577361800Z",
     "start_time": "2024-04-14T15:07:44.540082200Z"
    }
   },
   "id": "96a9d6e50de8b1c2",
   "execution_count": 74
  }
 ],
 "metadata": {
  "kernelspec": {
   "display_name": "Python 3",
   "language": "python",
   "name": "python3"
  },
  "language_info": {
   "codemirror_mode": {
    "name": "ipython",
    "version": 2
   },
   "file_extension": ".py",
   "mimetype": "text/x-python",
   "name": "python",
   "nbconvert_exporter": "python",
   "pygments_lexer": "ipython2",
   "version": "2.7.6"
  }
 },
 "nbformat": 4,
 "nbformat_minor": 5
}
